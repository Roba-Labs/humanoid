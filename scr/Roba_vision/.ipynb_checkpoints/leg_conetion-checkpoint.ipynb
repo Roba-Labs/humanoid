{
 "cells": [
  {
   "cell_type": "code",
   "execution_count": 5,
   "metadata": {},
   "outputs": [],
   "source": [
    "import time\n",
    "import serial\n",
    "from IPython.display import clear_output\n",
    "class legs:\n",
    "      \n",
    "        def __init__(self,com):\n",
    "            self.roba_connection = serial.Serial()\n",
    "            self.roba_connection.baudrate = 115200\n",
    "            self.roba_connection.port = com\n",
    "            self.roba_connection.timeout = 0.1\n",
    "            self.roba_connection.open()\n",
    "            self.lastdata=''\n",
    "            time.sleep(5)\n",
    "        # send data to ardiuno\n",
    "        def send_data(self,data):\n",
    "            if (self.roba_connection.is_open):\n",
    "                self.lastdata=\"\"\n",
    "                self.roba_connection.write(data.encode())\n",
    "                while True:\n",
    "                    v = self.roba_connection.readline().decode()\n",
    "                    self.lastdata=self.lastdata+v\n",
    "                    #print(v)\n",
    "                    vs =set(v.split())\n",
    "                    if (vs & {'off'} ) == {'off'}:\n",
    "                        break\n",
    "        # read data from arduino\n",
    "        def read_all(self):\n",
    "             if (self.roba_connection.is_open):\n",
    "                 return self.roba_connection.read_all().decode()\n",
    "                 \n",
    "        def close_S(self):\n",
    "            self.roba_connection.close()\n",
    "            # sudo chmod 666 /dev/ttyACM0"
   ]
  },
  {
   "cell_type": "code",
   "execution_count": 6,
   "metadata": {},
   "outputs": [],
   "source": [
    "leg = legs(\"/dev/ttyACM0\")"
   ]
  },
  {
   "cell_type": "code",
   "execution_count": null,
   "metadata": {},
   "outputs": [
    {
     "name": "stdout",
     "output_type": "stream",
     "text": [
      "{\"pot\":[517,369,530,316,460,681,478,619]}\n",
      "\n",
      " break 0\n",
      "\n",
      " break 1 0\n",
      "\n",
      "{\"pot\":[517,368,530,314,460,680,478,619]}off\n",
      "\n",
      "\n",
      "\n",
      "\n",
      "\n",
      "\n",
      "\n",
      "\n",
      "\n",
      "\n",
      "\n",
      "\n",
      "\n",
      "\n",
      "\n",
      "\n",
      "\n",
      "\n",
      "\n",
      "\n",
      "\n",
      "\n",
      "\n",
      "\n",
      "\n",
      "\n",
      "\n",
      "\n",
      "\n",
      "\n",
      "\n",
      "\n",
      "\n",
      "\n",
      "\n",
      "\n",
      "\n",
      "\n",
      "\n",
      "\n",
      "\n",
      "\n",
      "\n",
      "\n",
      "\n",
      "\n",
      "\n",
      "\n",
      "\n",
      "\n",
      "\n",
      "\n",
      "\n",
      "\n",
      "\n",
      "\n",
      "\n",
      "\n",
      "\n",
      "\n",
      "\n",
      "\n",
      "\n",
      "\n",
      "\n",
      "\n",
      "\n",
      "\n",
      "\n",
      "\n",
      "\n",
      "\n",
      "\n",
      "\n",
      "\n",
      "\n",
      "\n",
      "\n",
      "\n",
      "\n",
      "\n",
      "\n",
      "\n",
      "\n",
      "\n",
      "\n",
      "\n",
      "\n",
      "\n",
      "\n",
      "\n",
      "\n",
      "\n",
      "\n",
      "\n",
      "\n",
      "\n",
      "\n",
      "\n",
      "\n",
      "\n",
      "\n",
      "\n",
      "\n",
      "\n",
      "\n",
      "\n",
      "\n",
      "\n",
      "\n",
      "\n",
      "\n",
      "\n",
      "\n",
      "\n",
      "\n",
      "\n",
      "\n",
      "\n",
      "\n",
      "\n",
      "\n",
      "\n",
      "\n",
      "\n",
      "\n",
      "\n",
      "\n",
      "\n",
      "\n",
      "\n",
      "\n",
      "\n",
      "\n",
      "\n",
      "\n",
      "\n",
      "\n",
      "\n",
      "\n",
      "\n",
      "\n",
      "\n",
      "\n",
      "\n",
      "\n",
      "\n",
      "\n",
      "\n",
      "\n",
      "\n",
      "\n",
      "\n",
      "\n",
      "\n",
      "\n",
      "\n",
      "\n",
      "\n",
      "\n",
      "\n",
      "\n",
      "\n",
      "\n",
      "\n",
      "\n",
      "\n",
      "\n",
      "\n",
      "\n",
      "\n",
      "\n",
      "\n",
      "\n",
      "\n",
      "\n",
      "\n",
      "\n",
      "\n",
      "\n",
      "\n",
      "\n",
      "\n",
      "\n",
      "\n",
      "\n",
      "\n",
      "\n",
      "\n",
      "\n",
      "\n",
      "\n",
      "\n",
      "\n",
      "\n",
      "\n",
      "\n",
      "\n",
      "\n",
      "\n",
      "\n",
      "\n",
      "\n",
      "\n",
      "\n",
      "\n",
      "\n",
      "\n",
      "\n",
      "\n",
      "\n",
      "\n",
      "\n",
      "\n",
      "\n",
      "\n",
      "\n",
      "\n",
      "\n",
      "\n",
      "\n",
      "\n",
      "\n",
      "\n",
      "\n",
      "\n",
      "\n",
      "\n",
      "\n",
      "\n",
      "\n"
     ]
    }
   ],
   "source": [
    "leg.send_data(\"{lp:[113],deg:[331],speed:[200]}\")\n",
    "# clear_output(True)\n",
    "leg.lastdata"
   ]
  },
  {
   "cell_type": "code",
   "execution_count": null,
   "metadata": {},
   "outputs": [],
   "source": [
    "[523,348,521,245,541,693,400,541]"
   ]
  },
  {
   "cell_type": "code",
   "execution_count": null,
   "metadata": {},
   "outputs": [],
   "source": [
    "# deg:[520,850,525,335,475,695,480,595]"
   ]
  },
  {
   "cell_type": "code",
   "execution_count": null,
   "metadata": {},
   "outputs": [],
   "source": [
    "leg.send_data(\"{lp:[2],deg:[360],speed:[200]}\")\n",
    "# clear_output(True)\n",
    "leg.lastdata"
   ]
  },
  {
   "cell_type": "code",
   "execution_count": null,
   "metadata": {},
   "outputs": [],
   "source": []
  },
  {
   "cell_type": "code",
   "execution_count": null,
   "metadata": {},
   "outputs": [],
   "source": [
    "leg.send_data(\"{lp:[5,7],deg:[555,400],speed:[255,255]}\")  \n",
    "print(leg.lastdata)"
   ]
  },
  {
   "cell_type": "code",
   "execution_count": null,
   "metadata": {},
   "outputs": [],
   "source": [
    "leg.send_data(\"{lp:[5,7],deg:[475,480],speed:[255,255]}\")\n",
    "print(leg.lastdata)"
   ]
  },
  {
   "cell_type": "code",
   "execution_count": null,
   "metadata": {},
   "outputs": [],
   "source": [
    "leg.send_data(\"{lp:[1,3],deg:[470,480],speed:[150,150]}\")\n",
    "print(leg.lastdata)\n"
   ]
  },
  {
   "cell_type": "code",
   "execution_count": null,
   "metadata": {},
   "outputs": [],
   "source": [
    "leg.send_data(\"{lp:[1,3],deg:[510, 515 ],speed:[250,250]}\")\n",
    "print(leg.lastdata)"
   ]
  },
  {
   "cell_type": "code",
   "execution_count": null,
   "metadata": {},
   "outputs": [],
   "source": [
    "leg.send_data(\"{lp:[2],deg:[950],speed:[150]}\")\n",
    "print(leg.lastdata)"
   ]
  },
  {
   "cell_type": "code",
   "execution_count": null,
   "metadata": {},
   "outputs": [],
   "source": []
  },
  {
   "cell_type": "code",
   "execution_count": null,
   "metadata": {},
   "outputs": [],
   "source": [
    "leg.send_data(\"{lp:[4],deg:[330],speed:[150]}\")\n",
    "print(leg.lastdata)"
   ]
  },
  {
   "cell_type": "code",
   "execution_count": null,
   "metadata": {},
   "outputs": [],
   "source": []
  },
  {
   "cell_type": "code",
   "execution_count": null,
   "metadata": {},
   "outputs": [],
   "source": []
  },
  {
   "cell_type": "code",
   "execution_count": null,
   "metadata": {},
   "outputs": [],
   "source": [
    "leg.send_data(\"{lp:[1,2,3,4],deg:[520,835,525,340],speed:[250,250,250,250]}\")\n",
    "print(leg.lastdata)\n"
   ]
  },
  {
   "cell_type": "code",
   "execution_count": null,
   "metadata": {},
   "outputs": [],
   "source": [
    "leg.send_data(\"{lp:[1,2,3,4],deg:[500,790,500,320],speed:[250,250,250,250]}\")\n",
    "print(leg.lastdata)"
   ]
  },
  {
   "cell_type": "code",
   "execution_count": null,
   "metadata": {},
   "outputs": [],
   "source": [
    "# clear_output(True)\n",
    "leg.send_data(\"{lp:[1,3],deg:[500, 500 ],speed:[250,250]}\")\n",
    "print(leg.lastdata)\n",
    "leg.send_data(\"{lp:[5,7],deg:[450,450],speed:[250,250]}\")\n",
    "print(leg.lastdata)"
   ]
  },
  {
   "cell_type": "code",
   "execution_count": null,
   "metadata": {},
   "outputs": [],
   "source": [
    "# clear_output(True)\n",
    "leg.send_data(\"{lp:[1,3],deg:[520 ,525 ],speed:[250,250]}\")\n",
    "print(leg.lastdata)\n",
    "leg.send_data(\"{lp:[5,7],deg:[475,480],speed:[250,250]}\")\n",
    "print(leg.lastdata)"
   ]
  },
  {
   "cell_type": "code",
   "execution_count": null,
   "metadata": {},
   "outputs": [],
   "source": [
    "leg.send_data(\"{lp:[1,3],deg:[470, 470 ],speed:[250,250]}\")\n",
    "print(leg.lastdata)"
   ]
  },
  {
   "cell_type": "code",
   "execution_count": null,
   "metadata": {},
   "outputs": [],
   "source": [
    "leg.send_data(\"{lp:[1,3],deg:[520 ,525],speed:[250,250]}\")\n",
    "print(leg.lastdata)"
   ]
  },
  {
   "cell_type": "code",
   "execution_count": null,
   "metadata": {},
   "outputs": [],
   "source": []
  },
  {
   "cell_type": "code",
   "execution_count": null,
   "metadata": {},
   "outputs": [],
   "source": [
    "leg.send_data(\"{lp:[4],deg:[255],speed:[255]}\")\n",
    "leg.lastdata"
   ]
  },
  {
   "cell_type": "code",
   "execution_count": null,
   "metadata": {},
   "outputs": [],
   "source": []
  },
  {
   "cell_type": "code",
   "execution_count": null,
   "metadata": {},
   "outputs": [],
   "source": []
  },
  {
   "cell_type": "code",
   "execution_count": null,
   "metadata": {},
   "outputs": [],
   "source": [
    "leg.close_S()"
   ]
  },
  {
   "cell_type": "code",
   "execution_count": null,
   "metadata": {},
   "outputs": [],
   "source": []
  },
  {
   "cell_type": "code",
   "execution_count": null,
   "metadata": {},
   "outputs": [],
   "source": [
    "leg.read_all()"
   ]
  },
  {
   "cell_type": "code",
   "execution_count": null,
   "metadata": {},
   "outputs": [],
   "source": [
    "leg.send_data(\"{lp:[1,2,3,4,5,6,7,8],deg:[519,850,524,334,474,694,479,594],speed:[250,250,250,250,250,250,250,250]}\")\n",
    "leg.lastdata"
   ]
  },
  {
   "cell_type": "code",
   "execution_count": null,
   "metadata": {},
   "outputs": [],
   "source": []
  },
  {
   "cell_type": "code",
   "execution_count": null,
   "metadata": {},
   "outputs": [],
   "source": [
    "import serial.tools.list_ports\n",
    "\n",
    "ports = serial.tools.list_ports.comports()\n",
    "for port, desc, hwid in sorted(ports):\n",
    "        print(\"{}: {}:[{}]\".format(port, desc, hwid))\n",
    "        if \"USB-SERIAL CH340 (\" +str(port) +\")\" ==desc:\n",
    "            Roabport=str(port)\n"
   ]
  },
  {
   "cell_type": "code",
   "execution_count": null,
   "metadata": {},
   "outputs": [],
   "source": []
  },
  {
   "cell_type": "code",
   "execution_count": null,
   "metadata": {},
   "outputs": [],
   "source": []
  }
 ],
 "metadata": {
  "interpreter": {
   "hash": "380030d1298d5a27518acca789ff38fe82bbf2e68b73263de6a6bf23efb7704c"
  },
  "kernelspec": {
   "display_name": "Python 3",
   "language": "python",
   "name": "python3"
  },
  "language_info": {
   "codemirror_mode": {
    "name": "ipython",
    "version": 3
   },
   "file_extension": ".py",
   "mimetype": "text/x-python",
   "name": "python",
   "nbconvert_exporter": "python",
   "pygments_lexer": "ipython3",
   "version": "3.6.9"
  }
 },
 "nbformat": 4,
 "nbformat_minor": 4
}
