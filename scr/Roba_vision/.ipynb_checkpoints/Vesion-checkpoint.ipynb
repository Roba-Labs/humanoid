{
 "cells": [
  {
   "cell_type": "code",
   "execution_count": 1,
   "id": "f7522044-ed50-4579-a805-0ab112978bac",
   "metadata": {},
   "outputs": [
    {
     "name": "stderr",
     "output_type": "stream",
     "text": [
      "Using cache found in /home/roba/.cache/torch/hub/ultralytics_yolov5_master\n",
      "YOLOv5 🚀 2021-12-13 torch 1.9.0a0+gitd69c22d CUDA:0 (NVIDIA Tegra X1, 3964.1796875MB)\n",
      "\n",
      "Fusing layers... \n",
      "Model Summary: 213 layers, 7225885 parameters, 0 gradients\n",
      "Adding AutoShape... \n"
     ]
    }
   ],
   "source": [
    "from obj_dection import track_obj\n",
    "objtrack = track_obj()"
   ]
  },
  {
   "cell_type": "code",
   "execution_count": 1,
   "id": "a254c05a-445a-4e75-837f-57d216c5e10d",
   "metadata": {},
   "outputs": [],
   "source": [
    "from IPython.display import clear_output\n",
    "import time\n",
    "from camera3D2 import Camera_3D\n",
    "from face_detection import Roba_Faces_recognition\n",
    "import os\n",
    "import numpy as np\n",
    "import copy\n",
    "from threading import Thread \n",
    "roba_cam = Camera_3D()"
   ]
  },
  {
   "cell_type": "code",
   "execution_count": 2,
   "id": "846efe25-380c-4c67-b291-e569fa7efc8c",
   "metadata": {},
   "outputs": [],
   "source": [
    "\n",
    "def img_pos_cal1():\n",
    "    c=0\n",
    "    try:\n",
    "        #for f in range(300):\n",
    "        while True:\n",
    "                clear_output(True)\n",
    "                #print(\"start\")\n",
    "                img,ver,boxs= roba_cam.get_2D_3D_img_pos(1)\n",
    "                #print(\" end \")\n",
    "                #img,ver,vrte =roba_cam.get_2d_img_get_defth_xyz_len(roba_cam.xy[0],roba_cam.xy[1])\n",
    "                #lebal , xyzp,hw,obs=objtrack.get_only_xyz_len(img,ver,boxs)\n",
    "                #roba_cam.display_all_set_p(img,ver)\n",
    "                #roba_cam.dispalym(img)\n",
    "                #roba_cam.display_all()\n",
    "                c=c+1\n",
    "                #print(lebal)\n",
    "                #print(xyzp)\n",
    "                #print(hw)\n",
    "                #print(obs)\n",
    "                #print(c)\n",
    "                #print(\" end \")\n",
    "                #time.sleep(0.05)\n",
    "                if  break_loop:\n",
    "                    print(\"break\")\n",
    "                    break\n",
    "        print(\"break 2 \")\n",
    "        roba_cam.break_loop=True\n",
    "        img,ver,boxs= roba_cam.get_2D_3D_img_pos(1)\n",
    "    finally:\n",
    "        print(\"All break 2 \")\n",
    "        roba_cam.pipeline.stop()"
   ]
  },
  {
   "cell_type": "code",
   "execution_count": null,
   "id": "7218c966-f66d-4974-9f5f-785e658ffae4",
   "metadata": {},
   "outputs": [],
   "source": [
    "break_loop=False\n",
    "roba_cam.break_loop=False\n",
    "th1 = Thread(target=img_pos_cal1)\n",
    "th1.start()"
   ]
  },
  {
   "cell_type": "code",
   "execution_count": null,
   "id": "b5a9cc0d-4034-46bd-91a3-06a8ec306358",
   "metadata": {},
   "outputs": [],
   "source": [
    "roba_cam.break_loop"
   ]
  },
  {
   "cell_type": "code",
   "execution_count": 5,
   "id": "b362b2d1-4405-4886-8cbb-6a6267cb4f89",
   "metadata": {},
   "outputs": [],
   "source": [
    "break_loop=True"
   ]
  },
  {
   "cell_type": "code",
   "execution_count": 6,
   "id": "dbec93b5-dd8e-44e4-a73a-8e0cc2ad22fc",
   "metadata": {},
   "outputs": [],
   "source": [
    "break_loop=False"
   ]
  },
  {
   "cell_type": "code",
   "execution_count": 6,
   "id": "8f264a13-aef4-4b76-b551-55de27e03352",
   "metadata": {},
   "outputs": [],
   "source": [
    "roba_cam.pipeline.stop()"
   ]
  },
  {
   "cell_type": "code",
   "execution_count": null,
   "id": "556c7cfe-9658-438c-b273-d6e49ec6fbe7",
   "metadata": {},
   "outputs": [],
   "source": []
  }
 ],
 "metadata": {
  "kernelspec": {
   "display_name": "Python 3",
   "language": "python",
   "name": "python3"
  },
  "language_info": {
   "codemirror_mode": {
    "name": "ipython",
    "version": 3
   },
   "file_extension": ".py",
   "mimetype": "text/x-python",
   "name": "python",
   "nbconvert_exporter": "python",
   "pygments_lexer": "ipython3",
   "version": "3.6.9"
  }
 },
 "nbformat": 4,
 "nbformat_minor": 5
}
