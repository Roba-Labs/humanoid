{
 "cells": [
  {
   "cell_type": "code",
   "execution_count": 69,
   "id": "34346c7f-dac4-45dc-8be6-4616917c27c5",
   "metadata": {},
   "outputs": [
    {
     "name": "stdout",
     "output_type": "stream",
     "text": [
      "Succeeded to open the port\n",
      "Succeeded to change the baudrate\n"
     ]
    }
   ],
   "source": [
    "import os\n",
    "import sys\n",
    "from array import *\n",
    "from timeit import default_timer as timer\n",
    "import time\n",
    "\n",
    "import numpy as np\n",
    "\n",
    "sys.path.insert(1, '/home/roba/Robot_roba/scr/firmware/servo') #path init for find library\n",
    "import copy\n",
    "\n",
    "import serial.tools.list_ports\n",
    "from IPython.display import clear_output\n",
    "\n",
    "from scservo_sdk import *  # Uses SCServo SDK library\n",
    "\n",
    "SCS_ID                 = 1      # SCServo ID : 1\n",
    "scs_ID                 = 4      # SCServo ID : 1\n",
    "BAUDRATE                = 1000000  # SCServo default baudrate : 1000000\n",
    "DEVICENAME              = \"/dev/ttyUSB0\"   # Check which port is being used on your controller\n",
    "                                  # ex) Windows: \"COM1\"   Linux: \"/dev/ttyUSB0\" Mac: \"/dev/tty.usbserial-*\"\n",
    "protocol_end            = 0      # SCServo bit end(STS/SMS=0, SCS=1)\n",
    "cscprotocol_end            = 0\n",
    "# serial port init \n",
    "portHandler = PortHandler(DEVICENAME)\n",
    "scspacketHandler = PacketHandler(cscprotocol_end) # protocol init\n",
    "\n",
    "# Control table address\n",
    "ADDR_SCS_TORQUE_ENABLE     = 40\n",
    "ADDR_SCS_GOAL_ACC          = 41\n",
    "ADDR_SCS_GOAL_POSITION     = 42\n",
    "ADDR_SCS_GOAL_SPEED        = 46\n",
    "ADDR_SCS_PRESENT_POSITION  = 56\n",
    "\n",
    "POSITION_VALUE  = 100         # POSITION 0 - 4095\n",
    "                              #position value is out of movable range. Check e-manual about the range of the SCServo you use.)\n",
    "SCS_MOVING_SPEED            = 1000        # SCServo moving speed\n",
    "SCS_MOVING_ACC              = 0           # SCServo moving acc\n",
    "\n",
    "# Open port\n",
    "if portHandler.openPort():\n",
    "    print(\"Succeeded to open the port\")\n",
    "else:\n",
    "    print(\"Failed to open the port\")\n",
    "\n",
    "#Set port baudrate\n",
    "if portHandler.setBaudRate(BAUDRATE):\n",
    "    print(\"Succeeded to change the baudrate\")\n",
    "else:\n",
    "    print(\"Failed to change the baudrate\")\n",
    " \n"
   ]
  },
  {
   "cell_type": "code",
   "execution_count": 78,
   "id": "2c278229-8524-4b20-9079-de7ce07bee62",
   "metadata": {},
   "outputs": [
    {
     "data": {
      "text/plain": [
       "0"
      ]
     },
     "execution_count": 78,
     "metadata": {},
     "output_type": "execute_result"
    }
   ],
   "source": [
    "\n",
    "val, cmd = scspacketHandler.write2ByteTxRx(portHandler, 10, 46, 5)\n",
    "val"
   ]
  },
  {
   "cell_type": "code",
   "execution_count": 89,
   "id": "f5ce0d26-968f-4a29-bb1d-930dba112de6",
   "metadata": {},
   "outputs": [],
   "source": [
    "# import time\n",
    "# cmd, err = scspacketHandler.write2ByteTxRx(portHandler, 10,42,1138)\n",
    "# #val, cmd, err = scspacketHandler.read1ByteTxRx(portHandler, 10,8)\n",
    "# if cmd != COMM_SUCCESS:\n",
    "#    print(packetHandler.getTxRxResult(cmd))\n",
    "# elif err != 0:\n",
    "#     print(packetHandler.getRxPacketError(err))\n",
    "\n",
    "# for i in range(1000):\n",
    "#     time.sleep(0.01)\n",
    "#     statuse()"
   ]
  },
  {
   "cell_type": "code",
   "execution_count": 85,
   "id": "efc212f9-0212-4380-88af-cbc012d4adf5",
   "metadata": {},
   "outputs": [
    {
     "name": "stdout",
     "output_type": "stream",
     "text": [
      "1\n"
     ]
    }
   ],
   "source": [
    "statuse()"
   ]
  },
  {
   "cell_type": "code",
   "execution_count": 81,
   "id": "562c5f6d-e825-4f93-9e59-d5bc2d3bb0af",
   "metadata": {},
   "outputs": [],
   "source": [
    "def statuse():\n",
    "    val, cmd, err = scspacketHandler.read2ByteTxRx(portHandler, 10,8)\n",
    "    #val, cmd, err = scspacketHandler.read1ByteTxRx(portHandler, 10,8)\n",
    "    if cmd != COMM_SUCCESS:\n",
    "       print(packetHandler.getTxRxResult(cmd))\n",
    "    elif err != 0:\n",
    "        print(packetHandler.getRxPacketError(err))\n",
    "    clear_output(True)\n",
    "    print(val)"
   ]
  },
  {
   "cell_type": "code",
   "execution_count": 76,
   "id": "ef056132-49a3-4b44-84e2-23b05fc72b3c",
   "metadata": {},
   "outputs": [
    {
     "name": "stdout",
     "output_type": "stream",
     "text": [
      "0\n"
     ]
    },
    {
     "data": {
      "text/plain": [
       "0"
      ]
     },
     "execution_count": 76,
     "metadata": {},
     "output_type": "execute_result"
    }
   ],
   "source": [
    "\n",
    "scs_present_position_speed, scs_comm_result, scs_error = scspacketHandler.read2ByteTxRx(portHandler, 9, 58)\n",
    "if scs_comm_result != COMM_SUCCESS:\n",
    "    print(SCS_ID,\" \",SCS_packetHandler.getTxRxResult(scs_comm_result))\n",
    "elif scs_error != 0:\n",
    "    print(SCS_ID,\" \",SCS_packetHandler.getRxPacketError(scs_error))\n",
    "\n",
    "scs_present_position = SCS_LOWORD(scs_present_position_speed)\n",
    "scs_present_speed = SCS_HIWORD(scs_present_position_speed)\n",
    "print(scs_present_position_speed)\n",
    "scs_present_position\n"
   ]
  },
  {
   "cell_type": "code",
   "execution_count": 73,
   "id": "401a4360-9ae1-472e-ad39-30c1d5d10b2d",
   "metadata": {},
   "outputs": [
    {
     "data": {
      "text/plain": [
       "200"
      ]
     },
     "execution_count": 73,
     "metadata": {},
     "output_type": "execute_result"
    }
   ],
   "source": [
    "sms2deg(2274)"
   ]
  },
  {
   "cell_type": "code",
   "execution_count": 33,
   "id": "e125d5cf-1e57-44d7-9b82-f90da3d8f31b",
   "metadata": {},
   "outputs": [],
   "source": [
    "def sms2deg(value):\n",
    "        deg = (360*value)/4095\n",
    "        return round(deg)"
   ]
  },
  {
   "cell_type": "code",
   "execution_count": 34,
   "id": "b67eda4a-4ea8-45f7-b9d4-1fd454f5d08c",
   "metadata": {},
   "outputs": [],
   "source": [
    "def deg2sms(deg):\n",
    "        senv = (4095*deg)/360\n",
    "        return round(senv)"
   ]
  },
  {
   "cell_type": "code",
   "execution_count": 59,
   "id": "7b2e0486-11f1-499c-a0f0-fef5fdc6d145",
   "metadata": {},
   "outputs": [],
   "source": [
    "def sms2deg(value):\n",
    "        deg = (360*value)/4095\n",
    "        return round(deg)"
   ]
  },
  {
   "cell_type": "code",
   "execution_count": 87,
   "id": "418a0adf-d92d-40ae-b1c7-9f69e50c2101",
   "metadata": {},
   "outputs": [
    {
     "data": {
      "text/plain": [
       "1138"
      ]
     },
     "execution_count": 87,
     "metadata": {},
     "output_type": "execute_result"
    }
   ],
   "source": [
    "deg2sms(100)"
   ]
  },
  {
   "cell_type": "code",
   "execution_count": null,
   "id": "783d46bb-a3ef-4026-9a01-a3145e878a7d",
   "metadata": {},
   "outputs": [],
   "source": [
    "sms2deg()"
   ]
  },
  {
   "cell_type": "code",
   "execution_count": 68,
   "id": "3df70eb7-58a1-42fe-b8ea-5ee196dafce6",
   "metadata": {},
   "outputs": [],
   "source": [
    "portHandler.closePort()"
   ]
  },
  {
   "cell_type": "code",
   "execution_count": null,
   "id": "b8c3576c-9d98-4f0f-9bf3-37e8b118d1fc",
   "metadata": {},
   "outputs": [],
   "source": []
  }
 ],
 "metadata": {
  "kernelspec": {
   "display_name": "Python 3",
   "language": "python",
   "name": "python3"
  },
  "language_info": {
   "codemirror_mode": {
    "name": "ipython",
    "version": 3
   },
   "file_extension": ".py",
   "mimetype": "text/x-python",
   "name": "python",
   "nbconvert_exporter": "python",
   "pygments_lexer": "ipython3",
   "version": "3.6.9"
  }
 },
 "nbformat": 4,
 "nbformat_minor": 5
}
