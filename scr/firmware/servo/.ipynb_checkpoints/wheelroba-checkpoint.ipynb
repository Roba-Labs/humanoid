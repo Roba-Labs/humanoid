{
 "cells": [
  {
   "cell_type": "code",
   "execution_count": 1,
   "id": "30b8b061-e818-4171-9d05-cb13d1129aff",
   "metadata": {},
   "outputs": [],
   "source": [
    "import sys\n",
    "sys.path.insert(1, '/home/roba/Robot_roba/scr/Roba_vision/')\n",
    "from IPython.display import clear_output\n",
    "from robawheel import wheel\n",
    "import tracking\n",
    "import time\n",
    "import math\n",
    "import numpy as np\n",
    "from threading import Thread\n",
    "from simple_pid import PID"
   ]
  },
  {
   "cell_type": "code",
   "execution_count": 2,
   "id": "50210333-4177-42af-be1e-c97d1d657fd5",
   "metadata": {},
   "outputs": [],
   "source": [
    "track = tracking.Track()\n",
    "wheels = wheel(\"/dev/ttyUSB1\")"
   ]
  },
  {
   "cell_type": "code",
   "execution_count": null,
   "id": "66201531-c4b3-40cb-b75a-d8e74efddaa0",
   "metadata": {},
   "outputs": [],
   "source": []
  },
  {
   "cell_type": "code",
   "execution_count": 36,
   "id": "8d1d98c8-0af8-4638-b6f6-4c747ee8d11e",
   "metadata": {},
   "outputs": [],
   "source": [
    "wheels.forward([50,50])"
   ]
  },
  {
   "cell_type": "code",
   "execution_count": 9,
   "id": "a60af484-2384-41da-8b46-450bdada916e",
   "metadata": {},
   "outputs": [],
   "source": [
    "wheels.backward([50,50])"
   ]
  },
  {
   "cell_type": "code",
   "execution_count": 15,
   "id": "fbac825f-08e6-44cd-a84e-eebd109349d4",
   "metadata": {},
   "outputs": [],
   "source": [
    "wheels.left()"
   ]
  },
  {
   "cell_type": "code",
   "execution_count": 13,
   "id": "0c7d80a5-1e93-4dd4-9cd2-1bfe04f15a4a",
   "metadata": {},
   "outputs": [],
   "source": [
    "wheels.right()"
   ]
  },
  {
   "cell_type": "code",
   "execution_count": 16,
   "id": "ed6614fe-877d-4615-b018-2e1c441c2841",
   "metadata": {},
   "outputs": [],
   "source": [
    "wheels.stop()"
   ]
  },
  {
   "cell_type": "code",
   "execution_count": 3,
   "id": "995c42b1-ca9d-48d3-8e2f-fae000e50369",
   "metadata": {},
   "outputs": [
    {
     "name": "stdout",
     "output_type": "stream",
     "text": [
      "[1.1493074716687683, -0.5011406064179855, -0.02939648375973533]\n",
      "[ 0. -0. -0.]\n"
     ]
    }
   ],
   "source": [
    "import time\n",
    "for i in range(10):\n",
    "    clear_output(True)\n",
    "    print(track.RPY)\n",
    "    print(track.trans)\n",
    "    time.sleep(0.1) "
   ]
  },
  {
   "cell_type": "code",
   "execution_count": 91,
   "id": "7588c631-43f8-4c6e-b2cc-ce336fb088f2",
   "metadata": {},
   "outputs": [],
   "source": [
    "def getanf(angr):\n",
    "    global fbsetp_disxya\n",
    "    ang = math.atan(angr[0] /angr[1])\n",
    "    ang = round(np.rad2deg(ang),2)\n",
    "    return ang"
   ]
  },
  {
   "cell_type": "code",
   "execution_count": null,
   "id": "b8759e7e-fb67-456e-88c5-8161e7025a98",
   "metadata": {
    "tags": []
   },
   "outputs": [],
   "source": []
  },
  {
   "cell_type": "code",
   "execution_count": 93,
   "id": "c968da3f-82cf-45b8-95bb-80c4577a30f9",
   "metadata": {},
   "outputs": [],
   "source": [
    "# round(np.rad2deg(ang),2)"
   ]
  },
  {
   "cell_type": "code",
   "execution_count": null,
   "id": "a8735f2f-b8c8-4e17-95a9-2cff107478e0",
   "metadata": {},
   "outputs": [],
   "source": []
  },
  {
   "cell_type": "code",
   "execution_count": 212,
   "id": "3533a8ac-73a3-48c9-af0a-99fcc7697b5b",
   "metadata": {},
   "outputs": [],
   "source": [
    "import copy\n",
    "class wheelmove:\n",
    "    \n",
    "    def __init__(self):\n",
    "            global breakloop\n",
    "            global start\n",
    "            self.start=False\n",
    "            self.breakloop=False\n",
    "            self.xyam=[0,0,0]\n",
    "            self.fbsetp_disxya=[0,0,0,0,0]\n",
    "            self.cp=[]\n",
    "    def xyd(self):\n",
    "        xy  = np.around(track.trans,2)\n",
    "        return [xy[0],xy[2]]\n",
    "    \n",
    "    def getang(self,xyad):\n",
    "        ang = math.atan2(xyad[0],xyad[1])\n",
    "        ang = np.around(np.rad2deg(ang),2)\n",
    "        if xyad[3]==2:\n",
    "            ang=ang*-1\n",
    "        return ang\n",
    "    \n",
    "    def getang1(self,xyad):\n",
    "        xy = np.around(track.trans,2)\n",
    "        \n",
    "        if xyad[0]<xy[0]:\n",
    "            \n",
    "               xy[0]=xy[0]-xyad[0]\n",
    "        else :\n",
    "            xy[0]=xyad[0]-xy[0]\n",
    "\n",
    "        if xyad[1]<xy[2]:\n",
    "           xy[2]=xy[2]-xyad[1]\n",
    "        else :\n",
    "            xy[2]=xyad[1]-xy[2]\n",
    "            \n",
    "        if xy[0]==0:\n",
    "            xy[0]=0.000001\n",
    "        if xy[2]==0:\n",
    "           xy[2]=0.000001\n",
    "        print(xy[2],xy[0])\n",
    "        ang = math.atan2(xy[0],xy[2])\n",
    "        ang = np.around(np.rad2deg(ang),2)\n",
    "\n",
    "        if xy[0]<0:\n",
    "            xy[0]=xy[0]*-1\n",
    "        if xy[2]<0:\n",
    "           xy[2]=xy[2]*-1\n",
    "        \n",
    "        a=0\n",
    "        if xy[0]<xy[2]:\n",
    "           a=1\n",
    "        xy = np.around(track.trans,2)\n",
    "        \n",
    "        if xyad[0]>xy[0] and xyad[3]==1:\n",
    "           if ang<0:\n",
    "              ang=ang*-1\n",
    "        elif xyad[0]<xy[0] and xyad[3]==1:\n",
    "            if ang>0:\n",
    "              ang=ang*-1\n",
    "        \n",
    "        return [ang,a]\n",
    "    def rotaion_path(self,crp,trp):\n",
    "        crp1=crp\n",
    "        trp1=trp\n",
    "        tar_pos=0\n",
    "        tar_pos1=0\n",
    "        rot_dir=0\n",
    "        tar_pos2=copy.deepcopy(trp)\n",
    "        # clockwise = 1 and anti_clockwise=0\n",
    "         \n",
    "        if crp<0 and trp<0:\n",
    "            if trp>crp:\n",
    "                rot_dir=1\n",
    "            else:\n",
    "                rot_dir=0\n",
    "        elif crp>0 and trp>0:\n",
    "            if trp>crp:\n",
    "                 rot_dir=1\n",
    "            else:\n",
    "                 rot_dir=0\n",
    "        else:\n",
    "   \n",
    "            if crp<0:\n",
    "                crp1=crp1*-1\n",
    "            if trp<0:\n",
    "                trp1=trp1*-1\n",
    "                \n",
    "            tar_pos=crp1+trp1\n",
    "            \n",
    "            crp1=180-crp1\n",
    "            trp1=180-trp1\n",
    "            tar_pos1= crp1+trp1\n",
    "\n",
    "            if tar_pos>tar_pos1:\n",
    "               if crp<trp:\n",
    "                rot_dir=0\n",
    "               else:\n",
    "                  rot_dir=1\n",
    "            else:\n",
    "                if crp<trp:\n",
    "                  rot_dir=1\n",
    "                else:\n",
    "                  rot_dir=0    \n",
    "        self.movesid1(tar_pos2,rot_dir)\n",
    "\n",
    "    def movesid1(self,setp,c=0):\n",
    "       \n",
    "        LReror = PID(5,0,0, setpoint=0)\n",
    "        LReror.output_limits = (-15, 15)\n",
    "        LReror.setpoint=setp\n",
    "        while self.start:\n",
    "              clear_output(True)\n",
    "              angt=np.around(track.RPY[2],2)\n",
    "              lrerorr = LReror(angt)\n",
    "              if lrerorr<0:\n",
    "                 lrerorr = lrerorr *-1\n",
    "                \n",
    "              time.sleep(0.04)   \n",
    "              #print(angt ,lrerorr)\n",
    "              if lrerorr>3:\n",
    "                  if c==0:\n",
    "                     wheels.mright(20+lrerorr)\n",
    "                  else:\n",
    "                      wheels.mleft(20+lrerorr)\n",
    "              else:\n",
    "                #wheels.stop()\n",
    "                break\n",
    "                \n",
    "    def movesid(self,setp):\n",
    "       \n",
    "        LReror = PID(5,0,0, setpoint=0)\n",
    "        LReror.output_limits = (-15, 15)\n",
    "        LReror.setpoint=setp\n",
    "        while self.start:\n",
    "              clear_output(True)\n",
    "              angt=np.around(track.RPY[2],2)\n",
    "              lrerorr = LReror(angt)\n",
    "              if lrerorr<0:\n",
    "                 lrerorr = lrerorr *-1\n",
    "                    \n",
    "              if lrerorr>=1:\n",
    "                  time.sleep(0.04)   \n",
    "                  print(angt ,lrerorr)\n",
    "                  if setp>angt:\n",
    "                     wheels.mleft(20+lrerorr)\n",
    "                  elif setp<angt:\n",
    "                       wheels.mright(20+lrerorr)\n",
    "              else:\n",
    "                #self.start=False\n",
    "                break\n",
    "    def getpositve(self,val):\n",
    "        if val<0:\n",
    "           val = val*-1\n",
    "        return val\n",
    "    \n",
    "    def backwardm(self,xyad):\n",
    " \n",
    "        #wheel pid forawd backward WFB\n",
    "        xy=self.xyd()\n",
    "        setp=5   \n",
    "        aa=1\n",
    "        if a[1]==1:\n",
    "            aa=0\n",
    "            \n",
    "        if xyad[a[1]]>xy[a[1]]:\n",
    "            setp=5\n",
    "        else:\n",
    "            setp=-5\n",
    "\n",
    "        WPFB = PID(setp,0,0, setpoint=0)\n",
    "        WPFB.output_limits = (20, 50)\n",
    "        WPFB.setpoint=xyad[a[1]] \n",
    "        WPFBs=True \n",
    " \n",
    "        LReror = PID(5,0,0, setpoint=0)\n",
    "        LReror.output_limits = (-15, 15)\n",
    "        LReror.setpoint=a[0]\n",
    "        enter=False\n",
    "        angt=round(track.RPY[2],2)\n",
    "        lrerorr = LReror(angt)\n",
    "        opsv=0\n",
    "        opsenter=True\n",
    "        if lrerorr<0:\n",
    "            lrerorr=lrerorr*-1\n",
    "        if lrerorr>=1:\n",
    "            self.rotaion_path(angt,angt)\n",
    "            \n",
    "        if self.start:\n",
    "           time.sleep(0.04)\n",
    "           wheels.backward([50,50])\n",
    "        while self.start:\n",
    "              clear_output(True)\n",
    "              xy=self.xyd()\n",
    "              val = xy[a[1]]\n",
    "              WPFB_val = WPFB(val) \n",
    "            \n",
    "              if xy[aa]>xyad[aa] :\n",
    "                 opsv=xy[aa]-xyad[aa]\n",
    "              else:\n",
    "                opsv=xyad[aa]-xy[aa]\n",
    "              if (opsv<2 or opsv>-2) and opsenter:\n",
    "                opsenter=False\n",
    "                \n",
    "                LReror.setpoint=0\n",
    "                \n",
    "              angt=np.around(track.RPY[2],2)\n",
    "              lrerorr = LReror(angt)\n",
    "              if lrerorr<0:\n",
    "                 lrerorr = lrerorr *-1\n",
    "              if lrerorr>1:\n",
    "                  enter=True\n",
    "                  time.sleep(0.04) \n",
    "                  if xyad[a[1]] >angt:\n",
    "                     wheels.backward([WPFB_val-lrerorr,WPFB_val+lrerorr])\n",
    "                  elif xyad[a[1]] <angt:\n",
    "                       wheels.backward([WPFB_val+lrerorr,WPFB_val-lrerorr])\n",
    "                  enter=True\n",
    " \n",
    "              if enter:\n",
    "                 enter=False\n",
    "                 time.sleep(0.04)\n",
    "                 wheels.backward([WPFB_val,WPFB_val])\n",
    "                    \n",
    "              if WPFB_val<30 and WPFBs:\n",
    "                 if setp>0:\n",
    "                      WPFB.tunings = (3,0,0)\n",
    "                 else:\n",
    "                      WPFB.tunings = (-3,0,0)\n",
    "                 WPFB.output_limits = (0, 50)\n",
    "                 WPFBs=False\n",
    "                \n",
    "              if WPFB_val<50:\n",
    "                  time.sleep(0.04)\n",
    "                  wheels.backward([WPFB_val,WPFB_val])\n",
    "\n",
    "              if WPFB_val<15:\n",
    "                self.movesid(xyad[2])\n",
    "                time.sleep(0.04)\n",
    "                wheels.stop()\n",
    "                self.start=False\n",
    "                break\n",
    "              print(\" setp \",xyad)       \n",
    "              print(\"WPFB_val \",WPFB_val,\", val \",val,\", angt \",angt,\", lrerorr \",lrerorr)\n",
    "              print(track.RPY)\n",
    "              print(track.trans)\n",
    "              time.sleep(0.04)\n",
    "            \n",
    "    def get_tar_pos(self,xyad):\n",
    "            xy=self.xyd()\n",
    "            if self.getpositve(copy.deepcopy(xyad[0])) > self.getpositve(copy.deepcopy(xyad[1])):\n",
    "                xyad[4]=0\n",
    "            xyad[1]=xyad[1]*-1\n",
    "            xyad[0]= xy[0] + xyad[0]\n",
    "            xyad[1]= xy[1] + xyad[1]\n",
    "            return xyad \n",
    "        \n",
    "    def setrd(self,cr):\n",
    "       dr=0\n",
    "       dr1=0\n",
    "       if (cr[0]<0 and cr[1]<0 ) or (cr[0]>0 and cr[1]>0):\n",
    "            if cr[0]>cr[1]:\n",
    "               dr=cr[0]-cr[1]\n",
    "            else:\n",
    "                dr=cr[1]-cr[0]\n",
    "       else:\n",
    "            if cr[0]<cr[1]:\n",
    "               dr=cr[1]+cr[0]\n",
    "            else:\n",
    "                dr=cr[0]+cr[1]\n",
    "                \n",
    "       if (cr[2]<0 and cr[3]<0 ) or (cr[2]>0 and cr[3]>0):\n",
    "            if cr[2]>cr[3]:\n",
    "               dr1=cr[2]-cr[3]\n",
    "            else:\n",
    "                dr1=cr[3]-cr[2]\n",
    "       else:\n",
    "            if cr[2]<cr[3]:\n",
    "               dr1=cr[3]+cr[2]\n",
    "            else:\n",
    "                dr1=cr[2]+cr[3]\n",
    "                \n",
    "       return [dr,dr1]    \n",
    "\n",
    "        \n",
    "    def forwardm(self,xyad):\n",
    "        #wheel pid forawd backward WFB\n",
    "        xy=self.xyd()\n",
    "        ang = self.getang(xyad)\n",
    "        xyad = self.get_tar_pos(xyad)\n",
    "        \n",
    "        setp=5   \n",
    "        setp1=5\n",
    "        aa=1\n",
    "        if xyad[4]==1:\n",
    "            aa=0  \n",
    "        if xyad[xyad[4]]>xy[xyad[4]]:\n",
    "            setp=5\n",
    "        else:\n",
    "            setp=-5\n",
    "        \n",
    "        if xyad[aa]>xy[aa]:\n",
    "            setp1=5\n",
    "        else:\n",
    "            setp1=-5\n",
    "            \n",
    "        xyadr= copy.deepcopy(xyad)\n",
    "        WPFB = PID(setp,0,0, setpoint=0)\n",
    "        WPFB.output_limits = (20, 50)\n",
    "        WPFB.setpoint=xyad[xyad[4]] \n",
    "        WPFBs=True \n",
    "        \n",
    "        WPFB1 = PID(setp1,0,0, setpoint=0)\n",
    "        WPFB1.output_limits = (20, 50)\n",
    "        WPFB1.setpoint=xyad[aa] \n",
    "        WPFBs1=True \n",
    " \n",
    "        LReror = PID(5,0,0, setpoint=0)\n",
    "        LReror.output_limits = (-15, 15)\n",
    "        LReror.setpoint=ang\n",
    "        enter=False\n",
    "        angt=round(track.RPY[2],2)\n",
    "        lrerorr = LReror(angt)\n",
    "        opsv=0\n",
    "        opsenter=True\n",
    "        if lrerorr<0:\n",
    "            lrerorr=lrerorr*-1\n",
    "        if lrerorr>=1:\n",
    "             self.rotaion_path(angt,ang)\n",
    "            \n",
    "        if self.start:\n",
    "           time.sleep(0.04)\n",
    "           wheels.forward([50,50])\n",
    "            \n",
    "        while self.start:\n",
    "              clear_output(True)\n",
    "              xy=self.xyd()\n",
    "              val = xy[xyad[4]]\n",
    "              WPFB_val = WPFB(val) \n",
    "              val1 = xy[aa]\n",
    "              WPFB_val1 =WPFB1(val1)\n",
    "              \n",
    "              angs = self.getang(xyadr)  \n",
    "              angt=np.around(track.RPY[2],2)\n",
    "              lrerorr = LReror(angt)\n",
    "              if lrerorr<0:\n",
    "                 lrerorr = lrerorr *-1\n",
    "              if lrerorr>1:\n",
    "                  enter=True\n",
    "                  time.sleep(0.04) \n",
    "                  if xyad[xyad[4]]<angt:\n",
    "                     wheels.forward([WPFB_val+lrerorr,WPFB_val-lrerorr])\n",
    "                  elif xyad[xyad[4]]>angt:\n",
    "                       wheels.forward([WPFB_val-lrerorr,WPFB_val+lrerorr])\n",
    "                  enter=True\n",
    "              if enter:\n",
    "                 enter=False\n",
    "                 time.sleep(0.04)\n",
    "                 wheels.forward([WPFB_val,WPFB_val])\n",
    " \n",
    "                        \n",
    "              if WPFB_val<30 and WPFBs:\n",
    "                 if setp>0:\n",
    "                      WPFB.tunings = (3,0,0)\n",
    "                 else:\n",
    "                      WPFB.tunings = (-3,0,0)\n",
    "                 WPFB.output_limits = (0, 50)\n",
    "                 WPFBs=False\n",
    "              \n",
    "              if WPFB_val<50:\n",
    "                 time.sleep(0.04)\n",
    "                 wheels.forward([WPFB_val,WPFB_val])\n",
    "\n",
    "                    \n",
    "              if WPFB_val1<30 and WPFBs1:\n",
    "                     WPFBs1=False\n",
    "                     LReror.setpoint=0\n",
    "                     self.movesid(0)\n",
    "                     enter=True\n",
    "                        \n",
    "              print(\" val1 \",WPFB_val1,LReror.setpoint)\n",
    "              if WPFB_val1>45 and WPFB_val<15 and WPFBs1:\n",
    "                     WPFBs1=False\n",
    "                     if setp1<0:\n",
    "                         LReror.setpoint=-90\n",
    "                         self.movesid(-90)\n",
    "                     else:\n",
    "                        LReror.setpoint=90\n",
    "                         self.movesid(90)\n",
    "                     enter=True\n",
    "                    \n",
    "              elif WPFB_val<15:\n",
    "                    self.movesid(xyad[2])\n",
    "                    time.sleep(0.04)\n",
    "                    wheels.stop()\n",
    "                    self.start=False\n",
    "                    print(\" val1 \",WPFB_val1,LReror.setpoint)\n",
    "                    print(xyad,ang)\n",
    "                    break\n",
    "\n",
    "            \n",
    "    # xyad xy pos , a= angel and d = driction\n",
    "    def world_pos(self,xyad):\n",
    "         global breakloop\n",
    "         global start\n",
    "         while self.start:\n",
    "             if xyad[3]==1:\n",
    "                self.forwardm(xyad)\n",
    "             elif xyad[3]==2:\n",
    "                  self.backwardm(xyad)\n",
    "        \n",
    "    def absolute_pos(self,xyad):\n",
    "        #xy = np.around(track.trans,2)\n",
    "        self.world_pos(xyad)\n",
    "        "
   ]
  },
  {
   "cell_type": "code",
   "execution_count": 94,
   "id": "47cd1a07-6878-4d6d-a753-010ec83a17f1",
   "metadata": {},
   "outputs": [],
   "source": [
    "wheelmv = wheelmove()"
   ]
  },
  {
   "cell_type": "code",
   "execution_count": 95,
   "id": "b11cb624-c328-4138-ade6-2c6a8b54a94e",
   "metadata": {},
   "outputs": [
    {
     "data": {
      "text/plain": [
       "[]"
      ]
     },
     "execution_count": 95,
     "metadata": {},
     "output_type": "execute_result"
    }
   ],
   "source": [
    "wheelmv.cp"
   ]
  },
  {
   "cell_type": "code",
   "execution_count": 24,
   "id": "7bc8d556-c9be-474c-8956-03025693821f",
   "metadata": {},
   "outputs": [],
   "source": [
    "\n",
    "WPFBx = PID(5,0,0, setpoint=0)\n",
    "WPFBx.output_limits = (16, 28)\n",
    "WPFBx.setpoint="
   ]
  },
  {
   "cell_type": "code",
   "execution_count": 25,
   "id": "06827f84-ad69-49dd-b33c-0c163a5fa8ae",
   "metadata": {},
   "outputs": [
    {
     "data": {
      "text/plain": [
       "25.0"
      ]
     },
     "execution_count": 25,
     "metadata": {},
     "output_type": "execute_result"
    }
   ],
   "source": [
    "WPFBx(35) "
   ]
  },
  {
   "cell_type": "code",
   "execution_count": null,
   "id": "73651ef4-381f-4776-8b41-1bd13302d3d6",
   "metadata": {},
   "outputs": [],
   "source": []
  },
  {
   "cell_type": "code",
   "execution_count": 37,
   "id": "c1f0b258-4382-4aac-9f72-63f70646f058",
   "metadata": {},
   "outputs": [
    {
     "name": "stdout",
     "output_type": "stream",
     "text": [
      "-10.37 1.849999999999996\n"
     ]
    }
   ],
   "source": [
    "wheelmv = wheelmove()\n",
    "wheelmv.breakloop=True\n",
    "wheelmv.start=True\n",
    "crp =track.RPY[2]\n",
    "th = Thread(target=wheelmv.rotaion_path , args=(crp,-10,) )\n",
    "th.start()"
   ]
  },
  {
   "cell_type": "code",
   "execution_count": 28,
   "id": "214984d7-4f45-4834-b79d-27b02d645dd8",
   "metadata": {},
   "outputs": [],
   "source": [
    "wheelmv.breakloop=False\n",
    "wheelmv.start=False\n",
    "wheels.stop()"
   ]
  },
  {
   "cell_type": "code",
   "execution_count": null,
   "id": "41fff24d-dedf-4004-bb2b-a02281692bea",
   "metadata": {},
   "outputs": [],
   "source": []
  },
  {
   "cell_type": "code",
   "execution_count": 213,
   "id": "af174cdf-7e53-476e-88ba-757aa5de72c4",
   "metadata": {},
   "outputs": [],
   "source": [
    "wheels.forward([50,50])"
   ]
  },
  {
   "cell_type": "code",
   "execution_count": 221,
   "id": "77fd9803-7e07-47db-b3df-8ae262c8862e",
   "metadata": {},
   "outputs": [],
   "source": [
    "wheels.backward([50,50])"
   ]
  },
  {
   "cell_type": "code",
   "execution_count": 223,
   "id": "2eaca74a-8b5c-4e27-b31c-58916f53221d",
   "metadata": {},
   "outputs": [],
   "source": [
    "wheels.left()"
   ]
  },
  {
   "cell_type": "code",
   "execution_count": 215,
   "id": "9a67700d-d086-461d-9aad-06d9cabcb230",
   "metadata": {},
   "outputs": [],
   "source": [
    "wheels.right()"
   ]
  },
  {
   "cell_type": "code",
   "execution_count": 224,
   "id": "2cfbda86-7522-4ca0-8a1a-5edbff61eb7d",
   "metadata": {},
   "outputs": [],
   "source": [
    "wheels.stop()"
   ]
  },
  {
   "cell_type": "code",
   "execution_count": null,
   "id": "5f7f01b7-b95c-46f7-a982-fa599a5db2b1",
   "metadata": {},
   "outputs": [],
   "source": []
  },
  {
   "cell_type": "code",
   "execution_count": 294,
   "id": "7e319bf1-1749-4a79-a68e-e08f4d72ac6d",
   "metadata": {},
   "outputs": [
    {
     "name": "stdout",
     "output_type": "stream",
     "text": [
      "[1.0954457896935674, -1.534739966997957, -2.072620655621655]\n",
      "[-39.5  15.4  23.2]\n"
     ]
    }
   ],
   "source": [
    "print(track.RPY)\n",
    "print(track.trans)"
   ]
  },
  {
   "cell_type": "code",
   "execution_count": null,
   "id": "d7d314f9-ca17-4093-b398-842b4f2a403d",
   "metadata": {},
   "outputs": [],
   "source": []
  },
  {
   "cell_type": "code",
   "execution_count": 60,
   "id": "d33a992e-7f25-45de-ad4e-2ad1778fe10d",
   "metadata": {},
   "outputs": [],
   "source": [
    "wheelmv = wheelmove()"
   ]
  },
  {
   "cell_type": "code",
   "execution_count": 78,
   "id": "00f4433d-1873-4bc4-92a2-051e50c08015",
   "metadata": {},
   "outputs": [],
   "source": [
    "def absolute_pos(xyad):\n",
    "        xy = np.around(track.trans,2)\n",
    "        ang =wheelmv.getang(copy.deepcopy(xyad)) \n",
    "        xyad[1]=xyad[1]*-1\n",
    "        xyad[0] = xy[0] + xyad[0]\n",
    "        xyad[1] = xy[2] + xyad[1]\n",
    "        print(xy)\n",
    "        print(ang)\n",
    "        print(xyad)"
   ]
  },
  {
   "cell_type": "code",
   "execution_count": 79,
   "id": "91612d1e-f64e-4870-a646-eb9ababe5f18",
   "metadata": {},
   "outputs": [
    {
     "name": "stdout",
     "output_type": "stream",
     "text": [
      "[ 2.  -0.6 26.1]\n",
      "-7.13\n",
      "[-8.0, -53.9, 0, 1, 1]\n"
     ]
    }
   ],
   "source": [
    "absolute_pos([-10,80,0,1,1])"
   ]
  },
  {
   "cell_type": "code",
   "execution_count": null,
   "id": "ef763e73-b686-4183-b275-18b2788b06dc",
   "metadata": {},
   "outputs": [],
   "source": []
  },
  {
   "cell_type": "code",
   "execution_count": 226,
   "id": "b1dbb1b9-a5fc-466a-8f0f-993c57c5e585",
   "metadata": {},
   "outputs": [
    {
     "name": "stdout",
     "output_type": "stream",
     "text": [
      " val1  20 0\n",
      "[0.7000000000000028, -88.5, 0, 1, 1] 29.74\n"
     ]
    }
   ],
   "source": [
    "wheelmv = wheelmove()\n",
    "wheelmv.breakloop=True\n",
    "wheelmv.start=True\n",
    "th = Thread(target=wheelmv.absolute_pos , args=([40,70,0,1,1],) )\n",
    "th.start()"
   ]
  },
  {
   "cell_type": "code",
   "execution_count": 210,
   "id": "d97af827-85d7-40cd-a8dd-bfc32c423d33",
   "metadata": {},
   "outputs": [],
   "source": [
    "wheelmv.breakloop=False\n",
    "wheelmv.start=False\n",
    "wheels.stop()"
   ]
  },
  {
   "cell_type": "code",
   "execution_count": 165,
   "id": "595845e8-5112-450c-8ba5-4e66bc5a00c5",
   "metadata": {},
   "outputs": [
    {
     "name": "stdout",
     "output_type": "stream",
     "text": [
      "[1.6530955532332352, -0.4117637209949468, 1.8060359254134715]\n",
      "[-17.9   1.2 -28.2]\n"
     ]
    }
   ],
   "source": [
    "print(track.RPY)\n",
    "print(track.trans)"
   ]
  },
  {
   "cell_type": "code",
   "execution_count": null,
   "id": "e6a04682-1436-423c-a4dc-dfa532f4def8",
   "metadata": {},
   "outputs": [],
   "source": []
  },
  {
   "cell_type": "code",
   "execution_count": 16,
   "id": "c3b5ea9d-b4c3-4b68-a152-953358588140",
   "metadata": {},
   "outputs": [
    {
     "data": {
      "text/plain": [
       "-45.0"
      ]
     },
     "execution_count": 16,
     "metadata": {},
     "output_type": "execute_result"
    }
   ],
   "source": [
    "ang = math.atan(-5/5)\n",
    "round(np.rad2deg(ang),2)"
   ]
  },
  {
   "cell_type": "code",
   "execution_count": null,
   "id": "7af838d9-8794-4174-a73a-ce60084d16bd",
   "metadata": {},
   "outputs": [],
   "source": []
  },
  {
   "cell_type": "code",
   "execution_count": 147,
   "id": "c8b042bd-4b38-4ee6-82c4-c812aa08e911",
   "metadata": {
    "tags": []
   },
   "outputs": [],
   "source": [
    "# wheelmv.cp"
   ]
  },
  {
   "cell_type": "code",
   "execution_count": 96,
   "id": "b5af07b1-6bf7-4dd3-9ce4-b2e9edde5209",
   "metadata": {
    "tags": []
   },
   "outputs": [],
   "source": [
    "global fbsetp_disxya\n",
    "global breakloop\n",
    "global start\n",
    "global xyam\n",
    "xyam=[0,0,0]\n",
    "fbsetp_disxya=[0,0,0,0,0]\n",
    "cp=50\n",
    "\n",
    "def xyd():\n",
    "    xyd  = round(track.trans[0],2)\n",
    "    xyd1 = round(track.trans[2],2)\n",
    "    return [xyd,xyd1]\n",
    "\n",
    "def rpya(a):\n",
    "    global xyam\n",
    "    global fbsetp_disxya\n",
    "    if a>0:\n",
    "       xyam[2]=1\n",
    "    elif a<0:\n",
    "       xyam[2]=2\n",
    "    #fbsetp_disxya[2] = round(track.RPY[2],2)+a\n",
    "\n",
    "def getangr(xy):\n",
    "    global fbsetp_disxya\n",
    "    global xyam\n",
    "    xyam[0]=0\n",
    "    xyam[1]=0\n",
    "    xyam[2]=0\n",
    "    \n",
    "    \n",
    "    x=xy[0]\n",
    "    y=xy[1]\n",
    "    \n",
    "    if x<xyd()[0]:\n",
    "         x=xyd()[0]-x\n",
    "    elif x>xyd()[0]:\n",
    "         x=x - xyd()[0]\n",
    "     \n",
    "    if y<xyd()[1]:\n",
    "         y=xyd()[1]-y\n",
    "    elif y>xyd()[1]:\n",
    "         y=y - xyd()[1]\n",
    "            \n",
    "    if round(x,2)<0.9 or x==xyd()[0]:\n",
    "        x=0.000001\n",
    "    if (round(y,2)<0.9 or y==xyd()[1] ):\n",
    "        y=0.000001\n",
    " \n",
    "    xyam[0]=x\n",
    "    xyam[1]=y\n",
    "    print( xyam[0], xyam[1])\n",
    "    ang = math.atan2(x,y)\n",
    "    ang = round(np.rad2deg(ang),2)\n",
    "   \n",
    "    if xy[0]>xyd()[0]:\n",
    "       if ang<0:\n",
    "          ang=ang*-1\n",
    "    else:\n",
    "        if ang>0:\n",
    "          ang=ang*-1\n",
    "        \n",
    "    return ang\n",
    "    \n",
    "def fbrange(xya):\n",
    "    global fbsetp_disxya\n",
    "    global xyam\n",
    "    xyam[0]=0\n",
    "    xyam[1]=0\n",
    "    xyam[2]=0\n",
    "\n",
    "    fbsetp_disxya[0] = xyd()[0] + xya[0]\n",
    "    fbsetp_disxya[1] = xyd()[1] + xya[1]\n",
    "    rpya(xya[2])\n",
    "\n",
    "    if xya[0]<0:\n",
    "       xya[0]=xya[0]*-1\n",
    "    if xya[1]<0:\n",
    "       xya[1]=xya[1]*-1\n",
    "    \n",
    "    if xya[3]==1:\n",
    "        fbsetp_disxya[3] =1\n",
    "    if xya[3]==2:\n",
    "        fbsetp_disxya[3] =0\n",
    "    \n",
    "    \n",
    "        \n",
    "def getanf(angr):\n",
    "        global fbsetp_disxya\n",
    "        ang = math.atan(angr[0] /angr[1])\n",
    "        ang = round(np.rad2deg(ang),2)\n",
    "        return ang   \n",
    "\n",
    "def movesid(setp):\n",
    "    global breakloop\n",
    "    global start\n",
    "    global fbsetp_disxya\n",
    "    LReror = PID(5,0,0, setpoint=0)\n",
    "    LReror.output_limits = (-15, 15)\n",
    "    angset =setp\n",
    "    LReror.setpoint=angset\n",
    "    while start:\n",
    "          angt=round(track.RPY[2],2)\n",
    "          lrerorr = LReror(angt)\n",
    "          if lrerorr<0:\n",
    "             lrerorr = lrerorr *-1\n",
    "          if lrerorr>=1:\n",
    "              time.sleep(0.04) \n",
    "              if angset>angt:\n",
    "                 wheels.mleft(20+lrerorr)\n",
    "              elif angset<angt:\n",
    "                   wheels.mright(20+lrerorr)\n",
    "          else:\n",
    "            time.sleep(0.04)\n",
    "            break\n",
    "\n",
    "def wheelm():\n",
    "    global fbsetp_disxya\n",
    "    global breakloop\n",
    "    global start\n",
    "    \n",
    "    def getanf(angr):\n",
    "        global fbsetp_disxya\n",
    "        ang = math.atan(angr[0] /angr[1])\n",
    "        ang = round(np.rad2deg(ang),2)\n",
    "        return ang\n",
    "\n",
    "    def forwardm():\n",
    "        #wheel pid forawd backward WFB\n",
    "        global breakloop\n",
    "        global start\n",
    "        global xyam\n",
    "        setp=5  \n",
    "        setps=0\n",
    "        if xyam[0]<xyam[1]:\n",
    "            setps=1\n",
    "            \n",
    "        if fbsetp_disxya[setps]>xyd()[setps]:\n",
    "            setp=5\n",
    "        else:\n",
    "            setp=-5\n",
    "\n",
    "        WPFB = PID(setp,0,0, setpoint=0)\n",
    "        WPFB.output_limits = (20, 50)\n",
    "        WPFB.setpoint=fbsetp_disxya[setps]\n",
    "        WPFBs=True \n",
    "        LReror = PID(5,0,0, setpoint=0)\n",
    "        LReror.output_limits = (-15, 15)\n",
    "        angset = getangr(fbsetp_disxya)\n",
    "        LReror.setpoint=angset\n",
    "        enter=False\n",
    "        \n",
    "        angt=round(track.RPY[2],2)\n",
    "        lrerorr = LReror(angt)\n",
    "        if lrerorr<0:\n",
    "            lrerorr=lrerorr*-1\n",
    "        if lrerorr>=1:\n",
    "            movesid(angset)\n",
    "        if start:\n",
    "           time.sleep(0.04)\n",
    "           wheels.forward([50,50])\n",
    "        while start:\n",
    "              clear_output(True)\n",
    "              val =xyd()[setps]\n",
    "              WPFB_val = WPFB(val) \n",
    "               \n",
    "              angt=round(track.RPY[2],2)\n",
    "              lrerorr = LReror(angt)\n",
    "              if lrerorr<0:\n",
    "                 lrerorr = lrerorr *-1\n",
    "              if lrerorr>1:\n",
    "                  enter=True\n",
    "                  time.sleep(0.04) \n",
    "                  if angset>angt:\n",
    "                     wheels.forward([WPFB_val+lrerorr,WPFB_val-lrerorr])\n",
    "                  elif angset<angt:\n",
    "                       wheels.forward([WPFB_val-lrerorr,WPFB_val+lrerorr])\n",
    "                  enter=True\n",
    "                \n",
    "              if enter:\n",
    "                 enter=False\n",
    "                 time.sleep(0.04)\n",
    "                 wheels.forward([WPFB_val,WPFB_val])\n",
    "\n",
    "              if WPFB_val<30 and WPFBs:\n",
    "                 if setp>0:\n",
    "                      WPFB.tunings = (3,0,0)\n",
    "                 else:\n",
    "                      WPFB.tunings = (-3,0,0)\n",
    "                 WPFB.output_limits = (0, 50)\n",
    "                 WPFBs=False\n",
    "              \n",
    "              if WPFB_val<50:\n",
    "                 time.sleep(0.04)\n",
    "                 wheels.forward([WPFB_val,WPFB_val])\n",
    "                    \n",
    "              if WPFB_val<15:\n",
    "                movesid( fbsetp_disxya[2])\n",
    "                time.sleep(0.04)\n",
    "                wheels.stop()\n",
    "                start=False\n",
    "                break\n",
    "              #print(recallc())       \n",
    "              print(\"WPFB_val \",WPFB_val,\", val \",val,\", angset \",angset,\", angt \",angt,\", lrerorr \",lrerorr)\n",
    "              print(track.RPY)\n",
    "              print(track.trans)\n",
    "              time.sleep(0.04)\n",
    "            \n",
    "    def backwardm():\n",
    "        global breakloop\n",
    "        global start\n",
    "        global xyam\n",
    "        #wheel pid forawd backward WFB\n",
    "        setps=0\n",
    "        dirc=1\n",
    "        dirc1=1\n",
    "        if xyam[0]<xyam[1]:\n",
    "            setps=1\n",
    "            dirc=0\n",
    " \n",
    "        setp=5  \n",
    "        if fbsetp_disxya[setps]>xyd()[setps]:\n",
    "            setp=5\n",
    "        else:\n",
    "            setp=-5\n",
    "            \n",
    "        WPFB = PID(setp,0,0, setpoint=0)\n",
    "        WPFB.output_limits = (20, 50)\n",
    "        WPFB.setpoint=fbsetp_disxya[setps]\n",
    "        WPFBs=True\n",
    "        \n",
    "        LReror = PID(5,0,0, setpoint=0)\n",
    "        LReror.output_limits = (-15, 15)\n",
    "        angset = getangr(fbsetp_disxya)\n",
    "        if angset<0:\n",
    "            angset=angset*-1\n",
    "        elif angset>0:\n",
    "            angset=angset*-1\n",
    "        LReror.setpoint=angset\n",
    "        \n",
    "        enter=False\n",
    "        angt=round(track.RPY[2],2)\n",
    "        lrerorr = LReror(angt)\n",
    "        if lrerorr>=1:\n",
    "            movesid(angset)\n",
    "        if start:\n",
    "           time.sleep(0.04)\n",
    "           wheels.backward([50,50])\n",
    "        while start:\n",
    "              \n",
    "              clear_output(True)\n",
    "              val =xyd()[setps]\n",
    "              WPFB_val = WPFB(val)\n",
    "              \n",
    "              angt=round(track.RPY[2],2)\n",
    "              lrerorr = LReror(angt)\n",
    "              if lrerorr<0:\n",
    "                 lrerorr = lrerorr *-1\n",
    "              if lrerorr>1:\n",
    "                  enter=True\n",
    "                  time.sleep(0.04) \n",
    "                  if angset>angt:\n",
    "                     wheels.backward([WPFB_val-lrerorr,WPFB_val+lrerorr])\n",
    "                  elif angset<angt:\n",
    "                       wheels.backward([WPFB_val+lrerorr,WPFB_val-lrerorr])\n",
    "                  enter=True\n",
    "                \n",
    "              if enter:\n",
    "                 enter=False\n",
    "                 time.sleep(0.04)\n",
    "                 wheels.backward([WPFB_val,WPFB_val])\n",
    "                    \n",
    "              if WPFB_val<30 and WPFBs:\n",
    "                 if setp>0:\n",
    "                      WPFB.tunings = (3,0,0)\n",
    "                 else:\n",
    "                      WPFB.tunings = (-3,0,0)\n",
    "                 WPFB.output_limits = (0, 50)\n",
    "                 WPFBs=False\n",
    "                \n",
    "              if WPFB_val<50:\n",
    "                  time.sleep(0.04)\n",
    "                  wheels.backward([WPFB_val,WPFB_val])\n",
    "\n",
    "              if WPFB_val<15:\n",
    "                movesid(fbsetp_disxya[2])\n",
    "                time.sleep(0.04)\n",
    "                wheels.stop()\n",
    "                start=False\n",
    "                break\n",
    "                    \n",
    "              print(\"WPFB_val \",WPFB_val,\", val \",val,\", angset \",angset,\", angt \",angt,\", lrerorr \",lrerorr)\n",
    "              print(track.RPY)\n",
    "              print(track.trans)\n",
    "              time.sleep(0.04)\n",
    "    \n",
    "    #while breakloop:\n",
    "    while start:\n",
    "           if fbsetp_disxya[3]==1:\n",
    "              forwardm()\n",
    "           elif fbsetp_disxya[3]==0:\n",
    "               backwardm()"
   ]
  },
  {
   "cell_type": "code",
   "execution_count": null,
   "id": "3021c576-287f-4e51-a247-b129c7632a24",
   "metadata": {},
   "outputs": [],
   "source": []
  },
  {
   "cell_type": "code",
   "execution_count": 514,
   "id": "1ebe04d0-a557-47d3-863c-9f0d018b600f",
   "metadata": {
    "jupyter": {
     "source_hidden": true
    },
    "tags": []
   },
   "outputs": [],
   "source": [
    "fbrange([-10.3,60.0,0,2])"
   ]
  },
  {
   "cell_type": "code",
   "execution_count": 515,
   "id": "6d898efb-9c4b-491c-96b6-8358cc7e3b88",
   "metadata": {},
   "outputs": [
    {
     "name": "stdout",
     "output_type": "stream",
     "text": [
      "[0, 0, 0]\n",
      "[1.3999999999999986, 56.2, 0, 0, 0]\n",
      "10.400000000000002 59.900000000000006\n"
     ]
    },
    {
     "data": {
      "text/plain": [
       "-9.85"
      ]
     },
     "execution_count": 515,
     "metadata": {},
     "output_type": "execute_result"
    }
   ],
   "source": [
    "print(xyam)\n",
    "print(fbsetp_disxya)\n",
    "getangr(fbsetp_disxya)"
   ]
  },
  {
   "cell_type": "code",
   "execution_count": 19,
   "id": "63d1dac6-df38-4a7b-b42a-516ff3821a0c",
   "metadata": {},
   "outputs": [
    {
     "name": "stdout",
     "output_type": "stream",
     "text": [
      "[0.9593316092054881, -0.49903538876576414, -0.017666380483308423]\n",
      "[-0.1 -0.  -0.4]\n"
     ]
    }
   ],
   "source": [
    "clear_output(True)\n",
    "print(track.RPY)\n",
    "print(track.trans)\n",
    "time.sleep(0.1) \n",
    "breakloop=True\n",
    "start=True\n",
    "th = Thread(target=wheelm)\n",
    "th.start()"
   ]
  },
  {
   "cell_type": "code",
   "execution_count": 517,
   "id": "75eb4c76-c8f1-4c2c-a218-f1e63c0213c6",
   "metadata": {},
   "outputs": [
    {
     "name": "stdout",
     "output_type": "stream",
     "text": [
      "WPFB_val  15.800000000000004 , val  57.6 , angset  9.85 , angt  10.97 , lrerorr  5.600000000000005\n",
      "[0.9200560662710235, -2.4326729262770512, 10.997201588088721]\n",
      "[-0.6  1.2 57.8]\n"
     ]
    }
   ],
   "source": [
    "breakloop=True\n",
    "start=True\n",
    "th = Thread(target=wheelm)\n",
    "th.start()"
   ]
  },
  {
   "cell_type": "code",
   "execution_count": 413,
   "id": "a5ce753f-24d4-43a5-9284-8a71b00aefca",
   "metadata": {},
   "outputs": [],
   "source": [
    "breakloop=False\n",
    "start=False\n",
    "wheels.stop()"
   ]
  },
  {
   "cell_type": "code",
   "execution_count": null,
   "id": "cd46ca8d-84c1-47c8-b71d-4548f44cb56d",
   "metadata": {},
   "outputs": [],
   "source": []
  },
  {
   "cell_type": "code",
   "execution_count": 73,
   "id": "d493e19f-2df6-4b52-824d-535ac6cbc500",
   "metadata": {},
   "outputs": [
    {
     "name": "stdout",
     "output_type": "stream",
     "text": [
      "0 99 70\n"
     ]
    }
   ],
   "source": [
    "\n",
    "currentpos= -30\n",
    "setp = 60\n",
    "\n",
    "stepr=5\n",
    "WPFB = PID(stepr,0,0, setpoint=0)\n",
    "\n",
    "# if setp>0 and currentpos<0:\n",
    "#     WPFB = PID(5,0,0, setpoint=0)\n",
    "# else:\n",
    "#     WPFB = PID(-5,0,0, setpoint=0)\n",
    "WPFB.output_limits = (20, 50)\n",
    "WPFB.setpoint= setp\n",
    "WPFBs=True\n",
    "for i in range(100):\n",
    "     clear_output(True)\n",
    "        \n",
    "     if stepr>0:\n",
    "        currentpos=currentpos+1\n",
    "     else:\n",
    "        currentpos=currentpos-1\n",
    "        \n",
    "     WPFB_val = WPFB(currentpos)\n",
    "     if WPFB_val<25 and WPFBs:\n",
    "         if stepr>0:\n",
    "              WPFB.tunings = (3,0,0)\n",
    "         else:\n",
    "              WPFB.tunings = (-3,0,0)\n",
    "         WPFB.output_limits = (0, 50)\n",
    "         WPFBs=False\n",
    "     print(WPFB_val,i,currentpos)\n",
    "     time.sleep(0.1)"
   ]
  },
  {
   "cell_type": "code",
   "execution_count": 143,
   "id": "14da0558-02d7-44db-9299-ed95f1c45c9a",
   "metadata": {},
   "outputs": [
    {
     "name": "stdout",
     "output_type": "stream",
     "text": [
      "-15 6.000000000000003\n"
     ]
    }
   ],
   "source": [
    "pidfber = PID(5,0,0, setpoint=0)\n",
    "pidfber.output_limits = (-15, 15)\n",
    "pidfber.setpoint=0\n",
    "v=0\n",
    "for i in range(30):\n",
    "     clear_output(True)\n",
    "     val = pidfber(v)\n",
    "     v=v+0.2\n",
    "     print(val,v)\n",
    "     time.sleep(0.3)    \n",
    "        "
   ]
  },
  {
   "cell_type": "code",
   "execution_count": null,
   "id": "fdb56c09-f386-49b7-8d20-88136b147439",
   "metadata": {},
   "outputs": [],
   "source": []
  },
  {
   "cell_type": "code",
   "execution_count": 22,
   "id": "b7078d57-1cb5-40a3-91cd-e68b03200300",
   "metadata": {},
   "outputs": [
    {
     "name": "stdout",
     "output_type": "stream",
     "text": [
      "stop\n"
     ]
    }
   ],
   "source": [
    "track.break_loop=False"
   ]
  },
  {
   "cell_type": "code",
   "execution_count": null,
   "id": "8ab3cb41-6d81-4cb2-87ff-8c146265def7",
   "metadata": {},
   "outputs": [],
   "source": []
  }
 ],
 "metadata": {
  "kernelspec": {
   "display_name": "Python 3",
   "language": "python",
   "name": "python3"
  },
  "language_info": {
   "codemirror_mode": {
    "name": "ipython",
    "version": 3
   },
   "file_extension": ".py",
   "mimetype": "text/x-python",
   "name": "python",
   "nbconvert_exporter": "python",
   "pygments_lexer": "ipython3",
   "version": "3.6.9"
  }
 },
 "nbformat": 4,
 "nbformat_minor": 5
}
