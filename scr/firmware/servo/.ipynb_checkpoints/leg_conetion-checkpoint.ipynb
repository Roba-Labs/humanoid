{
 "cells": [
  {
   "cell_type": "code",
   "execution_count": 1,
   "metadata": {},
   "outputs": [],
   "source": [
    "import time\n",
    "import serial\n",
    "from IPython.display import clear_output\n",
    "class legs:\n",
    "        \n",
    "        def __init__(self,com):\n",
    "            self.roba_connection = serial.Serial()\n",
    "            self.roba_connection.baudrate = 115200\n",
    "            self.roba_connection.port = com\n",
    "            self.roba_connection.timeout = 0.5\n",
    "            self.roba_connection.open()\n",
    "            #self.roba_connection.timeout(2.0)\n",
    "            self.lastdata=''\n",
    "            time.sleep(1)\n",
    "        # send data to ardiuno\n",
    "        def send_data(self,data):\n",
    "            if (self.roba_connection.is_open):\n",
    "                self.lastdata=\"\"\n",
    "                self.roba_connection.write(data.encode())\n",
    "                while True:\n",
    "                    v = self.roba_connection.readline().decode()\n",
    "                    self.lastdata=self.lastdata+v\n",
    "                    vs =set(v.split())\n",
    "                    if (vs & {'off'} ) == {'off'}:\n",
    "                        break\n",
    "        def send_data_only(self,data):\n",
    "            if (self.roba_connection.is_open):\n",
    "                #self.lastdata=\"\"\n",
    "                self.roba_connection.write(data.encode())\n",
    "                 \n",
    "        # read data from arduino\n",
    "        def read_all(self):\n",
    "             if (self.roba_connection.is_open):\n",
    "                 return self.roba_connection.read_all().decode()\n",
    "                 \n",
    "        def close_S(self):\n",
    "            self.roba_connection.close()"
   ]
  },
  {
   "cell_type": "code",
   "execution_count": 2,
   "metadata": {},
   "outputs": [],
   "source": [
    "leg = legs(\"/dev/ttyACM0\")"
   ]
  },
  {
   "cell_type": "code",
   "execution_count": null,
   "metadata": {},
   "outputs": [],
   "source": []
  },
  {
   "cell_type": "code",
   "execution_count": 219,
   "metadata": {},
   "outputs": [],
   "source": [
    "leg.close_S()"
   ]
  },
  {
   "cell_type": "code",
   "execution_count": 149,
   "metadata": {},
   "outputs": [],
   "source": []
  },
  {
   "cell_type": "code",
   "execution_count": 7,
   "metadata": {},
   "outputs": [
    {
     "data": {
      "text/plain": [
       "'{\"pot\":[512,470,517,531,500,516,451,515]}\\r\\n'"
      ]
     },
     "execution_count": 7,
     "metadata": {},
     "output_type": "execute_result"
    }
   ],
   "source": [
    "leg.send_data_only(\"5000\")  \n",
    "leg.read_all()"
   ]
  },
  {
   "cell_type": "code",
   "execution_count": 12,
   "metadata": {},
   "outputs": [],
   "source": [
    "leg.send_data_only(\"513 471 550 531 500 516 415 515\") "
   ]
  },
  {
   "cell_type": "code",
   "execution_count": 5,
   "metadata": {},
   "outputs": [
    {
     "data": {
      "text/plain": [
       "'{\"pot\":[525,459,520,522,482,494,474,516]}\\r\\n{\"pot\":[523,460,521,525,482,493,473,516]}\\r\\n'"
      ]
     },
     "execution_count": 5,
     "metadata": {},
     "output_type": "execute_result"
    }
   ],
   "source": [
    "leg.send_data_only(\"520 480 500 530 490 505 460 515\")  \n",
    "time.sleep(0.1)\n",
    "leg.send_data_only(\"5000\")  \n",
    "leg.read_all()"
   ]
  },
  {
   "cell_type": "code",
   "execution_count": 570,
   "metadata": {},
   "outputs": [
    {
     "name": "stdout",
     "output_type": "stream",
     "text": [
      "break\n"
     ]
    }
   ],
   "source": [
    "leg.send_data_only(\"520 515 500 525 490 500 430 515\")   \n",
    "time.sleep(0.1)\n",
    "leg.send_data_only(\"5000\")  \n",
    "leg.read_all()\n",
    "# leg.send_data_only\n",
    "\n",
    "for i in range(700):\n",
    "    #clear_output(True)\n",
    "    leg.read_all()\n",
    "    time.sleep(0.01)\n",
    "    if track.RPY[1]>4.3:\n",
    "        leg.send_data_only(\"520 500 500 525 490 500 430 515\")   \n",
    "        print(\"break\")\n",
    "        break\n",
    "time.sleep(3)\n",
    "for i in range(1):\n",
    "   time.sleep(0.1)\n",
    "   leg.send_data_only(\"5000\")  \n",
    "   leg.read_all()\n",
    "\n",
    "# leg.send_data_only(\"520 510 500 525 490 475 440 500\")    "
   ]
  },
  {
   "cell_type": "code",
   "execution_count": null,
   "metadata": {},
   "outputs": [],
   "source": []
  },
  {
   "cell_type": "code",
   "execution_count": 571,
   "metadata": {},
   "outputs": [],
   "source": [
    "leg.send_data_only(\"520 480 500 525 490 450 430 515\")  \n",
    "time.sleep(0.7)\n",
    "for i in range(2):\n",
    "   time.sleep(0.1)\n",
    "   leg.send_data_only(\"5000\")  \n",
    "   leg.read_all()"
   ]
  },
  {
   "cell_type": "code",
   "execution_count": 567,
   "metadata": {},
   "outputs": [],
   "source": [
    "leg.send_data_only(\"520 460 500 530 490 510 430 515\")  \n",
    "time.sleep(0.7)\n",
    "for i in range(2):\n",
    "   time.sleep(0.1)\n",
    "   leg.send_data_only(\"5000\")  \n",
    "   leg.read_all()"
   ]
  },
  {
   "cell_type": "code",
   "execution_count": 568,
   "metadata": {},
   "outputs": [],
   "source": [
    "leg.send_data_only(\"520 430 530 530 490 535 460 515\")\n",
    "time.sleep(0.1)\n",
    "for i in range(2):\n",
    "   time.sleep(0.1)\n",
    "   leg.send_data_only(\"5000\")  \n",
    "   leg.read_all()\n",
    "for i in range(600):\n",
    "    #clear_output(True)\n",
    "    leg.read_all()\n",
    "    time.sleep(0.01)\n",
    "    if track.RPY[1]<-4.5:\n",
    "        leg.send_data_only(\"520 430 530 530 490 535 460 515\") \n",
    "        print(\"break\")\n",
    "        print(track.RPY[1])\n",
    "        break\n",
    "time.sleep(1.3)\n",
    "for i in range(5):\n",
    "   time.sleep(0.1)\n",
    "   leg.send_data_only(\"5000\")  \n",
    "   leg.read_all()\n"
   ]
  },
  {
   "cell_type": "code",
   "execution_count": null,
   "metadata": {},
   "outputs": [],
   "source": [
    "time.sleep(2)\n",
    "leg.send_data_only(\"520 470 530 530 490 505 460 515\")  \n",
    "time.sleep(0.5)\n",
    "for i in range(3):\n",
    "   time.sleep(0.1)\n",
    "   leg.send_data_only(\"5000\")  \n",
    "   leg.read_all()"
   ]
  },
  {
   "cell_type": "code",
   "execution_count": null,
   "metadata": {},
   "outputs": [],
   "source": []
  },
  {
   "cell_type": "code",
   "execution_count": null,
   "metadata": {},
   "outputs": [],
   "source": [
    "# loop steps"
   ]
  },
  {
   "cell_type": "code",
   "execution_count": 573,
   "metadata": {},
   "outputs": [
    {
     "data": {
      "text/plain": [
       "'{\"pot\":[518,480,503,531,491,503,455,512]}\\r\\n'"
      ]
     },
     "execution_count": 573,
     "metadata": {},
     "output_type": "execute_result"
    }
   ],
   "source": [
    "time.sleep(2)\n",
    "leg.send_data_only(\"520 480 500 530 490 505 460 515\")  \n",
    "time.sleep(0.1)\n",
    "leg.send_data_only(\"5000\")  \n",
    "leg.read_all()"
   ]
  },
  {
   "cell_type": "code",
   "execution_count": 575,
   "metadata": {},
   "outputs": [
    {
     "name": "stdout",
     "output_type": "stream",
     "text": [
      "break\n",
      "break\n",
      "break\n",
      "break\n",
      "break\n",
      "break\n",
      "break\n",
      "break\n",
      "break\n",
      "break\n",
      "break\n",
      "break\n",
      "break\n",
      "break\n",
      "break\n",
      "break\n",
      "break\n",
      "break\n",
      "break\n",
      "break\n"
     ]
    }
   ],
   "source": [
    "\n",
    "for i in range(20):\n",
    "    time.sleep(2)\n",
    "    leg.send_data_only(\"520 515 500 525 490 500 430 515\")   \n",
    "    time.sleep(0.1)\n",
    "    leg.send_data_only(\"5000\")  \n",
    "    leg.read_all()\n",
    "    # leg.send_data_only\n",
    "\n",
    "    for i in range(700):\n",
    "        #clear_output(True)\n",
    "        leg.read_all()\n",
    "        time.sleep(0.01)\n",
    "        if track.RPY[1]>4.3:\n",
    "            leg.send_data_only(\"520 500 500 525 490 500 430 515\")   \n",
    "            print(\"break\")\n",
    "            break\n",
    "    time.sleep(3)\n",
    "    for i in range(1):\n",
    "       time.sleep(0.1)\n",
    "       leg.send_data_only(\"5000\")  \n",
    "       leg.read_all()\n",
    "    \n",
    "    time.sleep(2)\n",
    "    leg.send_data_only(\"520 480 500 525 490 450 430 515\")  \n",
    "    time.sleep(0.7)\n",
    "    for i in range(2):\n",
    "       time.sleep(0.1)\n",
    "       leg.send_data_only(\"5000\")  \n",
    "       leg.read_all()\n",
    "    \n",
    "    time.sleep(2)\n",
    "    leg.send_data_only(\"520 460 500 530 490 510 430 515\")  \n",
    "    time.sleep(0.7)\n",
    "    for i in range(2):\n",
    "       time.sleep(0.1)\n",
    "       leg.send_data_only(\"5000\")  \n",
    "       leg.read_all()\n",
    "    \n",
    "    time.sleep(2)\n",
    "    leg.send_data_only(\"520 430 530 530 490 535 460 515\")\n",
    "    time.sleep(0.1)\n",
    "    for i in range(2):\n",
    "       time.sleep(0.1)\n",
    "       leg.send_data_only(\"5000\")  \n",
    "       leg.read_all()\n",
    "    for i in range(600):\n",
    "        #clear_output(True)\n",
    "        leg.read_all()\n",
    "        time.sleep(0.01)\n",
    "        if track.RPY[1]<-4.5:\n",
    "            leg.send_data_only(\"520 430 530 530 490 535 460 515\") \n",
    "            print(\"break\")\n",
    "            print(track.RPY[1])\n",
    "            break\n",
    "    time.sleep(1.3)\n",
    "    for i in range(5):\n",
    "       time.sleep(0.1)\n",
    "       leg.send_data_only(\"5000\")  \n",
    "       leg.read_all()\n",
    "    \n",
    "    time.sleep(2)\n",
    "    leg.send_data_only(\"520 470 530 530 490 505 460 515\")  \n",
    "    time.sleep(0.5)\n",
    "    for i in range(3):\n",
    "       time.sleep(0.1)\n",
    "       leg.send_data_only(\"5000\")  \n",
    "       leg.read_all()"
   ]
  },
  {
   "cell_type": "code",
   "execution_count": null,
   "metadata": {},
   "outputs": [],
   "source": []
  },
  {
   "cell_type": "code",
   "execution_count": null,
   "metadata": {},
   "outputs": [],
   "source": []
  },
  {
   "cell_type": "code",
   "execution_count": null,
   "metadata": {},
   "outputs": [],
   "source": []
  },
  {
   "cell_type": "code",
   "execution_count": null,
   "metadata": {},
   "outputs": [],
   "source": []
  },
  {
   "cell_type": "code",
   "execution_count": null,
   "metadata": {},
   "outputs": [],
   "source": []
  },
  {
   "cell_type": "code",
   "execution_count": null,
   "metadata": {},
   "outputs": [],
   "source": []
  },
  {
   "cell_type": "code",
   "execution_count": null,
   "metadata": {},
   "outputs": [],
   "source": []
  },
  {
   "cell_type": "code",
   "execution_count": null,
   "metadata": {},
   "outputs": [],
   "source": []
  },
  {
   "cell_type": "code",
   "execution_count": 227,
   "metadata": {},
   "outputs": [
    {
     "data": {
      "text/plain": [
       "'{\"pot\":[523,507,498,521,485,550,425,510]}\\r\\n'"
      ]
     },
     "execution_count": 227,
     "metadata": {},
     "output_type": "execute_result"
    }
   ],
   "source": [
    "leg.send_data_only(\"520 505 500 525 490 500 430 507\")\n",
    "leg.read_all()"
   ]
  },
  {
   "cell_type": "code",
   "execution_count": 233,
   "metadata": {},
   "outputs": [],
   "source": [
    "# 2n s\n",
    "leg.send_data_only(\"520 480 500 530 490 500 430 507\")\n",
    "time.sleep(1)\n",
    "for i in range(3):\n",
    "   time.sleep(0.1)\n",
    "   leg.send_data_only(\"5000\")  \n",
    "   leg.read_all()"
   ]
  },
  {
   "cell_type": "code",
   "execution_count": null,
   "metadata": {},
   "outputs": [],
   "source": [
    "# 3rt s \n",
    "leg.send_data_only(\"520 480 500 535 490 500 430 507\")\n"
   ]
  },
  {
   "cell_type": "code",
   "execution_count": 234,
   "metadata": {},
   "outputs": [],
   "source": [
    "# 3rt s \n",
    "leg.send_data_only(\"520 480 500 535 490 500 430 520\")\n",
    "time.sleep(1)\n",
    "for i in range(3):\n",
    "   time.sleep(0.1)\n",
    "   leg.send_data_only(\"5000\")  \n",
    "   leg.read_all()"
   ]
  },
  {
   "cell_type": "code",
   "execution_count": 235,
   "metadata": {},
   "outputs": [],
   "source": [
    "# 5rt s\n",
    "leg.send_data_only(\"520 480 530 535 490 535 460 520\")\n",
    "time.sleep(0.1)\n",
    "for i in range(2):\n",
    "   time.sleep(0.1)\n",
    "   leg.send_data_only(\"5000\")  \n",
    "   leg.read_all()\n",
    "for i in range(700):\n",
    "    #clear_output(True)\n",
    "    leg.read_all()\n",
    "    time.sleep(0.01)\n",
    "    if track.RPY[1]<-3.0:\n",
    "        leg.send_data_only(\"520 480 530 535 490 535 460 510\") \n",
    "        print(\"break\")\n",
    "        break\n",
    "time.sleep(0.6)\n",
    "for i in range(5):\n",
    "   time.sleep(0.1)\n",
    "   leg.send_data_only(\"5000\")  \n",
    "   leg.read_all()"
   ]
  },
  {
   "cell_type": "code",
   "execution_count": null,
   "metadata": {},
   "outputs": [],
   "source": []
  },
  {
   "cell_type": "code",
   "execution_count": 83,
   "metadata": {},
   "outputs": [
    {
     "data": {
      "text/plain": [
       "'{\"pot\":[521,503,476,521,490,480,431,506]}\\r\\n'"
      ]
     },
     "execution_count": 83,
     "metadata": {},
     "output_type": "execute_result"
    }
   ],
   "source": [
    "leg.send_data_only(\"520 480 530 535 490 535 460 515\")  \n",
    "leg.read_all()"
   ]
  },
  {
   "cell_type": "code",
   "execution_count": null,
   "metadata": {},
   "outputs": [],
   "source": []
  },
  {
   "cell_type": "code",
   "execution_count": 72,
   "metadata": {},
   "outputs": [
    {
     "data": {
      "text/plain": [
       "'{\"pot\":[521,479,531,535,491,534,457,518]}\\r\\n{\"pot\":[521,480,530,532,491,533,457,518]}\\r\\n'"
      ]
     },
     "execution_count": 72,
     "metadata": {},
     "output_type": "execute_result"
    }
   ],
   "source": [
    "leg.send_data_only(\"520 480 530 530 490 505 460 510\")  \n",
    "leg.read_all()"
   ]
  },
  {
   "cell_type": "code",
   "execution_count": 46,
   "metadata": {},
   "outputs": [
    {
     "name": "stdout",
     "output_type": "stream",
     "text": [
      "break\n"
     ]
    }
   ],
   "source": [
    "\n",
    "\n",
    "brekloop=True \n",
    "leg.send_data_only(\"520 440 500 530 490 530 430 510\")  \n",
    "for i in range(900):\n",
    "    #clear_output(True)\n",
    "    leg.read_all()\n",
    "    time.sleep(0.01)\n",
    "    if track.RPY[1]<-3.0:\n",
    "        leg.send_data_only(\"520 480 520 530 490 525 460 510\")   \n",
    "        brekloop=False\n",
    "        print(\"break\")\n",
    "        break\n",
    "time.sleep(1.5)\n",
    "if brekloop:\n",
    "    leg.send_data_only(\"520 480 520 530 490 530 460 510\")  \n",
    "for i in range(5):\n",
    "   time.sleep(0.1)\n",
    "   leg.send_data_only(\"5000\")  \n",
    "   leg.read_all()"
   ]
  },
  {
   "cell_type": "code",
   "execution_count": 74,
   "metadata": {},
   "outputs": [],
   "source": [
    "leg.send_data_only(\"520 480 520 530 490 540 460 510\")"
   ]
  },
  {
   "cell_type": "code",
   "execution_count": 27,
   "metadata": {},
   "outputs": [],
   "source": [
    "leg.send_data_only(\"520 510 500 525 490 460 430 508\")   \n",
    "for i in range(700):\n",
    "    #clear_output(True)\n",
    "    leg.read_all()\n",
    "    time.sleep(0.01)\n",
    "    if track.RPY[1]>4.5:\n",
    "        leg.send_data_only(\"520 505 500 525 490 460 430 508\")   \n",
    "        print(\"break\")\n",
    "        break"
   ]
  },
  {
   "cell_type": "code",
   "execution_count": null,
   "metadata": {},
   "outputs": [],
   "source": []
  },
  {
   "cell_type": "code",
   "execution_count": null,
   "metadata": {},
   "outputs": [],
   "source": []
  },
  {
   "cell_type": "code",
   "execution_count": 56,
   "metadata": {},
   "outputs": [
    {
     "data": {
      "text/plain": [
       "'{\"pot\":[523,504,497,520,490,480,435,507]}\\r\\n'"
      ]
     },
     "execution_count": 56,
     "metadata": {},
     "output_type": "execute_result"
    }
   ],
   "source": [
    "leg.send_data_only(\"520 505 500 525 490 450 430 505\")  \n",
    "leg.read_all()"
   ]
  },
  {
   "cell_type": "code",
   "execution_count": null,
   "metadata": {},
   "outputs": [],
   "source": []
  },
  {
   "cell_type": "code",
   "execution_count": null,
   "metadata": {},
   "outputs": [],
   "source": []
  },
  {
   "cell_type": "code",
   "execution_count": null,
   "metadata": {},
   "outputs": [],
   "source": []
  },
  {
   "cell_type": "code",
   "execution_count": 92,
   "metadata": {},
   "outputs": [],
   "source": [
    "import tracking\n",
    "from IPython.display import clear_output\n",
    "import time "
   ]
  },
  {
   "cell_type": "code",
   "execution_count": 93,
   "metadata": {},
   "outputs": [
    {
     "ename": "RuntimeError",
     "evalue": "Couldn't resolve requests",
     "output_type": "error",
     "traceback": [
      "\u001b[0;31m---------------------------------------------------------------------------\u001b[0m",
      "\u001b[0;31mRuntimeError\u001b[0m                              Traceback (most recent call last)",
      "\u001b[0;32m<ipython-input-93-28bd08492b0c>\u001b[0m in \u001b[0;36m<module>\u001b[0;34m\u001b[0m\n\u001b[0;32m----> 1\u001b[0;31m \u001b[0mtrack\u001b[0m \u001b[0;34m=\u001b[0m \u001b[0mtracking\u001b[0m\u001b[0;34m.\u001b[0m\u001b[0mTrack\u001b[0m\u001b[0;34m(\u001b[0m\u001b[0;34m)\u001b[0m\u001b[0;34m\u001b[0m\u001b[0;34m\u001b[0m\u001b[0m\n\u001b[0m",
      "\u001b[0;32m~/Robot_roba/scr/firmware/servo/tracking.py\u001b[0m in \u001b[0;36m__init__\u001b[0;34m(self)\u001b[0m\n\u001b[1;32m     85\u001b[0m         \u001b[0mself\u001b[0m\u001b[0;34m.\u001b[0m\u001b[0mcfg\u001b[0m\u001b[0;34m.\u001b[0m\u001b[0menable_stream\u001b[0m\u001b[0;34m(\u001b[0m\u001b[0mrs\u001b[0m\u001b[0;34m.\u001b[0m\u001b[0mstream\u001b[0m\u001b[0;34m.\u001b[0m\u001b[0mgyro\u001b[0m\u001b[0;34m)\u001b[0m\u001b[0;34m\u001b[0m\u001b[0;34m\u001b[0m\u001b[0m\n\u001b[1;32m     86\u001b[0m         \u001b[0;31m# Start streaming with requested config\u001b[0m\u001b[0;34m\u001b[0m\u001b[0;34m\u001b[0m\u001b[0;34m\u001b[0m\u001b[0m\n\u001b[0;32m---> 87\u001b[0;31m         \u001b[0mself\u001b[0m\u001b[0;34m.\u001b[0m\u001b[0mpipe\u001b[0m\u001b[0;34m.\u001b[0m\u001b[0mstart\u001b[0m\u001b[0;34m(\u001b[0m\u001b[0mself\u001b[0m\u001b[0;34m.\u001b[0m\u001b[0mcfg\u001b[0m\u001b[0;34m)\u001b[0m\u001b[0;34m\u001b[0m\u001b[0;34m\u001b[0m\u001b[0m\n\u001b[0m\u001b[1;32m     88\u001b[0m         \u001b[0mself\u001b[0m\u001b[0;34m.\u001b[0m\u001b[0mgytts\u001b[0m\u001b[0;34m=\u001b[0m\u001b[0;36m0\u001b[0m\u001b[0;34m\u001b[0m\u001b[0;34m\u001b[0m\u001b[0m\n\u001b[1;32m     89\u001b[0m         \u001b[0mself\u001b[0m\u001b[0;34m.\u001b[0m\u001b[0mcnt\u001b[0m\u001b[0;34m=\u001b[0m\u001b[0;36m0\u001b[0m\u001b[0;34m\u001b[0m\u001b[0;34m\u001b[0m\u001b[0m\n",
      "\u001b[0;31mRuntimeError\u001b[0m: Couldn't resolve requests"
     ]
    }
   ],
   "source": [
    "track = tracking.Track()"
   ]
  },
  {
   "cell_type": "code",
   "execution_count": 72,
   "metadata": {},
   "outputs": [],
   "source": [
    "track.accl=[0,0,0]\n",
    "for i in range(100000):\n",
    "    track.RPY\n",
    "    track.trans"
   ]
  },
  {
   "cell_type": "code",
   "execution_count": 89,
   "metadata": {},
   "outputs": [
    {
     "name": "stdout",
     "output_type": "stream",
     "text": [
      "[0.8336802598068969, 1.227995589838798, -1.0204371806411965]\n",
      "[ 0.    -0.    -0.001]\n"
     ]
    }
   ],
   "source": [
    "print(track.RPY)\n",
    "print(track.trans) # 0.087 [-0.039 [-0.072  0.024  0.53 ] [ 0.    -0.001  0.001]"
   ]
  },
  {
   "cell_type": "code",
   "execution_count": null,
   "metadata": {},
   "outputs": [],
   "source": []
  },
  {
   "cell_type": "code",
   "execution_count": 82,
   "metadata": {},
   "outputs": [],
   "source": [
    "track.break_loop=False"
   ]
  },
  {
   "cell_type": "code",
   "execution_count": 90,
   "metadata": {},
   "outputs": [],
   "source": [
    "track.pipe.stop()"
   ]
  },
  {
   "cell_type": "code",
   "execution_count": null,
   "metadata": {},
   "outputs": [],
   "source": []
  }
 ],
 "metadata": {
  "interpreter": {
   "hash": "380030d1298d5a27518acca789ff38fe82bbf2e68b73263de6a6bf23efb7704c"
  },
  "kernelspec": {
   "display_name": "Python 3",
   "language": "python",
   "name": "python3"
  },
  "language_info": {
   "codemirror_mode": {
    "name": "ipython",
    "version": 3
   },
   "file_extension": ".py",
   "mimetype": "text/x-python",
   "name": "python",
   "nbconvert_exporter": "python",
   "pygments_lexer": "ipython3",
   "version": "3.6.9"
  }
 },
 "nbformat": 4,
 "nbformat_minor": 4
}
