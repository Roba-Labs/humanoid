{
 "cells": [
  {
   "cell_type": "code",
   "execution_count": null,
   "metadata": {},
   "outputs": [],
   "source": [
    "import copy\n",
    "import tinyik\n",
    "import numpy as np\n",
    "from motor_init import MOTOR_INIT\n",
    "from Inverk import Roba_Robotf\n",
    "from timeit import default_timer as timer"
   ]
  },
  {
   "cell_type": "code",
   "execution_count": 6,
   "metadata": {},
   "outputs": [
    {
     "name": "stdout",
     "output_type": "stream",
     "text": [
      "Succeeded to open the port\n",
      "Succeeded to change the baudrate\n",
      "{1: 275, 2: 325, 3: 180, 4: 345, 5: 150, 6: 130, 7: 135, 8: 101, 9: 200, 10: 90, 11: 150, 12: 200, 13: 225, 14: 175}\n"
     ]
    }
   ],
   "source": [
    "motor = MOTOR_INIT()\n",
    "robarobot = Roba_Robotf()"
   ]
  },
  {
   "cell_type": "code",
   "execution_count": null,
   "metadata": {},
   "outputs": [],
   "source": []
  },
  {
   "cell_type": "code",
   "execution_count": 16,
   "metadata": {},
   "outputs": [],
   "source": [
    "motor.portHandler.closePort()\n",
    "motor.fist_close()"
   ]
  },
  {
   "cell_type": "code",
   "execution_count": null,
   "metadata": {},
   "outputs": [],
   "source": []
  },
  {
   "cell_type": "code",
   "execution_count": 3,
   "metadata": {},
   "outputs": [
    {
     "name": "stdout",
     "output_type": "stream",
     "text": [
      "[1, 2, 3, 4, 5, 6, 7, 8, 9, 10, 11, 12, 13, 14]\n"
     ]
    }
   ],
   "source": [
    "ID = motor.LEFT_AHND_GET_ID()\n",
    "print(ID)"
   ]
  },
  {
   "cell_type": "code",
   "execution_count": 4,
   "metadata": {},
   "outputs": [
    {
     "name": "stdout",
     "output_type": "stream",
     "text": [
      "{1: 275, 2: 325, 3: 180, 4: 345, 5: 149, 6: 130, 7: 135, 8: 100, 9: 200, 10: 90, 11: 151, 12: 199, 13: 225, 14: 172}\n"
     ]
    }
   ],
   "source": [
    "motors_p = motor.LEFT_AHND_GET_POS(ID)\n",
    "print(motors_p)"
   ]
  },
  {
   "cell_type": "code",
   "execution_count": null,
   "metadata": {},
   "outputs": [],
   "source": []
  },
  {
   "cell_type": "code",
   "execution_count": 7,
   "metadata": {},
   "outputs": [],
   "source": [
    "motor.release_motors(ID)"
   ]
  },
  {
   "cell_type": "code",
   "execution_count": 6,
   "metadata": {},
   "outputs": [],
   "source": [
    "robarobot = Roba_Robotf()"
   ]
  },
  {
   "cell_type": "code",
   "execution_count": null,
   "metadata": {},
   "outputs": [],
   "source": []
  },
  {
   "cell_type": "code",
   "execution_count": 21,
   "metadata": {},
   "outputs": [
    {
     "name": "stdout",
     "output_type": "stream",
     "text": [
      "{1: 275, 2: 331, 7: 135, 8: 93, 13: 152, 14: 110}\n",
      "531.4993930001037\n",
      "...................\n"
     ]
    }
   ],
   "source": [
    "walkid=[1, 2,7, 8,13, 14]\n",
    "motors_p = motor.LEFT_AHND_GET_POS(walkid)\n",
    "print(motors_p)\n",
    "speed = {1: 200, 2: 200,7: 200, 8: 200,13:145,14:145}\n",
    "vlu = motor.LEFT_AHND_SET_POS(walkid,motors_p,speed)\n",
    "print(vlu)\n",
    "print(\"...................\")"
   ]
  },
  {
   "cell_type": "code",
   "execution_count": null,
   "metadata": {},
   "outputs": [],
   "source": []
  },
  {
   "cell_type": "code",
   "execution_count": 8,
   "metadata": {},
   "outputs": [],
   "source": [
    "init_postion = {13: 225, 14: 130}  # 13:225, 14: 175\n",
    "speed = {13:70,14:70}\n",
    "vlu = motor.LEFT_AHND_SET_POS([13,14],init_postion,speed)"
   ]
  },
  {
   "cell_type": "code",
   "execution_count": 6,
   "metadata": {},
   "outputs": [],
   "source": [
    "init_postion = {13: 225, 14: 175}  # 13:225, 14: 175\n",
    "speed = {13:70,14:70}\n",
    "vlu = motor.LEFT_AHND_SET_POS([13,14],init_postion,speed)\n"
   ]
  },
  {
   "cell_type": "code",
   "execution_count": 138,
   "metadata": {},
   "outputs": [
    {
     "name": "stdout",
     "output_type": "stream",
     "text": [
      "-15 50\n"
     ]
    }
   ],
   "source": [
    "print((225-240),(175-125)) "
   ]
  },
  {
   "cell_type": "code",
   "execution_count": 139,
   "metadata": {},
   "outputs": [
    {
     "data": {
      "text/plain": [
       "array([-0.02205637,  0.17810868,  0.12508791])"
      ]
     },
     "execution_count": 139,
     "metadata": {},
     "output_type": "execute_result"
    }
   ],
   "source": [
    "h1=[0,0.14252,0] \n",
    "h2=[0,0.11498,0] \n",
    "h3=[0,0,0.06465]  \n",
    "leg = tinyik.Actuator([h1,'y', 'x', h2,h3])\n",
    "leg.angles = np.deg2rad([-10,45])\n",
    "obj1=leg.ee\n",
    "obj1"
   ]
  },
  {
   "cell_type": "code",
   "execution_count": 140,
   "metadata": {},
   "outputs": [
    {
     "data": {
      "text/plain": [
       "array([-0.09580422, -0.10473403,  0.37056959])"
      ]
     },
     "execution_count": 140,
     "metadata": {},
     "output_type": "execute_result"
    }
   ],
   "source": [
    "objs=[-0.03, -0.02, 0.37+(0.38-0.37)]\n",
    "leg = tinyik.Actuator([obj1,'y', 'x',objs])\n",
    "leg.angles = np.deg2rad([-10,45])\n",
    "obj=leg.ee\n",
    "obj"
   ]
  },
  {
   "cell_type": "code",
   "execution_count": 141,
   "metadata": {},
   "outputs": [
    {
     "name": "stdout",
     "output_type": "stream",
     "text": [
      " left  [-65.5000727539758, 0.0, 54.92186674039539, -24.000000000000004]\n",
      " roba_org_m_pos  {1: 209.49992724602419, 2: 325.0, 3: 234.9218667403954, 4: 321.0, 5: 185.0781332596046, 6: 130}\n"
     ]
    }
   ],
   "source": [
    "# obj = [-0.18424844,  0.06012958,  0.2282651 ]\n",
    "if obj[0]>0:\n",
    "    \n",
    "    angl,nposes,rang= robarobot.get_joint_ang_Right_hand(obj)\n",
    "    print(\" right \",angl)\n",
    "    if rang:\n",
    "        angl.append(0)\n",
    "        angl.append(0)\n",
    "        angl[0]=-angl[0]\n",
    "        angl[3]=-angl[3]\n",
    "        roba_org_m_pos = motor.ReconstructAngle_right(angl)\n",
    "        print(\" roba_org_m_pos \",roba_org_m_pos)\n",
    "        \n",
    "if obj[0]<0:\n",
    "\n",
    "    angl,nposes,rang= robarobot.get_joint_ang_left_hand(obj)\n",
    "    print(\" left \",angl)\n",
    "    if rang:\n",
    "        angl.append(0)\n",
    "        angl.append(0)\n",
    "       \n",
    "        roba_org_m_pos = motor.ReconstructAngle_left(angl)\n",
    "        print(\" roba_org_m_pos \",roba_org_m_pos)\n"
   ]
  },
  {
   "cell_type": "code",
   "execution_count": null,
   "metadata": {},
   "outputs": [],
   "source": []
  },
  {
   "cell_type": "code",
   "execution_count": null,
   "metadata": {},
   "outputs": [],
   "source": []
  },
  {
   "cell_type": "code",
   "execution_count": 143,
   "metadata": {},
   "outputs": [],
   "source": [
    "init_postion = {1: 246.4, 2: 240}  # 13:225, 14: 175\n",
    "speed = {1:300, 2: 300 }\n",
    "vlu = motor.LEFT_AHND_SET_POS([1,2 ],init_postion,speed)"
   ]
  },
  {
   "cell_type": "code",
   "execution_count": 106,
   "metadata": {},
   "outputs": [],
   "source": [
    "init_postion = {5:240}  # 13:225, 14: 175\n",
    "speed = {5: 60}\n",
    "vlu = motor.LEFT_AHND_SET_POS([5],init_postion,speed)"
   ]
  },
  {
   "cell_type": "code",
   "execution_count": null,
   "metadata": {},
   "outputs": [],
   "source": []
  },
  {
   "cell_type": "code",
   "execution_count": 142,
   "metadata": {},
   "outputs": [
    {
     "name": "stdout",
     "output_type": "stream",
     "text": [
      "5001.885641999252\n",
      "...................\n"
     ]
    }
   ],
   "source": [
    "right_hand ={1: 209.49992724602419, 2: 325.0, 3: 234.9218667403954, 4: 321.0, 5: 185.0781332596046, 6: 130}\n",
    "speed = {1:200, 2: 200, 3: 4, 4:4, 5: 60, 6: 60}\n",
    "vlu = motor.LEFT_AHND_SET_POS(ID[:6],right_hand,speed)\n",
    "\n",
    "print(vlu)\n",
    "print(\"...................\")\n"
   ]
  },
  {
   "cell_type": "code",
   "execution_count": 54,
   "metadata": {},
   "outputs": [],
   "source": []
  },
  {
   "cell_type": "code",
   "execution_count": 144,
   "metadata": {},
   "outputs": [
    {
     "name": "stdout",
     "output_type": "stream",
     "text": [
      "4969.452606997947\n",
      "...................\n"
     ]
    }
   ],
   "source": [
    "right_hand =  {1: 275, 2: 325, 3: 180, 4: 345, 5: 150, 6: 130}\n",
    "speed = {1:200, 2: 200, 3: 4, 4:4, 5: 60, 6: 60}\n",
    "vlu = motor.LEFT_AHND_SET_POS(ID[:6],right_hand,speed)\n",
    "\n",
    "print(vlu)\n",
    "print(\"...................\")"
   ]
  },
  {
   "cell_type": "code",
   "execution_count": 109,
   "metadata": {},
   "outputs": [],
   "source": [
    "init_postion = {7: 230 ,8:170}  # 13:225, 14: 175\n",
    "speed = {7:300,8:300 }\n",
    "vlu = motor.LEFT_AHND_SET_POS([7,8],init_postion,speed)\n"
   ]
  },
  {
   "cell_type": "code",
   "execution_count": 18,
   "metadata": {},
   "outputs": [
    {
     "data": {
      "text/plain": [
       "4101.140328999463"
      ]
     },
     "execution_count": 18,
     "metadata": {},
     "output_type": "execute_result"
    }
   ],
   "source": [
    "\n",
    "left_hand ={7: 249.7585821510254, 8: 84.26808804299401, 9: 172.62728237044425, 10: 77.0, 11: 87.37271762955575, 12: 200}\n",
    "speed = {7:200, 8: 200, 9: 10, 10:4, 11: 60, 12: 60}\n",
    "motor.LEFT_AHND_SET_POS(ID[6:12],left_hand,speed)\n",
    "# {7: 225, 8: 100, 9: 112.0, 10: 120, 11: 150, 12: 200}"
   ]
  },
  {
   "cell_type": "code",
   "execution_count": 145,
   "metadata": {},
   "outputs": [],
   "source": [
    " motor.release_motors(ID[7:12])"
   ]
  },
  {
   "cell_type": "code",
   "execution_count": 112,
   "metadata": {},
   "outputs": [
    {
     "data": {
      "text/plain": [
       "570.9279330003483"
      ]
     },
     "execution_count": 112,
     "metadata": {},
     "output_type": "execute_result"
    }
   ],
   "source": [
    "\n",
    "left_hand = {7: 135, 8: 100, 9: 200, 10: 90, 11: 150, 12: 200, 13: 225}\n",
    "speed = {7:200, 8: 200, 9: 10, 10:4, 11: 60, 12: 60}\n",
    "motor.LEFT_AHND_SET_POS(ID[6:12],left_hand,speed)"
   ]
  },
  {
   "cell_type": "code",
   "execution_count": null,
   "metadata": {},
   "outputs": [],
   "source": [
    " motor.release_motors(ID[:6])"
   ]
  },
  {
   "cell_type": "code",
   "execution_count": 14,
   "metadata": {
    "tags": []
   },
   "outputs": [
    {
     "name": "stdout",
     "output_type": "stream",
     "text": [
      "514.528411997162\n",
      "...................\n"
     ]
    }
   ],
   "source": [
    "init_postion = {1: 275, 2: 325, 3: 180, 4: 345, 5: 150, 6: 130, 7: 135, 8: 100, 9: 200, 10: 90, 11: 150, 12: 200, 13: 225, 14: 175}\n",
    "\n",
    "speed = {1: 200, 2: 200, 3: 12, 4:12, 5: 145, 6: 60,7: 200, 8: 200, 9: 12, 10:5, 11: 145, 12: 145,13: 145,14: 145}\n",
    "vlu = motor.LEFT_AHND_SET_POS(ID,init_postion,speed)\n",
    "print(vlu)\n",
    "print(\"...................\")\n",
    "# 329.84 \n",
    "# {1: 275, 2: 325, 3: 180, 4: 345, 5: 150, 6: 130, 7: 135, 8: 100, 9: 300, 10: 90, 11: 150, 12: 200, 13: 225, 14: 165}"
   ]
  },
  {
   "cell_type": "code",
   "execution_count": null,
   "metadata": {},
   "outputs": [],
   "source": []
  },
  {
   "cell_type": "code",
   "execution_count": null,
   "metadata": {},
   "outputs": [],
   "source": []
  },
  {
   "cell_type": "code",
   "execution_count": null,
   "metadata": {},
   "outputs": [],
   "source": []
  },
  {
   "cell_type": "code",
   "execution_count": 12,
   "metadata": {},
   "outputs": [
    {
     "name": "stdout",
     "output_type": "stream",
     "text": [
      "1045.8096399997885\n"
     ]
    }
   ],
   "source": [
    "init_postion = {13:250, 14: 140}  # 13:225, 14: 175\n",
    "speed = {13:70,14:70}\n",
    "vlu = motor.LEFT_AHND_SET_POS([13,14],init_postion,speed)\n",
    "print((225-250),(175-140)) "
   ]
  },
  {
   "cell_type": "code",
   "execution_count": 13,
   "metadata": {},
   "outputs": [
    {
     "name": "stdout",
     "output_type": "stream",
     "text": [
      "-25 35\n"
     ]
    }
   ],
   "source": []
  },
  {
   "cell_type": "code",
   "execution_count": 37,
   "metadata": {},
   "outputs": [
    {
     "name": "stdout",
     "output_type": "stream",
     "text": [
      "1.664727000388666\n"
     ]
    }
   ],
   "source": [
    "init_postion = {13:225 }  # 13:225, 14: 175\n",
    "speed = {13:70 }\n",
    "vlu = motor.LEFT_AHND_SET_POS([13],init_postion,speed)\n",
    "print(vlu)"
   ]
  },
  {
   "cell_type": "code",
   "execution_count": null,
   "metadata": {},
   "outputs": [],
   "source": [
    "import time\n",
    "for i in range(12):\n",
    "    init_postion = {13:225, 14: 175}  # 13:225, 14: 175\n",
    "    speed = {13:70,14:70}\n",
    "    vlu = motor.LEFT_AHND_SET_POS([14],init_postion,speed)\n",
    "    #print(vlu)\n",
    "    time.sleep(1)\n",
    "    init_postion = {13:260, 14: 135}  # 13:225, 14: 175\n",
    "    speed = {13:70,14:70}\n",
    "    vlu = motor.LEFT_AHND_SET_POS([13,14],init_postion,speed)\n",
    "    #print(vlu)"
   ]
  },
  {
   "cell_type": "code",
   "execution_count": null,
   "metadata": {},
   "outputs": [],
   "source": []
  },
  {
   "cell_type": "code",
   "execution_count": 25,
   "metadata": {},
   "outputs": [
    {
     "name": "stdout",
     "output_type": "stream",
     "text": [
      "1.4767729999221046\n"
     ]
    }
   ],
   "source": [
    "init_postion = { 14: 175}  # 13:225, 14: 175\n",
    "speed = {14:70}\n",
    "vlu = motor.LEFT_AHND_SET_POS([14],init_postion,speed)\n",
    "print(vlu)"
   ]
  },
  {
   "cell_type": "code",
   "execution_count": 25,
   "metadata": {},
   "outputs": [
    {
     "name": "stdout",
     "output_type": "stream",
     "text": [
      "1832.87981400008\n"
     ]
    }
   ],
   "source": [
    "init_postion = { 14: 130}  # 13:225, 14: 175\n",
    "speed = {14:70}\n",
    "vlu = motor.LEFT_AHND_SET_POS([ 14],init_postion,speed)\n",
    "print(vlu)"
   ]
  },
  {
   "cell_type": "code",
   "execution_count": 20,
   "metadata": {},
   "outputs": [
    {
     "name": "stdout",
     "output_type": "stream",
     "text": [
      "-35 45\n"
     ]
    }
   ],
   "source": []
  },
  {
   "cell_type": "code",
   "execution_count": null,
   "metadata": {},
   "outputs": [],
   "source": [
    "{1: 275, 2: 325, 3: 180, 4: 345, 5: 150, 6: 130}"
   ]
  },
  {
   "cell_type": "code",
   "execution_count": 65,
   "metadata": {},
   "outputs": [
    {
     "name": "stdout",
     "output_type": "stream",
     "text": [
      "2995.598093000808\n",
      "...................\n"
     ]
    }
   ],
   "source": [
    "right_hand ={1: 275, 2: 325, 3: 180, 4: 345, 5: 150, 6: 130}\n",
    "speed = {1:200, 2: 200, 3: 4, 4:4, 5: 60, 6: 60}\n",
    "vlu = motor.LEFT_AHND_SET_POS(ID[:6],right_hand,speed)\n",
    "print(vlu)\n",
    "print(\"...................\")"
   ]
  },
  {
   "cell_type": "code",
   "execution_count": 64,
   "metadata": {},
   "outputs": [
    {
     "name": "stdout",
     "output_type": "stream",
     "text": [
      "2980.670809998628\n",
      "...................\n"
     ]
    }
   ],
   "source": [
    "right_hand ={1: 225, 2: 275, 3: 130, 4: 295, 5: 100, 6: 70}\n",
    "speed = {1:200, 2: 200, 3: 4, 4:4, 5: 60, 6: 60}\n",
    "vlu = motor.LEFT_AHND_SET_POS(ID[:6],right_hand,speed)\n",
    "print(vlu)\n",
    "print(\"...................\")"
   ]
  },
  {
   "cell_type": "code",
   "execution_count": null,
   "metadata": {},
   "outputs": [],
   "source": []
  },
  {
   "cell_type": "code",
   "execution_count": 24,
   "metadata": {},
   "outputs": [
    {
     "data": {
      "text/plain": [
       "9.506917000180692"
      ]
     },
     "execution_count": 24,
     "metadata": {},
     "output_type": "execute_result"
    }
   ],
   "source": [
    "left_hand ={7: 135, 8: 100, 9: 200, 10:90, 11: 150, 12: 200}\n",
    "speed = {7:200, 8: 200, 9: 10, 10:4, 11: 60, 12: 60}\n",
    "motor.LEFT_AHND_SET_POS(ID[6:12],left_hand,speed)\n",
    "# {7: 225, 8: 100, 9: 112.0, 10: 120, 11: 150, 12: 200}"
   ]
  },
  {
   "cell_type": "code",
   "execution_count": 18,
   "metadata": {},
   "outputs": [
    {
     "data": {
      "text/plain": [
       "10.640222000802169"
      ]
     },
     "execution_count": 18,
     "metadata": {},
     "output_type": "execute_result"
    }
   ],
   "source": [
    "left_hand ={7: 135, 8: 100, 9: 200, 10: 90, 11: 150, 12: 200}\n",
    "speed = {7:200, 8: 200, 9: 10, 10:4, 11: 60, 12: 60}\n",
    "motor.LEFT_AHND_SET_POS(ID[6:12],left_hand,speed)\n",
    "# {7: 225, 8: 100, 9: 112.0, 10: 120, 11: 150, 12: 200}"
   ]
  },
  {
   "cell_type": "code",
   "execution_count": null,
   "metadata": {},
   "outputs": [],
   "source": []
  },
  {
   "cell_type": "code",
   "execution_count": null,
   "metadata": {},
   "outputs": [],
   "source": []
  },
  {
   "cell_type": "code",
   "execution_count": 9,
   "metadata": {},
   "outputs": [],
   "source": [
    "motor.release_motors(ID)\n",
    "motor.portHandler.closePort()\n",
    "motor.fist_close()"
   ]
  },
  {
   "cell_type": "code",
   "execution_count": null,
   "metadata": {},
   "outputs": [],
   "source": []
  },
  {
   "cell_type": "code",
   "execution_count": null,
   "metadata": {},
   "outputs": [],
   "source": []
  },
  {
   "cell_type": "code",
   "execution_count": 215,
   "metadata": {},
   "outputs": [
    {
     "name": "stdout",
     "output_type": "stream",
     "text": [
      "[-0.29176868, 0.05745009, 0.22747524]\n",
      "0 80 1 1 80   counting .........\n",
      "86  iter\n",
      "[76.5103906740096, -105.59944302715972, -87.0, -80.00000000000003, 0, 0]\n",
      "{1: 171.5103906740096, 2: 250.59944302715974, 3: 267.0, 4: 265.0, 5: 150, 6: 130}\n"
     ]
    }
   ],
   "source": [
    "robarobot = Roba_Robotf()\n",
    "obj1 =[-0.29176868,  0.05745009,  0.22747524]\n",
    "obj=copy.deepcopy(obj1)\n",
    "\n",
    "if obj[0]>0:\n",
    "    obj[0]=-obj[0]\n",
    "print(obj)\n",
    "newcon,join1ang,ext = robarobot.robot_Invk(obj)\n",
    "print(join1ang)\n",
    "if obj1[1]>0:\n",
    "    join1ang[0] = -180+join1ang[0]\n",
    "    join1ang[1] = -180-join1ang[1]\n",
    "    join1ang[2] = -join1ang[2] \n",
    "    \n",
    "if obj1[0]>0:\n",
    "    join1ang[0]=-join1ang[0]\n",
    "    join1ang[1]=-join1ang[1]\n",
    "    join1ang[2]=-join1ang[2]\n",
    "    join1ang[3]=-join1ang[3]\n",
    "    print(motor.ReconstructAngle_left(join1ang))\n",
    "else:\n",
    "    print(motor.ReconstructAngle_right(join1ang))"
   ]
  },
  {
   "cell_type": "code",
   "execution_count": null,
   "metadata": {},
   "outputs": [],
   "source": [
    " \n",
    "obj =[-0.18424844,  0.06012958,  0.2282651 ]\n",
    " \n",
    "newcon,join1ang,ext = robarobot.robot_Invk(obj)\n",
    " \n",
    "print(join1ang)\n",
    "join1ang[0]=-join1ang[0]\n",
    "join1ang[1]=-join1ang[1]\n",
    "join1ang[2]=-join1ang[2]\n",
    "join1ang[3]=-join1ang[3]\n",
    "print(motor.ReconstructAngle_left(join1ang))"
   ]
  },
  {
   "cell_type": "code",
   "execution_count": null,
   "metadata": {},
   "outputs": [],
   "source": [
    "\n",
    "rang= {7: 225, 8: 100, 9: 112.0, 10: 120, 11: 150, 12: 200}\n",
    "orang=[]\n",
    "for i in range(7,13):\n",
    "    cang=0\n",
    "    if motor.joints_limit[i][0]>=rang[i]:\n",
    "       cang=motor.joints_limit[i][0]-rang[i]\n",
    "    else:\n",
    "       cang=rang[i] - motor.joints_limit[i][0]\n",
    "    orang.append(cang)\n",
    "\n",
    "print(orang)\n",
    "robarobot.get_global_pos(orang)  "
   ]
  },
  {
   "cell_type": "code",
   "execution_count": null,
   "metadata": {},
   "outputs": [],
   "source": []
  },
  {
   "cell_type": "code",
   "execution_count": 29,
   "metadata": {},
   "outputs": [],
   "source": [
    "import serial.tools.list_ports"
   ]
  },
  {
   "cell_type": "code",
   "execution_count": 30,
   "metadata": {},
   "outputs": [
    {
     "name": "stdout",
     "output_type": "stream",
     "text": [
      "/dev/ttyACM0 ttyACM0 USB VID:PID=2341:0042 SER=8503631333035150F032 LOCATION=1-2.3.1:1.0\n",
      "/dev/ttyUSB0 USB Serial USB VID:PID=1A86:7523 LOCATION=1-2.3.3\n",
      "/dev/ttyUSB1 USB Serial USB VID:PID=1A86:7523 LOCATION=1-2.3.4\n"
     ]
    }
   ],
   "source": [
    "ports = serial.tools.list_ports.comports()\n",
    "for port, desc, hwid in sorted(ports):\n",
    "    print(port, desc, hwid)\n",
    "            # if \"USB-SERIAL CH340 (\" +str(port) +\")\" ==desc:\n",
    "            #    Roabport=str(port)"
   ]
  },
  {
   "cell_type": "code",
   "execution_count": 3,
   "metadata": {},
   "outputs": [
    {
     "name": "stdout",
     "output_type": "stream",
     "text": [
      "Serial<id=0x7f98535240, open=True>(port='/dev/ttyTHS1', baudrate=9600, bytesize=8, parity='N', stopbits=1, timeout=None, xonxoff=False, rtscts=False, dsrdtr=False)\n"
     ]
    }
   ],
   "source": [
    "import serial\n",
    "from time import sleep\n",
    "\n",
    "baud = 9600\n",
    "ser = serial.Serial('/dev/ttyTHS1', baud)\n",
    "\n",
    "print(ser)\n"
   ]
  },
  {
   "cell_type": "code",
   "execution_count": 7,
   "metadata": {},
   "outputs": [
    {
     "ename": "TypeError",
     "evalue": "unicode strings are not supported, please encode to bytes: '1'",
     "output_type": "error",
     "traceback": [
      "\u001b[0;31m---------------------------------------------------------------------------\u001b[0m",
      "\u001b[0;31mTypeError\u001b[0m                                 Traceback (most recent call last)",
      "\u001b[0;32m<ipython-input-7-7c2d4bda2e6f>\u001b[0m in \u001b[0;36m<module>\u001b[0;34m\u001b[0m\n\u001b[1;32m      1\u001b[0m \u001b[0;32mtry\u001b[0m\u001b[0;34m:\u001b[0m\u001b[0;34m\u001b[0m\u001b[0;34m\u001b[0m\u001b[0m\n\u001b[0;32m----> 2\u001b[0;31m    \u001b[0mser\u001b[0m\u001b[0;34m.\u001b[0m\u001b[0mwrite\u001b[0m\u001b[0;34m(\u001b[0m\u001b[0;34m'1'\u001b[0m\u001b[0;34m)\u001b[0m\u001b[0;34m\u001b[0m\u001b[0;34m\u001b[0m\u001b[0m\n\u001b[0m\u001b[1;32m      3\u001b[0m \u001b[0;32mexcept\u001b[0m \u001b[0mKeyboardInterrupt\u001b[0m\u001b[0;34m:\u001b[0m\u001b[0;34m\u001b[0m\u001b[0;34m\u001b[0m\u001b[0m\n\u001b[1;32m      4\u001b[0m     \u001b[0mprint\u001b[0m\u001b[0;34m(\u001b[0m\u001b[0;34m\"closing...\"\u001b[0m\u001b[0;34m)\u001b[0m\u001b[0;34m\u001b[0m\u001b[0;34m\u001b[0m\u001b[0m\n",
      "\u001b[0;32m/usr/local/lib/python3.6/dist-packages/serial/serialposix.py\u001b[0m in \u001b[0;36mwrite\u001b[0;34m(self, data)\u001b[0m\n\u001b[1;32m    614\u001b[0m         \u001b[0;32mif\u001b[0m \u001b[0;32mnot\u001b[0m \u001b[0mself\u001b[0m\u001b[0;34m.\u001b[0m\u001b[0mis_open\u001b[0m\u001b[0;34m:\u001b[0m\u001b[0;34m\u001b[0m\u001b[0;34m\u001b[0m\u001b[0m\n\u001b[1;32m    615\u001b[0m             \u001b[0;32mraise\u001b[0m \u001b[0mPortNotOpenError\u001b[0m\u001b[0;34m(\u001b[0m\u001b[0;34m)\u001b[0m\u001b[0;34m\u001b[0m\u001b[0;34m\u001b[0m\u001b[0m\n\u001b[0;32m--> 616\u001b[0;31m         \u001b[0md\u001b[0m \u001b[0;34m=\u001b[0m \u001b[0mto_bytes\u001b[0m\u001b[0;34m(\u001b[0m\u001b[0mdata\u001b[0m\u001b[0;34m)\u001b[0m\u001b[0;34m\u001b[0m\u001b[0;34m\u001b[0m\u001b[0m\n\u001b[0m\u001b[1;32m    617\u001b[0m         \u001b[0mtx_len\u001b[0m \u001b[0;34m=\u001b[0m \u001b[0mlength\u001b[0m \u001b[0;34m=\u001b[0m \u001b[0mlen\u001b[0m\u001b[0;34m(\u001b[0m\u001b[0md\u001b[0m\u001b[0;34m)\u001b[0m\u001b[0;34m\u001b[0m\u001b[0;34m\u001b[0m\u001b[0m\n\u001b[1;32m    618\u001b[0m         \u001b[0mtimeout\u001b[0m \u001b[0;34m=\u001b[0m \u001b[0mTimeout\u001b[0m\u001b[0;34m(\u001b[0m\u001b[0mself\u001b[0m\u001b[0;34m.\u001b[0m\u001b[0m_write_timeout\u001b[0m\u001b[0;34m)\u001b[0m\u001b[0;34m\u001b[0m\u001b[0;34m\u001b[0m\u001b[0m\n",
      "\u001b[0;32m/usr/local/lib/python3.6/dist-packages/serial/serialutil.py\u001b[0m in \u001b[0;36mto_bytes\u001b[0;34m(seq)\u001b[0m\n\u001b[1;32m     63\u001b[0m         \u001b[0;32mreturn\u001b[0m \u001b[0mseq\u001b[0m\u001b[0;34m.\u001b[0m\u001b[0mtobytes\u001b[0m\u001b[0;34m(\u001b[0m\u001b[0;34m)\u001b[0m\u001b[0;34m\u001b[0m\u001b[0;34m\u001b[0m\u001b[0m\n\u001b[1;32m     64\u001b[0m     \u001b[0;32melif\u001b[0m \u001b[0misinstance\u001b[0m\u001b[0;34m(\u001b[0m\u001b[0mseq\u001b[0m\u001b[0;34m,\u001b[0m \u001b[0municode\u001b[0m\u001b[0;34m)\u001b[0m\u001b[0;34m:\u001b[0m\u001b[0;34m\u001b[0m\u001b[0;34m\u001b[0m\u001b[0m\n\u001b[0;32m---> 65\u001b[0;31m         \u001b[0;32mraise\u001b[0m \u001b[0mTypeError\u001b[0m\u001b[0;34m(\u001b[0m\u001b[0;34m'unicode strings are not supported, please encode to bytes: {!r}'\u001b[0m\u001b[0;34m.\u001b[0m\u001b[0mformat\u001b[0m\u001b[0;34m(\u001b[0m\u001b[0mseq\u001b[0m\u001b[0;34m)\u001b[0m\u001b[0;34m)\u001b[0m\u001b[0;34m\u001b[0m\u001b[0;34m\u001b[0m\u001b[0m\n\u001b[0m\u001b[1;32m     66\u001b[0m     \u001b[0;32melse\u001b[0m\u001b[0;34m:\u001b[0m\u001b[0;34m\u001b[0m\u001b[0;34m\u001b[0m\u001b[0m\n\u001b[1;32m     67\u001b[0m         \u001b[0;31m# handle list of integers and bytes (one or more items) for Python 2 and 3\u001b[0m\u001b[0;34m\u001b[0m\u001b[0;34m\u001b[0m\u001b[0;34m\u001b[0m\u001b[0m\n",
      "\u001b[0;31mTypeError\u001b[0m: unicode strings are not supported, please encode to bytes: '1'"
     ]
    }
   ],
   "source": [
    "try:\n",
    "   ser.write('1')\n",
    "except KeyboardInterrupt:\n",
    "    print(\"closing...\")"
   ]
  },
  {
   "cell_type": "code",
   "execution_count": 1,
   "metadata": {},
   "outputs": [],
   "source": [
    "import time\n",
    "import serial\n",
    "from IPython.display import clear_output\n",
    "class legs:\n",
    "      \n",
    "        def __init__(self,com):\n",
    "            self.roba_connection = serial.Serial()\n",
    "            self.roba_connection.baudrate = 115200\n",
    "            self.roba_connection.port = com\n",
    "            self.roba_connection.timeout = 0.5\n",
    "            self.roba_connection.open()\n",
    "            #self.roba_connection.timeout(2.0)\n",
    "            self.lastdata=''\n",
    "            time.sleep(1)\n",
    "        # send data to ardiuno\n",
    "        def send_data(self,data):\n",
    "            if (self.roba_connection.is_open):\n",
    "                self.lastdata=\"\"\n",
    "                self.roba_connection.write(data.encode())\n",
    "                while True:\n",
    "                    v = self.roba_connection.readline().decode()\n",
    "                    self.lastdata=self.lastdata+v\n",
    "                    vs =set(v.split())\n",
    "                    if (vs & {'off'} ) == {'off'}:\n",
    "                        break\n",
    "        def send_data_only(self,data):\n",
    "            if (self.roba_connection.is_open):\n",
    "                #self.lastdata=\"\"\n",
    "                self.roba_connection.write(data.encode())\n",
    "                 \n",
    "        # read data from arduino\n",
    "        def read_all(self):\n",
    "             if (self.roba_connection.is_open):\n",
    "                 return self.roba_connection.read_all().decode()\n",
    "                 \n",
    "        def close_S(self):\n",
    "            self.roba_connection.close()"
   ]
  },
  {
   "cell_type": "code",
   "execution_count": 3,
   "metadata": {},
   "outputs": [],
   "source": [
    "leg = legs('/dev/ttyTHS1')"
   ]
  },
  {
   "cell_type": "code",
   "execution_count": 32,
   "metadata": {},
   "outputs": [
    {
     "data": {
      "text/plain": [
       "''"
      ]
     },
     "execution_count": 32,
     "metadata": {},
     "output_type": "execute_result"
    }
   ],
   "source": [
    "leg.send_data_only(\"a\")  \n",
    "leg.read_all()"
   ]
  },
  {
   "cell_type": "code",
   "execution_count": 4,
   "metadata": {},
   "outputs": [],
   "source": [
    "leg.close_S()"
   ]
  },
  {
   "cell_type": "code",
   "execution_count": null,
   "metadata": {},
   "outputs": [],
   "source": []
  },
  {
   "cell_type": "code",
   "execution_count": null,
   "metadata": {},
   "outputs": [],
   "source": []
  }
 ],
 "metadata": {
  "interpreter": {
   "hash": "380030d1298d5a27518acca789ff38fe82bbf2e68b73263de6a6bf23efb7704c"
  },
  "kernelspec": {
   "display_name": "Python 3",
   "language": "python",
   "name": "python3"
  },
  "language_info": {
   "codemirror_mode": {
    "name": "ipython",
    "version": 3
   },
   "file_extension": ".py",
   "mimetype": "text/x-python",
   "name": "python",
   "nbconvert_exporter": "python",
   "pygments_lexer": "ipython3",
   "version": "3.6.9"
  }
 },
 "nbformat": 4,
 "nbformat_minor": 4
}
