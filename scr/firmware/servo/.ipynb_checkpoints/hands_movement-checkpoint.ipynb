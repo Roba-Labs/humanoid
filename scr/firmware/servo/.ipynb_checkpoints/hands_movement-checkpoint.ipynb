{
 "cells": [
  {
   "cell_type": "code",
   "execution_count": 1,
   "id": "9b980ff4-f973-4f22-b363-538418dc5744",
   "metadata": {},
   "outputs": [],
   "source": [
    "import sys\n",
    "sys.path.insert(1, '/home/roba/Robot_roba/scr/Robamain')  \n",
    "sys.path.insert(1, '/home/roba/Robot_roba/scr/Roba_conversion_ai')  \n",
    "sys.path.insert(1, '/home/roba/Robot_roba/scr/Roba_vision')  \n",
    "sys.path.insert(1, '/home/roba/Robot_roba/scr/firmware/servo')  \n",
    "\n",
    "import copy\n",
    "import tinyik\n",
    "import numpy as np\n",
    "from motor_init import MOTOR_INIT\n",
    "from Inverk import Roba_Robotf\n",
    "from timeit import default_timer as timer\n",
    "from wristfingers import Fingers\n",
    "from roba_record import Roba_recoddata\n",
    "import Speak2rpi\n"
   ]
  },
  {
   "cell_type": "code",
   "execution_count": 2,
   "id": "477b2cfc-03d1-4e0c-be2c-6cbc6a47d617",
   "metadata": {},
   "outputs": [],
   "source": [
    "finger = Fingers()"
   ]
  },
  {
   "cell_type": "code",
   "execution_count": 15,
   "id": "e6747174-aea5-4e87-a57d-418a7fd3a913",
   "metadata": {},
   "outputs": [],
   "source": [
    "finger.RF_close()"
   ]
  },
  {
   "cell_type": "code",
   "execution_count": 16,
   "id": "57c00296-8005-4bde-9893-29fb9d17a07a",
   "metadata": {},
   "outputs": [],
   "source": [
    "finger.RF_open()"
   ]
  },
  {
   "cell_type": "code",
   "execution_count": 6,
   "id": "faa8f5d1-7b59-4e19-8dc3-478bcf5515b5",
   "metadata": {},
   "outputs": [],
   "source": [
    "finger.LF_close()"
   ]
  },
  {
   "cell_type": "code",
   "execution_count": 14,
   "id": "93e8ae50-0f80-4752-8b94-aa0757dcaa3c",
   "metadata": {},
   "outputs": [],
   "source": [
    "finger.LF_open()"
   ]
  },
  {
   "cell_type": "code",
   "execution_count": 17,
   "id": "d8085d73-3d34-40a1-a552-1bb979cad00c",
   "metadata": {},
   "outputs": [],
   "source": [
    "finger.Mpower_off()"
   ]
  },
  {
   "cell_type": "code",
   "execution_count": 3,
   "id": "e458be73-81cd-483c-ad37-d7649210bd41",
   "metadata": {},
   "outputs": [
    {
     "name": "stdout",
     "output_type": "stream",
     "text": [
      "Succeeded to open the port\n",
      "Succeeded to change the baudrate\n",
      "{1: 275, 2: 325, 3: 180, 4: 345, 5: 150, 6: 130, 7: 135, 8: 101, 9: 200, 10: 90, 11: 150, 12: 200, 13: 225, 14: 175}\n"
     ]
    }
   ],
   "source": [
    "motor = MOTOR_INIT()\n",
    "robarobot = Roba_Robotf()\n",
    "# spk = Speak2rpi.speak(\"192.168.0.120\")"
   ]
  },
  {
   "cell_type": "code",
   "execution_count": 1,
   "id": "90009fa3-76ed-4985-a115-dd7dbc60eaa0",
   "metadata": {},
   "outputs": [],
   "source": [
    "import time\n",
    "import serial\n",
    "from IPython.display import clear_output\n",
    "import os\n",
    "#sudo \n",
    "p = os.system('echo %s|sudo -S %s' % (\"5336\", \"chmod 666 /dev/ttyTHS1\"))\n",
    "class legs:\n",
    "      \n",
    "        def __init__(self,com):\n",
    "            self.roba_connection = serial.Serial()\n",
    "            self.roba_connection.baudrate = 115200\n",
    "            self.roba_connection.port = com\n",
    "            self.roba_connection.timeout = 0.5\n",
    "            self.roba_connection.open()\n",
    "            #self.roba_connection.timeout(2.0)\n",
    "            self.lastdata=''\n",
    "            time.sleep(1)\n",
    "        # send data to ardiuno\n",
    "        def send_data(self,data):\n",
    "            if (self.roba_connection.is_open):\n",
    "                self.lastdata=\"\"\n",
    "                self.roba_connection.write(data.encode())\n",
    "                while True:\n",
    "                    v = self.roba_connection.readline().decode()\n",
    "                    self.lastdata=self.lastdata+v\n",
    "                    vs =set(v.split())\n",
    "                    if (vs & {'off'} ) == {'off'}:\n",
    "                        break\n",
    "        def send_data_only(self,data):\n",
    "            if (self.roba_connection.is_open):\n",
    "                #self.lastdata=\"\"\n",
    "                self.roba_connection.write(data.encode())\n",
    "                 \n",
    "        # read data from arduino\n",
    "        def read_all(self):\n",
    "             if (self.roba_connection.is_open):\n",
    "                 return self.roba_connection.read_all().decode()\n",
    "                 \n",
    "        def close_S(self):\n",
    "            self.roba_connection.close()"
   ]
  },
  {
   "cell_type": "code",
   "execution_count": 5,
   "id": "716376f4-2fb2-4e5a-8cc7-1dd08d343dea",
   "metadata": {},
   "outputs": [],
   "source": [
    "leg = legs('/dev/ttyTHS1')"
   ]
  },
  {
   "cell_type": "code",
   "execution_count": null,
   "id": "ff726b9b-829a-4d0c-b4dc-241e5bdc54a2",
   "metadata": {},
   "outputs": [],
   "source": []
  },
  {
   "cell_type": "code",
   "execution_count": 15,
   "id": "ec4651e2-7654-467a-993e-4a4fba5f9e1a",
   "metadata": {},
   "outputs": [],
   "source": [
    "leg.send_data_only(\"a\")  \n",
    "time.sleep(0.03)\n",
    "leg.send_data_only(\"a\")  "
   ]
  },
  {
   "cell_type": "code",
   "execution_count": 11,
   "id": "7272cd05-bc01-4542-b221-656db8a10004",
   "metadata": {},
   "outputs": [],
   "source": [
    "#sudo chmod 666 /dev/ttyTHS1"
   ]
  },
  {
   "cell_type": "code",
   "execution_count": 464,
   "id": "55eb5bc6-f18f-493b-b3ae-3eb0e17b2e50",
   "metadata": {},
   "outputs": [
    {
     "name": "stdout",
     "output_type": "stream",
     "text": [
      "thret start\n"
     ]
    }
   ],
   "source": [
    "spk = Speak2rpi.speak(\"192.168.0.120\")"
   ]
  },
  {
   "cell_type": "code",
   "execution_count": 7,
   "id": "bacf966d-f2f6-44c7-bd58-fb2d0175c8c9",
   "metadata": {},
   "outputs": [
    {
     "name": "stdout",
     "output_type": "stream",
     "text": [
      "[1, 2, 3, 4, 5, 6, 7, 8, 9, 10, 11, 12, 13, 14]\n"
     ]
    }
   ],
   "source": [
    "ID = motor.LEFT_AHND_GET_ID()\n",
    "print(ID)"
   ]
  },
  {
   "cell_type": "code",
   "execution_count": 8,
   "id": "f4f49ab6-24f2-43d1-83a9-6b3eb15c5045",
   "metadata": {},
   "outputs": [
    {
     "name": "stdout",
     "output_type": "stream",
     "text": [
      "{1: 0, 2: 0, 3: 0, 4: 0, 5: 0, 6: 0, 7: 0, 8: 0, 9: 0, 10: 0, 11: 0, 12: 0, 13: 0, 14: 0}\n"
     ]
    }
   ],
   "source": [
    "motors_t = motor.GET_time(ID)\n",
    "print(motors_t)"
   ]
  },
  {
   "cell_type": "code",
   "execution_count": 9,
   "id": "7fcb1eef-8067-439c-8262-23d86528597c",
   "metadata": {},
   "outputs": [
    {
     "name": "stdout",
     "output_type": "stream",
     "text": [
      "{1: 275, 2: 325, 3: 180, 4: 345, 5: 151, 6: 130, 7: 135, 8: 101, 9: 200, 10: 90, 11: 151, 12: 199, 13: 226, 14: 172}\n"
     ]
    }
   ],
   "source": [
    "motors_p = motor.LEFT_AHND_GET_POS(ID)\n",
    "print(motors_p)"
   ]
  },
  {
   "cell_type": "code",
   "execution_count": 16,
   "id": "562b6d1a-1515-4fff-983d-96d02e0e19f7",
   "metadata": {},
   "outputs": [],
   "source": [
    "motor.release_motors(ID[12:14])"
   ]
  },
  {
   "cell_type": "code",
   "execution_count": 19,
   "id": "12245d0b-70d8-4c93-893a-b8a6a903d01f",
   "metadata": {},
   "outputs": [],
   "source": [
    "motor.release_motors(ID)"
   ]
  },
  {
   "cell_type": "code",
   "execution_count": 32,
   "id": "6d05cc0c-4cba-4abf-bdd5-9671f3957d4a",
   "metadata": {},
   "outputs": [],
   "source": [
    "init_postion = {13: 226, 14: 130}  # 13:225, 14: 175\n",
    "speed = {13:70,14:70}\n",
    "vlu = motor.LEFT_AHND_SET_POS([13,14],init_postion,speed)"
   ]
  },
  {
   "cell_type": "code",
   "execution_count": 30,
   "id": "bc0a68cd-8b90-427c-aa7f-6d4c4e1a56d7",
   "metadata": {},
   "outputs": [],
   "source": [
    "init_postion = {13: 200, 14: 130}  # 13:225, 14: 175\n",
    "speed = {13:70,14:70}\n",
    "vlu = motor.LEFT_AHND_SET_POS([13,14],init_postion,speed)"
   ]
  },
  {
   "cell_type": "code",
   "execution_count": 31,
   "id": "3bcc51be-b7d4-499e-ada8-dbb6ebde05a9",
   "metadata": {},
   "outputs": [],
   "source": [
    "init_postion = {13: 250, 14: 130}  # 13:225, 14: 175\n",
    "speed = {13:70,14:70}\n",
    "vlu = motor.LEFT_AHND_SET_POS([13,14],init_postion,speed)"
   ]
  },
  {
   "cell_type": "code",
   "execution_count": null,
   "id": "c772cb83-4ebe-4543-8455-f845e4b7ec9d",
   "metadata": {},
   "outputs": [],
   "source": []
  },
  {
   "cell_type": "code",
   "execution_count": null,
   "id": "a776ed31-182a-4cd6-a619-e5272f26f165",
   "metadata": {},
   "outputs": [],
   "source": []
  },
  {
   "cell_type": "code",
   "execution_count": 11,
   "id": "cebcbafd-3e32-4b9a-bee8-0386b18511b8",
   "metadata": {},
   "outputs": [],
   "source": [
    "robalist=[]"
   ]
  },
  {
   "cell_type": "code",
   "execution_count": 12,
   "id": "73de80b0-691f-4360-b4e3-4c92adb308dc",
   "metadata": {},
   "outputs": [],
   "source": [
    "robr=Roba_recoddata(motor.init_postion)\n",
    "robr.stime=0.5\n",
    "robr.LF=0\n",
    "robr.RF=0\n",
    "robalist.append(robr)"
   ]
  },
  {
   "cell_type": "code",
   "execution_count": 16,
   "id": "46d79a01-adb7-462c-9303-cab7ee8f0cd3",
   "metadata": {},
   "outputs": [],
   "source": [
    "robr=Roba_recoddata(motor.LEFT_AHND_GET_POS(ID))\n",
    "robr.stime=0\n",
    "robr.LF=0\n",
    "robr.RF=0\n",
    "robalist.append(robr)"
   ]
  },
  {
   "cell_type": "code",
   "execution_count": null,
   "id": "a76cae6e-d126-4e36-bd81-122a3a5f386f",
   "metadata": {},
   "outputs": [],
   "source": []
  },
  {
   "cell_type": "code",
   "execution_count": 69,
   "id": "117cff48-741a-4a0e-96c9-3e75fe107686",
   "metadata": {},
   "outputs": [],
   "source": [
    "robalist[18].RF=0"
   ]
  },
  {
   "cell_type": "code",
   "execution_count": 47,
   "id": "f2dd80a0-8600-49c5-8036-6210b9b620da",
   "metadata": {},
   "outputs": [
    {
     "data": {
      "text/plain": [
       "9"
      ]
     },
     "execution_count": 47,
     "metadata": {},
     "output_type": "execute_result"
    }
   ],
   "source": [
    "len(robalist)"
   ]
  },
  {
   "cell_type": "code",
   "execution_count": 185,
   "id": "4099c691-41bb-46f0-a00a-0b7bac28a14d",
   "metadata": {},
   "outputs": [
    {
     "data": {
      "text/plain": [
       "<roba_record.Roba_recoddata at 0x7f82749cf8>"
      ]
     },
     "execution_count": 185,
     "metadata": {},
     "output_type": "execute_result"
    }
   ],
   "source": [
    "robalist.pop(20)"
   ]
  },
  {
   "cell_type": "code",
   "execution_count": null,
   "id": "bc4f4a19-fd32-43be-98be-d529758558a2",
   "metadata": {},
   "outputs": [],
   "source": []
  },
  {
   "cell_type": "code",
   "execution_count": 17,
   "id": "46b6143f-ba17-46ad-8e94-dfb05addfd81",
   "metadata": {},
   "outputs": [],
   "source": [
    "robalist = robr.speed_con(robalist)"
   ]
  },
  {
   "cell_type": "code",
   "execution_count": 172,
   "id": "a72c1ee8-c94b-4b05-b060-3cd19675f677",
   "metadata": {},
   "outputs": [],
   "source": [
    "robalist2 = np.concatenate((rdata, robalist), axis=0)"
   ]
  },
  {
   "cell_type": "code",
   "execution_count": 158,
   "id": "5d915875-f9a1-4d76-b8df-c18534d09bd9",
   "metadata": {},
   "outputs": [
    {
     "data": {
      "text/plain": [
       "24"
      ]
     },
     "execution_count": 158,
     "metadata": {},
     "output_type": "execute_result"
    }
   ],
   "source": [
    "len(robalist)"
   ]
  },
  {
   "cell_type": "code",
   "execution_count": null,
   "id": "f9d6dc5b-4e04-4891-8db4-c3b4c5894879",
   "metadata": {},
   "outputs": [],
   "source": []
  },
  {
   "cell_type": "code",
   "execution_count": 22,
   "id": "d5194176-0127-455b-9ded-c76843dbfdc4",
   "metadata": {},
   "outputs": [],
   "source": [
    "robr.save(robalist)"
   ]
  },
  {
   "cell_type": "code",
   "execution_count": null,
   "id": "5e6468fe-3b9b-4484-8a1e-e9b369d58ce1",
   "metadata": {},
   "outputs": [],
   "source": []
  },
  {
   "cell_type": "code",
   "execution_count": 14,
   "id": "83a6cd64-c269-4981-a83c-82fbe6d6eca3",
   "metadata": {},
   "outputs": [],
   "source": [
    "rdatas = robr.get_data()"
   ]
  },
  {
   "cell_type": "code",
   "execution_count": 536,
   "id": "da729739-02f2-4384-81ab-030b0a64e6e2",
   "metadata": {},
   "outputs": [
    {
     "data": {
      "text/plain": [
       "20"
      ]
     },
     "execution_count": 536,
     "metadata": {},
     "output_type": "execute_result"
    }
   ],
   "source": [
    "len(rdatas)"
   ]
  },
  {
   "cell_type": "code",
   "execution_count": 13,
   "id": "e9df74b3-9579-4376-a426-5e8efbe8d382",
   "metadata": {},
   "outputs": [],
   "source": [
    "rdata=robalist"
   ]
  },
  {
   "cell_type": "code",
   "execution_count": 626,
   "id": "542ebc34-bda5-4b77-b3cb-bb9cbf6969dd",
   "metadata": {},
   "outputs": [],
   "source": [
    "rdata=rdatas[0:19]"
   ]
  },
  {
   "cell_type": "code",
   "execution_count": 632,
   "id": "7fe76547-b5aa-437b-838c-b6d23066fe32",
   "metadata": {},
   "outputs": [
    {
     "data": {
      "text/plain": [
       "17"
      ]
     },
     "execution_count": 632,
     "metadata": {},
     "output_type": "execute_result"
    }
   ],
   "source": [
    "len(rdatas)"
   ]
  },
  {
   "cell_type": "code",
   "execution_count": 621,
   "id": "5af331a0-1843-4724-bd4a-370555d067e7",
   "metadata": {},
   "outputs": [],
   "source": [
    "rdatas[12].speed[7]=1200"
   ]
  },
  {
   "cell_type": "code",
   "execution_count": 620,
   "id": "8abfaae5-419a-460f-b835-74c3ed2e2f5d",
   "metadata": {},
   "outputs": [
    {
     "data": {
      "text/plain": [
       "{1: 400,\n",
       " 2: 144,\n",
       " 3: 4,\n",
       " 4: 15,\n",
       " 5: 414,\n",
       " 6: 90,\n",
       " 7: 400,\n",
       " 8: 411,\n",
       " 9: 15,\n",
       " 10: 4,\n",
       " 11: 233,\n",
       " 12: 295,\n",
       " 13: 137,\n",
       " 14: 247}"
      ]
     },
     "execution_count": 620,
     "metadata": {},
     "output_type": "execute_result"
    }
   ],
   "source": [
    "rdatas[12].speed   # 12 7 678"
   ]
  },
  {
   "cell_type": "code",
   "execution_count": 603,
   "id": "954c3690-0903-494d-9656-8dc737957e18",
   "metadata": {},
   "outputs": [
    {
     "data": {
      "text/plain": [
       "<roba_record.Roba_recoddata at 0x7f89d21cc0>"
      ]
     },
     "execution_count": 603,
     "metadata": {},
     "output_type": "execute_result"
    }
   ],
   "source": [
    "rdatas.pop(9)"
   ]
  },
  {
   "cell_type": "code",
   "execution_count": 11,
   "id": "0cdcce8a-edf2-42c7-8022-356169702347",
   "metadata": {},
   "outputs": [],
   "source": [
    "rdata = rdatas"
   ]
  },
  {
   "cell_type": "code",
   "execution_count": 472,
   "id": "dc607cfe-5f0a-4b70-b7bd-296624ec471c",
   "metadata": {},
   "outputs": [
    {
     "data": {
      "text/plain": [
       "8"
      ]
     },
     "execution_count": 472,
     "metadata": {},
     "output_type": "execute_result"
    }
   ],
   "source": [
    "len(rdata)"
   ]
  },
  {
   "cell_type": "code",
   "execution_count": 609,
   "id": "f3284708-b671-4cd2-bd5a-4d974a05a9fa",
   "metadata": {},
   "outputs": [],
   "source": [
    "rdatas[13].speed={1: 528,\n",
    " 2: 72,\n",
    " 3: 4,\n",
    " 4: 4,\n",
    " 5: 55,\n",
    " 6: 88,\n",
    " 7: 400,\n",
    " 8: 115,\n",
    " 9: 10,\n",
    " 10: 4,\n",
    " 11: 106,\n",
    " 12: 142,\n",
    " 13: 0,\n",
    " 14: 0}"
   ]
  },
  {
   "cell_type": "code",
   "execution_count": 631,
   "id": "81df9335-823e-48a2-a058-03d6cdf36aa7",
   "metadata": {},
   "outputs": [],
   "source": [
    "rdatas[13].stime=0.5"
   ]
  },
  {
   "cell_type": "code",
   "execution_count": 240,
   "id": "0208c0e9-37b0-45d4-9a03-fbbe5483c1c3",
   "metadata": {},
   "outputs": [],
   "source": [
    "rdata[6].RF=0"
   ]
  },
  {
   "cell_type": "code",
   "execution_count": 300,
   "id": "637bb560-a8ac-45c8-a307-9fae0f44b654",
   "metadata": {},
   "outputs": [],
   "source": [
    "rdatas[10].speed"
   ]
  },
  {
   "cell_type": "code",
   "execution_count": 187,
   "id": "2795f6da-ea72-4e37-8500-63f804873054",
   "metadata": {},
   "outputs": [],
   "source": [
    "rdata[1].speed[5]=500"
   ]
  },
  {
   "cell_type": "code",
   "execution_count": 284,
   "id": "05fb30b7-9e93-4231-a70a-42143a87bcc2",
   "metadata": {},
   "outputs": [],
   "source": [
    "spk.Speaking(\"Hellooooooooo everybody. I am ROBA. The AI humanoid robot. Made in Bangladesh. And it's for you. New goals, new dreams. new successes Everything waits for you.\")"
   ]
  },
  {
   "cell_type": "code",
   "execution_count": 250,
   "id": "83aa81ce-931f-4413-b584-1a38d204f748",
   "metadata": {},
   "outputs": [
    {
     "data": {
      "text/plain": [
       "<roba_record.Roba_recoddata at 0x7fb4bf35c0>"
      ]
     },
     "execution_count": 250,
     "metadata": {},
     "output_type": "execute_result"
    }
   ],
   "source": [
    "# rdata.pop(3) #3 ,4"
   ]
  },
  {
   "cell_type": "code",
   "execution_count": null,
   "id": "69048add-22b2-4ec6-861b-b4a2e48c0a9c",
   "metadata": {},
   "outputs": [],
   "source": [
    "robalist"
   ]
  },
  {
   "cell_type": "code",
   "execution_count": 673,
   "id": "83994584-3b17-4eed-818b-2fb538be18db",
   "metadata": {},
   "outputs": [],
   "source": [
    "spk.Speaking(\"new successes Everything waits for you.\")"
   ]
  },
  {
   "cell_type": "code",
   "execution_count": 682,
   "id": "1281e3c6-21e4-4e03-9d37-81739676ec9b",
   "metadata": {},
   "outputs": [],
   "source": [
    "spk.Speaking(\"Hellooooooooo everybody. I am ROBA. The AI humanoid robot. Made in Bangladesh. And it's for you. New goals, new dreams.\")"
   ]
  },
  {
   "cell_type": "code",
   "execution_count": 683,
   "id": "4d765165-12fd-4c1b-b830-7aa2e20b7efc",
   "metadata": {},
   "outputs": [],
   "source": [
    "spk.Speaking(\"new successes Everything waits for you.\")"
   ]
  },
  {
   "cell_type": "code",
   "execution_count": 685,
   "id": "af6c8b71-6e31-4d5a-96d9-c7a3a86c976e",
   "metadata": {},
   "outputs": [],
   "source": [
    "spk.Speaking(\"Forget about failures, Correct your mistakes. Success is definitely yours. Love the people. help the people. save the world. Hap peey New Year.\")"
   ]
  },
  {
   "cell_type": "code",
   "execution_count": null,
   "id": "46b8b566-400d-4bae-bcfa-c87b567cce2d",
   "metadata": {},
   "outputs": [],
   "source": []
  },
  {
   "cell_type": "code",
   "execution_count": null,
   "id": "74e04bb7-2342-456e-aa5a-77f1d7355304",
   "metadata": {},
   "outputs": [],
   "source": [
    "robalist"
   ]
  },
  {
   "cell_type": "code",
   "execution_count": 20,
   "id": "df5dd0bc-2bf6-426b-aac5-e690783fa882",
   "metadata": {},
   "outputs": [
    {
     "data": {
      "text/plain": [
       "[<roba_record.Roba_recoddata at 0x7fa80ceef0>]"
      ]
     },
     "execution_count": 20,
     "metadata": {},
     "output_type": "execute_result"
    }
   ],
   "source": [
    "rdata"
   ]
  },
  {
   "cell_type": "code",
   "execution_count": 677,
   "id": "718cbc0e-8d74-42cf-95b1-921743156b21",
   "metadata": {},
   "outputs": [
    {
     "name": "stdout",
     "output_type": "stream",
     "text": [
      "0\n",
      "1\n",
      "2\n",
      "3\n",
      "4\n",
      "5\n",
      "6\n",
      "7\n",
      "8\n",
      "9\n",
      "10\n",
      "11\n",
      "12\n",
      "13\n",
      "14\n",
      "15\n",
      "16\n"
     ]
    }
   ],
   "source": [
    "import time\n",
    "v=0\n",
    "start = time.time()\n",
    "for rd in rdata:\n",
    "    \n",
    "    print(v)\n",
    "    motor.LEFT_AHND_SET_POS(ID,rd.pos,rd.speed)\n",
    "    time.sleep(rd.stime)\n",
    "    \n",
    "    if (time.time() - start>10) and (time.time() - start<17) :\n",
    "       for i in range(2):\n",
    "           leg.send_data_only(\"m\")\n",
    "           time.sleep(0.01)\n",
    "    if (time.time() - start>17) and (time.time() - start<25):\n",
    "       for i in range(2):\n",
    "           leg.send_data_only(\"a\")\n",
    "           time.sleep(0.01)\n",
    "        \n",
    "    if (time.time() - start)>45:\n",
    "       for i in range(2):\n",
    "           leg.send_data_only(\"j\")\n",
    "           time.sleep(0.01)\n",
    "        \n",
    "    if v==1:\n",
    "        spk.Speaking(\"Hellooooooooo everybody. I am ROBA. The AI humanoid robot. Made in Bangladesh. And it's for you. New goals, new dreams.\")\n",
    "    if rd.RF==1 and  rd.LF==1:\n",
    "       finger.RF_close()\n",
    "       finger.LF_close()\n",
    "       #time.sleep(1)\n",
    "    elif rd.RF==2 and rd.LF==2:\n",
    "        finger.RF_open()\n",
    "        finger.LF_open()\n",
    "        finger.LF_open()\n",
    "        #time.sleep(0.1)\n",
    "    if  v==7:\n",
    "       time.sleep(2)\n",
    "       spk.Speaking(\"new successes Everything waits for you.\")\n",
    "    if v==9:\n",
    "        time.sleep(1)\n",
    "        spk.Speaking(\"Forget about failures, Correct your mistakes. Success is definitely yours. Love the people. help the people. save the world. Hap peey New Year.\")\n",
    "        #time.sleep(4)\n",
    "    # if rd.LF==1:\n",
    "    #    finger.LF_close()\n",
    "    #    time.sleep(2)\n",
    "    # elif rd.LF==2:\n",
    "    #     finger.LF_open()\n",
    "    #     time.sleep(2)\n",
    "    v=v+1\n",
    "for i in range(2):\n",
    "   leg.send_data_only(\"a\")\n",
    "   time.sleep(0.01)\n",
    "finger.Mpower_off()"
   ]
  },
  {
   "cell_type": "code",
   "execution_count": 37,
   "id": "175b4d01-c524-4c4a-a544-df92453a3d61",
   "metadata": {},
   "outputs": [],
   "source": [
    "rdata = rdatas"
   ]
  },
  {
   "cell_type": "code",
   "execution_count": 39,
   "id": "971e0041-c8f0-43b8-8bf7-b51dcacb942a",
   "metadata": {},
   "outputs": [],
   "source": [
    "rdata=robalist"
   ]
  },
  {
   "cell_type": "code",
   "execution_count": 40,
   "id": "516472d4-fff7-4168-a1ca-fa7dcfddd963",
   "metadata": {},
   "outputs": [
    {
     "name": "stdout",
     "output_type": "stream",
     "text": [
      "0\n"
     ]
    }
   ],
   "source": [
    "import time\n",
    "v=0\n",
    "for rd in rdata:\n",
    "    print(v)\n",
    "    v=v+1\n",
    "    motor.LEFT_AHND_SET_POS(ID,rd.pos,rd.speed)\n",
    "    time.sleep(rd.stime)\n",
    "    \n",
    "    if rd.RF==1:\n",
    "       finger.RF_close()\n",
    "       time.sleep(2)\n",
    "    elif rd.RF==2:\n",
    "        finger.RF_open()\n",
    "        time.sleep(2)\n",
    "        \n",
    "    if rd.LF==1:\n",
    "       finger.LF_close()\n",
    "       time.sleep(2)\n",
    "    elif rd.LF==2:\n",
    "        finger.LF_open()\n",
    "        time.sleep(2)\n",
    "    \n",
    "finger.Mpower_off()"
   ]
  },
  {
   "cell_type": "code",
   "execution_count": null,
   "id": "483e18d1-3b95-41a0-baf6-9e509bc9dce7",
   "metadata": {},
   "outputs": [],
   "source": [
    "rdata[0].speed[1]=222"
   ]
  },
  {
   "cell_type": "code",
   "execution_count": 574,
   "id": "458eeb96-1583-402e-b012-08f135064d0e",
   "metadata": {},
   "outputs": [
    {
     "data": {
      "text/plain": [
       "{1: 225,\n",
       " 2: 50,\n",
       " 3: 4,\n",
       " 4: 4,\n",
       " 5: 1,\n",
       " 6: 1,\n",
       " 7: 0,\n",
       " 8: 0,\n",
       " 9: 4,\n",
       " 10: 4,\n",
       " 11: 0,\n",
       " 12: 0,\n",
       " 13: 1,\n",
       " 14: 2}"
      ]
     },
     "execution_count": 574,
     "metadata": {},
     "output_type": "execute_result"
    }
   ],
   "source": [
    "rdata[0].speed"
   ]
  },
  {
   "cell_type": "code",
   "execution_count": 575,
   "id": "1ddb818b-3e1f-45ba-8e75-d324518336af",
   "metadata": {},
   "outputs": [
    {
     "data": {
      "text/plain": [
       "{1: 147,\n",
       " 2: 305,\n",
       " 3: 202,\n",
       " 4: 287,\n",
       " 5: 223,\n",
       " 6: 129,\n",
       " 7: 135,\n",
       " 8: 95,\n",
       " 9: 200,\n",
       " 10: 90,\n",
       " 11: 150,\n",
       " 12: 200,\n",
       " 13: 270,\n",
       " 14: 155}"
      ]
     },
     "execution_count": 575,
     "metadata": {},
     "output_type": "execute_result"
    }
   ],
   "source": [
    " rdata[0].pos"
   ]
  },
  {
   "cell_type": "code",
   "execution_count": 510,
   "id": "7266451a-f321-4c43-bab1-9b0d3b98c45a",
   "metadata": {},
   "outputs": [],
   "source": [
    "rdata[0].pos[4]=287"
   ]
  },
  {
   "cell_type": "markdown",
   "id": "3de8b69e-abc4-4ab8-b6e5-680c2075234e",
   "metadata": {},
   "source": [
    "#### "
   ]
  },
  {
   "cell_type": "code",
   "execution_count": 15,
   "id": "4b25a1c6-c549-40ed-9089-438991022f46",
   "metadata": {},
   "outputs": [],
   "source": [
    "from threading import Thread \n",
    "import time\n",
    "from IPython.display import clear_output\n",
    "break_loop=True\n",
    "def img_pos_cal1():\n",
    "    while break_loop:\n",
    "        robr=Roba_recoddata(motor.LEFT_AHND_GET_POS(ID))\n",
    "        robalist.append(robr)\n",
    "        time.sleep(0.05)\n",
    "       "
   ]
  },
  {
   "cell_type": "code",
   "execution_count": 16,
   "id": "4455271a-8235-4109-a0bc-ee9a1edab039",
   "metadata": {},
   "outputs": [],
   "source": [
    "roba_cam=True\n",
    "th1 = Thread(target=img_pos_cal1)\n",
    "th1.start()"
   ]
  },
  {
   "cell_type": "code",
   "execution_count": 17,
   "id": "e21d59f8-cdc7-45cd-80b7-e626c025910d",
   "metadata": {},
   "outputs": [],
   "source": [
    "roba_cam=False"
   ]
  },
  {
   "cell_type": "code",
   "execution_count": 18,
   "id": "c37508ba-3761-423f-9f34-adb3f062f252",
   "metadata": {},
   "outputs": [
    {
     "data": {
      "text/plain": [
       "624"
      ]
     },
     "execution_count": 18,
     "metadata": {},
     "output_type": "execute_result"
    }
   ],
   "source": [
    "len(robalist)"
   ]
  },
  {
   "cell_type": "code",
   "execution_count": 29,
   "id": "1919d32a-6a98-43d9-a51d-48660b6f5266",
   "metadata": {},
   "outputs": [
    {
     "name": "stdout",
     "output_type": "stream",
     "text": [
      "0\n"
     ]
    }
   ],
   "source": [
    "import time\n",
    "v=0\n",
    "for rd in robalist:\n",
    "    print(v)\n",
    "    v=v+1\n",
    "    motor.LEFT_AHND_SET_POS(ID,rd.pos,rd.speed)\n",
    "    # time.sleep(rd.stime)"
   ]
  },
  {
   "cell_type": "code",
   "execution_count": null,
   "id": "cdcdd6d7-b207-476e-823e-3abb91b3e643",
   "metadata": {},
   "outputs": [],
   "source": []
  },
  {
   "cell_type": "code",
   "execution_count": 2,
   "id": "43c534d6-e8bd-41cb-bbe1-609b3c9bbb58",
   "metadata": {},
   "outputs": [],
   "source": [
    "# robalist"
   ]
  },
  {
   "cell_type": "code",
   "execution_count": 60,
   "id": "5fd31538-0fcc-4d1f-bdd7-bb85a20a50f1",
   "metadata": {},
   "outputs": [],
   "source": [
    "robalist = robr.speed_con(robalist,4)"
   ]
  },
  {
   "cell_type": "code",
   "execution_count": 61,
   "id": "545649c3-751a-4e82-bb10-24a084743326",
   "metadata": {},
   "outputs": [
    {
     "data": {
      "text/plain": [
       "24"
      ]
     },
     "execution_count": 61,
     "metadata": {},
     "output_type": "execute_result"
    }
   ],
   "source": [
    "len(robalist)"
   ]
  },
  {
   "cell_type": "code",
   "execution_count": 21,
   "id": "0312cfdf-fc3f-45a9-9b46-9d7f370c8b13",
   "metadata": {},
   "outputs": [
    {
     "data": {
      "text/plain": [
       "{1: 0,\n",
       " 2: 10,\n",
       " 3: 4,\n",
       " 4: 4,\n",
       " 5: 2,\n",
       " 6: 0,\n",
       " 7: 330,\n",
       " 8: 565,\n",
       " 9: 4,\n",
       " 10: 4,\n",
       " 11: 36,\n",
       " 12: 8,\n",
       " 13: 1,\n",
       " 14: 2}"
      ]
     },
     "execution_count": 21,
     "metadata": {},
     "output_type": "execute_result"
    }
   ],
   "source": [
    "robalist[5].speed"
   ]
  },
  {
   "cell_type": "code",
   "execution_count": 256,
   "id": "520ee9f6-0706-4bd0-addf-45abc6856370",
   "metadata": {},
   "outputs": [],
   "source": [
    "#prec= copy.deepcopy(robalist)"
   ]
  },
  {
   "cell_type": "code",
   "execution_count": 62,
   "id": "0b545830-63e5-4dd5-a3ef-e8239841e7f1",
   "metadata": {},
   "outputs": [],
   "source": [
    "robr.save(robalist)"
   ]
  },
  {
   "cell_type": "code",
   "execution_count": 63,
   "id": "6d7cead6-596e-4e98-819e-4c388ea3742e",
   "metadata": {},
   "outputs": [],
   "source": [
    "rdata = robr.get_data()"
   ]
  },
  {
   "cell_type": "code",
   "execution_count": 10,
   "id": "fd89e603-93a8-4434-8053-8f78374da9e6",
   "metadata": {},
   "outputs": [],
   "source": [
    "robalist = robr.speed_con(rdata,4)"
   ]
  },
  {
   "cell_type": "code",
   "execution_count": 11,
   "id": "e8dff21c-2cbb-4d25-a5d8-3eca1676b0ba",
   "metadata": {},
   "outputs": [],
   "source": [
    "robr.save(robalist)"
   ]
  },
  {
   "cell_type": "code",
   "execution_count": null,
   "id": "19b24879-f81c-4b8f-881e-72c79177ce93",
   "metadata": {},
   "outputs": [],
   "source": [
    "  2\n",
    "8: 246\n",
    "9: 211\n",
    "  3\n",
    "8: 192\n",
    "9: 271   "
   ]
  },
  {
   "cell_type": "code",
   "execution_count": null,
   "id": "16845b7a-611a-4174-8357-64c8519be82e",
   "metadata": {},
   "outputs": [],
   "source": []
  },
  {
   "cell_type": "code",
   "execution_count": 19,
   "id": "86c90e10-b129-4ee4-b305-2b894884f8f7",
   "metadata": {},
   "outputs": [
    {
     "data": {
      "text/plain": [
       "{1: 275,\n",
       " 2: 327,\n",
       " 3: 180,\n",
       " 4: 345,\n",
       " 5: 152,\n",
       " 6: 130,\n",
       " 7: 125,\n",
       " 8: 192,\n",
       " 9: 271,\n",
       " 10: 131,\n",
       " 11: 183,\n",
       " 12: 245,\n",
       " 13: 224,\n",
       " 14: 173}"
      ]
     },
     "execution_count": 19,
     "metadata": {},
     "output_type": "execute_result"
    }
   ],
   "source": [
    "rdata[3].pos "
   ]
  },
  {
   "cell_type": "code",
   "execution_count": 13,
   "id": "c62d0b1f-2a99-45a1-b8be-9ecfa6445372",
   "metadata": {},
   "outputs": [
    {
     "name": "stdout",
     "output_type": "stream",
     "text": [
      "0\n",
      "1\n",
      "2\n",
      "3\n",
      "4\n",
      "5\n"
     ]
    }
   ],
   "source": []
  },
  {
   "cell_type": "code",
   "execution_count": 66,
   "id": "7354be71-f2f6-44aa-8037-a95d99af0347",
   "metadata": {},
   "outputs": [],
   "source": [
    "#newar = np.concatenate((rdata, robalist), axis=0)"
   ]
  },
  {
   "cell_type": "code",
   "execution_count": 15,
   "id": "81a18125-7746-4b3f-8f2d-c30ba9c00c46",
   "metadata": {},
   "outputs": [
    {
     "name": "stdout",
     "output_type": "stream",
     "text": [
      "29\n"
     ]
    }
   ],
   "source": []
  },
  {
   "cell_type": "code",
   "execution_count": null,
   "id": "1046ee20-7bb6-4851-bbd3-becf3d6a6639",
   "metadata": {},
   "outputs": [],
   "source": []
  },
  {
   "cell_type": "code",
   "execution_count": null,
   "id": "1708fa55-5ebc-44db-b3f1-9c1166d3f3ec",
   "metadata": {},
   "outputs": [],
   "source": [
    "roba_cam=True"
   ]
  },
  {
   "cell_type": "code",
   "execution_count": 2,
   "id": "d764e591-95a7-402e-b49c-f6e37d553d9c",
   "metadata": {},
   "outputs": [],
   "source": [
    "robalist=[]"
   ]
  },
  {
   "cell_type": "code",
   "execution_count": null,
   "id": "eda6dac0-5bc3-46bd-8053-3721c00af26b",
   "metadata": {},
   "outputs": [],
   "source": []
  },
  {
   "cell_type": "code",
   "execution_count": 4,
   "id": "9387a6dd-06b3-4614-8fe4-c5c4ca109c73",
   "metadata": {},
   "outputs": [],
   "source": [
    "robr=Roba_recoddata({1: 275, 2: 325, 3: 180, 4: 345, 5: 151, 6: 130, 7: 155, 8: 141, 9: 250, 10: 140, 11: 149, 12: 220, 13: 224, 14: 176})\n",
    "robr.stime=0\n",
    "robr.LF=0\n",
    "robr.RF=0\n",
    "robalist.append(robr)"
   ]
  },
  {
   "cell_type": "code",
   "execution_count": 3,
   "id": "fc33bedc-b9b3-450f-801b-03be6135d286",
   "metadata": {},
   "outputs": [],
   "source": [
    "robr=Roba_recoddata( {1: 275, 2: 325, 3: 180, 4: 345, 5: 151, 6: 130, 7: 155, 8: 121, 9: 250, 10: 100, 11: 149, 12: 160, 13: 224, 14: 176})\n",
    "robr.stime=0\n",
    "robr.LF=0\n",
    "robr.RF=0\n",
    "robalist.append(robr)"
   ]
  },
  {
   "cell_type": "code",
   "execution_count": null,
   "id": "0eb6b46d-c7f9-45ee-89f0-03ea6b1f8f3c",
   "metadata": {},
   "outputs": [],
   "source": []
  },
  {
   "cell_type": "code",
   "execution_count": 5,
   "id": "3ee32d64-0663-434d-9de5-a7f35230fc72",
   "metadata": {},
   "outputs": [
    {
     "data": {
      "text/plain": [
       "[<roba_record.Roba_recoddata at 0x7f60d52748>,\n",
       " <roba_record.Roba_recoddata at 0x7f60d527f0>]"
      ]
     },
     "execution_count": 5,
     "metadata": {},
     "output_type": "execute_result"
    }
   ],
   "source": [
    "robalist"
   ]
  },
  {
   "cell_type": "code",
   "execution_count": 9,
   "id": "1caf56ae-15f5-44c1-a160-0206849b26fc",
   "metadata": {},
   "outputs": [],
   "source": [
    "robalist2 = robr.speed_con(robalist,4)"
   ]
  },
  {
   "cell_type": "code",
   "execution_count": 10,
   "id": "f01d0f91-9eec-4636-aa56-4c9a8ce2c63a",
   "metadata": {},
   "outputs": [
    {
     "data": {
      "text/plain": [
       "[<roba_record.Roba_recoddata at 0x7f60d52748>,\n",
       " <roba_record.Roba_recoddata at 0x7f60d527f0>]"
      ]
     },
     "execution_count": 10,
     "metadata": {},
     "output_type": "execute_result"
    }
   ],
   "source": [
    "robalist2"
   ]
  },
  {
   "cell_type": "code",
   "execution_count": 11,
   "id": "4d70916d-a4c1-4779-889e-21bf2ecf2eb4",
   "metadata": {},
   "outputs": [
    {
     "data": {
      "text/plain": [
       "{1: 0,\n",
       " 2: 0,\n",
       " 3: 8,\n",
       " 4: 4,\n",
       " 5: 0,\n",
       " 6: 0,\n",
       " 7: 0,\n",
       " 8: 100,\n",
       " 9: 8,\n",
       " 10: 8,\n",
       " 11: 0,\n",
       " 12: 150,\n",
       " 13: 0,\n",
       " 14: 0}"
      ]
     },
     "execution_count": 11,
     "metadata": {},
     "output_type": "execute_result"
    }
   ],
   "source": [
    "robalist2.speed"
   ]
  },
  {
   "cell_type": "code",
   "execution_count": 15,
   "id": "70de1ee9-f988-400f-b243-03f60440488c",
   "metadata": {},
   "outputs": [
    {
     "name": "stdout",
     "output_type": "stream",
     "text": [
      "0\n",
      "1\n",
      "2\n",
      "3\n",
      "4\n",
      "5\n"
     ]
    }
   ],
   "source": [
    "import time\n",
    "v=0\n",
    "for rd in rdata:\n",
    "    print(v)\n",
    "    v=v+1\n",
    "    motor.LEFT_AHND_SET_POS(ID,rd.pos,rd.speed)\n",
    "    time.sleep(rd.stime)\n"
   ]
  },
  {
   "cell_type": "code",
   "execution_count": null,
   "id": "edb2a08e-ab3b-4976-9d36-12d026a4e94e",
   "metadata": {},
   "outputs": [],
   "source": []
  },
  {
   "cell_type": "code",
   "execution_count": 26,
   "id": "104070b1-ca40-4a01-ad2c-cce6c854fc73",
   "metadata": {},
   "outputs": [
    {
     "name": "stdout",
     "output_type": "stream",
     "text": [
      "0\n",
      "1\n",
      "2\n",
      "3\n"
     ]
    }
   ],
   "source": [
    "import time\n",
    "v=0\n",
    "for rd in rdata:\n",
    "    print(v)\n",
    "    v=v+1\n",
    "    motor.LEFT_AHND_SET_POS(ID,rd.pos,rd.speed)\n",
    "    time.sleep(rd.stime)\n",
    "    \n",
    "    if rd.RF==1:\n",
    "       finger.RF_close()\n",
    "       time.sleep(2)\n",
    "    elif rd.RF==2:\n",
    "        finger.RF_open()\n",
    "        time.sleep(2)\n",
    "        \n",
    "    if rd.LF==1:\n",
    "       finger.LF_close()\n",
    "       time.sleep(2)\n",
    "    elif rd.LF==2:\n",
    "        finger.LF_open()\n",
    "        time.sleep(2)\n",
    "    \n",
    "finger.Mpower_off()"
   ]
  },
  {
   "cell_type": "code",
   "execution_count": 112,
   "id": "e1906e8f-858a-4bd1-92ea-aed7747aff30",
   "metadata": {},
   "outputs": [
    {
     "data": {
      "text/plain": [
       "[<roba_record.Roba_recoddata at 0x7f806256a0>,\n",
       " <roba_record.Roba_recoddata at 0x7fab62f710>,\n",
       " <roba_record.Roba_recoddata at 0x7f80625588>,\n",
       " <roba_record.Roba_recoddata at 0x7f80625e10>,\n",
       " <roba_record.Roba_recoddata at 0x7fab62f828>,\n",
       " <roba_record.Roba_recoddata at 0x7f806259e8>,\n",
       " <roba_record.Roba_recoddata at 0x7f806254e0>,\n",
       " <roba_record.Roba_recoddata at 0x7f80707908>,\n",
       " <roba_record.Roba_recoddata at 0x7f80625cc0>,\n",
       " <roba_record.Roba_recoddata at 0x7f80625ef0>]"
      ]
     },
     "execution_count": 112,
     "metadata": {},
     "output_type": "execute_result"
    }
   ],
   "source": [
    "pas"
   ]
  },
  {
   "cell_type": "code",
   "execution_count": 26,
   "id": "96c4f6f7-1120-4b04-afcd-1c710c3ba0b6",
   "metadata": {},
   "outputs": [
    {
     "data": {
      "text/plain": [
       "1500.383681999665"
      ]
     },
     "execution_count": 26,
     "metadata": {},
     "output_type": "execute_result"
    }
   ],
   "source": [
    "motor.LEFT_AHND_SET_POS(ID,rdata[0].pos,rd.speed)"
   ]
  },
  {
   "cell_type": "code",
   "execution_count": 21,
   "id": "1f3cc57a-b669-4d2b-a9e9-77fb9508bc6c",
   "metadata": {},
   "outputs": [],
   "source": [
    "finger.closbus()"
   ]
  },
  {
   "cell_type": "code",
   "execution_count": 21,
   "id": "e895148a-8c37-4e94-9182-9ebdc69a3068",
   "metadata": {},
   "outputs": [],
   "source": [
    "motor.portHandler.closePort()\n",
    "motor.fist_close()"
   ]
  },
  {
   "cell_type": "code",
   "execution_count": 135,
   "id": "dc26ee9b-2f33-421b-b262-2c31bbf0e564",
   "metadata": {},
   "outputs": [],
   "source": [
    "pos = {1: 275, 2: 325, 3: 180, 4: 345, 5: 151, 6: 130, 7: 155, 8: 141, 9: 250, 10: 140, 11: 149, 12: 220, 13: 224, 14: 176}\n",
    "speed={1: 400, 2: 400, 3: 12, 4:12, 5: 145, 6: 60,7: 200, 8: 100, 9:10, 10:4, 11: 12, 12:75,13: 145,14: 145}"
   ]
  },
  {
   "cell_type": "code",
   "execution_count": 136,
   "id": "279a3c5f-c9a7-436f-b9ca-aa70f8f50efd",
   "metadata": {},
   "outputs": [
    {
     "data": {
      "text/plain": [
       "2418.010808999952"
      ]
     },
     "execution_count": 136,
     "metadata": {},
     "output_type": "execute_result"
    }
   ],
   "source": [
    "motor.LEFT_AHND_SET_POS(ID,pos,speed)"
   ]
  },
  {
   "cell_type": "code",
   "execution_count": 137,
   "id": "d5366055-a75e-4dff-bda0-c0870932f659",
   "metadata": {},
   "outputs": [],
   "source": [
    "pos = {1: 275, 2: 325, 3: 180, 4: 345, 5: 151, 6: 130, 7: 155, 8: 121, 9: 250, 10: 100, 11: 149, 12: 160, 13: 224, 14: 176}\n",
    "speed={1: 400, 2: 400, 3: 12, 4:12, 5: 145, 6: 60,7: 200, 8: 100, 9:10, 10:4, 11: 12, 12:75,13: 145,14: 145}"
   ]
  },
  {
   "cell_type": "code",
   "execution_count": 138,
   "id": "4d5b422a-cf82-4739-8866-7f69b797d4d9",
   "metadata": {},
   "outputs": [
    {
     "data": {
      "text/plain": [
       "2393.7332250000054"
      ]
     },
     "execution_count": 138,
     "metadata": {},
     "output_type": "execute_result"
    }
   ],
   "source": [
    "motor.LEFT_AHND_SET_POS(ID,pos,speed)"
   ]
  },
  {
   "cell_type": "code",
   "execution_count": 72,
   "id": "77c7e95a-39b7-4d9a-b350-bdc82a4cb2cd",
   "metadata": {},
   "outputs": [],
   "source": [
    "pos = {1: 275,\n",
    " 2: 327,\n",
    " 3: 180,\n",
    " 4: 345,\n",
    " 5: 152,\n",
    " 6: 130,\n",
    " 7: 125,\n",
    " 8: 192,\n",
    " 9: 271,\n",
    " 10: 131,\n",
    " 11: 183,\n",
    " 12: 245,\n",
    " 13: 224,\n",
    " 14: 173}\n",
    "speed={1: 400, 2: 400, 3: 12, 4:12, 5: 145, 6: 60,7: 200, 8: 200, 9:10, 10:10, 11: 145, 12: 145,13: 145,14: 145}"
   ]
  },
  {
   "cell_type": "code",
   "execution_count": 73,
   "id": "efce1c9c-9dd0-4dff-b2e2-ee77bb6eb8d2",
   "metadata": {},
   "outputs": [
    {
     "data": {
      "text/plain": [
       "1240.2232829999775"
      ]
     },
     "execution_count": 73,
     "metadata": {},
     "output_type": "execute_result"
    }
   ],
   "source": [
    "motor.LEFT_AHND_SET_POS(ID,pos,speed)"
   ]
  },
  {
   "cell_type": "code",
   "execution_count": 36,
   "id": "75f6f28f-7ded-4a2a-9d2f-4bdb3b012342",
   "metadata": {},
   "outputs": [
    {
     "data": {
      "text/plain": [
       "{1: 0,\n",
       " 2: 6,\n",
       " 3: 4,\n",
       " 4: 4,\n",
       " 5: 2,\n",
       " 6: 0,\n",
       " 7: 3,\n",
       " 8: 261,\n",
       " 9: 4,\n",
       " 10: 4,\n",
       " 11: 9,\n",
       " 12: 19,\n",
       " 13: 1,\n",
       " 14: 2}"
      ]
     },
     "execution_count": 36,
     "metadata": {},
     "output_type": "execute_result"
    }
   ],
   "source": [
    "rdata[1].speed "
   ]
  },
  {
   "cell_type": "code",
   "execution_count": 90,
   "id": "5901449a-6e5c-419c-a4ba-2652af3cf2c2",
   "metadata": {},
   "outputs": [
    {
     "data": {
      "text/plain": [
       "2401.9940289999795"
      ]
     },
     "execution_count": 90,
     "metadata": {},
     "output_type": "execute_result"
    }
   ],
   "source": [
    "# 1\n",
    "pos = {1: 275,\n",
    " 2: 327,\n",
    " 3: 180,\n",
    " 4: 345,\n",
    " 5: 152,\n",
    " 6: 130,\n",
    " 7: 136,\n",
    " 8: 188,\n",
    " 9: 246,\n",
    " 10: 118,\n",
    " 11: 143,\n",
    " 12: 215,\n",
    " 13: 224,\n",
    " 14: 173}\n",
    "\n",
    "speed={1: 0,\n",
    " 2: 6,\n",
    " 3: 4,\n",
    " 4: 4,\n",
    " 5: 2,\n",
    " 6: 0,\n",
    " 7: 3,\n",
    " 8: 261,\n",
    " 9: 4,\n",
    " 10: 4,\n",
    " 11: 9,\n",
    " 12: 19,\n",
    " 13: 1,\n",
    " 14: 2}\n",
    "motor.LEFT_AHND_SET_POS(ID,pos,speed)"
   ]
  },
  {
   "cell_type": "code",
   "execution_count": 93,
   "id": "1e004a59-ee96-4ab6-ba0a-60c614c46e25",
   "metadata": {},
   "outputs": [
    {
     "data": {
      "text/plain": [
       "3712.0905760002643"
      ]
     },
     "execution_count": 93,
     "metadata": {},
     "output_type": "execute_result"
    }
   ],
   "source": [
    "# 2\n",
    "pos = {1: 275,\n",
    " 2: 327,\n",
    " 3: 180,\n",
    " 4: 345,\n",
    " 5: 152,\n",
    " 6: 130,\n",
    " 7: 135,\n",
    " 8: 246,\n",
    " 9: 211,\n",
    " 10: 110,\n",
    " 11: 221,\n",
    " 12: 211,\n",
    " 13: 224,\n",
    " 14: 173}\n",
    "speed={1: 0,\n",
    " 2: 0,\n",
    " 3: 4,\n",
    " 4: 4,\n",
    " 5: 0,\n",
    " 6: 0,\n",
    " 7: 3,\n",
    " 8: 174,\n",
    " 9: 4,\n",
    " 10: 4,\n",
    " 11: 98,\n",
    " 12: 5,\n",
    " 13: 0,\n",
    " 14: 0}\n",
    "motor.LEFT_AHND_SET_POS(ID,pos,speed)"
   ]
  },
  {
   "cell_type": "code",
   "execution_count": 94,
   "id": "49c09dd1-b307-48b9-8bef-d54daf2371ae",
   "metadata": {},
   "outputs": [
    {
     "data": {
      "text/plain": [
       "3899.1682619998755"
      ]
     },
     "execution_count": 94,
     "metadata": {},
     "output_type": "execute_result"
    }
   ],
   "source": [
    "# 3\n",
    "pos = {1: 275,\n",
    " 2: 327,\n",
    " 3: 180,\n",
    " 4: 345,\n",
    " 5: 152,\n",
    " 6: 130,\n",
    " 7: 125,\n",
    " 8: 192,\n",
    " 9: 271,\n",
    " 10: 131,\n",
    " 11: 183,\n",
    " 12: 245,\n",
    " 13: 224,\n",
    " 14: 173}\n",
    "\n",
    "speed={1: 0,\n",
    " 2: 0,\n",
    " 3: 4,\n",
    " 4: 4,\n",
    " 5: 0,\n",
    " 6: 0,\n",
    " 7: 30,\n",
    " 8: 162,\n",
    " 9: 4,\n",
    " 10: 4,\n",
    " 11: 48,\n",
    " 12: 42,\n",
    " 13: 0,\n",
    " 14: 0}\n",
    "motor.LEFT_AHND_SET_POS(ID,pos,speed)"
   ]
  },
  {
   "cell_type": "code",
   "execution_count": 89,
   "id": "a9e69257-e17c-41b9-b74b-3e4ee58acf77",
   "metadata": {},
   "outputs": [
    {
     "data": {
      "text/plain": [
       "3847.4288529996556"
      ]
     },
     "execution_count": 89,
     "metadata": {},
     "output_type": "execute_result"
    }
   ],
   "source": [
    "# 4\n",
    "pos ={1: 275, 2: 325, 3: 180, 4: 345, 5: 151, 6: 130, 7: 135, 8: 101, 9: 200, 10: 90, 11: 149, 12: 205, 13: 224, 14: 176}\n",
    "speed={1: 400, 2: 400, 3: 12, 4:12, 5: 145, 6: 60,7: 200, 8: 1, 9: 12, 10:5, 11: 145, 12: 1,13: 145,14: 145}\n",
    "motor.LEFT_AHND_SET_POS(ID,pos,speed)"
   ]
  },
  {
   "cell_type": "code",
   "execution_count": 579,
   "id": "2b4102b5-7ace-4fb5-bab0-f7d24724d83f",
   "metadata": {},
   "outputs": [
    {
     "data": {
      "text/plain": [
       "305.0036940003338"
      ]
     },
     "execution_count": 579,
     "metadata": {},
     "output_type": "execute_result"
    }
   ],
   "source": [
    "pos ={1: 275, 2: 325, 3: 180, 4: 345, 5: 151, 6: 130, 7: 135, 8: 101, 9: 200, 10: 90, 11: 149, 12: 205, 13: 224, 14: 176}\n",
    "speed={1: 400, 2: 400, 3: 12, 4:12, 5: 145, 6: 60,7: 200, 8: 1, 9: 12, 10:5, 11: 145, 12: 1,13: 145,14: 145}\n",
    "motor.LEFT_AHND_SET_POS(ID,pos,speed)"
   ]
  },
  {
   "cell_type": "code",
   "execution_count": null,
   "id": "4b6168ff-8b3a-4ea3-8bc9-3c8199435196",
   "metadata": {},
   "outputs": [],
   "source": []
  },
  {
   "cell_type": "code",
   "execution_count": null,
   "id": "b4651163-e2ed-4ccf-bad0-645dc506cc8c",
   "metadata": {},
   "outputs": [],
   "source": []
  },
  {
   "cell_type": "code",
   "execution_count": 49,
   "id": "1efefc10-ad0f-4308-9176-0c9c4b91cb71",
   "metadata": {},
   "outputs": [
    {
     "data": {
      "text/plain": [
       "1995.9648199999833"
      ]
     },
     "execution_count": 49,
     "metadata": {},
     "output_type": "execute_result"
    }
   ],
   "source": [
    "pos = {1: 235, 2: 325, 3: 180, 4: 325, 5: 151, 6: 150, 7: 135, 8: 101, 9: 200, 10: 90, 11: 149, 12: 205, 13: 224, 14: 176}\n",
    "speed={1: 240, 2: 400, 3: 12, 4:3, 5: 100, 6: 30,7: 200, 8: 1, 9: 12, 10:5, 11: 145, 12: 1,13: 145,14: 145}\n",
    "motor.LEFT_AHND_SET_POS(ID,pos,speed)"
   ]
  },
  {
   "cell_type": "code",
   "execution_count": 18,
   "id": "78d4c413-5d90-45f1-a366-935a28f91ff9",
   "metadata": {},
   "outputs": [
    {
     "data": {
      "text/plain": [
       "315.55053500051145"
      ]
     },
     "execution_count": 18,
     "metadata": {},
     "output_type": "execute_result"
    }
   ],
   "source": []
  },
  {
   "cell_type": "code",
   "execution_count": 50,
   "id": "13bb1541-7bfe-4a0e-9445-39291292eee7",
   "metadata": {},
   "outputs": [
    {
     "data": {
      "text/plain": [
       "1966.1485199999902"
      ]
     },
     "execution_count": 50,
     "metadata": {},
     "output_type": "execute_result"
    }
   ],
   "source": [
    "pos = {1: 275, 2: 325, 3: 180, 4: 345, 5: 151, 6: 130, 7: 135, 8: 101, 9: 200, 10: 90, 11: 149, 12: 200, 13: 224, 14: 176}\n",
    "speed={1: 240, 2: 400, 3: 12, 4:3, 5: 145, 6: 30,7: 200, 8: 1, 9: 12, 10:5, 11: 145, 12: 145,13: 145,14: 145}\n",
    "motor.LEFT_AHND_SET_POS(ID,pos,speed)"
   ]
  },
  {
   "cell_type": "code",
   "execution_count": 11,
   "id": "621b1ad9-55df-4578-8895-ab0935f703f7",
   "metadata": {},
   "outputs": [
    {
     "data": {
      "text/plain": [
       "3306.936576998851"
      ]
     },
     "execution_count": 11,
     "metadata": {},
     "output_type": "execute_result"
    }
   ],
   "source": [
    "motor.LEFT_AHND_SET_POS(ID,pos,speed)"
   ]
  },
  {
   "cell_type": "code",
   "execution_count": 47,
   "id": "20931167-3db3-4603-a937-007d0c4cbf7d",
   "metadata": {},
   "outputs": [
    {
     "data": {
      "text/plain": [
       "2.021869997406611"
      ]
     },
     "execution_count": 47,
     "metadata": {},
     "output_type": "execute_result"
    }
   ],
   "source": [
    "pos = {8: 106}\n",
    "speed={8:50}\n",
    "motor.LEFT_AHND_SET_POS([8],pos,speed)"
   ]
  },
  {
   "cell_type": "code",
   "execution_count": 48,
   "id": "e6752825-8668-49f9-90ca-fafecf46a493",
   "metadata": {},
   "outputs": [
    {
     "data": {
      "text/plain": [
       "2.1131739995325916"
      ]
     },
     "execution_count": 48,
     "metadata": {},
     "output_type": "execute_result"
    }
   ],
   "source": [
    "pos = {8: 101}\n",
    "speed={8: 50}\n",
    "motor.LEFT_AHND_SET_POS([8],pos,speed)"
   ]
  },
  {
   "cell_type": "code",
   "execution_count": 1,
   "id": "c17eb131-4a76-40dc-a0bf-7019656055c2",
   "metadata": {},
   "outputs": [],
   "source": [
    "dc ={}"
   ]
  },
  {
   "cell_type": "code",
   "execution_count": 2,
   "id": "766aead4-45b1-4c5b-a49d-a60eb4a721ee",
   "metadata": {},
   "outputs": [],
   "source": [
    "dc[2]=4\n",
    "dc[3]=5"
   ]
  },
  {
   "cell_type": "code",
   "execution_count": 4,
   "id": "1da9ebcc-b1ae-4050-b2c2-11c3d706ef7f",
   "metadata": {},
   "outputs": [
    {
     "name": "stdout",
     "output_type": "stream",
     "text": [
      "2\n",
      "3\n"
     ]
    }
   ],
   "source": [
    "for d in dc:\n",
    "    print(d)"
   ]
  },
  {
   "cell_type": "code",
   "execution_count": null,
   "id": "28c49af1-460c-4b9f-be8d-8a4fa725cf16",
   "metadata": {},
   "outputs": [],
   "source": []
  }
 ],
 "metadata": {
  "kernelspec": {
   "display_name": "Python 3",
   "language": "python",
   "name": "python3"
  },
  "language_info": {
   "codemirror_mode": {
    "name": "ipython",
    "version": 3
   },
   "file_extension": ".py",
   "mimetype": "text/x-python",
   "name": "python",
   "nbconvert_exporter": "python",
   "pygments_lexer": "ipython3",
   "version": "3.6.9"
  }
 },
 "nbformat": 4,
 "nbformat_minor": 5
}
