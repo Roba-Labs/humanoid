{
 "cells": [
  {
   "cell_type": "code",
   "execution_count": 2,
   "metadata": {},
   "outputs": [],
   "source": [
    "import time\n",
    "import serial\n",
    "from IPython.display import clear_output\n",
    "class legs:\n",
    "      \n",
    "        def __init__(self,com):\n",
    "            self.roba_connection = serial.Serial()\n",
    "            self.roba_connection.baudrate = 115200\n",
    "            self.roba_connection.port = com\n",
    "            self.roba_connection.timeout = 0.1\n",
    "            self.roba_connection.open()\n",
    "            self.lastdata=''\n",
    "            time.sleep(1)\n",
    "        # send data to ardiuno\n",
    "        def send_data(self,data):\n",
    "            if (self.roba_connection.is_open):\n",
    "                self.lastdata=\"\"\n",
    "                self.roba_connection.write(data.encode())\n",
    "                # while True:\n",
    "                #     v = self.roba_connection.readline().decode()\n",
    "                #     self.lastdata=self.lastdata+v\n",
    "                #     vs =set(v.split())\n",
    "                #     if (vs & {'off'} ) == {'off'}:\n",
    "                #         break\n",
    "                \n",
    "        # read data from arduino\n",
    "        def read_all(self):\n",
    "             if (self.roba_connection.is_open):\n",
    "                 return self.roba_connection.read_all().decode()\n",
    "                 \n",
    "        def close_S(self):\n",
    "            self.roba_connection.close()"
   ]
  },
  {
   "cell_type": "code",
   "execution_count": 3,
   "metadata": {},
   "outputs": [],
   "source": [
    "leg = legs(\"COM9\")\n"
   ]
  },
  {
   "cell_type": "code",
   "execution_count": 7,
   "metadata": {},
   "outputs": [
    {
     "data": {
      "text/plain": [
       "'{\"pot\":[529,424,525,246,451,737,481,619]}\\r\\n \\r\\noff\\r\\n'"
      ]
     },
     "execution_count": 7,
     "metadata": {},
     "output_type": "execute_result"
    }
   ],
   "source": [
    "leg.send_data(\"{lp:[113],deg:[331],speed:[200]}\")\n",
    "leg.read_all()"
   ]
  },
  {
   "cell_type": "code",
   "execution_count": null,
   "metadata": {},
   "outputs": [],
   "source": []
  },
  {
   "cell_type": "code",
   "execution_count": null,
   "metadata": {},
   "outputs": [],
   "source": []
  },
  {
   "cell_type": "code",
   "execution_count": null,
   "metadata": {},
   "outputs": [],
   "source": []
  },
  {
   "cell_type": "code",
   "execution_count": null,
   "metadata": {},
   "outputs": [],
   "source": []
  },
  {
   "cell_type": "code",
   "execution_count": null,
   "metadata": {},
   "outputs": [],
   "source": []
  },
  {
   "cell_type": "markdown",
   "metadata": {},
   "source": []
  },
  {
   "cell_type": "code",
   "execution_count": 22,
   "metadata": {},
   "outputs": [],
   "source": [
    "leg.close_S()"
   ]
  },
  {
   "cell_type": "code",
   "execution_count": 11,
   "metadata": {},
   "outputs": [],
   "source": [
    "leg = legs(\"COM9\")"
   ]
  },
  {
   "cell_type": "code",
   "execution_count": 24,
   "metadata": {},
   "outputs": [
    {
     "data": {
      "text/plain": [
       "'{\"pot\":[527,424,530,260,363,711,480,618]}\\r\\n \\r\\noff\\r\\n'"
      ]
     },
     "execution_count": 24,
     "metadata": {},
     "output_type": "execute_result"
    }
   ],
   "source": [
    "leg.send_data(\"{lp:[113],deg:[331],speed:[200]}\")\n",
    "leg.read_all()"
   ]
  },
  {
   "cell_type": "code",
   "execution_count": null,
   "metadata": {},
   "outputs": [],
   "source": []
  },
  {
   "cell_type": "code",
   "execution_count": null,
   "metadata": {},
   "outputs": [],
   "source": []
  },
  {
   "cell_type": "code",
   "execution_count": 17,
   "metadata": {},
   "outputs": [
    {
     "data": {
      "application/vnd.jupyter.widget-view+json": {
       "model_id": "44aefc0c09f84b2b82db3195d1a9b4d4",
       "version_major": 2,
       "version_minor": 0
      },
      "text/plain": [
       "interactive(children=(IntSlider(value=530, description='L1:', layout=Layout(width='900px'), max=650, min=429),…"
      ]
     },
     "metadata": {},
     "output_type": "display_data"
    },
    {
     "data": {
      "application/vnd.jupyter.widget-view+json": {
       "model_id": "bc4df978c9af4bf98d085d4bce41f7d8",
       "version_major": 2,
       "version_minor": 0
      },
      "text/plain": [
       "interactive(children=(IntSlider(value=0, description='L2:', layout=Layout(width='900px'), max=600), Output()),…"
      ]
     },
     "metadata": {},
     "output_type": "display_data"
    },
    {
     "data": {
      "application/vnd.jupyter.widget-view+json": {
       "model_id": "e651006eec60479ba8d952086197cc29",
       "version_major": 2,
       "version_minor": 0
      },
      "text/plain": [
       "interactive(children=(IntSlider(value=525, description='L3:', layout=Layout(width='900px'), max=699, min=401),…"
      ]
     },
     "metadata": {},
     "output_type": "display_data"
    },
    {
     "data": {
      "application/vnd.jupyter.widget-view+json": {
       "model_id": "5f26391c88cc43f0a013ab60ef5157d7",
       "version_major": 2,
       "version_minor": 0
      },
      "text/plain": [
       "interactive(children=(IntSlider(value=0, description='L4:', layout=Layout(width='900px'), max=600), Output()),…"
      ]
     },
     "metadata": {},
     "output_type": "display_data"
    },
    {
     "data": {
      "application/vnd.jupyter.widget-view+json": {
       "model_id": "241a5d0e41244b44892e2fc3286c3715",
       "version_major": 2,
       "version_minor": 0
      },
      "text/plain": [
       "interactive(children=(IntSlider(value=475, description='L5:', layout=Layout(width='900px'), max=549, min=350),…"
      ]
     },
     "metadata": {},
     "output_type": "display_data"
    },
    {
     "data": {
      "application/vnd.jupyter.widget-view+json": {
       "model_id": "822ea43e981541f18686fd2f53d0289c",
       "version_major": 2,
       "version_minor": 0
      },
      "text/plain": [
       "interactive(children=(IntSlider(value=0, description='L6:', layout=Layout(width='900px'), max=600), Output()),…"
      ]
     },
     "metadata": {},
     "output_type": "display_data"
    },
    {
     "data": {
      "application/vnd.jupyter.widget-view+json": {
       "model_id": "0813aafa8f74433c8e46695150e30a01",
       "version_major": 2,
       "version_minor": 0
      },
      "text/plain": [
       "interactive(children=(IntSlider(value=480, description='L7:', layout=Layout(width='900px'), max=610, min=361),…"
      ]
     },
     "metadata": {},
     "output_type": "display_data"
    },
    {
     "data": {
      "application/vnd.jupyter.widget-view+json": {
       "model_id": "94a126325cc64d0d85e2fa594274305e",
       "version_major": 2,
       "version_minor": 0
      },
      "text/plain": [
       "interactive(children=(IntSlider(value=0, description='L8:', layout=Layout(width='900px'), max=600), Output()),…"
      ]
     },
     "metadata": {},
     "output_type": "display_data"
    }
   ],
   "source": [
    "from ipywidgets import Layout, interact, IntSlider\n",
    "import ipywidgets as widgets\n",
    " \n",
    "def L1(x):\n",
    "    f= \"{con:[2],lp:[1],deg:[\"  \n",
    "    m=x\n",
    "    l=\"],speed:[150]}\"\n",
    "    txs=f+str(m)+l\n",
    "    leg.send_data(txs)\n",
    "    leg.read_all()\n",
    "     \n",
    "interact(L1, x=IntSlider(530, 429, 650, 1, description='L1:',  layout=Layout(width='900px')  ));\n",
    "\n",
    "def L2(x):\n",
    "    f= \"{con:[2],lp:[2],deg:[\"  \n",
    "    m=x\n",
    "    l=\"],speed:[150]}\"\n",
    "    txs=f+str(m)+l\n",
    "    # leg.send_data(txs)\n",
    "    # leg.read_all()\n",
    "\n",
    "interact(L2, x=IntSlider(0, 0, 600, 1,description='L2:', layout=Layout(width='900px')));\n",
    "\n",
    "def L3(x):\n",
    "    f= \"{con:[2],lp:[3],deg:[\"  \n",
    "    m=x\n",
    "    l=\"],speed:[150]}\"\n",
    "    txs=f+str(m)+l\n",
    "    leg.send_data(txs)\n",
    "    leg.read_all()\n",
    "\n",
    "interact(L3, x=IntSlider(525, 401, 699, 1,description='L3:', layout=Layout(width='900px')));\n",
    "\n",
    "def L4(x):\n",
    "    f= \"{con:[2],lp:[4],deg:[\"  \n",
    "    m=x\n",
    "    l=\"],speed:[150]}\"\n",
    "    # txs=f+str(m)+l\n",
    "    # leg.send_data(txs)\n",
    "    # leg.read_all()\n",
    "\n",
    "interact(L4, x=IntSlider(0, 0, 600, 1,description='L4:', layout=Layout(width='900px')));\n",
    "\n",
    "def L5(x):\n",
    "    f= \"{con:[2],lp:[5],deg:[\"  \n",
    "    m=x\n",
    "    l=\"],speed:[150]}\"\n",
    "    txs=f+str(m)+l\n",
    "    leg.send_data(txs)\n",
    "    # print(leg.read_all())\n",
    "\n",
    "interact(L5, x=IntSlider(475, 350, 549, 1,description='L5:', layout=Layout(width='900px')));\n",
    "\n",
    "def L6(x):\n",
    "    f= \"{con:[2],lp:[6],deg:[\"  \n",
    "    m=x\n",
    "    l=\"],speed:[150]}\"\n",
    "    txs=f+str(m)+l\n",
    "    # leg.send_data(txs)\n",
    "    # leg.read_all()\n",
    "\n",
    "interact(L6, x=IntSlider(0, 0, 600, 1,description='L6:', layout=Layout(width='900px')));\n",
    "\n",
    "def L7(x):\n",
    "    f= \"{con:[2],lp:[7],deg:[\"  \n",
    "    m=x\n",
    "    l=\"],speed:[150]}\"\n",
    "    txs=f+str(m)+l\n",
    "    leg.send_data(txs)\n",
    "    leg.read_all()\n",
    "\n",
    "interact(L7, x=IntSlider(480, 361, 610, 1,description='L7:', layout=Layout(width='900px')));\n",
    "\n",
    "def L8(x):\n",
    "\n",
    "    f= \"{con:[2],lp:[8],deg:[\"  \n",
    "    m=x\n",
    "    l=\"],speed:[150]}\"\n",
    "    txs=f+str(m)+l\n",
    "    # leg.send_data(txs)\n",
    "    # leg.read_all()\n",
    "    \n",
    "interact(L8, x=IntSlider(0, 0, 600, 1,description='L8:', layout=Layout(width='900px')));\n"
   ]
  },
  {
   "cell_type": "code",
   "execution_count": null,
   "metadata": {},
   "outputs": [],
   "source": []
  },
  {
   "cell_type": "code",
   "execution_count": 390,
   "metadata": {},
   "outputs": [],
   "source": [
    "\n",
    "tx = \"{lp:[23,27],deg:[330],speed:[180,180]}\""
   ]
  },
  {
   "cell_type": "code",
   "execution_count": 391,
   "metadata": {},
   "outputs": [
    {
     "data": {
      "text/plain": [
       "'{lp:[23,27],deg:[330],speed:[180,180]}'"
      ]
     },
     "execution_count": 391,
     "metadata": {},
     "output_type": "execute_result"
    }
   ],
   "source": [
    "tx"
   ]
  },
  {
   "cell_type": "code",
   "execution_count": 394,
   "metadata": {},
   "outputs": [],
   "source": []
  },
  {
   "cell_type": "code",
   "execution_count": 395,
   "metadata": {},
   "outputs": [],
   "source": []
  },
  {
   "cell_type": "code",
   "execution_count": 396,
   "metadata": {},
   "outputs": [
    {
     "data": {
      "text/plain": [
       "'{lp:[23,27],deg:[ 330],speed:[180,180]}'"
      ]
     },
     "execution_count": 396,
     "metadata": {},
     "output_type": "execute_result"
    }
   ],
   "source": [
    "txs"
   ]
  },
  {
   "cell_type": "code",
   "execution_count": null,
   "metadata": {},
   "outputs": [],
   "source": []
  }
 ],
 "metadata": {
  "interpreter": {
   "hash": "380030d1298d5a27518acca789ff38fe82bbf2e68b73263de6a6bf23efb7704c"
  },
  "kernelspec": {
   "display_name": "Python 3.8.3 64-bit ('base': conda)",
   "language": "python",
   "name": "python3"
  },
  "language_info": {
   "codemirror_mode": {
    "name": "ipython",
    "version": 3
   },
   "file_extension": ".py",
   "mimetype": "text/x-python",
   "name": "python",
   "nbconvert_exporter": "python",
   "pygments_lexer": "ipython3",
   "version": "3.8.3"
  },
  "orig_nbformat": 4
 },
 "nbformat": 4,
 "nbformat_minor": 2
}
