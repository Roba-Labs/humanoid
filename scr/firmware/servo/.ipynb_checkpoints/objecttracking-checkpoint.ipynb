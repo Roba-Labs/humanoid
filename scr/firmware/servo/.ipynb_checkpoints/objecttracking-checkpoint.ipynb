{
 "cells": [
  {
   "cell_type": "code",
   "execution_count": 1,
   "id": "51c997a2-2548-4132-b55d-abaa7f3ca79e",
   "metadata": {},
   "outputs": [],
   "source": [
    "import sys\n",
    "sys.path.insert(1, '/home/roba/Robot_roba/scr/Robamain')  \n",
    "sys.path.insert(1, '/home/roba/Robot_roba/scr/Roba_conversion_ai')  \n",
    "sys.path.insert(1, '/home/roba/Robot_roba/scr/Roba_vision')  \n",
    "sys.path.insert(1, '/home/roba/Robot_roba/scr/firmware/servo')  \n",
    "\n",
    "from robaipcam import Ipcam\n",
    "from IPython.display import clear_output\n",
    "from camera3D2 import Camera_3D\n",
    "from threading import Thread \n",
    "import time\n",
    "import copy\n",
    "import tinyik\n",
    "import numpy as np\n",
    "from motor_init import MOTOR_INIT\n",
    "from Inverk import Roba_Robotf\n",
    "import os\n",
    "from wristfingers import Fingers\n",
    "from roba_record import Roba_recoddata\n",
    "outloop=False"
   ]
  },
  {
   "cell_type": "code",
   "execution_count": 2,
   "id": "96f53f26-d593-45f5-ac3a-140cfdb1545a",
   "metadata": {},
   "outputs": [
    {
     "name": "stdout",
     "output_type": "stream",
     "text": [
      "Succeeded to open the port\n",
      "Succeeded to change the baudrate\n",
      "{1: 275, 2: 326, 3: 180, 4: 345, 5: 150, 6: 130, 7: 135, 8: 99, 9: 215, 10: 90, 11: 150, 12: 200, 13: 225, 14: 175}\n"
     ]
    }
   ],
   "source": [
    "motor = MOTOR_INIT()\n",
    "robarobot = Roba_Robotf()"
   ]
  },
  {
   "cell_type": "code",
   "execution_count": 3,
   "id": "8b73f9ae-92a7-439d-af64-5e65becbd24b",
   "metadata": {},
   "outputs": [],
   "source": [
    "robar=Roba_recoddata(motor.init_postion)"
   ]
  },
  {
   "cell_type": "code",
   "execution_count": 4,
   "id": "ec118eae-d4b0-44ae-8208-0a6b93033b9e",
   "metadata": {},
   "outputs": [],
   "source": [
    "motor.initmotor()"
   ]
  },
  {
   "cell_type": "code",
   "execution_count": 5,
   "id": "9344d19a-cc07-4784-98ac-2b9dcbaecd29",
   "metadata": {},
   "outputs": [],
   "source": [
    "motor.release_motors([4])"
   ]
  },
  {
   "cell_type": "code",
   "execution_count": 3,
   "id": "015364fb-8c47-4aa5-81d2-b9a78ff64a06",
   "metadata": {},
   "outputs": [
    {
     "name": "stdout",
     "output_type": "stream",
     "text": [
      "[1, 2, 3, 4, 5, 6, 7, 8, 9, 10, 11, 12, 13, 14]\n"
     ]
    }
   ],
   "source": [
    "ID = motor.LEFT_AHND_GET_ID()\n",
    "print(ID)"
   ]
  },
  {
   "cell_type": "code",
   "execution_count": 5,
   "id": "e1effb8b-d571-4f08-bdc7-91f7cde7d615",
   "metadata": {},
   "outputs": [],
   "source": [
    "motor.release_motors(ID)"
   ]
  },
  {
   "cell_type": "code",
   "execution_count": 29,
   "id": "800a1de6-cfbf-4917-baff-99800230b82b",
   "metadata": {},
   "outputs": [
    {
     "name": "stdout",
     "output_type": "stream",
     "text": [
      "{1: 275, 2: 325, 3: 183, 4: 342, 5: 151, 6: 131, 7: 135, 8: 101, 9: 200, 10: 90, 11: 149, 12: 200, 13: 225, 14: 172}\n"
     ]
    }
   ],
   "source": [
    "motors_p = motor.LEFT_AHND_GET_POS(ID)\n",
    "print(motors_p)"
   ]
  },
  {
   "cell_type": "code",
   "execution_count": null,
   "id": "d9d97da1-7016-4f6b-aef8-598ca736c382",
   "metadata": {},
   "outputs": [],
   "source": [
    "# [326,175,326]\n",
    "# [98,98,250]"
   ]
  },
  {
   "cell_type": "code",
   "execution_count": 6,
   "id": "7792c8e7-ea0f-4d97-84bc-5da035bc4ce0",
   "metadata": {},
   "outputs": [],
   "source": [
    " \n",
    "headm = {5: 276, 11: 148}  # 13:225, 14: 175\n",
    "speed = {2:100,8:100}\n",
    "vlu = motor.LEFT_AHND_SET_POS([2,8],headm,speed)"
   ]
  },
  {
   "cell_type": "code",
   "execution_count": null,
   "id": "0f735eb1-b130-4921-b606-c3a075a424e4",
   "metadata": {},
   "outputs": [],
   "source": [
    "[200,5,360],"
   ]
  },
  {
   "cell_type": "code",
   "execution_count": 12,
   "id": "6c552194-7eab-4153-9570-6834097fa522",
   "metadata": {},
   "outputs": [],
   "source": [
    "headm = {9:215}  # 13:225, 14: 175\n",
    "speed = {9:10}\n",
    "vlu = motor.LEFT_AHND_SET_POS([9],headm,speed)"
   ]
  },
  {
   "cell_type": "code",
   "execution_count": 9,
   "id": "672f48fe-49b3-40c5-bfab-9fd3d79a6c59",
   "metadata": {},
   "outputs": [],
   "source": [
    "n=5\n",
    "v=140\n",
    "headm = {n:v}  # 13:225, 14: 175\n",
    "speed = {n:50}\n",
    "vlu = motor.LEFT_AHND_SET_POS([n],headm,speed)"
   ]
  },
  {
   "cell_type": "code",
   "execution_count": 3,
   "id": "c766426f-37f7-465f-b5f1-ab013af08f11",
   "metadata": {},
   "outputs": [],
   "source": [
    "n=10\n",
    "v=100\n",
    "headm = {n:v}  # 13:225, 14: 175\n",
    "speed = {n:10}\n",
    "vlu = motor.LEFT_AHND_SET_POS([n],headm,speed)"
   ]
  },
  {
   "cell_type": "code",
   "execution_count": null,
   "id": "e7e56c7d-588d-4649-ab0d-43d2318fde4e",
   "metadata": {},
   "outputs": [],
   "source": []
  },
  {
   "cell_type": "code",
   "execution_count": 7,
   "id": "782f4963-4659-41aa-a8c3-117c6e7d477a",
   "metadata": {},
   "outputs": [
    {
     "name": "stderr",
     "output_type": "stream",
     "text": [
      "Using cache found in /home/roba/.cache/torch/hub/ultralytics_yolov5_master\n",
      "YOLOv5 🚀 2021-12-13 torch 1.9.0a0+gitd69c22d CUDA:0 (NVIDIA Tegra X1, 3964.1796875MB)\n",
      "\n",
      "Fusing layers... \n",
      "Model Summary: 213 layers, 7225885 parameters, 0 gradients\n",
      "Adding AutoShape... \n"
     ]
    }
   ],
   "source": [
    "from obj_dection import track_obj\n",
    "objtrack = track_obj()"
   ]
  },
  {
   "cell_type": "code",
   "execution_count": null,
   "id": "c29ecd3b-5227-4a60-9c7d-5307e4147711",
   "metadata": {},
   "outputs": [],
   "source": []
  },
  {
   "cell_type": "code",
   "execution_count": 8,
   "id": "a582cb0f-6f98-4e22-9834-4524b80f34df",
   "metadata": {},
   "outputs": [],
   "source": [
    "global xyzf\n",
    "global xyzf2\n",
    "global oth\n",
    "global arepos\n",
    "arepos=[]\n",
    "xyzf2=0\n",
    "oth=\"otj\"\n",
    "def visonaipcam():\n",
    "      global oth\n",
    "      global xyzf\n",
    "      global xyzf2\n",
    "      global outloop\n",
    "      global arepos\n",
    "      roba_cam = Camera_3D()\n",
    "      time.sleep(1)\n",
    "      robacam = Ipcam(\"192.168.0.107\")\n",
    "      try:\n",
    "            robacam.runserver()\n",
    "            while outloop:\n",
    "                  clear_output(True)\n",
    "                  img,ver,boxs,depth_image= roba_cam.get_2D_3D_img_pos(0)\n",
    "                  #print(depth_image.shape)\n",
    "                  img,objects= objtrack.calculat(img,ver,depth_image)\n",
    "                  robacam.sendimg(img)\n",
    "                  \n",
    "                  for obj in objects: \n",
    "                      if obj[1]:\n",
    "                          for xyzs in obj[0]:\n",
    "                                print(xyzs)\n",
    "                  try:\n",
    "                      rdata = robacam.recvdata()              \n",
    "                      if rdata[0]==\"roba\":\n",
    "                          print(rdata)\n",
    "                      else:\n",
    "                         oth = rdata\n",
    "                         arepos = objtrack.getcropperpos(oth,ver)\n",
    "                      print(oth)\n",
    "                      print(arepos)\n",
    "                  except:\n",
    "                    print(\"error\")\n",
    "                      \n",
    "                       \n",
    "      finally:\n",
    "        roba_cam.break_loop=True\n",
    "        img,ver,boxs,depth_image= roba_cam.get_2D_3D_img_pos(0)\n",
    "        robacam.stopserver()\n",
    "        roba_cam.pipeline.stop()\n",
    "        print(\"shut down all\")\n",
    "        for obj in objects: \n",
    "            if obj[1]:\n",
    "                for xyzs in obj[0]:\n",
    "                    print(xyzs)"
   ]
  },
  {
   "cell_type": "code",
   "execution_count": 9,
   "id": "6dea4fa0-e794-4f32-a076-8140c24e4e4f",
   "metadata": {},
   "outputs": [
    {
     "name": "stdout",
     "output_type": "stream",
     "text": [
      "['roba']\n",
      "otj\n",
      "[]\n"
     ]
    }
   ],
   "source": [
    "outloop=True\n",
    "th1 = Thread(target=visonaipcam)\n",
    "th1.start()"
   ]
  },
  {
   "cell_type": "code",
   "execution_count": 60,
   "id": "baf74030-05b8-4994-b6b1-031376f7db29",
   "metadata": {},
   "outputs": [
    {
     "name": "stdout",
     "output_type": "stream",
     "text": [
      "['roba']\n",
      "otj\n",
      "[]\n",
      "Close server \n",
      "shut down all\n"
     ]
    }
   ],
   "source": [
    "outloop=False"
   ]
  },
  {
   "cell_type": "code",
   "execution_count": 89,
   "id": "5bc1b573-fd6d-4408-9a53-d07aa9c025d3",
   "metadata": {},
   "outputs": [
    {
     "name": "stdout",
     "output_type": "stream",
     "text": [
      "{1: 275, 2: 325, 5: 151, 6: 131, 7: 135, 8: 101, 9: 200, 10: 90, 11: 149, 12: 200, 13: 225, 14: 172}\n"
     ]
    }
   ],
   "source": [
    "for i in range(1):\n",
    "    time.sleep(1)\n",
    "    clear_output(True)\n",
    "    print(motor.LEFT_AHND_GET_POS(ID))"
   ]
  },
  {
   "cell_type": "code",
   "execution_count": null,
   "id": "e09ae748-509d-496c-86ce-4e61d98a7ca3",
   "metadata": {},
   "outputs": [],
   "source": [
    "['roba']\n",
    "[[724, 248], [751, 278]]\n",
    "[[0.191, 0.19, 0.19], [0.013, 0.016, 0.186], [0.348, 0.361]]"
   ]
  },
  {
   "cell_type": "code",
   "execution_count": 44,
   "id": "772e9162-81ae-437f-8690-16f5242e5557",
   "metadata": {},
   "outputs": [
    {
     "name": "stdout",
     "output_type": "stream",
     "text": [
      "['roba']\n",
      "[[604, 187], [630, 208]]\n",
      "[[0.115, 0.117, 0.118], [-0.023, -0.023, 0.111], [0.348, 0.356]]\n"
     ]
    }
   ],
   "source": [
    "obj2=[   -0.05,   -0.073869,     0.25265]\n",
    "rightpos=[]"
   ]
  },
  {
   "cell_type": "code",
   "execution_count": 45,
   "id": "3a067e00-ab6a-4ac0-a5f4-fb73789ed988",
   "metadata": {},
   "outputs": [
    {
     "name": "stdout",
     "output_type": "stream",
     "text": [
      "['roba']\n",
      "[[604, 187], [630, 208]]\n",
      "[[0.115, 0.117, 0.118], [-0.023, -0.023, 0.111], [0.348, 0.356]]\n"
     ]
    }
   ],
   "source": [
    "if obj2[0]>0:\n",
    "    \n",
    "    angl,nposes,rang= robarobot.get_joint_ang_Right_hand(obj2)\n",
    "    print(\" left \",angl)\n",
    "    if rang:\n",
    "        angl.append(0)\n",
    "        angl.append(0)\n",
    "        angl[0]=-angl[0]\n",
    "        angl[3]=-angl[3]\n",
    "        roba_org_m_pos = motor.ReconstructAngle_right(angl)\n",
    "        print(\" roba_org_m_pos \",roba_org_m_pos)\n",
    "        \n",
    "if obj2[0]<0:\n",
    "\n",
    "    angl,nposes,rang= robarobot.get_joint_ang_left_hand(obj2)\n",
    "    print(\" right \",angl)\n",
    "    if rang:\n",
    "        angl.append(0)\n",
    "        angl.append(0)\n",
    "        roba_org_m_pos = motor.ReconstructAngle_left(angl)\n",
    "        rightpos=roba_org_m_pos\n",
    "        print(\" roba_org_m_pos \",roba_org_m_pos)\n",
    "        time.sleep(3)"
   ]
  },
  {
   "cell_type": "code",
   "execution_count": 88,
   "id": "a0b9e55e-bba2-437d-b3ec-da14cc2ac1be",
   "metadata": {},
   "outputs": [
    {
     "name": "stdout",
     "output_type": "stream",
     "text": [
      "Close server \n",
      "shut down all\n"
     ]
    },
    {
     "name": "stderr",
     "output_type": "stream",
     "text": [
      "Exception in thread Thread-4:\n",
      "Traceback (most recent call last):\n",
      "  File \"/usr/lib/python3.6/threading.py\", line 916, in _bootstrap_inner\n",
      "    self.run()\n",
      "  File \"/usr/lib/python3.6/threading.py\", line 864, in run\n",
      "    self._target(*self._args, **self._kwargs)\n",
      "  File \"<ipython-input-8-8ea4eb34fb7a>\", line 24, in visonaipcam\n",
      "    robacam.sendimg(img)\n",
      "  File \"/home/roba/Robot_roba/scr/firmware/servo/robaipcam.py\", line 39, in sendimg\n",
      "    self.client_socket.sendall(message)\n",
      "BrokenPipeError: [Errno 32] Broken pipe\n",
      "\n"
     ]
    }
   ],
   "source": [
    "motor.initmotor()"
   ]
  },
  {
   "cell_type": "code",
   "execution_count": 76,
   "id": "0091c337-7938-4172-ad3d-704959302a02",
   "metadata": {},
   "outputs": [
    {
     "name": "stdout",
     "output_type": "stream",
     "text": [
      "['roba']\n",
      "[[659, 421], [699, 457]]\n",
      "[[0.174, 0.176, 0.177], [0.136, 0.136, 0.163], [0.389, 0.409]]\n"
     ]
    }
   ],
   "source": [
    "motors_p = motor.LEFT_AHND_GET_POS(ID)\n",
    "robalist =[Roba_recoddata(motors_p)]\n",
    "#motor.init_postion"
   ]
  },
  {
   "cell_type": "code",
   "execution_count": 47,
   "id": "5b7b1c2a-d991-4029-a608-070a26d02852",
   "metadata": {},
   "outputs": [
    {
     "name": "stdout",
     "output_type": "stream",
     "text": [
      "['roba']\n",
      "[[604, 187], [630, 208]]\n",
      "[[0.115, 0.117, 0.118], [-0.023, -0.023, 0.111], [0.348, 0.356]]\n"
     ]
    }
   ],
   "source": [
    "mip = copy.deepcopy(motor.LEFT_AHND_GET_POS(ID))"
   ]
  },
  {
   "cell_type": "code",
   "execution_count": 48,
   "id": "a38c5fc2-643f-4802-bdd9-a0b1f68acdda",
   "metadata": {},
   "outputs": [
    {
     "name": "stdout",
     "output_type": "stream",
     "text": [
      "['roba']\n",
      "[[604, 187], [630, 208]]\n",
      "[[0.115, 0.117, 0.118], [-0.023, -0.023, 0.111], [0.348, 0.356]]\n"
     ]
    }
   ],
   "source": [
    "robr = {13: 250, 14: 130} \n",
    "for ri in rightpos:\n",
    "    mip[ri]=rightpos[ri]\n",
    "for ri in robr:\n",
    "    mip[ri]=robr[ri]"
   ]
  },
  {
   "cell_type": "code",
   "execution_count": 49,
   "id": "06d00540-f705-4693-b5f3-b0ab584baf6c",
   "metadata": {},
   "outputs": [
    {
     "name": "stdout",
     "output_type": "stream",
     "text": [
      "['roba']\n",
      "[[604, 187], [630, 208]]\n",
      "[[0.115, 0.117, 0.118], [-0.023, -0.023, 0.111], [0.348, 0.356]]\n"
     ]
    }
   ],
   "source": [
    "mip"
   ]
  },
  {
   "cell_type": "code",
   "execution_count": 50,
   "id": "cd1130c1-1b37-4a1e-a343-5b8f052f862f",
   "metadata": {},
   "outputs": [
    {
     "name": "stdout",
     "output_type": "stream",
     "text": [
      "['roba']\n",
      "[[604, 187], [630, 208]]\n",
      "[[0.115, 0.117, 0.118], [-0.023, -0.023, 0.111], [0.348, 0.356]]\n"
     ]
    }
   ],
   "source": [
    "robalist.append(Roba_recoddata(mip))"
   ]
  },
  {
   "cell_type": "code",
   "execution_count": 84,
   "id": "11667b99-c7f2-4cc3-b63a-ade52da64524",
   "metadata": {},
   "outputs": [
    {
     "name": "stdout",
     "output_type": "stream",
     "text": [
      "['roba']\n",
      "[[659, 421], [699, 457]]\n",
      "[[0.174, 0.176, 0.177], [0.136, 0.136, 0.163], [0.389, 0.409]]\n"
     ]
    }
   ],
   "source": [
    "rdatas = robar.recon_speed(robalist,200)"
   ]
  },
  {
   "cell_type": "code",
   "execution_count": 46,
   "id": "3a95f280-4598-4d26-b95d-367671c68ef9",
   "metadata": {},
   "outputs": [
    {
     "name": "stdout",
     "output_type": "stream",
     "text": [
      "['roba']\n",
      "[[604, 187], [630, 208]]\n",
      "[[0.115, 0.117, 0.118], [-0.023, -0.023, 0.111], [0.348, 0.356]]\n"
     ]
    }
   ],
   "source": [
    "rdatas.pop(0)"
   ]
  },
  {
   "cell_type": "code",
   "execution_count": 81,
   "id": "f4d0a25b-e609-4292-81c9-f3a1407c1166",
   "metadata": {},
   "outputs": [
    {
     "name": "stdout",
     "output_type": "stream",
     "text": [
      "['roba']\n",
      "[[659, 421], [699, 457]]\n",
      "[[0.174, 0.176, 0.177], [0.136, 0.136, 0.163], [0.389, 0.409]]\n"
     ]
    }
   ],
   "source": [
    "rdatas"
   ]
  },
  {
   "cell_type": "code",
   "execution_count": 54,
   "id": "90582cde-557e-44c5-8d9d-6f90f2041ff3",
   "metadata": {},
   "outputs": [
    {
     "name": "stdout",
     "output_type": "stream",
     "text": [
      "['roba']\n",
      "[[604, 187], [630, 208]]\n",
      "[[0.115, 0.117, 0.118], [-0.023, -0.023, 0.111], [0.348, 0.356]]\n"
     ]
    }
   ],
   "source": [
    "for rd in rdatas:\n",
    "    motor.LEFT_AHND_SET_POS(ID,rd.pos,rd.speed)"
   ]
  },
  {
   "cell_type": "code",
   "execution_count": null,
   "id": "81c68ee4-b41f-4fd4-9e74-a774bcc6a8c8",
   "metadata": {},
   "outputs": [],
   "source": []
  },
  {
   "cell_type": "code",
   "execution_count": 79,
   "id": "a5eb20fd-f6c2-4b0c-9862-8c34a0caeb6b",
   "metadata": {},
   "outputs": [
    {
     "name": "stdout",
     "output_type": "stream",
     "text": [
      "['roba']\n",
      "[[659, 421], [699, 457]]\n",
      "[[0.174, 0.176, 0.177], [0.136, 0.136, 0.163], [0.389, 0.409]]\n"
     ]
    }
   ],
   "source": [
    "backpos = {1: 206, 2: 300, 3: 261, 4: 342, 5: 151, 6: 130, 7: 135, 8: 94, 9: 200, 10: 90, 11: 149, 12: 200, 13: 221, 14: 109}\n",
    "robalist =[Roba_recoddata(motor.LEFT_AHND_GET_POS(ID))]"
   ]
  },
  {
   "cell_type": "code",
   "execution_count": 80,
   "id": "3f39b182-88b4-4984-92c0-be390500f9b6",
   "metadata": {},
   "outputs": [
    {
     "name": "stdout",
     "output_type": "stream",
     "text": [
      "['roba']\n",
      "[[659, 421], [699, 457]]\n",
      "[[0.174, 0.176, 0.177], [0.136, 0.136, 0.163], [0.389, 0.409]]\n"
     ]
    }
   ],
   "source": [
    "robalist.append(Roba_recoddata(motor.init_postion))"
   ]
  },
  {
   "cell_type": "code",
   "execution_count": null,
   "id": "1d8321ff-4f1e-4024-b1cc-f28bfbebd5b7",
   "metadata": {},
   "outputs": [],
   "source": []
  },
  {
   "cell_type": "code",
   "execution_count": 62,
   "id": "4daccf5d-891b-4f59-b942-ab0b8cf3d7f6",
   "metadata": {},
   "outputs": [
    {
     "name": "stdout",
     "output_type": "stream",
     "text": [
      "['roba']\n",
      "[[659, 421], [699, 457]]\n",
      "[[0.174, 0.176, 0.177], [0.136, 0.136, 0.163], [0.389, 0.409]]\n"
     ]
    }
   ],
   "source": [
    "ym=0\n",
    "xm=0\n",
    "headm = {13: 240, 14: 120}  # 13:225, 14: 175\n",
    "speed = {13:30,14:30}\n",
    "vlu = motor.LEFT_AHND_SET_POS([13,14],headm,speed)\n",
    "# [225,124,315], [175,111,225]"
   ]
  },
  {
   "cell_type": "code",
   "execution_count": 44,
   "id": "bd5bc412-8e8c-4081-8581-cb698bfafad9",
   "metadata": {},
   "outputs": [
    {
     "name": "stdout",
     "output_type": "stream",
     "text": [
      "[0.101, 0.137, 0.171]\n",
      "[-0.088, 0.036, 0.126]\n",
      "[0.313, 0.315]\n",
      "Close server \n",
      "shut down all\n",
      "[0.101, 0.137, 0.171]\n",
      "[-0.088, 0.036, 0.126]\n",
      "[0.313, 0.315]\n"
     ]
    }
   ],
   "source": [
    "outloop=False"
   ]
  },
  {
   "cell_type": "code",
   "execution_count": 132,
   "id": "825aa68c-0884-4c94-a566-b751010ed50d",
   "metadata": {},
   "outputs": [],
   "source": [
    "xyzf3 =copy.deepcopy(xyzf2)"
   ]
  },
  {
   "cell_type": "code",
   "execution_count": 133,
   "id": "82685d64-776b-4947-8779-801004d68272",
   "metadata": {},
   "outputs": [],
   "source": [
    "xyzf3 = [0.171,0.036,0.315]"
   ]
  },
  {
   "cell_type": "code",
   "execution_count": 134,
   "id": "89b33e9e-1876-4c9c-8260-f4e058975a28",
   "metadata": {},
   "outputs": [],
   "source": [
    "xyzf3[0]=xyzf3[0]*-1\n",
    "xyzf3[1]=xyzf3[1]*-1"
   ]
  },
  {
   "cell_type": "code",
   "execution_count": 135,
   "id": "2a9c9eeb-2048-48be-9fd6-c082e011f637",
   "metadata": {},
   "outputs": [
    {
     "data": {
      "text/plain": [
       "[-0.171, -0.036, 0.315]"
      ]
     },
     "execution_count": 135,
     "metadata": {},
     "output_type": "execute_result"
    }
   ],
   "source": [
    "xyzf3"
   ]
  },
  {
   "cell_type": "code",
   "execution_count": 136,
   "id": "6fd722d7-eb61-4ef4-b8a6-c126711c9c94",
   "metadata": {},
   "outputs": [],
   "source": [
    "ym=225 - headm[13] \n",
    "xm=175 - headm[14] "
   ]
  },
  {
   "cell_type": "code",
   "execution_count": 137,
   "id": "bb0ab25a-077d-41e3-b1b0-235a15c762ef",
   "metadata": {},
   "outputs": [
    {
     "name": "stdout",
     "output_type": "stream",
     "text": [
      "45 -15\n"
     ]
    }
   ],
   "source": [
    "print(xm,ym)"
   ]
  },
  {
   "cell_type": "code",
   "execution_count": 63,
   "id": "e1aae34b-73e8-43e7-91bd-a96b658a1ed1",
   "metadata": {},
   "outputs": [
    {
     "data": {
      "text/plain": [
       "array([  -0.032875,     0.17811,     0.12269])"
      ]
     },
     "execution_count": 63,
     "metadata": {},
     "output_type": "execute_result"
    }
   ],
   "source": [
    "h1=[0,0.14252,0] \n",
    "h2=[0,0.11498,0.06465] \n",
    "thead=0.14252+0.11498\n",
    "leg = tinyik.Actuator([h1,'y', 'x', h2])\n",
    "leg.angles = np.deg2rad([ym,xm])\n",
    "obj1=leg.ee\n",
    "obj1\n",
    "#array([   -0.02996,     0.20577,     0.11181])"
   ]
  },
  {
   "cell_type": "code",
   "execution_count": 139,
   "id": "6b401e1c-5085-41c0-b31c-897645cdeffd",
   "metadata": {},
   "outputs": [
    {
     "data": {
      "text/plain": [
       "[-0.171, 0.07898, 0.37965]"
      ]
     },
     "execution_count": 139,
     "metadata": {},
     "output_type": "execute_result"
    }
   ],
   "source": [
    "h2=[xyzf3[0],0.11498+xyzf3[1],0.06465+xyzf3[2]] \n",
    "h2"
   ]
  },
  {
   "cell_type": "code",
   "execution_count": 142,
   "id": "38fa630c-e9be-4cf0-a2ff-6520e3645caf",
   "metadata": {},
   "outputs": [
    {
     "data": {
      "text/plain": [
       "array([   -0.25009,   -0.073869,     0.27265])"
      ]
     },
     "execution_count": 142,
     "metadata": {},
     "output_type": "execute_result"
    }
   ],
   "source": [
    "h1=[0,0.14252,0] \n",
    "h2=[xyzf3[0],0.11498+xyzf3[1],0.07+xyzf3[2]] \n",
    "thead=0.14252+0.11498\n",
    "leg = tinyik.Actuator([h1,'y', 'x', h2])\n",
    "leg.angles = np.deg2rad([ym,xm])\n",
    "obj1=leg.ee\n",
    "obj1"
   ]
  },
  {
   "cell_type": "code",
   "execution_count": 138,
   "id": "c01d7975-c64f-4f8a-933b-c076dea600e2",
   "metadata": {},
   "outputs": [
    {
     "data": {
      "text/plain": [
       "[-0.171, -0.036, 0.315]"
      ]
     },
     "execution_count": 138,
     "metadata": {},
     "output_type": "execute_result"
    }
   ],
   "source": [
    "xyzf3"
   ]
  },
  {
   "cell_type": "code",
   "execution_count": 52,
   "id": "8213808e-3f91-4f29-8076-2ac73219838d",
   "metadata": {},
   "outputs": [
    {
     "data": {
      "text/plain": [
       "array([   -0.20387,     0.14211,     0.43769])"
      ]
     },
     "execution_count": 52,
     "metadata": {},
     "output_type": "execute_result"
    }
   ],
   "source": [
    "obj4= xyzf3+obj1\n",
    "obj4"
   ]
  },
  {
   "cell_type": "code",
   "execution_count": 53,
   "id": "fea588cc-9964-4968-9fd8-1b8a07a75da4",
   "metadata": {},
   "outputs": [
    {
     "data": {
      "text/plain": [
       "array([   -0.21623,   0.0093055,      0.1463])"
      ]
     },
     "execution_count": 53,
     "metadata": {},
     "output_type": "execute_result"
    }
   ],
   "source": [
    "thead=0.14252+0.11498\n",
    "h1=[0,thead,0] \n",
    "h3=xyzf3\n",
    "leg = tinyik.Actuator([h1,'y', 'x', h3])\n",
    "leg.angles = np.deg2rad([ym,xm])\n",
    "obj5=leg.ee\n",
    "obj5"
   ]
  },
  {
   "cell_type": "code",
   "execution_count": 54,
   "id": "45dfb360-821d-4864-b115-87999437773b",
   "metadata": {},
   "outputs": [],
   "source": [
    "obj5[2]=obj1[2]+xyzf3[2]"
   ]
  },
  {
   "cell_type": "code",
   "execution_count": 55,
   "id": "18332f03-546d-4e9b-b422-341f69d6e06a",
   "metadata": {},
   "outputs": [
    {
     "data": {
      "text/plain": [
       "array([   -0.21623,   0.0093055,     0.43769])"
      ]
     },
     "execution_count": 55,
     "metadata": {},
     "output_type": "execute_result"
    }
   ],
   "source": [
    "obj5"
   ]
  },
  {
   "cell_type": "code",
   "execution_count": 224,
   "id": "f259e826-5382-40e9-b571-16e91cace419",
   "metadata": {},
   "outputs": [
    {
     "name": "stdout",
     "output_type": "stream",
     "text": [
      "[0.084, 0.119, 0.152]\n",
      "[-0.096, 0.027, 0.316]\n",
      "[0.314, 0.317]\n"
     ]
    }
   ],
   "source": [
    "obj2=[   -0.20009,   -0.073869,     0.35265]"
   ]
  },
  {
   "cell_type": "code",
   "execution_count": null,
   "id": "f6633c47-d5c5-40fc-bdce-4033435d7321",
   "metadata": {},
   "outputs": [],
   "source": [
    "#array([  -0.095089,     0.10177,     0.29632])"
   ]
  },
  {
   "cell_type": "code",
   "execution_count": 91,
   "id": "34be9e34-e322-4731-b32d-e34713f8609d",
   "metadata": {},
   "outputs": [],
   "source": [
    "obj2=[   -0.30109,     0.05,     0.22]\n",
    "rightpos=0"
   ]
  },
  {
   "cell_type": "code",
   "execution_count": 227,
   "id": "5bc6ae89-a368-420a-83e4-4f606e0a6256",
   "metadata": {},
   "outputs": [],
   "source": [
    "rightpos=0"
   ]
  },
  {
   "cell_type": "code",
   "execution_count": 228,
   "id": "74e5c219-fc08-483e-805a-e8c4aaf63f0f",
   "metadata": {},
   "outputs": [
    {
     "name": "stdout",
     "output_type": "stream",
     "text": [
      "[0.084, 0.119, 0.152]\n",
      "[-0.097, 0.026, 0.323]\n",
      "[0.314, 0.318]\n"
     ]
    }
   ],
   "source": [
    "if obj2[0]>0:\n",
    "    \n",
    "    angl,nposes,rang= robarobot.get_joint_ang_Right_hand(obj2)\n",
    "    print(\" left \",angl)\n",
    "    if rang:\n",
    "        angl.append(0)\n",
    "        angl.append(0)\n",
    "        angl[0]=-angl[0]\n",
    "        angl[3]=-angl[3]\n",
    "        roba_org_m_pos = motor.ReconstructAngle_right(angl)\n",
    "        print(\" roba_org_m_pos \",roba_org_m_pos)\n",
    "        \n",
    "if obj2[0]<0:\n",
    "\n",
    "    angl,nposes,rang= robarobot.get_joint_ang_left_hand(obj2)\n",
    "    print(\" right \",angl)\n",
    "    if rang:\n",
    "        angl.append(0)\n",
    "        angl.append(0)\n",
    "        roba_org_m_pos = motor.ReconstructAngle_left(angl)\n",
    "        rightpos=roba_org_m_pos\n",
    "        print(\" roba_org_m_pos \",roba_org_m_pos)"
   ]
  },
  {
   "cell_type": "code",
   "execution_count": 173,
   "id": "db01f746-8ec0-48fd-9445-0db7b6eca949",
   "metadata": {},
   "outputs": [],
   "source": [
    "initpos = copy.deepcopy(motor.init_postion)"
   ]
  },
  {
   "cell_type": "code",
   "execution_count": 233,
   "id": "894183cb-e03b-437e-ae6e-9db6200fe789",
   "metadata": {},
   "outputs": [
    {
     "name": "stdout",
     "output_type": "stream",
     "text": [
      "[0.084, 0.119, 0.153]\n",
      "[-0.094, 0.026, 0.11]\n",
      "[0.314, 0.316]\n"
     ]
    }
   ],
   "source": [
    "rightpos"
   ]
  },
  {
   "cell_type": "code",
   "execution_count": 234,
   "id": "8e4b26ba-2b6a-460b-8113-ce03a609e421",
   "metadata": {},
   "outputs": [
    {
     "name": "stdout",
     "output_type": "stream",
     "text": [
      "[0.084, 0.119, 0.153]\n",
      "[-0.097, 0.027, 0.321]\n",
      "[0.314, 0.317]\n"
     ]
    }
   ],
   "source": [
    "initpos = {1: 275,\n",
    " 2: 325,\n",
    " 3: 180,\n",
    " 4: 345,\n",
    " 5: 150,\n",
    " 6: 130,\n",
    " 7: 135,\n",
    " 8: 101,\n",
    " 9: 200,\n",
    " 10: 90,\n",
    " 11: 150,\n",
    " 12: 200,\n",
    " 13: 240, 14: 130}"
   ]
  },
  {
   "cell_type": "code",
   "execution_count": 235,
   "id": "1166dfe7-1cc1-426b-8b18-297eb66b45d5",
   "metadata": {},
   "outputs": [
    {
     "name": "stdout",
     "output_type": "stream",
     "text": [
      "[0.084, 0.119, 0.152]\n",
      "[-0.095, 0.026, 0.315]\n",
      "[0.313, 0.316]\n"
     ]
    }
   ],
   "source": [
    "robalist=[Roba_recoddata(initpos)]"
   ]
  },
  {
   "cell_type": "code",
   "execution_count": 236,
   "id": "5ba00754-4e96-42b3-b077-e9706909032a",
   "metadata": {},
   "outputs": [],
   "source": [
    "mip = copy.deepcopy(initpos)"
   ]
  },
  {
   "cell_type": "code",
   "execution_count": 237,
   "id": "8dfe9813-544f-49b0-a456-73d3ec9d5ee2",
   "metadata": {},
   "outputs": [
    {
     "name": "stdout",
     "output_type": "stream",
     "text": [
      "[0.084, 0.119, 0.152]\n",
      "[-0.096, 0.027, 0.316]\n",
      "[0.314, 0.317]\n"
     ]
    }
   ],
   "source": [
    "robr = {1: 252.3747617101283, 2: 231.45179845138205, 3: 190.02244976974558, 4: 248.0, 5: 229.97755023025442, 6: 130, 13: 240, 14: 130}\n",
    "for ri in robr:\n",
    "    mip[ri]=robr[ri]\n",
    "# mip\n",
    "robalist.append(Roba_recoddata(mip))"
   ]
  },
  {
   "cell_type": "code",
   "execution_count": 238,
   "id": "0cf40a78-4f40-468d-bb2e-e6a667e37abe",
   "metadata": {},
   "outputs": [],
   "source": [
    "mip = copy.deepcopy(initpos)    \n",
    "robr = {1: 235.10248084246342, 2: 321.10747231416065, 3: 173.86504848448914, 4: 284.0, 5: 246.13495151551086, 6: 130, 13: 240, 14: 130}\n",
    "for ri in robr:\n",
    "    mip[ri]=robr[ri]\n",
    "robalist.append(Roba_recoddata(mip))"
   ]
  },
  {
   "cell_type": "code",
   "execution_count": 245,
   "id": "59b240a4-b60b-4ad6-83f5-3b841ee65ff8",
   "metadata": {},
   "outputs": [],
   "source": [
    "rdatas = robar.recon_speed(robalist,200)"
   ]
  },
  {
   "cell_type": "code",
   "execution_count": 246,
   "id": "326f7ed4-849f-4a7f-a624-3dc11a1e3a0d",
   "metadata": {},
   "outputs": [],
   "source": [
    "for rd in rdatas:\n",
    "    motor.LEFT_AHND_SET_POS(ID,rd.pos,rd.speed)"
   ]
  },
  {
   "cell_type": "code",
   "execution_count": 128,
   "id": "30530fbb-ecc7-4480-b091-1cb8b92b946c",
   "metadata": {},
   "outputs": [
    {
     "data": {
      "text/plain": [
       "[<roba_record.Roba_recoddata at 0x7f5e759a90>,\n",
       " <roba_record.Roba_recoddata at 0x7f5e759f60>]"
      ]
     },
     "execution_count": 128,
     "metadata": {},
     "output_type": "execute_result"
    }
   ],
   "source": [
    "rdatas"
   ]
  },
  {
   "cell_type": "code",
   "execution_count": 39,
   "id": "22d4c2b7-11fb-4d65-89bd-ba57cc70ded8",
   "metadata": {},
   "outputs": [
    {
     "data": {
      "text/plain": [
       "<roba_record.Roba_recoddata at 0x7f3391f0b8>"
      ]
     },
     "execution_count": 39,
     "metadata": {},
     "output_type": "execute_result"
    }
   ],
   "source": []
  },
  {
   "cell_type": "code",
   "execution_count": 241,
   "id": "4e1752b5-d1c9-4259-b764-dd9f6696ea35",
   "metadata": {},
   "outputs": [],
   "source": [
    "robalist=[]"
   ]
  },
  {
   "cell_type": "code",
   "execution_count": 242,
   "id": "acb23a93-88d1-4a4e-90f2-b239cccdbf1c",
   "metadata": {},
   "outputs": [],
   "source": [
    "mip = copy.deepcopy(initpos)    \n",
    "robr ={1: 252.3747617101283, 2: 200.45179845138205, 3: 190.02244976974558, 4: 248.0, 5: 229.97755023025442, 6: 130}\n",
    "for ri in robr:\n",
    "    mip[ri]=robr[ri]\n",
    "robalist.append(Roba_recoddata(mip))"
   ]
  },
  {
   "cell_type": "code",
   "execution_count": 243,
   "id": "f412fee5-2faf-4d99-9f95-d243d0987714",
   "metadata": {},
   "outputs": [],
   "source": [
    "mip = copy.deepcopy(initpos)    \n",
    "robalist.append(Roba_recoddata(initpos))"
   ]
  },
  {
   "cell_type": "code",
   "execution_count": 244,
   "id": "76ff5664-1849-459e-8382-c0e70cec86c8",
   "metadata": {},
   "outputs": [
    {
     "data": {
      "text/plain": [
       "[<roba_record.Roba_recoddata at 0x7f5e7604a8>,\n",
       " <roba_record.Roba_recoddata at 0x7f5e760cf8>]"
      ]
     },
     "execution_count": 244,
     "metadata": {},
     "output_type": "execute_result"
    }
   ],
   "source": [
    "robalist"
   ]
  },
  {
   "cell_type": "code",
   "execution_count": null,
   "id": "8751b8f6-5873-47fd-8c40-9a5e304aa667",
   "metadata": {},
   "outputs": [],
   "source": []
  },
  {
   "cell_type": "code",
   "execution_count": 18,
   "id": "bf512ba7-3be0-40af-b64c-818ba5f9fe49",
   "metadata": {},
   "outputs": [],
   "source": [
    "motor.release_motors(ID)"
   ]
  },
  {
   "cell_type": "code",
   "execution_count": null,
   "id": "39961b87-6a42-4161-82b9-070e270bdf9a",
   "metadata": {},
   "outputs": [],
   "source": []
  },
  {
   "cell_type": "code",
   "execution_count": 31,
   "id": "134d7931-525b-461d-a012-992be14358cb",
   "metadata": {},
   "outputs": [],
   "source": [
    "maxv = np.array([4,7,8,1,4,400,200,55,77,100])"
   ]
  },
  {
   "cell_type": "code",
   "execution_count": 32,
   "id": "d781f621-44ec-4710-9ac1-ecfa26e6ba45",
   "metadata": {},
   "outputs": [
    {
     "data": {
      "text/plain": [
       "31.5"
      ]
     },
     "execution_count": 32,
     "metadata": {},
     "output_type": "execute_result"
    }
   ],
   "source": [
    "np.median(maxv)"
   ]
  },
  {
   "cell_type": "code",
   "execution_count": null,
   "id": "7a166034-d641-41f8-b2fd-21ec77986016",
   "metadata": {},
   "outputs": [],
   "source": []
  }
 ],
 "metadata": {
  "kernelspec": {
   "display_name": "Python 3",
   "language": "python",
   "name": "python3"
  },
  "language_info": {
   "codemirror_mode": {
    "name": "ipython",
    "version": 3
   },
   "file_extension": ".py",
   "mimetype": "text/x-python",
   "name": "python",
   "nbconvert_exporter": "python",
   "pygments_lexer": "ipython3",
   "version": "3.6.9"
  }
 },
 "nbformat": 4,
 "nbformat_minor": 5
}
