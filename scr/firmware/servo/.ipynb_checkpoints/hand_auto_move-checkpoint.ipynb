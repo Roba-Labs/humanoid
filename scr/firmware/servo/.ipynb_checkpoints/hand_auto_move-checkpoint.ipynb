{
 "cells": [
  {
   "cell_type": "code",
   "execution_count": 1,
   "id": "a3ae9d31-ac6d-4e69-9153-1b1d8ac2041f",
   "metadata": {},
   "outputs": [],
   "source": [
    "import sys\n",
    "sys.path.insert(1, '/home/roba/Robot_roba/scr/Robamain')  \n",
    "sys.path.insert(1, '/home/roba/Robot_roba/scr/Roba_conversion_ai')  \n",
    "sys.path.insert(1, '/home/roba/Robot_roba/scr/Roba_vision')  \n",
    "sys.path.insert(1, '/home/roba/Robot_roba/scr/firmware/servo')  \n",
    "\n",
    "\n",
    "from IPython.display import clear_output\n",
    "import time\n",
    "from camera3D2 import Camera_3D\n",
    "import os\n",
    "from threading import Thread \n",
    "import copy\n",
    "import tinyik\n",
    "import numpy as np\n",
    "from motor_init import MOTOR_INIT\n",
    "from Inverk import Roba_Robotf\n",
    "from timeit import default_timer as timer\n",
    "from wristfingers import Fingers\n",
    "from roba_record import Roba_recoddata\n",
    "# import Speak2rpi\n"
   ]
  },
  {
   "cell_type": "code",
   "execution_count": 2,
   "id": "bb41b034-5eac-48d5-ae8b-3e2a15ae068d",
   "metadata": {},
   "outputs": [
    {
     "name": "stderr",
     "output_type": "stream",
     "text": [
      "Using cache found in /home/roba/.cache/torch/hub/ultralytics_yolov5_master\n",
      "YOLOv5 🚀 2021-12-13 torch 1.9.0a0+gitd69c22d CUDA:0 (NVIDIA Tegra X1, 3964.1796875MB)\n",
      "\n",
      "Fusing layers... \n",
      "Model Summary: 213 layers, 7225885 parameters, 0 gradients\n",
      "Adding AutoShape... \n"
     ]
    }
   ],
   "source": [
    "from obj_dection import track_obj\n",
    "objtrack = track_obj()"
   ]
  },
  {
   "cell_type": "code",
   "execution_count": 2,
   "id": "0457fd53-5f8d-4aaa-86e3-530c5d88e113",
   "metadata": {},
   "outputs": [
    {
     "name": "stdout",
     "output_type": "stream",
     "text": [
      "Succeeded to open the port\n",
      "Succeeded to change the baudrate\n",
      "{1: 275, 2: 325, 5: 150, 6: 130, 7: 135, 8: 101, 9: 200, 10: 90, 11: 150, 12: 200, 13: 225, 14: 175}\n"
     ]
    }
   ],
   "source": [
    "motor = MOTOR_INIT()\n",
    "robarobot = Roba_Robotf()"
   ]
  },
  {
   "cell_type": "code",
   "execution_count": 3,
   "id": "18a3e503-4a48-49b9-b636-575b226a8c84",
   "metadata": {},
   "outputs": [],
   "source": [
    "motor.initmotor()"
   ]
  },
  {
   "cell_type": "code",
   "execution_count": 4,
   "id": "88f3957e-ba9f-4446-937b-1ed65964bd62",
   "metadata": {},
   "outputs": [
    {
     "name": "stdout",
     "output_type": "stream",
     "text": [
      "[1, 2, 5, 6, 7, 8, 9, 10, 11, 12, 13, 14]\n"
     ]
    }
   ],
   "source": [
    "ID = motor.LEFT_AHND_GET_ID()\n",
    "print(ID)"
   ]
  },
  {
   "cell_type": "code",
   "execution_count": null,
   "id": "2d7c30af-dc18-4572-8aca-c86c3c402732",
   "metadata": {},
   "outputs": [],
   "source": []
  },
  {
   "cell_type": "code",
   "execution_count": 5,
   "id": "bd39638b-86de-4b7f-ade6-c553d08bba4e",
   "metadata": {},
   "outputs": [
    {
     "name": "stdout",
     "output_type": "stream",
     "text": [
      "{1: 275, 2: 325, 5: 151, 6: 130, 7: 135, 8: 101, 9: 200, 10: 90, 11: 149, 12: 200, 13: 223, 14: 175}\n"
     ]
    }
   ],
   "source": [
    "motors_p = motor.LEFT_AHND_GET_POS(ID)\n",
    "print(motors_p)"
   ]
  },
  {
   "cell_type": "code",
   "execution_count": 46,
   "id": "154c7495-297a-47a6-a9fb-65285ba1c650",
   "metadata": {},
   "outputs": [
    {
     "data": {
      "text/plain": [
       "87.26930618286133"
      ]
     },
     "execution_count": 46,
     "metadata": {},
     "output_type": "execute_result"
    }
   ],
   "source": [
    "init_postion = {13: 243, 14: 150}  # 13:225, 14: 175\n",
    "speed = {13:1000,14:1000}\n",
    "vlu = motor.LEFT_AHND_SET_POS([13,14],init_postion,speed)\n",
    "vlu*1000"
   ]
  },
  {
   "cell_type": "code",
   "execution_count": 4,
   "id": "19fb24db-c177-4239-bbec-4d3953d033a6",
   "metadata": {},
   "outputs": [],
   "source": [
    "# init_postion = {9: 200,10: 100}  # 13:225, 14: 175\n",
    "# speed = {9:50,10:3}\n",
    "# vlu = motor.LEFT_AHND_SET_POS([9,10],init_postion,speed)\n",
    "# vlu*1000"
   ]
  },
  {
   "cell_type": "code",
   "execution_count": 6,
   "id": "e520bc63-73fb-49bb-b7df-98f32a5d9fec",
   "metadata": {},
   "outputs": [],
   "source": [
    "motor.release_motors(ID)"
   ]
  },
  {
   "cell_type": "code",
   "execution_count": 8,
   "id": "a857b41f-e48d-439f-ba91-b280c3dbb0cf",
   "metadata": {},
   "outputs": [],
   "source": [
    "roba_cam = Camera_3D()"
   ]
  },
  {
   "cell_type": "code",
   "execution_count": 9,
   "id": "a01d7a1d-b8fa-41b5-9a36-6538fc6c845e",
   "metadata": {},
   "outputs": [],
   "source": [
    "def img_pos_cal1():\n",
    "    c=0\n",
    "    try:\n",
    "        print(\"start\")\n",
    "        while True:\n",
    "                clear_output(True)\n",
    "               \n",
    "                img,ver,boxs= roba_cam.get_2D_3D_img_pos(1)\n",
    "                lebal , xyzp,hw,obs=objtrack.get_only_xyz_len(img,ver,boxs)\n",
    "                #roba_cam.dispalym(img)\n",
    "                #c=c+1\n",
    "                time.sleep(0.01)\n",
    "                print(lebal)\n",
    "                print(xyzp)\n",
    "                print(hw)\n",
    "                print(obs)\n",
    "                # print(c)\n",
    "                if  break_loop:\n",
    "                    print(\"break\")\n",
    "                    break\n",
    "        print(\"break 2 \")\n",
    "        roba_cam.break_loop=True\n",
    "        img,ver,boxs= roba_cam.get_2D_3D_img_pos(1)\n",
    "    finally:\n",
    "        print(\"All break 2 \")\n",
    "        roba_cam.pipeline.stop()"
   ]
  },
  {
   "cell_type": "code",
   "execution_count": 10,
   "id": "e20a75ff-63c6-47cb-904b-4f6475351512",
   "metadata": {},
   "outputs": [
    {
     "name": "stdout",
     "output_type": "stream",
     "text": [
      "['1  1 = 0.0 Mxm , 0.0 mx , 0.0 Mx , 0.0 Mym , 0.0 my , 0.0 My , 0.0L [m]', '2  2 = -0.03 Mxm , -0.37 mx , -0.0 Mx , 0.0 Mym , -0.4 my , 0.07 My , 0.22L [m]']\n",
      "[-0.03, 0.0, 0.22]\n",
      "[0.47000000000000003, 0.37]\n",
      "  obs : 0.0L [m] 0.0 minL[m] obs : 0.2L [m] 0.0 minL[m]\n"
     ]
    }
   ],
   "source": [
    "break_loop=False\n",
    "roba_cam.break_loop=False\n",
    "th1 = Thread(target=img_pos_cal1)\n",
    "th1.start()"
   ]
  },
  {
   "cell_type": "code",
   "execution_count": null,
   "id": "b439721c-0f6f-446a-af4f-ee47dfc9a809",
   "metadata": {},
   "outputs": [],
   "source": [
    "roba_cam.break_loop"
   ]
  },
  {
   "cell_type": "code",
   "execution_count": 11,
   "id": "2bb6f0ee-c55e-45b4-b182-25edee85288f",
   "metadata": {},
   "outputs": [
    {
     "name": "stdout",
     "output_type": "stream",
     "text": [
      "['1  1 = -0.03 Mxm , -0.38 mx , -0.0 Mx , 0.0 Mym , -0.41 my , 0.07 My , 0.22L [m]', '2  2 = 0.0 Mxm , 0.0 mx , 0.0 Mx , 0.0 Mym , 0.0 my , 0.0 My , 0.0L [m]']\n",
      "[0.0, 0.0, 0.0]\n",
      "[0.0, 0.0]\n",
      "  obs : 0.0L [m] 0.0 minL[m] obs : 0.2L [m] 0.0 minL[m]\n",
      "break\n",
      "break 2 \n",
      "All break 2 \n"
     ]
    }
   ],
   "source": [
    "break_loop=True"
   ]
  },
  {
   "cell_type": "code",
   "execution_count": 14,
   "id": "035fc53c-044a-4f2c-b6ef-9a874f1a3e8b",
   "metadata": {},
   "outputs": [],
   "source": [
    "break_loop=False"
   ]
  },
  {
   "cell_type": "code",
   "execution_count": null,
   "id": "619bfa20-a086-4ec5-bb9f-6a8ac96cc5a4",
   "metadata": {},
   "outputs": [],
   "source": []
  },
  {
   "cell_type": "code",
   "execution_count": null,
   "id": "47d5f9d6-30e7-45d4-8ee5-657e025f622e",
   "metadata": {},
   "outputs": [],
   "source": []
  },
  {
   "cell_type": "code",
   "execution_count": 12,
   "id": "bdb8bf74-53f1-48e7-813a-73c29f499911",
   "metadata": {},
   "outputs": [],
   "source": [
    "# roba_cam.pipeline.stop()"
   ]
  },
  {
   "cell_type": "code",
   "execution_count": 7,
   "id": "58adfa56-601a-4e96-b652-30eb3fb98c59",
   "metadata": {},
   "outputs": [],
   "source": [
    "# objs=[-0.03, -0.02, 0.37+(0.38-0.37)]\n",
    "# leg = tinyik.Actuator([obj1,'y', 'x',objs])\n",
    "# leg.angles = np.deg2rad([-10,45])\n",
    "# obj=leg.ee\n",
    "# obj"
   ]
  },
  {
   "cell_type": "code",
   "execution_count": 7,
   "id": "e016750e-36f7-4155-8c88-c698c0087b08",
   "metadata": {},
   "outputs": [],
   "source": [
    "robr=Roba_recoddata(motor.init_postion)"
   ]
  },
  {
   "cell_type": "code",
   "execution_count": 8,
   "id": "b3981d19-6b1a-4a98-8dc1-5433c1322a20",
   "metadata": {},
   "outputs": [],
   "source": [
    "robalist=[]"
   ]
  },
  {
   "cell_type": "code",
   "execution_count": 8,
   "id": "ddc030a7-a7d3-4b6f-8777-5096abdf0176",
   "metadata": {},
   "outputs": [],
   "source": [
    "robalist.append(robr)"
   ]
  },
  {
   "cell_type": "code",
   "execution_count": null,
   "id": "8860a28e-fdef-453e-a832-85612f8a1216",
   "metadata": {},
   "outputs": [],
   "source": []
  },
  {
   "cell_type": "code",
   "execution_count": 119,
   "id": "d5636d8d-e64d-4a16-aa71-53462a4a808b",
   "metadata": {},
   "outputs": [],
   "source": [
    "# robalist = robr.speed_con(robalist)"
   ]
  },
  {
   "cell_type": "code",
   "execution_count": null,
   "id": "8fffdc8c-2acf-4241-993c-24814e77ffee",
   "metadata": {},
   "outputs": [],
   "source": []
  },
  {
   "cell_type": "code",
   "execution_count": 15,
   "id": "bf9ec57e-bf75-4437-b78c-37a9adeb0fef",
   "metadata": {},
   "outputs": [],
   "source": [
    "rdatas = robr.get_data()"
   ]
  },
  {
   "cell_type": "code",
   "execution_count": 16,
   "id": "3eb9486a-60f2-430c-8175-226cc02c145b",
   "metadata": {},
   "outputs": [],
   "source": [
    "rdatas = robr.recon_speed(rdatas,800)"
   ]
  },
  {
   "cell_type": "code",
   "execution_count": 17,
   "id": "dd4c0b80-e790-49c5-bef8-d7c558df97c6",
   "metadata": {},
   "outputs": [
    {
     "data": {
      "text/plain": [
       "{1: 900,\n",
       " 2: 99,\n",
       " 3: 9,\n",
       " 4: 0,\n",
       " 5: 0,\n",
       " 6: 63,\n",
       " 7: 0,\n",
       " 8: 0,\n",
       " 9: 0,\n",
       " 10: 0,\n",
       " 11: 0,\n",
       " 12: 0,\n",
       " 13: 0,\n",
       " 14: 0}"
      ]
     },
     "execution_count": 17,
     "metadata": {},
     "output_type": "execute_result"
    }
   ],
   "source": [
    "rdatas[10].speed"
   ]
  },
  {
   "cell_type": "code",
   "execution_count": null,
   "id": "4037c3b1-76d0-4237-a13d-be151bcbba5c",
   "metadata": {},
   "outputs": [],
   "source": [
    "for rd in rdatas:\n",
    "    motor.LEFT_AHND_SET_POS(ID,rd.pos,rd.speed)"
   ]
  },
  {
   "cell_type": "code",
   "execution_count": null,
   "id": "6285e179-4fe9-40ca-8730-85c2ac8b6c3a",
   "metadata": {},
   "outputs": [],
   "source": []
  },
  {
   "cell_type": "code",
   "execution_count": 137,
   "id": "ce97a581-bcfc-4fcf-950c-8e61e06e18a2",
   "metadata": {},
   "outputs": [
    {
     "data": {
      "text/plain": [
       "5"
      ]
     },
     "execution_count": 137,
     "metadata": {},
     "output_type": "execute_result"
    }
   ],
   "source": [
    "n=np.argmax(posa[len(posa)-2])\n",
    "j=n+1\n",
    "n"
   ]
  },
  {
   "cell_type": "code",
   "execution_count": 138,
   "id": "ab8f7d7a-1165-4b4b-ab68-e36cc30fcded",
   "metadata": {},
   "outputs": [
    {
     "data": {
      "text/plain": [
       "105"
      ]
     },
     "execution_count": 138,
     "metadata": {},
     "output_type": "execute_result"
    }
   ],
   "source": [
    "ps=posa[len(posa)-2][n]\n",
    "ps"
   ]
  },
  {
   "cell_type": "code",
   "execution_count": 141,
   "id": "7cd1fb62-338b-481f-9f9f-08dff0a1a178",
   "metadata": {},
   "outputs": [
    {
     "data": {
      "text/plain": [
       "1968"
      ]
     },
     "execution_count": 141,
     "metadata": {},
     "output_type": "execute_result"
    }
   ],
   "source": [
    "rps = round(rps)\n",
    "rps"
   ]
  },
  {
   "cell_type": "code",
   "execution_count": 142,
   "id": "5b693f26-de7f-470a-a734-9fe91e8d699d",
   "metadata": {},
   "outputs": [],
   "source": [
    "sp = round( (posa[len(posa)-2][1]*6000)/rps)"
   ]
  },
  {
   "cell_type": "code",
   "execution_count": 143,
   "id": "1bcb68aa-d2d7-4e79-98d7-e005a3c0cba3",
   "metadata": {},
   "outputs": [
    {
     "data": {
      "text/plain": [
       "128"
      ]
     },
     "execution_count": 143,
     "metadata": {},
     "output_type": "execute_result"
    }
   ],
   "source": [
    "sp"
   ]
  },
  {
   "cell_type": "code",
   "execution_count": 144,
   "id": "08a954dd-8c63-4e45-ae84-54a82578ce28",
   "metadata": {},
   "outputs": [],
   "source": [
    "sp=round((posa[len(posa)-2][3]*125)/rps)"
   ]
  },
  {
   "cell_type": "code",
   "execution_count": 145,
   "id": "e440a414-bb7f-413e-adda-a2b18eae1c59",
   "metadata": {},
   "outputs": [
    {
     "data": {
      "text/plain": [
       "6"
      ]
     },
     "execution_count": 145,
     "metadata": {},
     "output_type": "execute_result"
    }
   ],
   "source": [
    "sp"
   ]
  },
  {
   "cell_type": "code",
   "execution_count": 146,
   "id": "eb882d04-904f-4a34-8e37-e7df2a966dee",
   "metadata": {},
   "outputs": [],
   "source": [
    "sp=round( (posa[len(posa)-2][n]*1499.4)/rps)"
   ]
  },
  {
   "cell_type": "code",
   "execution_count": 147,
   "id": "edd9741a-6a95-4b4f-a501-a582c4d0bb50",
   "metadata": {},
   "outputs": [
    {
     "data": {
      "text/plain": [
       "80"
      ]
     },
     "execution_count": 147,
     "metadata": {},
     "output_type": "execute_result"
    }
   ],
   "source": [
    "sp"
   ]
  },
  {
   "cell_type": "code",
   "execution_count": null,
   "id": "78cfa2d2-29c9-43fe-8241-c5ad6a46c32a",
   "metadata": {},
   "outputs": [],
   "source": []
  },
  {
   "cell_type": "code",
   "execution_count": null,
   "id": "01234b8b-3ede-4078-b41a-bd89f2269db4",
   "metadata": {},
   "outputs": [],
   "source": []
  },
  {
   "cell_type": "code",
   "execution_count": null,
   "id": "55ab77af-981d-4b3a-b4ca-154e7cf5bb36",
   "metadata": {},
   "outputs": [],
   "source": []
  },
  {
   "cell_type": "code",
   "execution_count": 102,
   "id": "66a0875a-554b-4bda-980e-13f6b9d00b28",
   "metadata": {},
   "outputs": [],
   "source": [
    "motor.portHandler.closePort()\n",
    "motor.fist_close()"
   ]
  },
  {
   "cell_type": "code",
   "execution_count": null,
   "id": "78b95bee-0649-44b1-81ab-eb500d731138",
   "metadata": {},
   "outputs": [],
   "source": []
  },
  {
   "cell_type": "code",
   "execution_count": null,
   "id": "35cdcf09-4fd2-4eca-a551-01d004b428e9",
   "metadata": {},
   "outputs": [],
   "source": []
  },
  {
   "cell_type": "code",
   "execution_count": 79,
   "id": "901e88db-b6b3-461b-892a-a61c0863a868",
   "metadata": {},
   "outputs": [],
   "source": [
    "joints_limit=[ [0,0,0],\n",
    "         [275,60,340],[325,175,325],[180,5,355],[345,250,345], [150,80,270],[130,50,215],\n",
    "         [135,70,350],[101,91,250],[200,5,360],[90,90,185],[150,70,225],[200,112,272], \n",
    "         [225,124,315], [175,111,225] ]"
   ]
  },
  {
   "cell_type": "code",
   "execution_count": 86,
   "id": "5ed40d92-e333-41bb-ad44-156245b33c19",
   "metadata": {},
   "outputs": [],
   "source": [
    "f=[]\n",
    "m=[]\n",
    "for i in range(1,len(joints_limit)):\n",
    "    p=joints_limit[i][2] -joints_limit[i][0] \n",
    "    m.append(joints_limit[i][2] -joints_limit[i][1])\n",
    "    f.append(p)\n",
    "    "
   ]
  },
  {
   "cell_type": "code",
   "execution_count": 87,
   "id": "825974f8-1e0d-4f86-98c8-271428eedab2",
   "metadata": {},
   "outputs": [
    {
     "data": {
      "text/plain": [
       "[65, 0, 175, 0, 120, 85, 215, 149, 160, 95, 75, 72, 90, 50]"
      ]
     },
     "execution_count": 87,
     "metadata": {},
     "output_type": "execute_result"
    }
   ],
   "source": [
    "f"
   ]
  },
  {
   "cell_type": "code",
   "execution_count": 88,
   "id": "156b3a53-ec4e-422f-bcba-0318aaaf01f1",
   "metadata": {},
   "outputs": [
    {
     "data": {
      "text/plain": [
       "[280, 150, 350, 95, 190, 165, 280, 159, 355, 95, 155, 160, 191, 114]"
      ]
     },
     "execution_count": 88,
     "metadata": {},
     "output_type": "execute_result"
    }
   ],
   "source": [
    "m"
   ]
  },
  {
   "cell_type": "code",
   "execution_count": 82,
   "id": "4e321631-92ed-41bc-88c7-4a51fd4ecb1a",
   "metadata": {},
   "outputs": [],
   "source": [
    "f= np.array(f)"
   ]
  },
  {
   "cell_type": "code",
   "execution_count": 83,
   "id": "4af3f2da-92de-494e-8814-5cd19b112d77",
   "metadata": {},
   "outputs": [
    {
     "data": {
      "text/plain": [
       "array([ 65,   0, 175,   0, 120,  85, 215, 149, 160,  95,  75,  72,  90,\n",
       "        50])"
      ]
     },
     "execution_count": 83,
     "metadata": {},
     "output_type": "execute_result"
    }
   ],
   "source": [
    "f"
   ]
  },
  {
   "cell_type": "code",
   "execution_count": 84,
   "id": "4fb719de-8043-4596-ab91-5ce14d60c80f",
   "metadata": {},
   "outputs": [
    {
     "data": {
      "text/plain": [
       "6"
      ]
     },
     "execution_count": 84,
     "metadata": {},
     "output_type": "execute_result"
    }
   ],
   "source": [
    "n=np.argmax(f)\n",
    "n"
   ]
  },
  {
   "cell_type": "code",
   "execution_count": 85,
   "id": "444d7b1e-1652-466d-8e88-6d8776666c70",
   "metadata": {},
   "outputs": [
    {
     "data": {
      "text/plain": [
       "215"
      ]
     },
     "execution_count": 85,
     "metadata": {},
     "output_type": "execute_result"
    }
   ],
   "source": [
    "f[n]"
   ]
  },
  {
   "cell_type": "code",
   "execution_count": null,
   "id": "18af6c71-271b-4809-a3a6-46f2057fa8e0",
   "metadata": {},
   "outputs": [],
   "source": []
  }
 ],
 "metadata": {
  "kernelspec": {
   "display_name": "Python 3",
   "language": "python",
   "name": "python3"
  },
  "language_info": {
   "codemirror_mode": {
    "name": "ipython",
    "version": 3
   },
   "file_extension": ".py",
   "mimetype": "text/x-python",
   "name": "python",
   "nbconvert_exporter": "python",
   "pygments_lexer": "ipython3",
   "version": "3.6.9"
  }
 },
 "nbformat": 4,
 "nbformat_minor": 5
}
