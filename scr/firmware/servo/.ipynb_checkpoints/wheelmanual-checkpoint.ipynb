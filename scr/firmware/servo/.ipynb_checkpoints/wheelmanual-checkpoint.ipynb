{
 "cells": [
  {
   "cell_type": "code",
   "execution_count": 1,
   "id": "8f86b68d-347e-4893-9a6f-904404f7f322",
   "metadata": {},
   "outputs": [],
   "source": [
    "import sys\n",
    "sys.path.insert(1, '/home/roba/Robot_roba/scr/Roba_vision/')\n",
    "from IPython.display import clear_output\n",
    "from robawheel import wheel\n",
    "import tracking\n",
    "import time\n",
    "import math\n",
    "import numpy as np\n",
    "from threading import Thread\n",
    "from simple_pid import PID\n",
    "import cv2"
   ]
  },
  {
   "cell_type": "code",
   "execution_count": 2,
   "id": "d7aa8245-37fe-4921-9ab9-02041cceceff",
   "metadata": {},
   "outputs": [],
   "source": [
    "track = tracking.Track()\n",
    "wheels = wheel(\"/dev/ttyUSB1\")"
   ]
  },
  {
   "cell_type": "code",
   "execution_count": 4,
   "id": "a1aca3d7-9250-4347-997b-419a414425e7",
   "metadata": {},
   "outputs": [],
   "source": [
    "wheels.forward([50,50])"
   ]
  },
  {
   "cell_type": "code",
   "execution_count": 10,
   "id": "aaea3363-f055-41cb-a9c5-3bf6716ede92",
   "metadata": {},
   "outputs": [],
   "source": [
    "wheels.backward([50,50])"
   ]
  },
  {
   "cell_type": "code",
   "execution_count": 27,
   "id": "80994bec-efcc-489e-a2bb-cb8d76334557",
   "metadata": {},
   "outputs": [],
   "source": [
    "wheels.left()"
   ]
  },
  {
   "cell_type": "code",
   "execution_count": 25,
   "id": "0435144f-75b3-4960-bae5-cea27d94167c",
   "metadata": {},
   "outputs": [],
   "source": [
    "wheels.right()"
   ]
  },
  {
   "cell_type": "code",
   "execution_count": 28,
   "id": "22399bba-8674-4453-857d-16725a3ab868",
   "metadata": {},
   "outputs": [],
   "source": [
    "wheels.stop()"
   ]
  },
  {
   "cell_type": "code",
   "execution_count": 3,
   "id": "07869308-0b97-41be-a402-37fdf07c2635",
   "metadata": {},
   "outputs": [
    {
     "name": "stdout",
     "output_type": "stream",
     "text": [
      "[1.0023396307890775, -0.5162705081631285, -0.019295478494664252]\n",
      "[ 0.  -0.1 -0. ]\n"
     ]
    }
   ],
   "source": [
    "print(track.RPY)\n",
    "print(track.trans)"
   ]
  },
  {
   "cell_type": "code",
   "execution_count": null,
   "id": "afca5fb2-6a8f-4be2-b625-72af3aa03568",
   "metadata": {},
   "outputs": [],
   "source": [
    "track.break_loop=False"
   ]
  },
  {
   "cell_type": "code",
   "execution_count": null,
   "id": "5fe14f84-d96d-4b0a-85d3-96891dfe6e1c",
   "metadata": {},
   "outputs": [],
   "source": []
  },
  {
   "cell_type": "code",
   "execution_count": 5,
   "id": "e49c5d9b-4d5f-4a12-ba99-0da2b51a49f5",
   "metadata": {},
   "outputs": [
    {
     "name": "stdout",
     "output_type": "stream",
     "text": [
      "q exiting\n"
     ]
    }
   ],
   "source": [
    "import sys\n",
    "import PySimpleGUI as sg\n",
    "import cv2\n",
    "from IPython.display import clear_output\n",
    "\n",
    "# Recipe for getting keys, one at a time as they are released\n",
    "# If want to use the space bar, then be sure and disable the \"default focus\"\n",
    "\n",
    "layout = [[sg.Text(\"\", size=(18, 1), key='text')],\n",
    "          [sg.Image(filename='', key='image')]]\n",
    "\n",
    "window = sg.Window(\"ROBA AI ROBOT\", layout,\n",
    "                   return_keyboard_events=True, use_default_focus=False)\n",
    "\n",
    "# ---===--- Loop taking in user input --- #\n",
    "# vido = cv2.VideoCapture('/home/roba/Robot_roba/scr/Roba_vision/highway.mp4') timeout=0\n",
    "event, values = window.read(timeout=0)\n",
    "img = cv2.imread('/home/roba/Robot_roba/scr/Roba_vision/Roba.png') \n",
    "# _ , img=vido.read()\n",
    "img = cv2.resize(img, (242,504))\n",
    "imgbytes = cv2.imencode('.png', img)[1].tobytes()  # ditto\n",
    "window['image'].update(data=imgbytes)\n",
    "\n",
    "while True:\n",
    "    event, values = window.read(timeout=0)\n",
    "    text_elem = window['text']\n",
    "    if len(event) == 1:\n",
    "        if event=='q':\n",
    "              print(event, \"exiting\")\n",
    "              break\n",
    "    if event is not None:\n",
    "        #text_elem.update(event)\n",
    "        #print(event)\n",
    "        # forward  \n",
    "        if event==\"Up:98\":\n",
    "            text_elem.update(value='%s' % (\"Forward\"))\n",
    "            wheels.forward([50,50])\n",
    "        # backward \n",
    "        if event == \"Down:104\":\n",
    "            text_elem.update(value='%s' % (\"Backward\"))\n",
    "            wheels.backward([50,50])\n",
    "        # left \n",
    "        if event == \"Left:100\":\n",
    "            text_elem.update(value='%s' % (\"Left\"))\n",
    "            wheels.right()\n",
    "        # right\n",
    "        if event == \"Right:102\":\n",
    "            text_elem.update(value='%s' % (\"Right\"))\n",
    "            wheels.left()\n",
    "        # stop\n",
    "        if event == 's':\n",
    "            text_elem.update(value='%s' % (\"Stop\"))\n",
    "            wheels.stop()\n",
    "        \n",
    " \n",
    "window.close()"
   ]
  },
  {
   "cell_type": "code",
   "execution_count": 6,
   "id": "6994acd9-2418-4df8-b914-6813fd144ade",
   "metadata": {},
   "outputs": [],
   "source": [
    "import numpy as np\n",
    "import cv2 as cv\n",
    "cap = cv.VideoCapture(\"http://192.168.0.100:8080/video\")\n",
    "\n",
    "while True:\n",
    "   \n",
    "    ret, frame = cap.read()\n",
    "    \n",
    "    cv.imshow('frame', frame)\n",
    "    if cv.waitKey(1) == ord('q'):\n",
    "        break\n",
    "cap.release()\n",
    "cv.destroyAllWindows()"
   ]
  },
  {
   "cell_type": "code",
   "execution_count": 8,
   "id": "4db16431-95f6-48aa-bb8d-2a15db698093",
   "metadata": {},
   "outputs": [
    {
     "name": "stdout",
     "output_type": "stream",
     "text": [
      "HOST IP: 192.168.0.107\n",
      "LISTENING AT: ('192.168.0.107', 9999)\n"
     ]
    }
   ],
   "source": [
    "# This code is for the server \n",
    "# Lets import the libraries\n",
    "import sys\n",
    "sys.path.insert(1, '/home/roba/Robot_roba/scr/Roba_vision/')\n",
    "import socket, cv2, pickle,struct,imutils\n",
    "from IPython.display import clear_output\n",
    "from camera3D2 import Camera_3D\n",
    "from threading import Thread \n",
    "roba_cam = Camera_3D()\n",
    "\n",
    "# Socket Create\n",
    "server_socket = socket.socket(socket.AF_INET,socket.SOCK_STREAM)\n",
    "host_name  = socket.gethostname()\n",
    "host_ip = \"192.168.0.107\"#socket.gethostbyname(host_name)\n",
    "print('HOST IP:',host_ip)\n",
    "port = 9999\n",
    "socket_address = (host_ip,port)\n",
    "\n",
    "# Socket Bind\n",
    "server_socket.bind(socket_address)\n",
    "\n",
    "# Socket Listen\n",
    "server_socket.listen(5)\n",
    "print(\"LISTENING AT:\",socket_address)\n",
    "\n",
    "# Socket Accept\n",
    "def img_pos_cal1():\n",
    "    c=0\n",
    "    try:\n",
    "        while True:\n",
    "            client_socket,addr = server_socket.accept()\n",
    "            print('GOT CONNECTION FROM:',addr)\n",
    "            if client_socket:\n",
    "                while True:\n",
    "                    img,ver,boxs= roba_cam.get_2D_3D_img_pos(1)\n",
    "                    \n",
    "                    img = imutils.resize(img,width=484)\n",
    "                    a = pickle.dumps(img)\n",
    "                    message = struct.pack(\"Q\",len(a))+a\n",
    "                    client_socket.sendall(message)\n",
    "                    if  break_loop:\n",
    "                        print(\"break\")\n",
    "                        break\n",
    "        print(\"break 2 \")\n",
    "        roba_cam.break_loop=True\n",
    "        img,ver,boxs= roba_cam.get_2D_3D_img_pos(1)\n",
    "    finally:\n",
    "        print(\"All break 2 \")\n",
    "        roba_cam.pipeline.stop()"
   ]
  },
  {
   "cell_type": "code",
   "execution_count": 14,
   "id": "4260d150-a8e4-43bd-aeef-9616d8a318fd",
   "metadata": {},
   "outputs": [],
   "source": [
    "# break_loop=False\n",
    "# roba_cam.break_loop=False\n",
    "# th1 = Thread(target=img_pos_cal1)\n",
    "# th1.start()"
   ]
  },
  {
   "cell_type": "code",
   "execution_count": 10,
   "id": "e7f2b224-77fe-47df-8b46-4b63059f7f36",
   "metadata": {},
   "outputs": [],
   "source": [
    "break_loop=True"
   ]
  },
  {
   "cell_type": "code",
   "execution_count": 15,
   "id": "ecb710a5-0438-401d-82d7-ad75b92bf5fd",
   "metadata": {},
   "outputs": [],
   "source": [
    "# roba_cam.pipeline.stop()"
   ]
  },
  {
   "cell_type": "code",
   "execution_count": null,
   "id": "5cb32bbc-44c4-4d68-a298-0859af2758b6",
   "metadata": {},
   "outputs": [],
   "source": []
  }
 ],
 "metadata": {
  "kernelspec": {
   "display_name": "Python 3",
   "language": "python",
   "name": "python3"
  },
  "language_info": {
   "codemirror_mode": {
    "name": "ipython",
    "version": 3
   },
   "file_extension": ".py",
   "mimetype": "text/x-python",
   "name": "python",
   "nbconvert_exporter": "python",
   "pygments_lexer": "ipython3",
   "version": "3.6.9"
  }
 },
 "nbformat": 4,
 "nbformat_minor": 5
}
