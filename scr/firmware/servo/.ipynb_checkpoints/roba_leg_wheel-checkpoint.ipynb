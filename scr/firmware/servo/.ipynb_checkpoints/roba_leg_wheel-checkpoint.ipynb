{
 "cells": [
  {
   "cell_type": "code",
   "execution_count": 1,
   "id": "13cd6545-3d8a-46a2-8052-d1ddefa178a2",
   "metadata": {},
   "outputs": [],
   "source": [
    "import time\n",
    "import serial\n",
    "from IPython.display import clear_output\n",
    "import tracking\n",
    "from simple_pid import PID\n",
    "from threading import Thread\n",
    "from simple_pid import PID\n",
    "import numpy as np\n",
    "import math\n",
    "class legs:\n",
    "        def __init__(self,com):\n",
    "            self.roba_connection = serial.Serial()\n",
    "            self.roba_connection.baudrate = 115200\n",
    "            self.roba_connection.port = com\n",
    "            #self.roba_connection.timeout = 0.5\n",
    "            self.roba_connection.open()\n",
    "            #self.roba_connection.timeout(2.0)\n",
    "            self.lastdata=' '\n",
    "            time.sleep(1)\n",
    "        # send data to ardiuno\n",
    "        def send_data(self,data):\n",
    "            if (self.roba_connection.is_open):\n",
    "                self.lastdata=\" \"\n",
    "                self.roba_connection.write(data.encode())\n",
    "                while True:\n",
    "                    v = self.roba_connection.readline().decode()\n",
    "                    self.lastdata=self.lastdata+v\n",
    "                    vs =set(v.split())\n",
    "                    if (vs & {'off'} ) == {'off'}:\n",
    "                        break\n",
    "        def send_data_only(self,data):\n",
    "            if (self.roba_connection.is_open):\n",
    "                #self.lastdata=\"\"\n",
    "                self.roba_connection.write(data.encode())\n",
    "                 \n",
    "        # read data from arduino\n",
    "        def read_all(self):\n",
    "             if (self.roba_connection.is_open):\n",
    "                 return self.roba_connection.read_all().decode()\n",
    "                 \n",
    "        def close_S(self):\n",
    "            self.roba_connection.close()"
   ]
  },
  {
   "cell_type": "code",
   "execution_count": 2,
   "id": "c138b809-dbf1-41fb-a839-298aa24d0b47",
   "metadata": {},
   "outputs": [],
   "source": [
    "leg = legs(\"/dev/ttyUSB1\")"
   ]
  },
  {
   "cell_type": "code",
   "execution_count": 3,
   "id": "5dec8743-338f-44b4-b74f-5d2087e0d0b9",
   "metadata": {},
   "outputs": [],
   "source": [
    "track = tracking.Track()"
   ]
  },
  {
   "cell_type": "code",
   "execution_count": 97,
   "id": "6a74b5c0-6ae0-449a-99bf-109dbe254789",
   "metadata": {},
   "outputs": [],
   "source": [
    "leg.close_S()"
   ]
  },
  {
   "cell_type": "code",
   "execution_count": 1,
   "id": "b2efb7f2-be97-45c6-9a70-d4e81d9a6570",
   "metadata": {},
   "outputs": [
    {
     "data": {
      "text/plain": [
       "2"
      ]
     },
     "execution_count": 1,
     "metadata": {},
     "output_type": "execute_result"
    }
   ],
   "source": [
    "l=\"hi\"\n",
    "len(l)"
   ]
  },
  {
   "cell_type": "code",
   "execution_count": 4,
   "id": "648cf052-49cf-47cc-be78-22a10042b208",
   "metadata": {},
   "outputs": [
    {
     "name": "stdout",
     "output_type": "stream",
     "text": [
      "[0.9382939414107209, -0.9731242937010233, 0.00836488970902509]\n",
      "[ 0. -0. -0.]\n"
     ]
    }
   ],
   "source": [
    "setps=0 \n",
    "setps1=0 \n",
    "for i in range(50):\n",
    "    \n",
    "    clear_output(True)\n",
    "    print(track.RPY)\n",
    "    print(track.trans)\n",
    "    time.sleep(0.1) "
   ]
  },
  {
   "cell_type": "code",
   "execution_count": 98,
   "id": "6fe325ef-70ce-4dd3-97bf-1798a3581c00",
   "metadata": {},
   "outputs": [
    {
     "name": "stdout",
     "output_type": "stream",
     "text": [
      "stop\n"
     ]
    }
   ],
   "source": [
    "track.break_loop=False"
   ]
  },
  {
   "cell_type": "code",
   "execution_count": null,
   "id": "6a537848-ddcc-4a01-913a-6b4daf9f11cc",
   "metadata": {},
   "outputs": [],
   "source": [
    "# 2000 2000 2000 2000 off \n",
    "# 2000 100 100 2000 backeward \n",
    "# 100 2000 2000 100 forward\n"
   ]
  },
  {
   "cell_type": "code",
   "execution_count": 62,
   "id": "8c87d68d-66f9-4fae-8e52-41008471a270",
   "metadata": {},
   "outputs": [],
   "source": [
    "leg.send_data_only(\"{mv:[0,0,0,0]}\")"
   ]
  },
  {
   "cell_type": "code",
   "execution_count": 59,
   "id": "1699c9e1-c973-44b9-8e9e-45c1da69fb6c",
   "metadata": {},
   "outputs": [],
   "source": [
    "leg.send_data_only(\"{mv:[30,0,0,50]}\")"
   ]
  },
  {
   "cell_type": "code",
   "execution_count": 61,
   "id": "cc91e1e5-ec36-497e-b1c2-115941a9a34e",
   "metadata": {},
   "outputs": [],
   "source": [
    "leg.send_data_only(\"{mv:[0,50,50,0]}\")"
   ]
  },
  {
   "cell_type": "code",
   "execution_count": null,
   "id": "deb48d3e-f76f-4350-95b1-9625bce23681",
   "metadata": {},
   "outputs": [],
   "source": []
  },
  {
   "cell_type": "code",
   "execution_count": 9,
   "id": "a253683f-81c9-4b57-b0cd-e080b74f465c",
   "metadata": {},
   "outputs": [],
   "source": [
    "leg.send_data_only(\"500 500 500 500\")\n",
    "# leg.read_all()"
   ]
  },
  {
   "cell_type": "code",
   "execution_count": 6,
   "id": "15ba5426-14a9-4fa8-b83b-1feb1b3c21f3",
   "metadata": {},
   "outputs": [],
   "source": [
    "leg.send_data_only(\"40 500 500 35\") #2000 100 100 2000\n",
    "# leg.read_all()"
   ]
  },
  {
   "cell_type": "code",
   "execution_count": 8,
   "id": "50065a2a-5744-488f-8c24-ce48be4270f7",
   "metadata": {},
   "outputs": [],
   "source": [
    "leg.send_data_only(\"500 40 35 500\") #2000 100 100 2000"
   ]
  },
  {
   "cell_type": "code",
   "execution_count": 2,
   "id": "06a3a7b4-d14d-4813-96f0-4dce8f45a1a0",
   "metadata": {},
   "outputs": [],
   "source": [
    "import sys\n",
    "sys.path.insert(1, '/home/roba/Robot_roba/scr/firmware/servo')\n",
    "from simple_pid import PID"
   ]
  },
  {
   "cell_type": "code",
   "execution_count": 17,
   "id": "fb82bd72-28f3-4dc3-95b7-91c303bf8fa3",
   "metadata": {},
   "outputs": [],
   "source": [
    "breakwl=True\n",
    "setpfb=0 \n",
    "setplr=0\n",
    "setplr2=0\n",
    "def get_mv(mv):\n",
    "    \n",
    "    return str(mv[0])+\" \"+str(mv[1])+\" \"+str(mv[2])+\" \"+str(mv[3])\n",
    "\n",
    "def forward(mv):\n",
    "    data = \"{mv:[50,0,0,\"+str(mv)+\"]}\"\n",
    "    leg.send_data_only(data)\n",
    "def backward(mv):\n",
    "    data = \"{mv:[0,\"+str(mv)+\",50,0]}\"\n",
    "    leg.send_data_only(data)\n",
    "def left():\n",
    "    leg.send_data_only(\"{mv:[40,0,40,0]}\")  \n",
    "def right():\n",
    "    leg.send_data_only(\"{mv:[0,40,0,40]}\") \n",
    "def stop():\n",
    "    leg.send_data_only(\"{mv:[0,0,0,0]}\")\n",
    "\n",
    "def stopfb(mv):\n",
    "    data = \"{mv:[\"+str(mv)+\",0,0,\"+str(mv)+\"]}\"\n",
    "    leg.send_data_only(data)\n",
    "\n",
    "def stopfb1(mv):\n",
    "    data = \"{mv:[0,\"+str(mv)+\",\"+str(mv)+\",0]}\"\n",
    "    leg.send_data_only(data)\n",
    "def stopr(mv):\n",
    "    data = \"{mv:[0,\"+str(mv)+\",0,\"+str(mv)+\"]}\"\n",
    "    leg.send_data_only(data)\n",
    "def stopl(mv):\n",
    "      data= \"{mv:[\"+str(mv)+\",0,\"+str(mv)+\",0]}\"\n",
    "      leg.send_data_only(data)\n",
    "          \n",
    "def pos(target):\n",
    "    print(track.RPY)\n",
    "    print(track.trans)\n",
    "    setpc=round(track.trans[2]+target)\n",
    "    print(setpc)\n",
    "    return setpc\n",
    "def rpy(target):\n",
    "    y=round(track.RPY[2]+target)\n",
    "    return y\n",
    "\n",
    "def wheelm():\n",
    "    bck=0\n",
    "    lrbk=0\n",
    "    pidfber = PID(5,0,0, setpoint=0)\n",
    "    pidfber.output_limits = (-15, 15)\n",
    "    \n",
    "    pidfb = PID(5,0,0, setpoint=0)\n",
    "    pidfb.output_limits = (20, 50)\n",
    "    \n",
    "    pidlr = PID(2,0,0, setpoint=0)\n",
    "    pidlr.output_limits = (20, 40)\n",
    "    \n",
    "    while(breakwl):\n",
    "        clear_output(True)\n",
    "        time.sleep(0.05)\n",
    "        bsetp = pos(setpfb)\n",
    "        bsety = setplr\n",
    "        pidfb.setpoint=bsetp\n",
    "        pidlr.setpoint=setplr   \n",
    "        pidfber.setpoint=setplr2\n",
    "        print(\"setp\",bsetp)\n",
    "        \n",
    "        if  lrbk !=bsety:\n",
    "               lrcon=1000\n",
    "               vpid=0\n",
    "               if bsety>round(track.RPY[2]):\n",
    "                  left()\n",
    "                  pidlr.tunings = (5,0,0)\n",
    "                  while  bsety>round(track.RPY[2]):  #lrcon>15:\n",
    "                    if breakwl==False:\n",
    "                         break\n",
    "                    clear_output(True)\n",
    "                    print(track.RPY)\n",
    "                    print(track.trans)\n",
    "                    print(\"pid \",vpid)\n",
    "                    lrcon = pidlr(round(track.RPY[2]))\n",
    "                    vpid=lrcon\n",
    "                    if lrcon<50:\n",
    "                        time.sleep(0.025)\n",
    "                        stopl(lrcon)\n",
    "                    else:\n",
    "                       time.sleep(0.01)\n",
    "                  time.sleep(0.03)\n",
    "                  stop()\n",
    "               else:\n",
    "                  right()\n",
    "                  pidlr.tunings = (-5,0,0)\n",
    "                  while  bsety<round(track.RPY[2]):#lrcon>15:\n",
    "                        clear_output(True)\n",
    "                        print(track.RPY)\n",
    "                        print(track.trans)\n",
    "                        print(\"pid \",vpid)\n",
    "                        if breakwl==False:\n",
    "                            break\n",
    "                        lrcon = pidlr(round(track.RPY[2]))\n",
    "                        vpid=lrcon\n",
    "                        if lrcon<50:\n",
    "                            time.sleep(0.025)\n",
    "                            stopr(lrcon)\n",
    "                        else:\n",
    "                           print(track.RPY)\n",
    "                           print(track.trans)\n",
    "                           time.sleep(0.01)\n",
    "                  time.sleep(0.03)\n",
    "                  stop()\n",
    " \n",
    "        lrbk=setplr\n",
    "    \n",
    "        if  bck !=setpfb:\n",
    "            if setpfb<0:\n",
    "                mv=50\n",
    "                forward(mv)\n",
    "                ent=False\n",
    "                pidfb.tunings = (-5,0,0)       \n",
    "                while bsetp<round(track.trans[2]):\n",
    "                        if breakwl==False:\n",
    "                            break\n",
    "                        clear_output(True)\n",
    "                        print(track.RPY)\n",
    "                        print(track.trans)\n",
    "                        fbcon = pidfb(round(track.trans[2]))\n",
    "                        print(\"pid \",fbcon)\n",
    "                        print(\"setp\",bsetp)\n",
    "                        if fbcon<50:\n",
    "                            time.sleep(0.025)\n",
    "                            stopfb(fbcon)\n",
    "                        else:\n",
    "                            time.sleep(0.025)\n",
    "                            if round(track.RPY[2]) != setplr2:\n",
    "                                conl = pidfber(round(track.RPY[2])) #\n",
    "                                mv=50+(conl*-1)\n",
    "                                forward(mv)\n",
    "                                ent=True\n",
    "                            else:\n",
    "                                if ent:\n",
    "                                    ent=False\n",
    "                                    forward(50)\n",
    "                time.sleep(0.025)         \n",
    "                stop()\n",
    "                \n",
    "            elif setpfb>0:\n",
    "                #pidfber.tunings = (1.5,0,0)\n",
    "                mv=50\n",
    "                ent=False\n",
    "                backward(mv)\n",
    "                pidfb.tunings = (5,0,0) \n",
    "                while bsetp>round(track.trans[2]):  \n",
    "                     if breakwl==False:\n",
    "                         break\n",
    "                     clear_output(True)\n",
    "                     print(track.RPY)\n",
    "                     print(track.trans)\n",
    "                     fbcon = pidfb(round(track.trans[2]))\n",
    "                     print(\"pid \",fbcon)\n",
    "                     print(\"setp\",bsetp)\n",
    "                     if fbcon<50:\n",
    "                            time.sleep(0.025)\n",
    "                            stopfb1(fbcon)\n",
    "                     else:\n",
    "                         time.sleep(0.025)\n",
    "                         if round(track.RPY[2]) !=setplr2:\n",
    "                                conl = pidfber(round(track.RPY[2]))\n",
    "                                mv=50+(conl*-1)\n",
    "                                backward(mv)\n",
    "                                ent=True\n",
    "                         else:\n",
    "                            if ent:\n",
    "                                ent=False\n",
    "                                backward(50)\n",
    "                time.sleep(0.025)\n",
    "                stop()\n",
    "            \n",
    "        bck=setpfb \n",
    "        \n",
    "    time.sleep(0.1)    \n",
    "    stop()\n",
    "    print(\"stop\")"
   ]
  },
  {
   "cell_type": "code",
   "execution_count": 25,
   "id": "0e7b01d0-a47f-4ec5-b4d7-cb3b4f80fd69",
   "metadata": {},
   "outputs": [
    {
     "name": "stdout",
     "output_type": "stream",
     "text": [
      "[2.2666070924009905, -1.2024385718118908, -0.1004505985849748]\n",
      "[-0.8 -1.8 51.9]\n",
      "52\n",
      "setp 52\n"
     ]
    }
   ],
   "source": [
    "breakwl=True\n",
    "setpfb=0\n",
    "setplr=0\n",
    "setplr2=0\n",
    "th = Thread(target=wheelm)\n",
    "th.start()"
   ]
  },
  {
   "cell_type": "code",
   "execution_count": 96,
   "id": "260041ca-6fea-4619-903d-cc3ccd838fa2",
   "metadata": {},
   "outputs": [
    {
     "name": "stdout",
     "output_type": "stream",
     "text": [
      "[17.23574453490269, 5.681533556252442, 48.20057123453906]\n",
      "[ 8.2 -1.4  7.1]\n",
      "227\n",
      "setp 227\n",
      "stop\n"
     ]
    }
   ],
   "source": [
    "breakwl=False"
   ]
  },
  {
   "cell_type": "code",
   "execution_count": 61,
   "id": "d5da4885-cbad-428d-9700-fb9ba172fd9a",
   "metadata": {},
   "outputs": [
    {
     "name": "stdout",
     "output_type": "stream",
     "text": [
      "[-2.0615306424990174, -1.4388268057220803, 2.1875282430800915]\n",
      "[  4.4  -9.4 -68.7]\n",
      "-80\n",
      "setp -80\n"
     ]
    }
   ],
   "source": [
    "setplr=0"
   ]
  },
  {
   "cell_type": "code",
   "execution_count": 86,
   "id": "2b9723fd-75cb-4a5f-aaf0-90fd96d24acc",
   "metadata": {},
   "outputs": [
    {
     "name": "stdout",
     "output_type": "stream",
     "text": [
      "[2.693424800270895, -0.7986471885981047, 0.4190135148828921]\n",
      "[  0.2  -0.4 -69.8]\n",
      "-140\n",
      "setp -140\n"
     ]
    }
   ],
   "source": [
    "setpfb=-70\n",
    "setplr2=0"
   ]
  },
  {
   "cell_type": "code",
   "execution_count": 87,
   "id": "007b8060-78be-4291-863e-d26ca015cdea",
   "metadata": {},
   "outputs": [
    {
     "name": "stdout",
     "output_type": "stream",
     "text": [
      "[2.3801999805707936, -0.5917246397923248, 42.606818724880675]\n",
      "[ -0.2  -0.  -73.7]\n",
      "-144\n",
      "setp -144\n"
     ]
    }
   ],
   "source": [
    "setplr=40"
   ]
  },
  {
   "cell_type": "code",
   "execution_count": 88,
   "id": "a80ad617-65d0-4dd6-8321-3e138801bf91",
   "metadata": {},
   "outputs": [
    {
     "name": "stdout",
     "output_type": "stream",
     "text": [
      "[2.300939534965325, -1.0574644827550956, 40.66048818384742]\n",
      "[  28.4    1.7 -114.3]\n",
      "-154\n",
      "setp -154\n"
     ]
    }
   ],
   "source": [
    "setpfb=-40\n",
    "setplr2=40"
   ]
  },
  {
   "cell_type": "code",
   "execution_count": 89,
   "id": "d898c9ca-a27f-4724-b32e-e847c706b77c",
   "metadata": {},
   "outputs": [
    {
     "name": "stdout",
     "output_type": "stream",
     "text": [
      "[1.9039946330465651, -1.0842523009528324, -2.010341890237788]\n",
      "[  30.6    1.3 -113.3]\n",
      "-153\n",
      "setp -153\n"
     ]
    }
   ],
   "source": [
    "setplr=0"
   ]
  },
  {
   "cell_type": "code",
   "execution_count": 90,
   "id": "6f5bbe38-88e1-4b49-8914-6aadf376e2ea",
   "metadata": {},
   "outputs": [
    {
     "name": "stdout",
     "output_type": "stream",
     "text": [
      "[2.1694982606056215, -0.9510567296093403, 0.4973581388607363]\n",
      "[  29.4    2.4 -153.8]\n",
      "-195\n",
      "setp -195\n"
     ]
    }
   ],
   "source": [
    "setpfb=-41\n",
    "setplr2=0"
   ]
  },
  {
   "cell_type": "code",
   "execution_count": 91,
   "id": "776f9325-1339-441c-b30f-d2c43e8c9fc9",
   "metadata": {},
   "outputs": [
    {
     "name": "stdout",
     "output_type": "stream",
     "text": [
      "[1.6274050736794246, -0.7117212113862679, -42.60502697461015]\n",
      "[  33.8    1.8 -153.4]\n",
      "-194\n",
      "setp -194\n"
     ]
    }
   ],
   "source": [
    "setplr=-40"
   ]
  },
  {
   "cell_type": "code",
   "execution_count": 92,
   "id": "a318b614-660e-4858-ad52-f3e88dfeea95",
   "metadata": {},
   "outputs": [
    {
     "name": "stdout",
     "output_type": "stream",
     "text": [
      "[1.9721222631175082, -0.23953139750133504, -40.37648543722948]\n",
      "[   2.     3.5 -194.1]\n",
      "-234\n",
      "setp -234\n"
     ]
    }
   ],
   "source": [
    "setpfb=-40\n",
    "setplr2=-40"
   ]
  },
  {
   "cell_type": "code",
   "execution_count": 93,
   "id": "586486b6-9a93-4bfd-8fc3-617cdb058f60",
   "metadata": {},
   "outputs": [
    {
     "name": "stdout",
     "output_type": "stream",
     "text": [
      "[1.518118186689706, -0.4487773138854493, 2.1098661824709835]\n",
      "[  -2.1    3.1 -196.6]\n",
      "-237\n",
      "setp -237\n"
     ]
    }
   ],
   "source": [
    "setplr=0"
   ]
  },
  {
   "cell_type": "code",
   "execution_count": 94,
   "id": "f3f9e215-4d3f-4d50-99e3-c84b37682bb2",
   "metadata": {},
   "outputs": [
    {
     "name": "stdout",
     "output_type": "stream",
     "text": [
      "[1.5102502113210612, -0.5836352891346515, -0.3458208905324807]\n",
      "[  -4.8    1.3 -216.4]\n",
      "-236\n",
      "setp -236\n"
     ]
    }
   ],
   "source": [
    "setpfb=-20\n",
    "setplr2=0"
   ]
  },
  {
   "cell_type": "code",
   "execution_count": null,
   "id": "cc527344-c772-48e5-b4bd-0de9f655f49c",
   "metadata": {},
   "outputs": [],
   "source": []
  },
  {
   "cell_type": "code",
   "execution_count": 95,
   "id": "e3b9603c-c6f8-4176-baff-2094a1e591a7",
   "metadata": {},
   "outputs": [
    {
     "name": "stdout",
     "output_type": "stream",
     "text": [
      "[17.279580829324843, 5.511957907825031, 46.25473017557183]\n",
      "[ 6.7 -2.2  8.4]\n",
      "228\n",
      "setp 228\n"
     ]
    }
   ],
   "source": [
    "setpfb=220\n",
    "setplr2=0"
   ]
  },
  {
   "cell_type": "code",
   "execution_count": null,
   "id": "4bfe0fa1-3cb1-4e79-a771-d89139c04a73",
   "metadata": {},
   "outputs": [],
   "source": []
  },
  {
   "cell_type": "code",
   "execution_count": null,
   "id": "1482355c-6276-490f-8ac6-d82cb437f4d9",
   "metadata": {},
   "outputs": [],
   "source": []
  },
  {
   "cell_type": "code",
   "execution_count": 38,
   "id": "8d084aef-7823-484c-905f-75f8faa3a003",
   "metadata": {},
   "outputs": [
    {
     "name": "stdout",
     "output_type": "stream",
     "text": [
      "[-2.4148878262995854, 0.4451726755778266, -0.7309219708063054]\n",
      "[-44.4   2.5 -20.8]\n",
      "-1\n",
      "setp -1\n"
     ]
    }
   ],
   "source": [
    "print(setplr)"
   ]
  },
  {
   "cell_type": "code",
   "execution_count": null,
   "id": "e1c67156-22f7-4e0d-ba16-5f6052ab1c55",
   "metadata": {},
   "outputs": [],
   "source": [
    "[4.191213228554248, -0.08270506215516368, -0.10080090019138285]\n",
    "[ 12.9 -20.5  78.2]\n",
    "\n",
    "[3.771009536026795, 0.4990894446266793, 21.869432691865494]\n",
    "[ 12.9 -20.1  76. ]"
   ]
  },
  {
   "cell_type": "code",
   "execution_count": 118,
   "id": "64954eed-9dfe-4c9e-b4dd-42d4e3a1a896",
   "metadata": {},
   "outputs": [],
   "source": [
    "leg.send_data_only(\"{mv:[0,0,0,0]}\")"
   ]
  },
  {
   "cell_type": "code",
   "execution_count": 115,
   "id": "35700053-4f93-4f27-b2a7-37cb46229796",
   "metadata": {},
   "outputs": [],
   "source": [
    "leg.send_data_only(\"{mv:[30,0,30,0]}\") #left  "
   ]
  },
  {
   "cell_type": "code",
   "execution_count": 117,
   "id": "c77a359b-6476-40cb-ae7c-6a4d23e8ad31",
   "metadata": {},
   "outputs": [],
   "source": [
    "leg.send_data_only(\"{mv:[0,30,0,30]}\") #  right"
   ]
  },
  {
   "cell_type": "code",
   "execution_count": 72,
   "id": "5269b321-aa0b-40bb-b3ab-ec4c86d326ee",
   "metadata": {},
   "outputs": [],
   "source": [
    "def forward(m1,m2):\n",
    "    data = \"{mv:[\"+str(m1)+\",0,0,\"+str(m2)+\"]}\"\n",
    "    leg.send_data_only(data)\n",
    "    \n",
    "def backward(m1,m2):\n",
    "     data = \"{mv:[0,\"+str(m1)+\",\"+str(m2)+\",0]}\"\n",
    "     leg.send_data_only(data)\n",
    "    \n",
    "def left(m1,m2):\n",
    "     data = \"{mv:[\"+str(m1)+\",0,\"+str(m2)+\",0]}\"\n",
    "     leg.send_data_only(data)\n",
    "def right(m1,m2):\n",
    "     data = \"{mv:[0,\"+str(m1)+\",0,\"+str(m2)+\"]}\"\n",
    "     leg.send_data_only(data)"
   ]
  },
  {
   "cell_type": "code",
   "execution_count": null,
   "id": "8f7f1b21-85dc-4c16-b506-6e5541e371f9",
   "metadata": {},
   "outputs": [],
   "source": []
  },
  {
   "cell_type": "code",
   "execution_count": 62,
   "id": "77bb6d9a-1949-430b-b384-b28422aa8268",
   "metadata": {},
   "outputs": [],
   "source": [
    "forward(30,0)"
   ]
  },
  {
   "cell_type": "code",
   "execution_count": 64,
   "id": "aa72bd0c-4150-4329-a250-2ae5dd5fb1ee",
   "metadata": {},
   "outputs": [],
   "source": [
    "backward(30,0)"
   ]
  },
  {
   "cell_type": "code",
   "execution_count": 81,
   "id": "616ff063-3518-41dc-a35c-31c6e589315c",
   "metadata": {},
   "outputs": [],
   "source": [
    "left(40,40)"
   ]
  },
  {
   "cell_type": "code",
   "execution_count": 79,
   "id": "810f0739-c803-442a-87a5-01f42e11c0aa",
   "metadata": {},
   "outputs": [],
   "source": [
    "right(40,40)"
   ]
  },
  {
   "cell_type": "code",
   "execution_count": 82,
   "id": "849c53fe-4901-4f91-97fb-1a90861442ef",
   "metadata": {},
   "outputs": [],
   "source": [
    "leg.send_data_only(\"{mv:[0,0,0,0]}\")"
   ]
  },
  {
   "cell_type": "code",
   "execution_count": null,
   "id": "36d17376-7893-4c00-acda-43ae8dcaf91d",
   "metadata": {},
   "outputs": [],
   "source": []
  },
  {
   "cell_type": "code",
   "execution_count": 30,
   "id": "bb3fca89-3664-4373-9686-f81bfe0b48f2",
   "metadata": {},
   "outputs": [],
   "source": [
    "rotasetp=0\n",
    "transsetp=[]\n",
    "breakwl=True\n",
    "def get_ang_dir(pos):\n",
    "    p1=0\n",
    "    p2=0\n",
    "    p3=0\n",
    "    p4=0\n",
    "    if pos[0]>pos[1]:\n",
    "        p1=pos[0]\n",
    "        p2=pos[1]\n",
    "        p3=1\n",
    "    else:\n",
    "        p1=pos[1]\n",
    "        p2=pos[0]\n",
    "        p4=1\n",
    "        \n",
    "    # v= math.atan(pos[0]/pos[1])\n",
    "    # ang=np.rad2deg(v)\n",
    "    # if pos[1]<0:\n",
    "    #     ang=ang*-1\n",
    "    \n",
    "    return [p1,p2,p4,p3]\n",
    "        \n",
    "def get_xypos():\n",
    "    xypyr=[track.trans[0],track.trans[2],track.RPY[2]]\n",
    "    return xypyr\n",
    "def wheelm1():\n",
    "    \n",
    "    motrFB = PID(5,0,0, setpoint=0)\n",
    "    motrFB.output_limits = (20, 50)\n",
    "    \n",
    "    motrFBE = PID(5,0,0, setpoint=0)\n",
    "    motrFBE.output_limits = (-10, 10)\n",
    "    \n",
    "    motrLR = PID(2,0,0, setpoint=0)\n",
    "    motrLR.output_limits = (20, 50)\n",
    "\n",
    "    while breakwl:\n",
    "          if len(transsetp)>0:\n",
    "                pos = get_ang_dir(transsetp.pop(0))\n",
    "                motrFB.setpoint=pos[0] \n",
    "                motrFBE.setpoint=pos[1]  \n",
    "                \n",
    "                if pos[0]>get_xypos()[pos[1]]\n",
    "\n",
    "    "
   ]
  },
  {
   "cell_type": "code",
   "execution_count": 31,
   "id": "c8217537-3727-436c-990f-2c3f357e4000",
   "metadata": {},
   "outputs": [],
   "source": [
    "breakwl=True\n",
    "th1 = Thread(target=wheelm1)\n",
    "th1.start()"
   ]
  },
  {
   "cell_type": "code",
   "execution_count": 32,
   "id": "29b0c7e7-de2b-4460-bbc6-0fcadd9b1744",
   "metadata": {},
   "outputs": [
    {
     "name": "stdout",
     "output_type": "stream",
     "text": [
      "[4, 5]\n",
      "[5, 6]\n",
      "[4, 4]\n"
     ]
    }
   ],
   "source": [
    "transsetp.append([4,5])\n",
    "transsetp.append([5,6])\n",
    "transsetp.append([4,4])"
   ]
  },
  {
   "cell_type": "code",
   "execution_count": 33,
   "id": "ab29ee51-594b-48a9-b608-f95ee84928a3",
   "metadata": {},
   "outputs": [
    {
     "name": "stdout",
     "output_type": "stream",
     "text": [
      "[4, 4]\n"
     ]
    }
   ],
   "source": [
    "transsetp.append([4,4])"
   ]
  },
  {
   "cell_type": "code",
   "execution_count": 34,
   "id": "22d2b12e-4f3e-4f68-bb1a-a437987e63f4",
   "metadata": {},
   "outputs": [],
   "source": [
    "breakwl=False"
   ]
  },
  {
   "cell_type": "code",
   "execution_count": null,
   "id": "bf021986-9074-4c71-90f5-f19dc9b1048c",
   "metadata": {},
   "outputs": [],
   "source": []
  },
  {
   "cell_type": "code",
   "execution_count": 6,
   "id": "805b0531-d465-45b7-b8c1-86a0bf72831c",
   "metadata": {},
   "outputs": [],
   "source": [
    "import numpy as np\n",
    "import math"
   ]
  },
  {
   "cell_type": "code",
   "execution_count": 41,
   "id": "8fd61011-e295-4f09-a7f9-4c2353dfc1a0",
   "metadata": {},
   "outputs": [
    {
     "data": {
      "text/plain": [
       "-89.28384005452959"
      ]
     },
     "execution_count": 41,
     "metadata": {},
     "output_type": "execute_result"
    }
   ],
   "source": [
    "v= math.atan(400/-5)\n",
    "np.rad2deg(v)"
   ]
  },
  {
   "cell_type": "code",
   "execution_count": 29,
   "id": "4bb834d3-27b1-4686-9aed-18f02245fdbc",
   "metadata": {},
   "outputs": [
    {
     "data": {
      "text/plain": [
       "0.08000000000000015"
      ]
     },
     "execution_count": 29,
     "metadata": {},
     "output_type": "execute_result"
    }
   ],
   "source": [
    "h = 4/math.tan(v)\n",
    "h "
   ]
  },
  {
   "cell_type": "code",
   "execution_count": null,
   "id": "3c5c2a0b-b45d-4db5-9e2d-851c6c8cb8a7",
   "metadata": {},
   "outputs": [],
   "source": []
  },
  {
   "cell_type": "code",
   "execution_count": null,
   "id": "71853666-fcb5-4147-9c2e-bf00b57b4daa",
   "metadata": {},
   "outputs": [],
   "source": []
  },
  {
   "cell_type": "code",
   "execution_count": 15,
   "id": "f5d967f7-7592-4b0a-aba1-ff9909aa57e7",
   "metadata": {},
   "outputs": [],
   "source": [
    "queue = []"
   ]
  },
  {
   "cell_type": "code",
   "execution_count": 16,
   "id": "aac60a7b-8bfa-40ce-bb40-1a2ae3cc4972",
   "metadata": {},
   "outputs": [],
   "source": [
    "queue.append([35,44])\n",
    "queue.append([56,22])\n",
    "queue.append([77,11])"
   ]
  },
  {
   "cell_type": "code",
   "execution_count": 17,
   "id": "a65bc04f-f844-444f-8f97-184278b8cc63",
   "metadata": {},
   "outputs": [
    {
     "data": {
      "text/plain": [
       "[[35, 44], [56, 22], [77, 11]]"
      ]
     },
     "execution_count": 17,
     "metadata": {},
     "output_type": "execute_result"
    }
   ],
   "source": [
    "queue"
   ]
  },
  {
   "cell_type": "code",
   "execution_count": 18,
   "id": "d05d0769-1a96-4e35-b32b-63104ee2b75e",
   "metadata": {},
   "outputs": [
    {
     "data": {
      "text/plain": [
       "3"
      ]
     },
     "execution_count": 18,
     "metadata": {},
     "output_type": "execute_result"
    }
   ],
   "source": [
    "len(queue)"
   ]
  },
  {
   "cell_type": "code",
   "execution_count": null,
   "id": "67fc49e6-edb2-4f5c-9617-1a560921ddfa",
   "metadata": {},
   "outputs": [],
   "source": []
  },
  {
   "cell_type": "code",
   "execution_count": 24,
   "id": "d860ac9d-b103-4d67-8417-8141ca49fb84",
   "metadata": {},
   "outputs": [
    {
     "data": {
      "text/plain": [
       "[]"
      ]
     },
     "execution_count": 24,
     "metadata": {},
     "output_type": "execute_result"
    }
   ],
   "source": [
    "queue"
   ]
  },
  {
   "cell_type": "code",
   "execution_count": null,
   "id": "396ee0d6-329d-43c9-9ff5-808e097e07da",
   "metadata": {},
   "outputs": [],
   "source": []
  }
 ],
 "metadata": {
  "kernelspec": {
   "display_name": "Python 3",
   "language": "python",
   "name": "python3"
  },
  "language_info": {
   "codemirror_mode": {
    "name": "ipython",
    "version": 3
   },
   "file_extension": ".py",
   "mimetype": "text/x-python",
   "name": "python",
   "nbconvert_exporter": "python",
   "pygments_lexer": "ipython3",
   "version": "3.6.9"
  }
 },
 "nbformat": 4,
 "nbformat_minor": 5
}
