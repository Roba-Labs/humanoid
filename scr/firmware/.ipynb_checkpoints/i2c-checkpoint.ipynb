{
 "cells": [
  {
   "cell_type": "code",
   "execution_count": null,
   "id": "d4bbc684-9fa6-461a-be98-2a1a6b43fd33",
   "metadata": {},
   "outputs": [],
   "source": [
    "import sys\n",
    "# sys.path.append('/opt/nvidia/jetson-gpio/lib/python')\n",
    "# sys.path.append('/opt/nvidia/jetson-gpio/lib/python/Jetson/GPIO')\n",
    "# sys.path.append('/home/nvidia/repositories/nano_gpio/gpio_env/lib/python3.7/site-packages/periphery/')\n",
    "\n",
    "import Jetson.GPIO as GPIO\n",
    "from periphery import PWM\n",
    "import time\n",
    "\n",
    "# set GPIO mode to BOARD\n",
    "GPIO.setmode(GPIO.BOARD)\n",
    "mode = GPIO.getmode()\n",
    "print(mode)"
   ]
  },
  {
   "cell_type": "code",
   "execution_count": null,
   "id": "56c78f47-6ad5-4fa2-bb1c-63cc7821397b",
   "metadata": {},
   "outputs": [],
   "source": []
  },
  {
   "cell_type": "code",
   "execution_count": null,
   "id": "620f8d6d-320b-4e5e-b3d7-64c6c74f6a05",
   "metadata": {},
   "outputs": [],
   "source": []
  },
  {
   "cell_type": "code",
   "execution_count": null,
   "id": "ad50c16e-bd96-467d-9c8d-81b31e392d5d",
   "metadata": {},
   "outputs": [],
   "source": []
  }
 ],
 "metadata": {
  "kernelspec": {
   "display_name": "Python 3",
   "language": "python",
   "name": "python3"
  },
  "language_info": {
   "codemirror_mode": {
    "name": "ipython",
    "version": 3
   },
   "file_extension": ".py",
   "mimetype": "text/x-python",
   "name": "python",
   "nbconvert_exporter": "python",
   "pygments_lexer": "ipython3",
   "version": "3.6.9"
  }
 },
 "nbformat": 4,
 "nbformat_minor": 5
}
