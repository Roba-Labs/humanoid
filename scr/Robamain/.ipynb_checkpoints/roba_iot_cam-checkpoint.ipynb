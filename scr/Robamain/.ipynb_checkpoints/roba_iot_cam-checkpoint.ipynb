{
 "cells": [
  {
   "cell_type": "code",
   "execution_count": 18,
   "id": "8636c313-1065-4e7b-b48f-23377850cc3e",
   "metadata": {},
   "outputs": [],
   "source": [
    "import sys\n",
    "sys.path.insert(1, '/home/roba/Robot_roba/scr/Roba_vision')  \n",
    "from camera3D2 import Camera_3D\n",
    "import cv2 as cv\n",
    "import paho.mqtt.client as mqtt\n",
    "import base64\n",
    "import time\n",
    "from threading import Thread "
   ]
  },
  {
   "cell_type": "code",
   "execution_count": 24,
   "id": "1245b9ad-d3b2-4cb2-9605-9a4ba58bdfbe",
   "metadata": {},
   "outputs": [],
   "source": [
    "roba_cam = Camera_3D()\n",
    "global break_loop\n",
    "break_loop=True"
   ]
  },
  {
   "cell_type": "code",
   "execution_count": 25,
   "id": "21b6a37d-b80a-41b4-b149-c402932ed9cb",
   "metadata": {},
   "outputs": [],
   "source": [
    "client = mqtt.Client()\n",
    "client.username_pw_set(\"mqtt\",\"farid\")\n",
    "client.connect(\"192.168.0.101\", 1883, 60)\n",
    "\n",
    "def on_connect(client, userdata, flags, rc):\n",
    "    print(\"Connected with result code \"+str(rc))\n",
    "    \n",
    "client.on_connect = on_connect"
   ]
  },
  {
   "cell_type": "code",
   "execution_count": 26,
   "id": "1776d4e0-459b-43fb-b352-f2ab9f5ef73b",
   "metadata": {},
   "outputs": [],
   "source": [
    "def img_pos_cal1():\n",
    "    global break_loop\n",
    "    try:\n",
    "        #for f in range(300):\n",
    "        while True:\n",
    "                img,ver,boxs,depth_image = roba_cam.get_2D_3D_img_pos(0)\n",
    "                \n",
    "                encode_param = [int(cv2.IMWRITE_JPEG_QUALITY), 90]\n",
    "                result, encimg = cv2.imencode('.jpg', img, encode_param)\n",
    "\n",
    "                #_, buffer = cv.imencode('.jpg', img)\n",
    "                # Converting into encoded bytes\n",
    "                jpg_as_text = base64.b64encode(encimg)\n",
    "                # Publishig the Frame on the Topic home/server\n",
    "                client.publish(\"SYS/test\", jpg_as_text)\n",
    "                 \n",
    "                if  break_loop:\n",
    "                    print(\"break\")\n",
    "                    break\n",
    "    finally:\n",
    "        print(\"All break 2 \")\n",
    "        client.disconnect()\n",
    "        roba_cam.pipeline.stop()"
   ]
  },
  {
   "cell_type": "code",
   "execution_count": 27,
   "id": "1323bbed-b13c-4049-9ec3-4257b7fe7467",
   "metadata": {},
   "outputs": [],
   "source": [
    "break_loop=False\n",
    "th1 = Thread(target=img_pos_cal1)\n",
    "th1.start()"
   ]
  },
  {
   "cell_type": "code",
   "execution_count": 28,
   "id": "f986b1d3-4fca-42a2-ad6a-2087ab9e173e",
   "metadata": {},
   "outputs": [
    {
     "name": "stdout",
     "output_type": "stream",
     "text": [
      "break\n",
      "All break 2 \n"
     ]
    }
   ],
   "source": [
    "break_loop=True"
   ]
  },
  {
   "cell_type": "code",
   "execution_count": 17,
   "id": "bccd08c7-03c4-46d4-98c6-72c712297f9f",
   "metadata": {},
   "outputs": [],
   "source": [
    "roba_cam.pipeline.stop()"
   ]
  },
  {
   "cell_type": "code",
   "execution_count": null,
   "id": "8d55f0f0-825c-4aac-911c-03d1ebdb20b2",
   "metadata": {},
   "outputs": [],
   "source": []
  }
 ],
 "metadata": {
  "kernelspec": {
   "display_name": "Python 3",
   "language": "python",
   "name": "python3"
  },
  "language_info": {
   "codemirror_mode": {
    "name": "ipython",
    "version": 3
   },
   "file_extension": ".py",
   "mimetype": "text/x-python",
   "name": "python",
   "nbconvert_exporter": "python",
   "pygments_lexer": "ipython3",
   "version": "3.6.9"
  }
 },
 "nbformat": 4,
 "nbformat_minor": 5
}
