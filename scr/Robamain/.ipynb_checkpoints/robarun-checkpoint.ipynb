{
 "cells": [
  {
   "cell_type": "code",
   "execution_count": 3,
   "id": "e9c52246-79dd-4d0e-b3d1-e6a1ad74dc5a",
   "metadata": {},
   "outputs": [],
   "source": [
    "from Robamain import main"
   ]
  },
  {
   "cell_type": "code",
   "execution_count": 1,
   "id": "5cddb4fe-e8b2-409c-bf2a-6fbaeae3dc6c",
   "metadata": {},
   "outputs": [
    {
     "ename": "ModuleNotFoundError",
     "evalue": "No module named 'robaaibot'",
     "output_type": "error",
     "traceback": [
      "\u001b[0;31m---------------------------------------------------------------------------\u001b[0m",
      "\u001b[0;31mModuleNotFoundError\u001b[0m                       Traceback (most recent call last)",
      "\u001b[0;32m<ipython-input-1-de9b4f0fb961>\u001b[0m in \u001b[0;36m<module>\u001b[0;34m\u001b[0m\n\u001b[1;32m      3\u001b[0m \u001b[0;31m# sys.path.insert(1, '/home/roba/Robot_roba/scr/Roba_conversion_ai/data')\u001b[0m\u001b[0;34m\u001b[0m\u001b[0;34m\u001b[0m\u001b[0;34m\u001b[0m\u001b[0m\n\u001b[1;32m      4\u001b[0m \u001b[0msys\u001b[0m\u001b[0;34m.\u001b[0m\u001b[0mpath\u001b[0m\u001b[0;34m.\u001b[0m\u001b[0mappend\u001b[0m\u001b[0;34m(\u001b[0m\u001b[0;34m'../home/roba/Robot_roba'\u001b[0m\u001b[0;34m)\u001b[0m\u001b[0;34m\u001b[0m\u001b[0;34m\u001b[0m\u001b[0m\n\u001b[0;32m----> 5\u001b[0;31m \u001b[0;32mimport\u001b[0m \u001b[0mrobaaibot\u001b[0m\u001b[0;34m\u001b[0m\u001b[0;34m\u001b[0m\u001b[0m\n\u001b[0m",
      "\u001b[0;31mModuleNotFoundError\u001b[0m: No module named 'robaaibot'"
     ]
    }
   ],
   "source": [
    "import sys\n",
    "# sys.path.insert(1, 'scr/Roba_conversion_ai') \n",
    "# sys.path.insert(1, '/home/roba/Robot_roba/scr/Roba_conversion_ai/data')\n",
    "sys.path.append('../home/roba/Robot_roba/scr/Roba_conversion_ai/')\n",
    "import robaaibot"
   ]
  },
  {
   "cell_type": "code",
   "execution_count": null,
   "id": "5835020b-8405-45dd-a2b2-933b7fe19f04",
   "metadata": {},
   "outputs": [],
   "source": [
    "robaAIC = robaaibot.RobaBot()"
   ]
  },
  {
   "cell_type": "code",
   "execution_count": null,
   "id": "583ab8d9-e577-4a5c-b9fc-c91f11ad7e2b",
   "metadata": {},
   "outputs": [],
   "source": []
  }
 ],
 "metadata": {
  "kernelspec": {
   "display_name": "Python 3",
   "language": "python",
   "name": "python3"
  },
  "language_info": {
   "codemirror_mode": {
    "name": "ipython",
    "version": 3
   },
   "file_extension": ".py",
   "mimetype": "text/x-python",
   "name": "python",
   "nbconvert_exporter": "python",
   "pygments_lexer": "ipython3",
   "version": "3.6.9"
  }
 },
 "nbformat": 4,
 "nbformat_minor": 5
}
