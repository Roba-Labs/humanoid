{
 "cells": [
  {
   "cell_type": "code",
   "execution_count": 1,
   "id": "1f4f0b49-5c7f-4279-9da6-a194d5d50430",
   "metadata": {},
   "outputs": [],
   "source": [
    "from roba import Roba\n",
    "from IPython.display import clear_output"
   ]
  },
  {
   "cell_type": "code",
   "execution_count": 2,
   "id": "34d241ee-5420-406f-9e63-b997924defbb",
   "metadata": {},
   "outputs": [],
   "source": [
    "rb=Roba()"
   ]
  },
  {
   "cell_type": "code",
   "execution_count": 3,
   "id": "ce1f2835-9ff8-4133-8a94-f9f2cc222669",
   "metadata": {},
   "outputs": [],
   "source": [
    "# rb.limbslist"
   ]
  },
  {
   "cell_type": "code",
   "execution_count": 4,
   "id": "766c3cbf-56da-41b9-af11-270f011f02b8",
   "metadata": {},
   "outputs": [],
   "source": [
    "rb.creatapp(\"firstapp1\")"
   ]
  },
  {
   "cell_type": "code",
   "execution_count": 5,
   "id": "5a25c8af-ec17-4e15-a3e6-73b2b07b1a75",
   "metadata": {},
   "outputs": [
    {
     "name": "stdout",
     "output_type": "stream",
     "text": [
      "Succeeded to open the port\n",
      "Succeeded to change the baudrate\n",
      "{1: 275, 2: 325, 3: 180, 4: 345, 5: 150, 6: 130, 7: 135, 8: 101, 9: 200, 10: 90, 11: 150, 12: 200, 13: 225, 14: 175}\n"
     ]
    }
   ],
   "source": [
    "rb.appaddlims(\"firstapp1\",\"handhead\")"
   ]
  },
  {
   "cell_type": "code",
   "execution_count": 6,
   "id": "dcff1f5a-f5d7-4d2b-ab12-1d538da50fee",
   "metadata": {},
   "outputs": [
    {
     "name": "stdout",
     "output_type": "stream",
     "text": [
      "[0, 0, 0]\n",
      "[]\n",
      "[0.9394280053481708, -0.8740964520333944, -0.021964860479180018]\n",
      "[-0. -0. -0.]\n",
      "[0.7821583365924788, -0.7870089725414999, -0.012295289703657796]\n",
      "[-0. -0. -0.]\n",
      "[1.1521684153965854, -0.7583973504269229, -0.01484372004087114]\n",
      "[-0.  0.  0.]\n",
      "[0.9334272765499518, -0.6688928372588385, -0.025114722279716943]\n",
      "[ 0.  -0.1 -0. ]\n"
     ]
    }
   ],
   "source": [
    "rb.appaddlims(\"firstapp1\",\"tracker\")"
   ]
  },
  {
   "cell_type": "code",
   "execution_count": 7,
   "id": "6b9991f1-5a12-4e5a-9efe-2212c69c8fc0",
   "metadata": {},
   "outputs": [],
   "source": [
    "rb.appaddlims(\"firstapp1\",\"vision\")"
   ]
  },
  {
   "cell_type": "code",
   "execution_count": 8,
   "id": "0b78c354-99ff-43f0-a5cd-45beb1a89ea5",
   "metadata": {},
   "outputs": [
    {
     "data": {
      "text/plain": [
       "['firstapp1']"
      ]
     },
     "execution_count": 8,
     "metadata": {},
     "output_type": "execute_result"
    }
   ],
   "source": [
    "rb.appslist() "
   ]
  },
  {
   "cell_type": "code",
   "execution_count": 9,
   "id": "647c412c-d2c3-4e75-a960-9a24b526ed3e",
   "metadata": {},
   "outputs": [
    {
     "name": "stdout",
     "output_type": "stream",
     "text": [
      "..........app limbs.........\n",
      " \n",
      "['handhead', 'tracker', 'vision']\n",
      " \n"
     ]
    }
   ],
   "source": [
    "rb.appinfo('firstapp1')"
   ]
  },
  {
   "cell_type": "code",
   "execution_count": 10,
   "id": "a10738ab-83c4-4c12-9719-12a69230736a",
   "metadata": {},
   "outputs": [
    {
     "data": {
      "text/plain": [
       "0"
      ]
     },
     "execution_count": 10,
     "metadata": {},
     "output_type": "execute_result"
    }
   ],
   "source": [
    "rb.appruntimedata('firstapp1',\"handinit\",\"ok\")"
   ]
  },
  {
   "cell_type": "code",
   "execution_count": 11,
   "id": "15244861-dae3-444b-ac91-c42cee88286c",
   "metadata": {},
   "outputs": [
    {
     "data": {
      "text/plain": [
       "0"
      ]
     },
     "execution_count": 11,
     "metadata": {},
     "output_type": "execute_result"
    }
   ],
   "source": [
    "rb.appruntimedata('firstapp1',\"handreleaseall\",\"ok\")"
   ]
  },
  {
   "cell_type": "code",
   "execution_count": 9,
   "id": "06a2ee8a-2d5d-47ea-875f-953f5c39ef35",
   "metadata": {},
   "outputs": [
    {
     "data": {
      "text/plain": [
       "0"
      ]
     },
     "execution_count": 9,
     "metadata": {},
     "output_type": "execute_result"
    }
   ],
   "source": [
    "rb.appruntimedata('firstapp1',\"handrelease\",[4,5])"
   ]
  },
  {
   "cell_type": "code",
   "execution_count": null,
   "id": "0d1a712b-cbce-471d-b9a9-abbcfc1a8264",
   "metadata": {},
   "outputs": [],
   "source": [
    "rb.appruntimedata('firstapp1',\"allservo\",\"readpos\")"
   ]
  },
  {
   "cell_type": "code",
   "execution_count": 17,
   "id": "1bfcddd8-30d0-48f2-afb4-c8427f0becb8",
   "metadata": {},
   "outputs": [
    {
     "data": {
      "text/plain": [
       "0"
      ]
     },
     "execution_count": 17,
     "metadata": {},
     "output_type": "execute_result"
    }
   ],
   "source": [
    "rb.appruntimedata('firstapp1',\"fingeroff\" ,\"ok\")"
   ]
  },
  {
   "cell_type": "code",
   "execution_count": 12,
   "id": "de9c1fe2-7be7-4451-ad7b-498e215a82e2",
   "metadata": {},
   "outputs": [
    {
     "data": {
      "text/plain": [
       "0"
      ]
     },
     "execution_count": 12,
     "metadata": {},
     "output_type": "execute_result"
    }
   ],
   "source": [
    "rb.appruntimedata('firstapp1',\"rightfinger\" ,\"close\")"
   ]
  },
  {
   "cell_type": "code",
   "execution_count": 13,
   "id": "e6a8d0ee-e08b-4562-8df4-91898f09715a",
   "metadata": {},
   "outputs": [
    {
     "data": {
      "text/plain": [
       "0"
      ]
     },
     "execution_count": 13,
     "metadata": {},
     "output_type": "execute_result"
    }
   ],
   "source": [
    "rb.appruntimedata('firstapp1',\"rightfinger\" ,\"open\")"
   ]
  },
  {
   "cell_type": "code",
   "execution_count": 29,
   "id": "fe1ea3cc-6be7-4403-8c54-f618f0ac886b",
   "metadata": {},
   "outputs": [
    {
     "data": {
      "text/plain": [
       "0"
      ]
     },
     "execution_count": 29,
     "metadata": {},
     "output_type": "execute_result"
    }
   ],
   "source": [
    "rb.appruntimedata('firstapp1',\"leftfinger\" ,\"open\")"
   ]
  },
  {
   "cell_type": "code",
   "execution_count": 27,
   "id": "d0069b71-931f-4ffd-ade8-ac643520e090",
   "metadata": {},
   "outputs": [
    {
     "data": {
      "text/plain": [
       "0"
      ]
     },
     "execution_count": 27,
     "metadata": {},
     "output_type": "execute_result"
    }
   ],
   "source": [
    "rb.appruntimedata('firstapp1',\"leftfinger\" ,\"close\")"
   ]
  },
  {
   "cell_type": "code",
   "execution_count": 12,
   "id": "20b4fb37-f319-4f0b-9c2e-2d08a470f366",
   "metadata": {},
   "outputs": [],
   "source": [
    "vrb = rb.appruntimedata('firstapp1',\"vision\" ,\"0\")"
   ]
  },
  {
   "cell_type": "code",
   "execution_count": null,
   "id": "1599a7fa-c0e1-4a5c-a194-124640612a04",
   "metadata": {},
   "outputs": [],
   "source": [
    "import matplotlib.pyplot as plt\n",
    "import numpy as np\n",
    "import sys\n",
    "%matplotlib inline\n",
    "\n",
    "plt.imshow(vrb[0])\n",
    "plt.show()"
   ]
  },
  {
   "cell_type": "code",
   "execution_count": 22,
   "id": "5471c480-a6e7-4bd4-ac0f-09c50758e755",
   "metadata": {},
   "outputs": [],
   "source": [
    "fcdata = [12,16]\n",
    "fodata = [13,17]"
   ]
  },
  {
   "cell_type": "code",
   "execution_count": 23,
   "id": "6277fac1-6d32-42fd-8e3b-fea12b77a834",
   "metadata": {},
   "outputs": [
    {
     "data": {
      "text/plain": [
       "0"
      ]
     },
     "execution_count": 23,
     "metadata": {},
     "output_type": "execute_result"
    }
   ],
   "source": [
    "rb.appruntimedata('firstapp1',\"fingersopncl\" ,fcdata)"
   ]
  },
  {
   "cell_type": "code",
   "execution_count": 25,
   "id": "7c808933-5011-4b3b-acc7-59b998ce72ff",
   "metadata": {},
   "outputs": [
    {
     "data": {
      "text/plain": [
       "0"
      ]
     },
     "execution_count": 25,
     "metadata": {},
     "output_type": "execute_result"
    }
   ],
   "source": [
    "rb.appruntimedata('firstapp1',\"fingersopncl\" ,fodata)"
   ]
  },
  {
   "cell_type": "code",
   "execution_count": 31,
   "id": "e4b3ece3-db29-456c-b616-d210f63c5a40",
   "metadata": {},
   "outputs": [
    {
     "data": {
      "text/plain": [
       "0"
      ]
     },
     "execution_count": 31,
     "metadata": {},
     "output_type": "execute_result"
    }
   ],
   "source": [
    "rb.appruntimedata('firstapp1',\"fingeroff\" ,\"ok\")"
   ]
  },
  {
   "cell_type": "code",
   "execution_count": 12,
   "id": "856fc70c-fb62-4ecb-853a-1a97a3f93e51",
   "metadata": {},
   "outputs": [],
   "source": [
    "rb.appofflimbs('firstapp1',\"vision\" )"
   ]
  },
  {
   "cell_type": "code",
   "execution_count": null,
   "id": "33318b6c-e5cd-4db4-8f2b-eaefee5a9cf7",
   "metadata": {},
   "outputs": [],
   "source": []
  },
  {
   "cell_type": "code",
   "execution_count": 34,
   "id": "d812ff41-070a-4a31-b428-c9dbcf7e2c3a",
   "metadata": {},
   "outputs": [],
   "source": []
  },
  {
   "cell_type": "code",
   "execution_count": null,
   "id": "a6946b41-008b-4c1c-b233-3b48520061af",
   "metadata": {},
   "outputs": [],
   "source": []
  },
  {
   "cell_type": "code",
   "execution_count": null,
   "id": "de5332a0-c807-4757-8c97-9a5743adf5d7",
   "metadata": {},
   "outputs": [],
   "source": []
  }
 ],
 "metadata": {
  "kernelspec": {
   "display_name": "Python 3",
   "language": "python",
   "name": "python3"
  },
  "language_info": {
   "codemirror_mode": {
    "name": "ipython",
    "version": 3
   },
   "file_extension": ".py",
   "mimetype": "text/x-python",
   "name": "python",
   "nbconvert_exporter": "python",
   "pygments_lexer": "ipython3",
   "version": "3.6.9"
  }
 },
 "nbformat": 4,
 "nbformat_minor": 5
}
