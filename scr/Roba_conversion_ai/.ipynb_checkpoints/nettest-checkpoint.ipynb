{
 "cells": [
  {
   "cell_type": "code",
   "execution_count": 1,
   "id": "9724d306-558d-4525-8a40-0dfd3be1b827",
   "metadata": {},
   "outputs": [],
   "source": [
    "import socket\n",
    "from threading import Thread\n",
    "import time\n",
    "from IPython.display import clear_output\n",
    "import re"
   ]
  },
  {
   "cell_type": "code",
   "execution_count": null,
   "id": "882118ee-bd53-4a26-8e0d-52d05405c0c0",
   "metadata": {},
   "outputs": [],
   "source": [
    "HOST = \"192.168.0.120\"\n",
    "PORT = 13500  "
   ]
  },
  {
   "cell_type": "code",
   "execution_count": null,
   "id": "fe345fef-d1bc-4d15-8da7-fc2909ce16de",
   "metadata": {},
   "outputs": [],
   "source": [
    "s = socket.socket(socket.AF_INET, socket.SOCK_STREAM)\n",
    "s.connect((self.HOST, self.PORT))"
   ]
  }
 ],
 "metadata": {
  "kernelspec": {
   "display_name": "Python 3",
   "language": "python",
   "name": "python3"
  },
  "language_info": {
   "codemirror_mode": {
    "name": "ipython",
    "version": 3
   },
   "file_extension": ".py",
   "mimetype": "text/x-python",
   "name": "python",
   "nbconvert_exporter": "python",
   "pygments_lexer": "ipython3",
   "version": "3.6.9"
  }
 },
 "nbformat": 4,
 "nbformat_minor": 5
}
