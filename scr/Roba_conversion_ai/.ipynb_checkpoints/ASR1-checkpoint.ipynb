{
 "cells": [
  {
   "cell_type": "code",
   "execution_count": 50,
   "id": "2902e76b",
   "metadata": {},
   "outputs": [],
   "source": [
    " import threading\n",
    "import time\n",
    "import numpy as np\n",
    "import speech_recognition as sr\n",
    "import IPython.display as ipd\n",
    "from IPython.display import clear_output\n",
    "import soundcard as sc\n",
    "\n",
    "class ASRtext:\n",
    "    \n",
    "    def __init__(self):\n",
    "        global gt\n",
    "        self.gt=True\n",
    "        sc.all_microphones()\n",
    "        time.sleep(2)\n",
    "        self.terment=True\n",
    "        self.indexmic=0\n",
    "        self.audio=None\n",
    "        self.text=\"&\"\n",
    "        self.asrth=None\n",
    "        self.smc = sr.Microphone.list_microphone_names()\n",
    "        self.r =  sr.Recognizer()\n",
    "        for i in range(len(self.smc)):\n",
    "                    if 'GS3: USB Audio (hw:2,0)' == self.smc[i]:\n",
    "                        self.indexmic=i\n",
    "                        break\n",
    "                    elif 'default' == self.smc[i]:\n",
    "                         self.indexmic=i\n",
    "                         break\n",
    "        \n",
    "        self.asrth  =  threading.Thread(target= self.ASR_to_text,daemon=True)\n",
    "        self.asrth.start()\n",
    "        \n",
    "    def ASR_restart(self):\n",
    "         global gt\n",
    "         self.gt=True\n",
    "         self.audio=None\n",
    "         self.indexmic=0\n",
    "         self.terment=False\n",
    "         time.sleep(4)\n",
    "         try:\n",
    "                 self.terment=True\n",
    "                 self.asrth  =  threading.Thread(target= self.ASR_to_text,daemon=True)\n",
    "                 self.asrth.start()\n",
    "                 print(\"restart\")\n",
    "                \n",
    "         except:\n",
    "            print(\"Error: unable to start thread\")\n",
    "         \n",
    "    def google_ASR(self,audio,rec):\n",
    "           global gt\n",
    "           self.gt=False\n",
    "           try:\n",
    "                self.text= rec.recognize_google(audio,language=\"en-IN\")\n",
    "                self.gt=True\n",
    "           except:\n",
    "             h=0\n",
    "             self.text=\"&\"\n",
    "        \n",
    "            \n",
    "    def ASR_to_text(self):\n",
    "        self.text=\"&\"\n",
    "        #global terment\n",
    "        self.smc = sr.Microphone.list_microphone_names() \n",
    "        for i in range(len(self.smc)):\n",
    "                    if 'GS3: USB Audio (hw:2,0)' == self.smc[i]: #Microphone (USB Audio Device) \n",
    "                        self.indexmic=i\n",
    "                        break\n",
    "                    elif 'default' == self.smc[i]:\n",
    "                         self.indexmic=i\n",
    "                         break     \n",
    "        \n",
    "        global gt\n",
    "        print(\"start ASR\",self.indexmic)\n",
    "        c=0\n",
    "        g=0\n",
    "        print(self.gt)\n",
    "        self.mic = sr.Microphone(device_index= self.indexmic,sample_rate=48000) #48000\n",
    "        start = time.time()\n",
    "        while self.terment:\n",
    "\n",
    "                    time.sleep(0.1)\n",
    "                    clear_output(wait=True)\n",
    "                    c=c+1\n",
    "                    print(\"say \",c,\" : \",g) \n",
    "                    self.r =  sr.Recognizer()\n",
    "                    with  self.mic as source:\n",
    "  \n",
    "                            try:\n",
    "        \n",
    "                                  #self.r.adjust_for_ambient_noise(source,duration=8)\n",
    "                                  self.r.energy_threshold = 500\n",
    "                                  self.r.dynamic_energy_threshold = False\n",
    "                                  self.audio =  self.r.listen(source,timeout=2,phrase_time_limit=8)\n",
    "                                  #self.audio = self.r.record(source)\n",
    "                                  #print(self.gt)\n",
    "                                  end = time.time() - start\n",
    "                                  if self.gt or end>9:\n",
    "#                                        g=g+1\n",
    "#                                        print(\"google \",g)\n",
    "                                       start = time.time()\n",
    "                                       gth = threading.Thread(target=self.google_ASR, args = (self.audio,self.r, ),daemon=True)\n",
    "                                       gth.start()\n",
    "\n",
    "                            except:\n",
    "                                k=0 \n",
    "\n",
    "        print(\"exit thered\")\n",
    "\n",
    "  \n",
    "    def get_text(self):\n",
    "         return self.text\n",
    "    def clear_text(self):\n",
    "           self.text=\"&\""
   ]
  },
  {
   "cell_type": "code",
   "execution_count": 51,
   "id": "2ad74c64",
   "metadata": {},
   "outputs": [
    {
     "name": "stdout",
     "output_type": "stream",
     "text": [
      "say  2  :  0\n"
     ]
    }
   ],
   "source": [
    "asrs = ASRtext() "
   ]
  },
  {
   "cell_type": "code",
   "execution_count": 60,
   "id": "102df3cc",
   "metadata": {},
   "outputs": [
    {
     "name": "stdout",
     "output_type": "stream",
     "text": [
      "say  7  :  0\n"
     ]
    }
   ],
   "source": [
    "#asrs.get_text()"
   ]
  },
  {
   "cell_type": "code",
   "execution_count": 111,
   "id": "2f618ca6",
   "metadata": {},
   "outputs": [],
   "source": [
    "#asrs.r"
   ]
  },
  {
   "cell_type": "code",
   "execution_count": 112,
   "id": "ca26043e",
   "metadata": {},
   "outputs": [],
   "source": [
    "#asrs.r = sr.Recognizer()"
   ]
  },
  {
   "cell_type": "code",
   "execution_count": 113,
   "id": "eb7a0d3a",
   "metadata": {},
   "outputs": [],
   "source": [
    "#asrs.asrth.isAlive()"
   ]
  },
  {
   "cell_type": "code",
   "execution_count": 61,
   "id": "d3b3eca3",
   "metadata": {},
   "outputs": [
    {
     "name": "stdout",
     "output_type": "stream",
     "text": [
      "exit thered\n"
     ]
    }
   ],
   "source": [
    "#asrs.terment=False"
   ]
  },
  {
   "cell_type": "code",
   "execution_count": 27,
   "id": "747a2cd6",
   "metadata": {},
   "outputs": [
    {
     "name": "stdout",
     "output_type": "stream",
     "text": [
      "say  6  :  0\n"
     ]
    }
   ],
   "source": [
    "#asrs.ASR_restart() "
   ]
  },
  {
   "cell_type": "code",
   "execution_count": null,
   "id": "d5ad560d",
   "metadata": {},
   "outputs": [],
   "source": []
  },
  {
   "cell_type": "code",
   "execution_count": 49,
   "id": "325a507a",
   "metadata": {},
   "outputs": [
    {
     "name": "stdout",
     "output_type": "stream",
     "text": [
      "tegra-hda: HDMI 0 (hw:0,3)\n",
      "tegra-snd-t210ref-mobile-rt565x: - (hw:1,0)\n",
      "tegra-snd-t210ref-mobile-rt565x: - (hw:1,1)\n",
      "tegra-snd-t210ref-mobile-rt565x: - (hw:1,2)\n",
      "tegra-snd-t210ref-mobile-rt565x: - (hw:1,3)\n",
      "tegra-snd-t210ref-mobile-rt565x: - (hw:1,4)\n",
      "tegra-snd-t210ref-mobile-rt565x: - (hw:1,5)\n",
      "tegra-snd-t210ref-mobile-rt565x: - (hw:1,6)\n",
      "tegra-snd-t210ref-mobile-rt565x: - (hw:1,7)\n",
      "tegra-snd-t210ref-mobile-rt565x: - (hw:1,8)\n",
      "tegra-snd-t210ref-mobile-rt565x: - (hw:1,9)\n",
      "GS3: USB Audio (hw:2,0)\n",
      " for g\n",
      "hdmi\n",
      "pulse\n",
      "music\n",
      "demixer\n",
      "voice\n",
      "music_and_voice\n",
      "default\n"
     ]
    }
   ],
   "source": [
    "# asrs.smc = sr.Microphone.list_microphone_names()\n",
    "# for i in range(len(asrs.smc)):\n",
    "#     print(asrs.smc[i])\n",
    "#     if 'GS3: USB Audio (hw:2,0)' == asrs.smc[i]:\n",
    "#         print(\" for g\")"
   ]
  },
  {
   "cell_type": "code",
   "execution_count": 116,
   "id": "546e5be8",
   "metadata": {},
   "outputs": [],
   "source": [
    "# import threading\n",
    "# import time\n",
    "# global myname\n",
    "# from IPython.display import clear_output\n",
    "# myname=True\n",
    "\n",
    "# def get_name(full_name,tr):\n",
    "#     global myname\n",
    "#     myname = False\n",
    "#     time.sleep(tr)\n",
    "#     myname = True\n",
    "\n",
    "\n",
    "# def chkt():\n",
    "#     global myname\n",
    "#     start = time.time()\n",
    "#     wy=0\n",
    "#     while True:\n",
    "        \n",
    "#         if wy==4:\n",
    "#             break\n",
    "#         time.sleep(.1)\n",
    "#         clear_output(wait=True)\n",
    "#         end = time.time() -start\n",
    "#         print(\"i'm in \",end,\"  w \",wy)\n",
    "#         if myname or end>5:\n",
    "#            wy=wy+1\n",
    "#            start = time.time()\n",
    "#            t = threading.Thread(target=get_name, args = (\"foo\",10, ),daemon=True)\n",
    "#            t.start()\n",
    "#            print(\"start thred\")\n",
    "#            time.sleep(.5)\n",
    "    \n",
    "\n",
    "\n",
    "\n",
    "# t2 = threading.Thread(target=chkt,daemon=True)\n",
    "# t2.start()\n",
    "\n",
    "# # \n",
    "# # while myname!=\"foo\":\n",
    "# # # for i in range(100):\n",
    "# #       clear_output(wait=True)\n",
    "      \n",
    "        \n",
    "# # start = time.time() -start\n",
    "# # print(\"ok\",start)"
   ]
  },
  {
   "cell_type": "code",
   "execution_count": 30,
   "id": "b3e44f4c",
   "metadata": {},
   "outputs": [],
   "source": [
    "# import soundcard as sc\n",
    "# import numpy"
   ]
  },
  {
   "cell_type": "code",
   "execution_count": 31,
   "id": "9caf7d94-12de-4e6e-8bae-b3aa2240f797",
   "metadata": {},
   "outputs": [
    {
     "name": "stdout",
     "output_type": "stream",
     "text": [
      "[<Microphone Built-in Audio Analog Stereo (2 channels)>, <Microphone GS3 Digital Stereo (IEC958) (2 channels)>]\n",
      "[<Speaker Built-in Audio Analog Stereo (2 channels)>, <Speaker GS3 Digital Stereo (IEC958) (2 channels)>]\n"
     ]
    }
   ],
   "source": [
    "# mics = sc.all_microphones()\n",
    "# speakers = sc.all_speakers()\n",
    "# print(mics)\n",
    "# print(speakers)"
   ]
  },
  {
   "cell_type": "code",
   "execution_count": 32,
   "id": "41ded735-2046-4c81-b31c-1fa61380c2a5",
   "metadata": {},
   "outputs": [],
   "source": [
    "# mics = sc.get_microphone('GDS')"
   ]
  },
  {
   "cell_type": "code",
   "execution_count": 33,
   "id": "d1942a82-1fb3-48c8-ab0b-01c46e479c20",
   "metadata": {},
   "outputs": [],
   "source": [
    "# speakers = sc.get_speaker('GDS')"
   ]
  },
  {
   "cell_type": "code",
   "execution_count": 47,
   "id": "af6a7701-ebd4-4094-92b5-33feb42d7318",
   "metadata": {},
   "outputs": [],
   "source": [
    "# data = mics.record(samplerate=48000, numframes=48000)\n",
    "# speakers.play(data/numpy.max(data), samplerate=48000)\n",
    "\n",
    "# # alternatively, get a `Recorder` and `Player` object\n",
    "# # and play or record continuously:\n",
    "# with mics.recorder(samplerate=48000) as mic, \\\n",
    "#       speakers.player(samplerate=48000) as sp:\n",
    "#     for _ in range(2000):\n",
    "#         data = mic.record(numframes=1024)\n",
    "#         sp.play(data)"
   ]
  },
  {
   "cell_type": "code",
   "execution_count": null,
   "id": "4f5d76dd-b6b2-46fe-8579-f59cfabc8dc6",
   "metadata": {},
   "outputs": [],
   "source": []
  },
  {
   "cell_type": "code",
   "execution_count": null,
   "id": "4c7f492b-f628-4084-a58f-31b0b59ca187",
   "metadata": {},
   "outputs": [],
   "source": []
  }
 ],
 "metadata": {
  "interpreter": {
   "hash": "b045cc1b2912d8eb5aae2c8a3f5924a790d70b17a5532b340596c9b680691f21"
  },
  "kernelspec": {
   "display_name": "Python 3",
   "language": "python",
   "name": "python3"
  },
  "language_info": {
   "codemirror_mode": {
    "name": "ipython",
    "version": 3
   },
   "file_extension": ".py",
   "mimetype": "text/x-python",
   "name": "python",
   "nbconvert_exporter": "python",
   "pygments_lexer": "ipython3",
   "version": "3.6.9"
  }
 },
 "nbformat": 4,
 "nbformat_minor": 5
}
