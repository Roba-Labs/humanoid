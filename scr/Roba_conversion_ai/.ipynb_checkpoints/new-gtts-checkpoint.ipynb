{
 "cells": [
  {
   "cell_type": "code",
   "execution_count": 3,
   "id": "c1cd96ec-34ba-4c3d-8c84-279de07ac321",
   "metadata": {},
   "outputs": [],
   "source": [
    "import threading\n",
    "import time\n",
    "import numpy as np\n",
    "import speech_recognition as sr\n",
    "import IPython.display as ipd\n",
    "from IPython.display import clear_output\n",
    "import soundcard as sc"
   ]
  },
  {
   "cell_type": "code",
   "execution_count": 4,
   "id": "1bc59917-7b60-4c40-ba92-54b0ab63b385",
   "metadata": {},
   "outputs": [],
   "source": [
    "indexmic=0\n",
    "microph=True\n",
    "rcvdata=\"no\"\n",
    "sc.all_microphones()\n",
    "time.sleep(2)"
   ]
  },
  {
   "cell_type": "code",
   "execution_count": 5,
   "id": "3f5ed3fc-013a-4ebf-b725-94f03dd15f6d",
   "metadata": {},
   "outputs": [],
   "source": [
    "smc = sr.Microphone.list_microphone_names()\n",
    "r =  sr.Recognizer()\n",
    "terment=True"
   ]
  },
  {
   "cell_type": "code",
   "execution_count": 6,
   "id": "b993bc1b-f5e6-453f-9963-93ed7670efc4",
   "metadata": {},
   "outputs": [
    {
     "name": "stdout",
     "output_type": "stream",
     "text": [
      "tegra-hda: HDMI 0 (hw:0,3)\n",
      "tegra-snd-t210ref-mobile-rt565x: - (hw:1,0)\n",
      "tegra-snd-t210ref-mobile-rt565x: - (hw:1,1)\n",
      "tegra-snd-t210ref-mobile-rt565x: - (hw:1,2)\n",
      "tegra-snd-t210ref-mobile-rt565x: - (hw:1,3)\n",
      "tegra-snd-t210ref-mobile-rt565x: - (hw:1,4)\n",
      "tegra-snd-t210ref-mobile-rt565x: - (hw:1,5)\n",
      "tegra-snd-t210ref-mobile-rt565x: - (hw:1,6)\n",
      "tegra-snd-t210ref-mobile-rt565x: - (hw:1,7)\n",
      "tegra-snd-t210ref-mobile-rt565x: - (hw:1,8)\n",
      "tegra-snd-t210ref-mobile-rt565x: - (hw:1,9)\n",
      "USB Audio Device: - (hw:2,0)\n"
     ]
    }
   ],
   "source": [
    "for i in range(len(smc)):\n",
    "            try:\n",
    "                print(smc[i])\n",
    "                if \"USB Audio Device: - (hw:2,0)\"== smc[i]:\n",
    "                    indexmic=i\n",
    "                    break\n",
    "                elif 'default' == smc[i]:\n",
    "                     indexmic=i\n",
    "            except:\n",
    "              pass"
   ]
  },
  {
   "cell_type": "code",
   "execution_count": 13,
   "id": "4e8cd646-f804-418d-8084-a060ea008067",
   "metadata": {},
   "outputs": [],
   "source": [
    "def ASR_to_text():\n",
    "       \n",
    "        for i in range(len(smc)):\n",
    "            try:\n",
    "                 \n",
    "                if \"USB Audio Device: - (hw:2,0)\"== smc[i]:\n",
    "                    indexmic=i\n",
    "                    break\n",
    "                elif 'default' == smc[i]:\n",
    "                     indexmic=i\n",
    "            except:\n",
    "              pass\n",
    "        print(\"start ASR\", indexmic)\n",
    "\n",
    "        mic = sr.Microphone(device_index= indexmic,sample_rate=48000) #48000\n",
    "        start = time.time()\n",
    "        time.sleep(1)\n",
    "        datats=\" \"\n",
    "        r =  sr.Recognizer()\n",
    "        while terment:\n",
    "                clear_output(True)\n",
    "                time.sleep(0.1)   \n",
    "                print(datats)\n",
    "                print(\" \")\n",
    "                with   mic as source:\n",
    "                       try:\n",
    "                              r.energy_threshold = 300\n",
    "                              r.dynamic_energy_threshold = True\n",
    "                              audio = r.listen(source,timeout=3,phrase_time_limit=5)\n",
    "                              tdata = r.recognize_google(audio,language=\"en-IN\")\n",
    "                              print(tdata)\n",
    "                              datats=datats+ \"  \" +tdata\n",
    "                              print(\" \")\n",
    "                              print(datats)\n",
    "                              print(\" end \")\n",
    "                       except:\n",
    "                             print(\"get error\")\n",
    "                             print(\" \")\n",
    "                             print(datats)\n",
    "\n",
    "        print(\"exit thered\")"
   ]
  },
  {
   "cell_type": "code",
   "execution_count": 14,
   "id": "1323e13e-b9e0-4975-9ff7-72eb432fe9c0",
   "metadata": {},
   "outputs": [
    {
     "name": "stdout",
     "output_type": "stream",
     "text": [
      "   do you know Bangladesh and lots of problem  how do you feel about of Bangladesh\n",
      " \n"
     ]
    }
   ],
   "source": [
    "terment=True\n",
    "asrth  =  threading.Thread(target= ASR_to_text,daemon=True)\n",
    "asrth.start()"
   ]
  },
  {
   "cell_type": "code",
   "execution_count": 15,
   "id": "94a8e7ea-d314-4082-8f22-013668a418e0",
   "metadata": {},
   "outputs": [
    {
     "name": "stdout",
     "output_type": "stream",
     "text": [
      "get error\n",
      " \n",
      "   do you know Bangladesh and lots of problem  how do you feel about of Bangladesh\n",
      "exit thered\n"
     ]
    }
   ],
   "source": [
    "terment=False"
   ]
  },
  {
   "cell_type": "code",
   "execution_count": null,
   "id": "63c445d1-61c4-4625-aa4b-50dbb166dd3a",
   "metadata": {},
   "outputs": [],
   "source": []
  }
 ],
 "metadata": {
  "kernelspec": {
   "display_name": "Python 3",
   "language": "python",
   "name": "python3"
  },
  "language_info": {
   "codemirror_mode": {
    "name": "ipython",
    "version": 3
   },
   "file_extension": ".py",
   "mimetype": "text/x-python",
   "name": "python",
   "nbconvert_exporter": "python",
   "pygments_lexer": "ipython3",
   "version": "3.6.9"
  }
 },
 "nbformat": 4,
 "nbformat_minor": 5
}
