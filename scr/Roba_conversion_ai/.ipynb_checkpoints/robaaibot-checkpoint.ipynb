{
 "cells": [
  {
   "cell_type": "code",
   "execution_count": 2,
   "source": [
    "from chatterbot import ChatBot\r\n",
    "import json\r\n",
    "import io\r\n",
    "import wikipedia\r\n",
    "import re\r\n",
    "#wikipedia.set_lang('en')\r\n",
    "class RobaBot:\r\n",
    "    def __init__(self):\r\n",
    "        self.removeword=[\"what\",\"What\",\"is\",\"can\",\"Can\",\"you\",\"You\",\"tell\",\"Tell\", \"me\",\"Me\", \"about\",\"About\",\"said\",\"Said\", \"ok\", \"Ok\", \"I\",\"i\",\"understnad\",\"Understnad\",\"but\",\"But\",\"who\",\"Who\",\"asked\",\"Asked\",\"please\",\"Please\",\"know\",\"Know\",\"do\",\"Do\",\"which\",\"Which\"]\r\n",
    "        self.robabot = ChatBot('robabot', read_only=True,\r\n",
    "\r\n",
    "            storage_adapter={\r\n",
    "                'import_path': 'chatterbot.storage.SQLStorageAdapter',\r\n",
    "                'database_uri': 'sqlite:///data/robadata.db'\r\n",
    "            },\r\n",
    "\r\n",
    "            logic_adapters=[\r\n",
    "                'chatterbot.logic.MathematicalEvaluation',\r\n",
    "            {\r\n",
    "\r\n",
    "                'import_path':'chatterbot.logic.roba_ai.BestMatch',\r\n",
    "                'default_response': 'I am sorry, I do not understand.'\r\n",
    "            }\r\n",
    "\r\n",
    "            ]    \r\n",
    "\r\n",
    "        )\r\n",
    "        print(\"finished\")\r\n",
    "        \r\n",
    "    def get_ans(self,qs):\r\n",
    "            #qs = \"what is the meaning of life\"\r\n",
    "            #  \r\n",
    "            \r\n",
    "            wqs = qs\r\n",
    "            qs = qs.replace(\"X\",\"*\")\r\n",
    "            qs = qs.split(' ')\r\n",
    "            qss=[]\r\n",
    "            for l in qs:\r\n",
    "                w=True\r\n",
    "                for rm in self.removeword:\r\n",
    "                    if rm == l:\r\n",
    "                        w=False\r\n",
    "                if w:\r\n",
    "                    qss.append(l)\r\n",
    "                \r\n",
    "            qs =\" \".join(qss)   \r\n",
    "\r\n",
    "            try:\r\n",
    "                \r\n",
    "                response =self.robabot.get_response(wqs)\r\n",
    "                print(wqs , response ,response.confidence)\r\n",
    "                if (response.confidence>0.49) and (response!=\"I am sorry, I do not understand.\"): \r\n",
    "                    #print(response,response.confidence) \r\n",
    "                    response = str(response)\r\n",
    "                    response = response.replace(\"*\",\"multiply\")\r\n",
    "                    return response\r\n",
    "                else:\r\n",
    "                     \r\n",
    "                    ans = wikipedia.summary(qs, sentences=1)\r\n",
    "                    ans = ans.split('\"')\r\n",
    "                    ans = \" \".join(ans)\r\n",
    "                    ansr=''\r\n",
    "                    ck=True\r\n",
    "                    for l in ans:\r\n",
    "                        if l =='(':\r\n",
    "                            ck=False\r\n",
    "                        if ck:\r\n",
    "                            ansr =ansr+l\r\n",
    "                        if l ==')':\r\n",
    "                            ck=True\r\n",
    "                    return ansr\r\n",
    "                    #print(ansr)\r\n",
    "            except:\r\n",
    "                 return 'I am sorry, I do not understand.'\r\n",
    "                 #print(\"Sorry not data found\")\r\n"
   ],
   "outputs": [],
   "metadata": {}
  },
  {
   "cell_type": "code",
   "execution_count": 4,
   "source": [
    "# qa = RobaBot()"
   ],
   "outputs": [
    {
     "output_type": "stream",
     "name": "stdout",
     "text": [
      "finished\n"
     ]
    }
   ],
   "metadata": {}
  },
  {
   "cell_type": "code",
   "execution_count": 6,
   "source": [
    "# qa.get_ans(\"who is the presedant og bangladesh\")"
   ],
   "outputs": [
    {
     "output_type": "stream",
     "name": "stdout",
     "text": [
      "who is the presedant og bangladesh The honorable president of bangaldesh is Abdul Hamid 0.84\n"
     ]
    },
    {
     "output_type": "execute_result",
     "data": {
      "text/plain": [
       "'The honorable president of bangaldesh is Abdul Hamid'"
      ]
     },
     "metadata": {},
     "execution_count": 6
    }
   ],
   "metadata": {}
  },
  {
   "cell_type": "code",
   "execution_count": null,
   "source": [],
   "outputs": [],
   "metadata": {}
  }
 ],
 "metadata": {
  "kernelspec": {
   "name": "python3",
   "display_name": "Python 3.6.13 64-bit ('robasof': conda)"
  },
  "language_info": {
   "codemirror_mode": {
    "name": "ipython",
    "version": 3
   },
   "file_extension": ".py",
   "mimetype": "text/x-python",
   "name": "python",
   "nbconvert_exporter": "python",
   "pygments_lexer": "ipython3",
   "version": "3.6.13"
  },
  "interpreter": {
   "hash": "b045cc1b2912d8eb5aae2c8a3f5924a790d70b17a5532b340596c9b680691f21"
  }
 },
 "nbformat": 4,
 "nbformat_minor": 5
}