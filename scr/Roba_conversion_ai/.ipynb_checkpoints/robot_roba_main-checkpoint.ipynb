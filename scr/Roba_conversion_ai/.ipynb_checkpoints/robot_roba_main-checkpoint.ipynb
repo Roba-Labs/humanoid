{
 "cells": [
  {
   "cell_type": "code",
   "execution_count": 1,
   "id": "a42c4f23",
   "metadata": {},
   "outputs": [],
   "source": [
    "# import import_ipynb\n",
    "import ASR\n",
    "import robaaibot\n",
    "import threading\n",
    "import time\n",
    "import Speak2rpi\n",
    "from IPython.display import clear_output"
   ]
  },
  {
   "cell_type": "code",
   "execution_count": 2,
   "id": "b793b7c9",
   "metadata": {},
   "outputs": [
    {
     "name": "stdout",
     "output_type": "stream",
     "text": [
      "finished\n"
     ]
    }
   ],
   "source": [
    "robaAIC = robaaibot.RobaBot()"
   ]
  },
  {
   "cell_type": "code",
   "execution_count": 3,
   "id": "3e094fa5",
   "metadata": {},
   "outputs": [
    {
     "name": "stdout",
     "output_type": "stream",
     "text": [
      "thret start\n"
     ]
    }
   ],
   "source": [
    "spk = Speak2rpi.speak(\"192.168.0.107\")"
   ]
  },
  {
   "cell_type": "code",
   "execution_count": 4,
   "id": "6029d66b-159e-4dec-8da8-ceb446d90ccd",
   "metadata": {},
   "outputs": [],
   "source": [
    "spk.paly_song(\"rellin\")"
   ]
  },
  {
   "cell_type": "code",
   "execution_count": 13,
   "id": "f137c91f-da4f-48c1-91a1-abc71df3f8be",
   "metadata": {},
   "outputs": [
    {
     "name": "stdout",
     "output_type": "stream",
     "text": [
      "say  145  :  0\n"
     ]
    }
   ],
   "source": [
    "spk.paly_song(\"Ishqwl\")"
   ]
  },
  {
   "cell_type": "code",
   "execution_count": 4,
   "id": "d1883709",
   "metadata": {},
   "outputs": [
    {
     "name": "stdout",
     "output_type": "stream",
     "text": [
      "hello roba Hello, I hope you are well by the grace of Almighty Allah 1.0\n"
     ]
    },
    {
     "data": {
      "text/plain": [
       "'Hello, I hope you are well by the grace of Almighty Allah'"
      ]
     },
     "execution_count": 4,
     "metadata": {},
     "output_type": "execute_result"
    }
   ],
   "source": [
    "st = robaAIC.get_ans(\"hello roba\")\n",
    "st"
   ]
  },
  {
   "cell_type": "code",
   "execution_count": 5,
   "id": "949139cc",
   "metadata": {},
   "outputs": [],
   "source": [
    "spk.Speaking(st)"
   ]
  },
  {
   "cell_type": "code",
   "execution_count": 5,
   "id": "3cf1d5c4",
   "metadata": {},
   "outputs": [],
   "source": [
    "spk.recev_data=\"Pause\"\n",
    "asrs = ASR.ASRtext()"
   ]
  },
  {
   "cell_type": "code",
   "execution_count": 100,
   "id": "4ff52a12",
   "metadata": {},
   "outputs": [],
   "source": [
    "global anstext\n",
    "anstext=\"none\"\n",
    "global textq\n",
    "global ckt \n",
    "def init_CAI():\n",
    "    d=0\n",
    "    ckt=\" no \"\n",
    "    playtim=0\n",
    "    global anstext\n",
    "    print(\"start CAI\")\n",
    "    while k:\n",
    "        #try:\n",
    "            textq=\"\"\n",
    "            time.sleep(0.200)\n",
    "            playtim=playtim+1\n",
    "            if playtim>=30000:\n",
    "                spk.recev_data=\"Pause\"\n",
    "            clear_output(wait=True)\n",
    "            print(spk.recev_data,ckt)\n",
    "            if spk.recev_data==\"Playing\":\n",
    "               asrs.microph=False\n",
    "            print(textq)\n",
    "            if spk.recev_data==\"Pause\":\n",
    "                playtim=0\n",
    "                asrs.microph=True\n",
    "                if not asrs.asrth.isAlive():\n",
    "                       asrs.ASR_restart()\n",
    "                textq = asrs.get_text()\n",
    "                if textq !=\"&\":\n",
    "                   spk.recev_data=\"Playing\"\n",
    "                   asrs.microph=False\n",
    "                   anstext= robaAIC.get_ans(textq) \n",
    "                   \n",
    "                   #ckt=anstext+\" \"+str(anstext[0])\n",
    "                   if len(anstext)>1 and anstext != \"['']\" and anstext !='' and anstext !=\" \":\n",
    "                       spk.Speaking(str(anstext))\n",
    "                       print(anstext)\n",
    "                       print(textq)\n",
    "                       time.sleep(2)\n",
    "                   else:\n",
    "                        spk.recev_data=\"Pause\"\n",
    "                        asrs.microph=True\n",
    "                   asrs.clear_text()\n",
    "            else:\n",
    "                asrs.microph=False\n",
    "                asrs.clear_text()\n",
    "                textq ==\"&\"\n",
    "#         except:\n",
    "#             h=0  \n",
    "#             asrs.clear_text()\n",
    "#             print(\"error CAI\")\n",
    "    print(\"exit CAI\")"
   ]
  },
  {
   "cell_type": "code",
   "execution_count": 101,
   "id": "d646b7af",
   "metadata": {},
   "outputs": [
    {
     "name": "stdout",
     "output_type": "stream",
     "text": [
      "Playing [''] [\n",
      "\n"
     ]
    }
   ],
   "source": [
    "k=True\n",
    "spk.recev_data=\"Pause\"\n",
    "CAIT  =  threading.Thread(target= init_CAI,daemon=True) \n",
    "CAIT.start()"
   ]
  },
  {
   "cell_type": "code",
   "execution_count": 12,
   "id": "be4dc954-ea13-435a-bcd4-1a81d08577ce",
   "metadata": {},
   "outputs": [
    {
     "name": "stdout",
     "output_type": "stream",
     "text": [
      "\n"
     ]
    }
   ],
   "source": [
    "st = robaAIC.get_ans(\"tell me about of tiger\")\n",
    "spk.Speaking(st)"
   ]
  },
  {
   "cell_type": "code",
   "execution_count": 102,
   "id": "bac088b4",
   "metadata": {},
   "outputs": [
    {
     "name": "stdout",
     "output_type": "stream",
     "text": [
      "Playing [''] [\n",
      "\n",
      "exit CAI\n"
     ]
    }
   ],
   "source": [
    "k=False\n",
    "asrs.terment=False"
   ]
  },
  {
   "cell_type": "code",
   "execution_count": 17,
   "id": "78282108-8a44-43fb-bbc9-bc6a7e75b899",
   "metadata": {},
   "outputs": [],
   "source": [
    "spk.s.close()"
   ]
  },
  {
   "cell_type": "code",
   "execution_count": 15,
   "id": "25bd6fe0",
   "metadata": {},
   "outputs": [
    {
     "name": "stdout",
     "output_type": "stream",
     "text": [
      "Playing\n",
      "\n"
     ]
    }
   ],
   "source": [
    "asrs.get_text()  "
   ]
  },
  {
   "cell_type": "code",
   "execution_count": 70,
   "id": "c7e7ae69",
   "metadata": {},
   "outputs": [],
   "source": [
    "# for i in range(1000):\n",
    "#     clear_output(True)\n",
    "#     print(anstext)"
   ]
  },
  {
   "cell_type": "code",
   "execution_count": 15,
   "id": "1becf7d7-691d-4a83-a2b0-0b0f9407e801",
   "metadata": {},
   "outputs": [
    {
     "name": "stdout",
     "output_type": "stream",
     "text": [
      "playing\n"
     ]
    }
   ],
   "source": [
    "f =\"clear_output(True)\"\n",
    "len(f)"
   ]
  },
  {
   "cell_type": "code",
   "execution_count": 11,
   "id": "58edc3bc",
   "metadata": {},
   "outputs": [
    {
     "name": "stdout",
     "output_type": "stream",
     "text": [
      "say  21  :  0\n"
     ]
    }
   ],
   "source": [
    "asrs.microph=True\n",
    "spk.recev_data=\"Pause\"\n",
    "asrs.ASR_restart()"
   ]
  },
  {
   "cell_type": "code",
   "execution_count": 14,
   "id": "90a659cd",
   "metadata": {},
   "outputs": [
    {
     "name": "stdout",
     "output_type": "stream",
     "text": [
      "say  24  : \n"
     ]
    }
   ],
   "source": [
    "asrs.clear_text()"
   ]
  },
  {
   "cell_type": "code",
   "execution_count": 42,
   "id": "87109a39",
   "metadata": {},
   "outputs": [
    {
     "name": "stdout",
     "output_type": "stream",
     "text": [
      "say  30  :  0\n"
     ]
    }
   ],
   "source": [
    "CAIT.isAlive()"
   ]
  },
  {
   "cell_type": "code",
   "execution_count": 41,
   "id": "bbbbef1c",
   "metadata": {},
   "outputs": [
    {
     "name": "stdout",
     "output_type": "stream",
     "text": [
      "say  29  :  0\n"
     ]
    }
   ],
   "source": [
    "asrs.terment"
   ]
  },
  {
   "cell_type": "code",
   "execution_count": 53,
   "id": "c3d09126",
   "metadata": {},
   "outputs": [
    {
     "name": "stdout",
     "output_type": "stream",
     "text": [
      "say  15  :  0\n"
     ]
    }
   ],
   "source": [
    "asrs.asrth.isAlive()"
   ]
  },
  {
   "cell_type": "code",
   "execution_count": null,
   "id": "2809853d-2291-43c7-b4e5-9010e9e109f9",
   "metadata": {},
   "outputs": [],
   "source": []
  },
  {
   "cell_type": "code",
   "execution_count": null,
   "id": "132b7164-5757-4fd1-92ab-1a44c1b825e2",
   "metadata": {},
   "outputs": [],
   "source": []
  },
  {
   "cell_type": "code",
   "execution_count": 107,
   "id": "3babc5fe-eeb0-4104-a750-0d125cd8adf4",
   "metadata": {},
   "outputs": [
    {
     "data": {
      "text/plain": [
       "\"['']\""
      ]
     },
     "execution_count": 107,
     "metadata": {},
     "output_type": "execute_result"
    }
   ],
   "source": [
    "v=\"['']\"\n",
    "v"
   ]
  },
  {
   "cell_type": "code",
   "execution_count": 108,
   "id": "ffa3de3d-333b-4afb-9cd2-74b3f6ec3ef5",
   "metadata": {},
   "outputs": [
    {
     "data": {
      "text/plain": [
       "4"
      ]
     },
     "execution_count": 108,
     "metadata": {},
     "output_type": "execute_result"
    }
   ],
   "source": [
    "len(v)"
   ]
  },
  {
   "cell_type": "code",
   "execution_count": 112,
   "id": "fa6e4167-1783-451e-982e-1b5a1ab003be",
   "metadata": {},
   "outputs": [
    {
     "name": "stdout",
     "output_type": "stream",
     "text": [
      "ok\n"
     ]
    }
   ],
   "source": [
    "if v == \"['']\":\n",
    "    print(\"ok\")"
   ]
  },
  {
   "cell_type": "code",
   "execution_count": 110,
   "id": "e9f8ce4f-258d-45fd-ae3b-c3095fe30397",
   "metadata": {},
   "outputs": [],
   "source": [
    "if not v:\n",
    "    print(\"ok\")"
   ]
  },
  {
   "cell_type": "code",
   "execution_count": null,
   "id": "2b03a98c-4111-474a-8ceb-6b8dc3631164",
   "metadata": {},
   "outputs": [],
   "source": []
  },
  {
   "cell_type": "code",
   "execution_count": null,
   "id": "8ae73208-7f37-4bf3-9711-18d602b523e3",
   "metadata": {},
   "outputs": [],
   "source": []
  },
  {
   "cell_type": "code",
   "execution_count": null,
   "id": "dd9fe093-b561-48b6-ab66-790ca36935bb",
   "metadata": {},
   "outputs": [],
   "source": []
  },
  {
   "cell_type": "code",
   "execution_count": null,
   "id": "88ca401c-ecca-4979-8a1b-fd3728681fa2",
   "metadata": {},
   "outputs": [],
   "source": []
  },
  {
   "cell_type": "code",
   "execution_count": 49,
   "id": "065d03f9-b817-493a-9086-86ffaa911749",
   "metadata": {},
   "outputs": [],
   "source": [
    "import threading \n",
    "import time\n"
   ]
  },
  {
   "cell_type": "code",
   "execution_count": null,
   "id": "8c883198-a2a6-4593-ba05-b70a214f47ec",
   "metadata": {},
   "outputs": [],
   "source": []
  },
  {
   "cell_type": "code",
   "execution_count": 12,
   "id": "5221f587-fc42-4082-a6c4-5bbcccfb79ba",
   "metadata": {},
   "outputs": [],
   "source": [
    "resultf=\" f\" \n",
    "def foo3(bar):\n",
    "         t= bar+\" \"+str(4);\n",
    "         # for i in range(30):\n",
    "         #        clear_output(True)\n",
    "         #        time.sleep(0.3)\n",
    "         #        t= bar+\" \"+str(i)\n",
    "         #        print(t)\n",
    "         resultf=str(t)\n",
    "         #return t\n",
    "gth = threading.Thread(target=foo3, args = (\"farid\",),daemon=True)\n",
    "gth.start()"
   ]
  },
  {
   "cell_type": "code",
   "execution_count": 6,
   "id": "61696908-655e-4722-ab3e-8d31c70bd7a2",
   "metadata": {},
   "outputs": [
    {
     "ename": "NameError",
     "evalue": "name 'resultf' is not defined",
     "output_type": "error",
     "traceback": [
      "\u001b[0;31m---------------------------------------------------------------------------\u001b[0m",
      "\u001b[0;31mNameError\u001b[0m                                 Traceback (most recent call last)",
      "\u001b[0;32m<ipython-input-6-e40c1b3459bd>\u001b[0m in \u001b[0;36m<module>\u001b[0;34m\u001b[0m\n\u001b[0;32m----> 1\u001b[0;31m \u001b[0mprint\u001b[0m\u001b[0;34m(\u001b[0m\u001b[0mresultf\u001b[0m\u001b[0;34m)\u001b[0m\u001b[0;34m\u001b[0m\u001b[0;34m\u001b[0m\u001b[0m\n\u001b[0m",
      "\u001b[0;31mNameError\u001b[0m: name 'resultf' is not defined"
     ]
    }
   ],
   "source": [
    "print(resultf)"
   ]
  },
  {
   "cell_type": "code",
   "execution_count": 53,
   "id": "5f3014ee-3966-43a6-88e8-341d327e8a78",
   "metadata": {},
   "outputs": [],
   "source": [
    "import testth\n",
    "from IPython.display import clear_output"
   ]
  },
  {
   "cell_type": "code",
   "execution_count": 54,
   "id": "6dc3e503-70ef-49f0-8c09-ddca808f0477",
   "metadata": {},
   "outputs": [],
   "source": [
    "tsv=testth.tst()"
   ]
  },
  {
   "cell_type": "code",
   "execution_count": 75,
   "id": "7a1ee91f-848e-427d-9f37-6ece515dc579",
   "metadata": {},
   "outputs": [],
   "source": [
    "tsv.tsb(\"rony\",55)"
   ]
  },
  {
   "cell_type": "code",
   "execution_count": 76,
   "id": "01785b6a-709e-4ef2-a076-ddb36556c7a2",
   "metadata": {},
   "outputs": [],
   "source": [
    "tsv.tsb(\"farid\",55)"
   ]
  },
  {
   "cell_type": "code",
   "execution_count": null,
   "id": "b0f45edd-a90a-44ad-8274-046f0e130a93",
   "metadata": {},
   "outputs": [],
   "source": []
  },
  {
   "cell_type": "code",
   "execution_count": 77,
   "id": "08bf087b-9db7-4463-bd64-581e57a046e2",
   "metadata": {},
   "outputs": [
    {
     "name": "stdout",
     "output_type": "stream",
     "text": [
      "farid 49\n"
     ]
    }
   ],
   "source": [
    "for i in range(5000):\n",
    "   clear_output(True)\n",
    "   print(tsv.rt())"
   ]
  },
  {
   "cell_type": "code",
   "execution_count": null,
   "id": "79f85a92-4455-4f24-a9d2-0b28f91c0c2a",
   "metadata": {},
   "outputs": [],
   "source": []
  },
  {
   "cell_type": "code",
   "execution_count": null,
   "id": "537decec-d757-4208-a219-c5a983fda731",
   "metadata": {},
   "outputs": [],
   "source": []
  }
 ],
 "metadata": {
  "interpreter": {
   "hash": "b045cc1b2912d8eb5aae2c8a3f5924a790d70b17a5532b340596c9b680691f21"
  },
  "kernelspec": {
   "display_name": "Python 3",
   "language": "python",
   "name": "python3"
  },
  "language_info": {
   "codemirror_mode": {
    "name": "ipython",
    "version": 3
   },
   "file_extension": ".py",
   "mimetype": "text/x-python",
   "name": "python",
   "nbconvert_exporter": "python",
   "pygments_lexer": "ipython3",
   "version": "3.6.9"
  }
 },
 "nbformat": 4,
 "nbformat_minor": 5
}
