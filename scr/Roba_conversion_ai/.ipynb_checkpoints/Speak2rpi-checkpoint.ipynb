{
 "cells": [
  {
   "cell_type": "code",
   "execution_count": 10,
   "id": "a1a128fe",
   "metadata": {},
   "outputs": [],
   "source": [
    "import socket\n",
    "from threading import Thread\n",
    "import time\n",
    "from IPython.display import clear_output\n",
    "class speak:\n",
    "    def receving_d(self):\n",
    "        while(self.breakloop):\n",
    "            try:\n",
    "                self.recev_data  =self.s.recv(1024) \n",
    "            except:\n",
    "                pass\n",
    "\n",
    "    def __init__(self,ipa):\n",
    "        self.breakloop=True\n",
    "        self.breakloop1=False\n",
    "        self.recev_data=\" \"\n",
    "        self.HOST = ipa  # Standard loopback interface address (localhost)\n",
    "        self.PORT = 13500        # Port to listen on (non-privileged ports are > 1023)\n",
    "        self.s = socket.socket(socket.AF_INET, socket.SOCK_STREAM)\n",
    "        self.s.connect((self.HOST, self.PORT))\n",
    "        self.th = Thread(target=self.receving_d)\n",
    "        self.th.start()\n",
    "        \n",
    "    def ck(self):\n",
    "        return self.HOST\n",
    "\n",
    "    def paly_song(self,com):\n",
    "                # self.s = socket.socket(socket.AF_INET, socket.SOCK_STREAM)\n",
    "                # self.s.connect((self.HOST, self.PORT))\n",
    "                # time.sleep(0.1)\n",
    "                try:\n",
    "                    sc = len(com)\n",
    "                    scq = \"{'cmd':'song','ln':0}\"\n",
    "                    time.sleep(0.1)\n",
    "                    self.s.sendall(str.encode(scq))\n",
    "                    time.sleep(0.1)\n",
    "                    self.s.sendall(str.encode(com))\n",
    "                except:\n",
    "                        self.s= socket.socket(socket.AF_INET, socket.SOCK_STREAM)\n",
    "                        self.s.connect((self.HOST, self.PORT))\n",
    "                        sc = len(com)\n",
    "                        scq = \"{'cmd':'song','ln':0}\"\n",
    "                        time.sleep(0.1)\n",
    "                        self.s.sendall(str.encode(scq))\n",
    "                        time.sleep(0.1)\n",
    "                        self.s.sendall(str.encode(com))\n",
    " \n",
    "\n",
    "    def Speaking(self,com):\n",
    "                # self.s= socket.socket(socket.AF_INET, socket.SOCK_STREAM)\n",
    "                # self.s.connect((self.HOST, self.PORT))\n",
    "                # time.sleep(0.1)\n",
    "                try:\n",
    "                    sc = len(com)\n",
    "                    scq = \"{'cmd':'ttsc','ln':\" +str(sc)+\"}\"\n",
    "                    time.sleep(0.1)\n",
    "                    self.s.sendall(str.encode(scq))\n",
    "                    time.sleep(0.1)\n",
    "                    self.s.sendall(str.encode(com))\n",
    "                except:\n",
    "                        self.s= socket.socket(socket.AF_INET, socket.SOCK_STREAM)\n",
    "                        self.s.connect((self.HOST, self.PORT))\n",
    "                        sc = len(com)\n",
    "                        scq = \"{'cmd':'ttsc','ln':\" +str(sc)+\"}\"\n",
    "                        time.sleep(0.1)\n",
    "                        self.s.sendall(str.encode(scq))\n",
    "                        time.sleep(0.1)\n",
    "                        self.s.sendall(str.encode(com))\n",
    "                #self.s.close()\n",
    " "
   ]
  },
  {
   "cell_type": "code",
   "execution_count": 11,
   "id": "0d57a487",
   "metadata": {},
   "outputs": [],
   "source": [
    "spk = speak('192.168.0.120')"
   ]
  },
  {
   "cell_type": "code",
   "execution_count": 31,
   "id": "6dbbf95d-71d1-4d88-8d2a-009cd1b7dd98",
   "metadata": {},
   "outputs": [
    {
     "name": "stdout",
     "output_type": "stream",
     "text": [
      "b'F'\n"
     ]
    }
   ],
   "source": [
    "spk.Speaking(\"software\")\n",
    "for i in range(100):\n",
    "    clear_output(True)\n",
    "    se = spk.recev_data \n",
    "    print(se)"
   ]
  },
  {
   "cell_type": "code",
   "execution_count": 21,
   "id": "466d5944-242b-4910-9d42-18ad7e51bf5d",
   "metadata": {},
   "outputs": [
    {
     "data": {
      "text/plain": [
       "b'F'"
      ]
     },
     "execution_count": 21,
     "metadata": {},
     "output_type": "execute_result"
    }
   ],
   "source": [
    "se = spk.recev_data \n",
    "se"
   ]
  },
  {
   "cell_type": "code",
   "execution_count": 12,
   "id": "1be39de7-77e5-4286-bef4-ecf4c1f732ab",
   "metadata": {},
   "outputs": [],
   "source": [
    "import re"
   ]
  },
  {
   "cell_type": "code",
   "execution_count": 9,
   "id": "29bc6f65-f4b2-47e5-9483-4604d4c22cdc",
   "metadata": {},
   "outputs": [],
   "source": [
    "spk.Speaking(\"software company, project, and user community that designs and manufactures\")"
   ]
  },
  {
   "cell_type": "code",
   "execution_count": 14,
   "id": "656752cf-1556-474c-8c0c-19b69072ea55",
   "metadata": {},
   "outputs": [
    {
     "name": "stdout",
     "output_type": "stream",
     "text": [
      "ord    \n",
      "sp   ['', '']\n",
      "te\n"
     ]
    }
   ],
   "source": [
    "spk.Speaking(\"software company, project, and user community that designs and manufactures\")\n",
    "ps=\" not \"\n",
    "pl=\" not \"\n",
    "for i in range(200):\n",
    "      clear_output(True)\n",
    "      se = spk.recev_data \n",
    "      print(\"ord  \",se)\n",
    "      se = re.split(' |\\'|\\b',str(se))\n",
    "      print(\"sp  \",se)\n",
    "      \n",
    "      if  se[1]=='Playing':\n",
    "         ps=se[1]\n",
    "      if  se[1]=='Pause':\n",
    "         ps=pl\n",
    "            \n",
    "      print(tc)"
   ]
  },
  {
   "cell_type": "code",
   "execution_count": null,
   "id": "548fc842-78d1-4558-b7ce-e50a1347e556",
   "metadata": {},
   "outputs": [],
   "source": []
  },
  {
   "cell_type": "code",
   "execution_count": 39,
   "id": "81c1c923-d9b2-4180-ab7d-2b76f8077cce",
   "metadata": {},
   "outputs": [
    {
     "name": "stdout",
     "output_type": "stream",
     "text": [
      "b' '\n"
     ]
    }
   ],
   "source": [
    "spk.paly_song(\"Ishqwl\")\n",
    "for i in range(1000):\n",
    "    clear_output(True)\n",
    "    se = spk.recev_data \n",
    "    print(se)"
   ]
  },
  {
   "cell_type": "code",
   "execution_count": 32,
   "id": "add3d55c-9186-48ca-a520-8f74775cc659",
   "metadata": {},
   "outputs": [],
   "source": [
    "spk.paly_song(\"rellin\")"
   ]
  },
  {
   "cell_type": "code",
   "execution_count": 633,
   "id": "5bfea696-043f-4b78-9b4e-1833106f1e99",
   "metadata": {},
   "outputs": [],
   "source": [
    "spk.Speaking(\"software company, project, and user community that designs and manufactures single-board microcontrollers and microcontroller kits for building digital devices. Its hardware products are licensed under a CC-BY-SA license, while software is licensed under the GNU Lesser General Public License (LGPL) or the GNU General Public License (GPL),[1] permitting the manufacture of Arduino boards and software distribution by anyone. Arduino boards are available commercially from the official website or through authorized distributors.\")"
   ]
  },
  {
   "cell_type": "code",
   "execution_count": 40,
   "id": "544c9ac5-8a8d-43aa-b0c5-c5fbf0a5354d",
   "metadata": {},
   "outputs": [
    {
     "name": "stdout",
     "output_type": "stream",
     "text": [
      "b' '\n"
     ]
    }
   ],
   "source": [
    "\n",
    "    "
   ]
  },
  {
   "cell_type": "code",
   "execution_count": null,
   "id": "d825543a-2e53-4f1d-93a0-8f94f95fec20",
   "metadata": {},
   "outputs": [],
   "source": [
    "b'Playing 5430'  \"b'Paused'\""
   ]
  },
  {
   "cell_type": "code",
   "execution_count": 16,
   "id": "463f9bf3-305a-4446-b50b-6ef3759dc263",
   "metadata": {},
   "outputs": [],
   "source": [
    "se=b' '"
   ]
  },
  {
   "cell_type": "code",
   "execution_count": 17,
   "id": "0e7a9f33-6a69-4034-87f5-acf3136b1f8a",
   "metadata": {},
   "outputs": [
    {
     "data": {
      "text/plain": [
       "\"b' '\""
      ]
     },
     "execution_count": 17,
     "metadata": {},
     "output_type": "execute_result"
    }
   ],
   "source": [
    "se1 =str(se)\n",
    "se1"
   ]
  },
  {
   "cell_type": "code",
   "execution_count": 18,
   "id": "6699b0fc-2f7f-4879-b0f8-2229c0dfb49f",
   "metadata": {},
   "outputs": [
    {
     "data": {
      "text/plain": [
       "['b', '', '', '']"
      ]
     },
     "execution_count": 18,
     "metadata": {},
     "output_type": "execute_result"
    }
   ],
   "source": [
    "import re\n",
    "se2 = re.split(' |\\'|\\b',se1) # Playing  Paused\n",
    "se2"
   ]
  },
  {
   "cell_type": "code",
   "execution_count": 19,
   "id": "b0acc462-7cf0-42da-9a03-852919fa07f7",
   "metadata": {},
   "outputs": [
    {
     "data": {
      "text/plain": [
       "''"
      ]
     },
     "execution_count": 19,
     "metadata": {},
     "output_type": "execute_result"
    }
   ],
   "source": [
    "se2[1]"
   ]
  },
  {
   "cell_type": "code",
   "execution_count": 7,
   "id": "f64b4a0a-e23f-4b4e-a0c4-c51a06f65ba5",
   "metadata": {},
   "outputs": [],
   "source": [
    "spk.s.sendall(str.encode(\"{'cmd':'ttsc','ln':76}\"))"
   ]
  },
  {
   "cell_type": "code",
   "execution_count": 8,
   "id": "b405fb3b-428a-4386-95a3-33d9fa06c2a8",
   "metadata": {},
   "outputs": [],
   "source": [
    "spk.s.sendall(str.encode(\"software company, project, and user community that\"))"
   ]
  },
  {
   "cell_type": "code",
   "execution_count": 28,
   "id": "82f5093c-da27-4f5b-864e-847e2b6d690e",
   "metadata": {},
   "outputs": [
    {
     "data": {
      "text/plain": [
       "b'Playing 4065'"
      ]
     },
     "execution_count": 28,
     "metadata": {},
     "output_type": "execute_result"
    }
   ],
   "source": []
  },
  {
   "cell_type": "code",
   "execution_count": 326,
   "id": "c2554f7a-e5c8-4246-94bf-cb4070affbd5",
   "metadata": {},
   "outputs": [],
   "source": [
    "spk.s.sendall(str.encode(\"{'cmd':'song','ln':76}\"))"
   ]
  },
  {
   "cell_type": "code",
   "execution_count": 119,
   "id": "415cf60a-14f6-4a6e-89cd-91cc38f44722",
   "metadata": {},
   "outputs": [
    {
     "ename": "OSError",
     "evalue": "[Errno 9] Bad file descriptor",
     "output_type": "error",
     "traceback": [
      "\u001b[0;31m---------------------------------------------------------------------------\u001b[0m",
      "\u001b[0;31mOSError\u001b[0m                                   Traceback (most recent call last)",
      "\u001b[0;32m<ipython-input-119-5479101da128>\u001b[0m in \u001b[0;36m<module>\u001b[0;34m\u001b[0m\n\u001b[0;32m----> 1\u001b[0;31m \u001b[0mspk\u001b[0m\u001b[0;34m.\u001b[0m\u001b[0ms\u001b[0m\u001b[0;34m.\u001b[0m\u001b[0msendall\u001b[0m\u001b[0;34m(\u001b[0m\u001b[0mstr\u001b[0m\u001b[0;34m.\u001b[0m\u001b[0mencode\u001b[0m\u001b[0;34m(\u001b[0m\u001b[0;34m\"Ishqwl\"\u001b[0m\u001b[0;34m)\u001b[0m\u001b[0;34m)\u001b[0m\u001b[0;34m\u001b[0m\u001b[0;34m\u001b[0m\u001b[0m\n\u001b[0m",
      "\u001b[0;31mOSError\u001b[0m: [Errno 9] Bad file descriptor"
     ]
    }
   ],
   "source": [
    "spk.s.sendall(str.encode(\"Ishqwl\"))"
   ]
  },
  {
   "cell_type": "code",
   "execution_count": null,
   "id": "6abf55a4-7331-4285-a3d0-3f22e9e27e43",
   "metadata": {},
   "outputs": [],
   "source": []
  },
  {
   "cell_type": "code",
   "execution_count": null,
   "id": "2a4539b7-e278-44cb-824e-9824464a8dbc",
   "metadata": {},
   "outputs": [],
   "source": []
  },
  {
   "cell_type": "code",
   "execution_count": 40,
   "id": "2c108f2b-b861-4b47-9e74-1291b2533c6e",
   "metadata": {},
   "outputs": [],
   "source": [
    "spk.s.close()"
   ]
  },
  {
   "cell_type": "markdown",
   "id": "93bdefd2-1ee0-4f13-ab69-d0861d6d04ad",
   "metadata": {},
   "source": [
    "# spk.s.shutdown(0)"
   ]
  },
  {
   "cell_type": "code",
   "execution_count": null,
   "id": "34be506e-a9d6-4862-aaa3-6906591a5e32",
   "metadata": {},
   "outputs": [],
   "source": [
    "spk.s.sho"
   ]
  },
  {
   "cell_type": "code",
   "execution_count": 92,
   "id": "1b7465eb-8aed-4bf9-9b61-455ef47dc789",
   "metadata": {},
   "outputs": [
    {
     "name": "stdout",
     "output_type": "stream",
     "text": [
      "{'cmd':'ttsc','ln':76}\n"
     ]
    }
   ],
   "source": []
  },
  {
   "cell_type": "code",
   "execution_count": null,
   "id": "857770cc-89ee-4d7e-bf0a-30668fa76c6f",
   "metadata": {},
   "outputs": [],
   "source": []
  },
  {
   "cell_type": "code",
   "execution_count": null,
   "id": "0fba8c9c",
   "metadata": {},
   "outputs": [],
   "source": [
    "spk.Speaking(\" software company, project, and user community that designs and manufactures\")"
   ]
  },
  {
   "cell_type": "code",
   "execution_count": 100,
   "id": "66cd6355",
   "metadata": {},
   "outputs": [
    {
     "data": {
      "text/plain": [
       "' '"
      ]
     },
     "execution_count": 100,
     "metadata": {},
     "output_type": "execute_result"
    }
   ],
   "source": []
  },
  {
   "cell_type": "code",
   "execution_count": null,
   "id": "6e8a1842",
   "metadata": {},
   "outputs": [
    {
     "name": "stdout",
     "output_type": "stream",
     "text": [
      "b'Paused'\n"
     ]
    }
   ],
   "source": [
    "spk.paly_song(\"Ishqwl\")"
   ]
  },
  {
   "cell_type": "code",
   "execution_count": null,
   "id": "b1d95c3d-e781-4315-84e8-bf533ff65486",
   "metadata": {},
   "outputs": [],
   "source": [
    "spk.paly_song(\"rellin\")"
   ]
  },
  {
   "cell_type": "code",
   "execution_count": 101,
   "id": "5d0955fd-5124-4424-8023-b865d17d28d5",
   "metadata": {},
   "outputs": [],
   "source": [
    "spk.s.close()"
   ]
  },
  {
   "cell_type": "code",
   "execution_count": null,
   "id": "5f56bbfd-1dbe-4684-980f-d5b40e2b2583",
   "metadata": {},
   "outputs": [],
   "source": []
  },
  {
   "cell_type": "code",
   "execution_count": null,
   "id": "6cd2c73c-8be3-4bf6-a7df-bed888c712c8",
   "metadata": {},
   "outputs": [],
   "source": []
  },
  {
   "cell_type": "code",
   "execution_count": 1,
   "id": "e318a1f9-3153-4c44-9467-a9c157648e43",
   "metadata": {},
   "outputs": [],
   "source": [
    "import threading\n",
    "import time\n",
    "import numpy as np\n",
    "import speech_recognition as sr\n",
    "import soundcard as sc"
   ]
  },
  {
   "cell_type": "code",
   "execution_count": 2,
   "id": "74df0135-a510-4672-955e-4cdc9548806b",
   "metadata": {},
   "outputs": [],
   "source": [
    "smc = sr.Microphone.list_microphone_names()\n",
    "r =  sr.Recognizer()\n",
    "indexmic=0"
   ]
  },
  {
   "cell_type": "code",
   "execution_count": 3,
   "id": "ad0147ab-6d0c-4911-bf65-7dfac97cb0d3",
   "metadata": {},
   "outputs": [],
   "source": [
    "for i in range(len(smc)):\n",
    "   if 'GS3: USB Audio (hw:2,0)'== smc[i]:\n",
    "       indexmic=i\n",
    "       break"
   ]
  },
  {
   "cell_type": "code",
   "execution_count": 4,
   "id": "036a1c33-ee8a-44f6-ae04-36b59b10c2a5",
   "metadata": {},
   "outputs": [
    {
     "name": "stdout",
     "output_type": "stream",
     "text": [
      " \n",
      "start ASR 11\n"
     ]
    }
   ],
   "source": [
    "print(\" \")   \n",
    "print(\"start ASR\",indexmic)"
   ]
  },
  {
   "cell_type": "code",
   "execution_count": 7,
   "id": "e4f385b7-09cf-4047-a791-fad4dc194e09",
   "metadata": {},
   "outputs": [],
   "source": [
    "mic = sr.Microphone(device_index=indexmic,sample_rate=48000)"
   ]
  },
  {
   "cell_type": "code",
   "execution_count": 8,
   "id": "3a09bfce-0172-4336-8399-90f6d4f424f5",
   "metadata": {},
   "outputs": [
    {
     "name": "stdout",
     "output_type": "stream",
     "text": [
      "Listening...\n",
      "finished  \n",
      "hello everybody and thank you so much for with answer\n"
     ]
    }
   ],
   "source": [
    "tdata=\"no \"\n",
    "with mic as source:\n",
    "     print('Listening...')\n",
    "     r.pause_threshold = 1\n",
    "     audio = r.listen(source,timeout=6,phrase_time_limit=8)\n",
    "     tdata = r.recognize_google(audio,language='en-in')\n",
    "      \n",
    "\n",
    "#tdata = r.recognize_google(audio,language=\"en-IN\")\n",
    "print(\"finished  \")\n",
    "print(tdata)"
   ]
  },
  {
   "cell_type": "code",
   "execution_count": 1,
   "id": "ce0a1685-1457-4973-8ef1-e8c2cab0e29c",
   "metadata": {},
   "outputs": [],
   "source": [
    "import soundcard as sc"
   ]
  },
  {
   "cell_type": "code",
   "execution_count": 2,
   "id": "f4afba06-6e13-4c52-b314-c9cf2c77b941",
   "metadata": {},
   "outputs": [
    {
     "name": "stdout",
     "output_type": "stream",
     "text": [
      "[<Microphone Built-in Audio Analog Stereo (2 channels)>, <Microphone GS3 Digital Stereo (IEC958) (2 channels)>]\n",
      "[<Speaker Built-in Audio Analog Stereo (2 channels)>, <Speaker GS3 Digital Stereo (IEC958) (2 channels)>]\n"
     ]
    }
   ],
   "source": [
    "mics = sc.all_microphones()\n",
    "speakers = sc.all_speakers()\n",
    "print(mics)\n",
    "print(speakers)"
   ]
  },
  {
   "cell_type": "code",
   "execution_count": 3,
   "id": "7acb0ae4-9275-44be-a139-24c7f188970f",
   "metadata": {},
   "outputs": [],
   "source": [
    "one_speaker = sc.get_speaker('GDS')\n",
    "one_mic = sc.get_microphone('GDS')"
   ]
  },
  {
   "cell_type": "code",
   "execution_count": 4,
   "id": "f9bc8494-2503-4509-ac23-7e6c642ff5d4",
   "metadata": {},
   "outputs": [
    {
     "data": {
      "text/plain": [
       "<Speaker GS3 Digital Stereo (IEC958) (2 channels)>"
      ]
     },
     "execution_count": 4,
     "metadata": {},
     "output_type": "execute_result"
    }
   ],
   "source": [
    "one_speaker"
   ]
  },
  {
   "cell_type": "code",
   "execution_count": 5,
   "id": "05720c6b-a91f-42e6-869c-d6add2430a51",
   "metadata": {},
   "outputs": [],
   "source": [
    "import numpy"
   ]
  },
  {
   "cell_type": "code",
   "execution_count": 6,
   "id": "1e4b65cb-5b54-479b-9d76-d801af939368",
   "metadata": {},
   "outputs": [],
   "source": [
    "with one_mic.recorder(samplerate=44100) as mic, \\\n",
    "      one_speaker.player(samplerate=44100) as sp:\n",
    "    for _ in range(500):\n",
    "        data = mic.record(numframes=1024)\n",
    "        sp.play(data)"
   ]
  },
  {
   "cell_type": "code",
   "execution_count": null,
   "id": "f25c7ebf-6b00-4ee1-96ca-9b58adfa9072",
   "metadata": {},
   "outputs": [],
   "source": []
  }
 ],
 "metadata": {
  "kernelspec": {
   "display_name": "Python 3",
   "language": "python",
   "name": "python3"
  },
  "language_info": {
   "codemirror_mode": {
    "name": "ipython",
    "version": 3
   },
   "file_extension": ".py",
   "mimetype": "text/x-python",
   "name": "python",
   "nbconvert_exporter": "python",
   "pygments_lexer": "ipython3",
   "version": "3.6.9"
  }
 },
 "nbformat": 4,
 "nbformat_minor": 5
}
